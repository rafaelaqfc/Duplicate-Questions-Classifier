{
 "cells": [
  {
   "cell_type": "markdown",
   "metadata": {},
   "source": [
    "## Identifying Duplicate Questions"
   ]
  },
  {
   "attachments": {},
   "cell_type": "markdown",
   "metadata": {},
   "source": [
    "Over 100 million people visit *Quora* every month, so it's no surprise that many people ask similar (or the same) questions. Various questions with the same intent can cause people to spend extra time searching for the best answer to their question, and results in members answering multiple versions of the same question. *Quora* uses random forest to identify duplicated questions to provide a better experience to active seekers and writers, and offer more value to both of these groups in the long term.\n",
    "\n",
    "Follow the steps outlined below to build the appropriate classifier model. \n",
    "\n",
    "Steps:\n",
    "- Download or load the data\n",
    "- Exploration (EDA)\n",
    "- Cleaning\n",
    "- Feature Engineering\n",
    "- Modeling\n",
    "\n",
    "By the end of this project you should have **a presentation that describes the model you built** and its **performance**. "
   ]
  },
  {
   "attachments": {},
   "cell_type": "markdown",
   "metadata": {},
   "source": [
    "### Step 1: Loading the data"
   ]
  },
  {
   "cell_type": "code",
   "execution_count": 2,
   "metadata": {},
   "outputs": [],
   "source": [
    "# Import basic libraries\n",
    "import pandas as pd\n",
    "import numpy as np\n",
    "import matplotlib.pyplot as plt \n",
    "import seaborn as sns\n",
    "import sklearn\n",
    "from sklearn.model_selection import train_test_split"
   ]
  },
  {
   "cell_type": "code",
   "execution_count": 3,
   "metadata": {},
   "outputs": [
    {
     "data": {
      "text/html": [
       "<div>\n",
       "<style scoped>\n",
       "    .dataframe tbody tr th:only-of-type {\n",
       "        vertical-align: middle;\n",
       "    }\n",
       "\n",
       "    .dataframe tbody tr th {\n",
       "        vertical-align: top;\n",
       "    }\n",
       "\n",
       "    .dataframe thead th {\n",
       "        text-align: right;\n",
       "    }\n",
       "</style>\n",
       "<table border=\"1\" class=\"dataframe\">\n",
       "  <thead>\n",
       "    <tr style=\"text-align: right;\">\n",
       "      <th></th>\n",
       "      <th>id</th>\n",
       "      <th>qid1</th>\n",
       "      <th>qid2</th>\n",
       "      <th>question1</th>\n",
       "      <th>question2</th>\n",
       "      <th>is_duplicate</th>\n",
       "    </tr>\n",
       "  </thead>\n",
       "  <tbody>\n",
       "    <tr>\n",
       "      <th>0</th>\n",
       "      <td>0</td>\n",
       "      <td>1</td>\n",
       "      <td>2</td>\n",
       "      <td>What is the step by step guide to invest in sh...</td>\n",
       "      <td>What is the step by step guide to invest in sh...</td>\n",
       "      <td>0</td>\n",
       "    </tr>\n",
       "    <tr>\n",
       "      <th>1</th>\n",
       "      <td>1</td>\n",
       "      <td>3</td>\n",
       "      <td>4</td>\n",
       "      <td>What is the story of Kohinoor (Koh-i-Noor) Dia...</td>\n",
       "      <td>What would happen if the Indian government sto...</td>\n",
       "      <td>0</td>\n",
       "    </tr>\n",
       "    <tr>\n",
       "      <th>2</th>\n",
       "      <td>2</td>\n",
       "      <td>5</td>\n",
       "      <td>6</td>\n",
       "      <td>How can I increase the speed of my internet co...</td>\n",
       "      <td>How can Internet speed be increased by hacking...</td>\n",
       "      <td>0</td>\n",
       "    </tr>\n",
       "    <tr>\n",
       "      <th>3</th>\n",
       "      <td>3</td>\n",
       "      <td>7</td>\n",
       "      <td>8</td>\n",
       "      <td>Why am I mentally very lonely? How can I solve...</td>\n",
       "      <td>Find the remainder when [math]23^{24}[/math] i...</td>\n",
       "      <td>0</td>\n",
       "    </tr>\n",
       "    <tr>\n",
       "      <th>4</th>\n",
       "      <td>4</td>\n",
       "      <td>9</td>\n",
       "      <td>10</td>\n",
       "      <td>Which one dissolve in water quikly sugar, salt...</td>\n",
       "      <td>Which fish would survive in salt water?</td>\n",
       "      <td>0</td>\n",
       "    </tr>\n",
       "    <tr>\n",
       "      <th>5</th>\n",
       "      <td>5</td>\n",
       "      <td>11</td>\n",
       "      <td>12</td>\n",
       "      <td>Astrology: I am a Capricorn Sun Cap moon and c...</td>\n",
       "      <td>I'm a triple Capricorn (Sun, Moon and ascendan...</td>\n",
       "      <td>1</td>\n",
       "    </tr>\n",
       "    <tr>\n",
       "      <th>6</th>\n",
       "      <td>6</td>\n",
       "      <td>13</td>\n",
       "      <td>14</td>\n",
       "      <td>Should I buy tiago?</td>\n",
       "      <td>What keeps childern active and far from phone ...</td>\n",
       "      <td>0</td>\n",
       "    </tr>\n",
       "    <tr>\n",
       "      <th>7</th>\n",
       "      <td>7</td>\n",
       "      <td>15</td>\n",
       "      <td>16</td>\n",
       "      <td>How can I be a good geologist?</td>\n",
       "      <td>What should I do to be a great geologist?</td>\n",
       "      <td>1</td>\n",
       "    </tr>\n",
       "    <tr>\n",
       "      <th>8</th>\n",
       "      <td>8</td>\n",
       "      <td>17</td>\n",
       "      <td>18</td>\n",
       "      <td>When do you use シ instead of し?</td>\n",
       "      <td>When do you use \"&amp;\" instead of \"and\"?</td>\n",
       "      <td>0</td>\n",
       "    </tr>\n",
       "    <tr>\n",
       "      <th>9</th>\n",
       "      <td>9</td>\n",
       "      <td>19</td>\n",
       "      <td>20</td>\n",
       "      <td>Motorola (company): Can I hack my Charter Moto...</td>\n",
       "      <td>How do I hack Motorola DCX3400 for free internet?</td>\n",
       "      <td>0</td>\n",
       "    </tr>\n",
       "  </tbody>\n",
       "</table>\n",
       "</div>"
      ],
      "text/plain": [
       "   id  qid1  qid2                                          question1  \\\n",
       "0   0     1     2  What is the step by step guide to invest in sh...   \n",
       "1   1     3     4  What is the story of Kohinoor (Koh-i-Noor) Dia...   \n",
       "2   2     5     6  How can I increase the speed of my internet co...   \n",
       "3   3     7     8  Why am I mentally very lonely? How can I solve...   \n",
       "4   4     9    10  Which one dissolve in water quikly sugar, salt...   \n",
       "5   5    11    12  Astrology: I am a Capricorn Sun Cap moon and c...   \n",
       "6   6    13    14                                Should I buy tiago?   \n",
       "7   7    15    16                     How can I be a good geologist?   \n",
       "8   8    17    18                    When do you use シ instead of し?   \n",
       "9   9    19    20  Motorola (company): Can I hack my Charter Moto...   \n",
       "\n",
       "                                           question2  is_duplicate  \n",
       "0  What is the step by step guide to invest in sh...             0  \n",
       "1  What would happen if the Indian government sto...             0  \n",
       "2  How can Internet speed be increased by hacking...             0  \n",
       "3  Find the remainder when [math]23^{24}[/math] i...             0  \n",
       "4            Which fish would survive in salt water?             0  \n",
       "5  I'm a triple Capricorn (Sun, Moon and ascendan...             1  \n",
       "6  What keeps childern active and far from phone ...             0  \n",
       "7          What should I do to be a great geologist?             1  \n",
       "8              When do you use \"&\" instead of \"and\"?             0  \n",
       "9  How do I hack Motorola DCX3400 for free internet?             0  "
      ]
     },
     "execution_count": 3,
     "metadata": {},
     "output_type": "execute_result"
    }
   ],
   "source": [
    "# Load \"Quora\" dataset\n",
    "df = pd.read_csv(\"/Users/rafaelaqueiroz/Mini-Project-V/train.csv\")\n",
    "df.head(10)"
   ]
  },
  {
   "attachments": {},
   "cell_type": "markdown",
   "metadata": {},
   "source": [
    "### Note\n",
    "There is no designated test.csv file. The train.csv file is the entire dataset. Part of the data in the train.csv file should be set aside to act as the final testing data."
   ]
  },
  {
   "attachments": {},
   "cell_type": "markdown",
   "metadata": {},
   "source": [
    "### Step 2: Exploration of the data"
   ]
  },
  {
   "cell_type": "code",
   "execution_count": 4,
   "metadata": {},
   "outputs": [
    {
     "name": "stdout",
     "output_type": "stream",
     "text": [
      "<class 'pandas.core.frame.DataFrame'>\n",
      "RangeIndex: 404290 entries, 0 to 404289\n",
      "Data columns (total 6 columns):\n",
      " #   Column        Non-Null Count   Dtype \n",
      "---  ------        --------------   ----- \n",
      " 0   id            404290 non-null  int64 \n",
      " 1   qid1          404290 non-null  int64 \n",
      " 2   qid2          404290 non-null  int64 \n",
      " 3   question1     404289 non-null  object\n",
      " 4   question2     404288 non-null  object\n",
      " 5   is_duplicate  404290 non-null  int64 \n",
      "dtypes: int64(4), object(2)\n",
      "memory usage: 18.5+ MB\n"
     ]
    }
   ],
   "source": [
    "# Check the general information of the dataset\n",
    "df.info()"
   ]
  },
  {
   "cell_type": "code",
   "execution_count": 5,
   "metadata": {},
   "outputs": [
    {
     "data": {
      "text/plain": [
       "(404290, 6)"
      ]
     },
     "execution_count": 5,
     "metadata": {},
     "output_type": "execute_result"
    }
   ],
   "source": [
    "# Check the number of rows and columns of the dataset\n",
    "df.shape"
   ]
  },
  {
   "attachments": {},
   "cell_type": "markdown",
   "metadata": {},
   "source": [
    "The dataset has 6 columns and 404,290 rows in total."
   ]
  },
  {
   "cell_type": "code",
   "execution_count": 6,
   "metadata": {},
   "outputs": [
    {
     "data": {
      "text/html": [
       "<div>\n",
       "<style scoped>\n",
       "    .dataframe tbody tr th:only-of-type {\n",
       "        vertical-align: middle;\n",
       "    }\n",
       "\n",
       "    .dataframe tbody tr th {\n",
       "        vertical-align: top;\n",
       "    }\n",
       "\n",
       "    .dataframe thead th {\n",
       "        text-align: right;\n",
       "    }\n",
       "</style>\n",
       "<table border=\"1\" class=\"dataframe\">\n",
       "  <thead>\n",
       "    <tr style=\"text-align: right;\">\n",
       "      <th></th>\n",
       "      <th>id</th>\n",
       "      <th>qid1</th>\n",
       "      <th>qid2</th>\n",
       "      <th>question1</th>\n",
       "      <th>question2</th>\n",
       "      <th>is_duplicate</th>\n",
       "    </tr>\n",
       "  </thead>\n",
       "  <tbody>\n",
       "    <tr>\n",
       "      <th>0</th>\n",
       "      <td>False</td>\n",
       "      <td>False</td>\n",
       "      <td>False</td>\n",
       "      <td>False</td>\n",
       "      <td>False</td>\n",
       "      <td>False</td>\n",
       "    </tr>\n",
       "    <tr>\n",
       "      <th>1</th>\n",
       "      <td>False</td>\n",
       "      <td>False</td>\n",
       "      <td>False</td>\n",
       "      <td>False</td>\n",
       "      <td>False</td>\n",
       "      <td>False</td>\n",
       "    </tr>\n",
       "    <tr>\n",
       "      <th>2</th>\n",
       "      <td>False</td>\n",
       "      <td>False</td>\n",
       "      <td>False</td>\n",
       "      <td>False</td>\n",
       "      <td>False</td>\n",
       "      <td>False</td>\n",
       "    </tr>\n",
       "    <tr>\n",
       "      <th>3</th>\n",
       "      <td>False</td>\n",
       "      <td>False</td>\n",
       "      <td>False</td>\n",
       "      <td>False</td>\n",
       "      <td>False</td>\n",
       "      <td>False</td>\n",
       "    </tr>\n",
       "    <tr>\n",
       "      <th>4</th>\n",
       "      <td>False</td>\n",
       "      <td>False</td>\n",
       "      <td>False</td>\n",
       "      <td>False</td>\n",
       "      <td>False</td>\n",
       "      <td>False</td>\n",
       "    </tr>\n",
       "    <tr>\n",
       "      <th>...</th>\n",
       "      <td>...</td>\n",
       "      <td>...</td>\n",
       "      <td>...</td>\n",
       "      <td>...</td>\n",
       "      <td>...</td>\n",
       "      <td>...</td>\n",
       "    </tr>\n",
       "    <tr>\n",
       "      <th>404285</th>\n",
       "      <td>False</td>\n",
       "      <td>False</td>\n",
       "      <td>False</td>\n",
       "      <td>False</td>\n",
       "      <td>False</td>\n",
       "      <td>False</td>\n",
       "    </tr>\n",
       "    <tr>\n",
       "      <th>404286</th>\n",
       "      <td>False</td>\n",
       "      <td>False</td>\n",
       "      <td>False</td>\n",
       "      <td>False</td>\n",
       "      <td>False</td>\n",
       "      <td>False</td>\n",
       "    </tr>\n",
       "    <tr>\n",
       "      <th>404287</th>\n",
       "      <td>False</td>\n",
       "      <td>False</td>\n",
       "      <td>False</td>\n",
       "      <td>False</td>\n",
       "      <td>False</td>\n",
       "      <td>False</td>\n",
       "    </tr>\n",
       "    <tr>\n",
       "      <th>404288</th>\n",
       "      <td>False</td>\n",
       "      <td>False</td>\n",
       "      <td>False</td>\n",
       "      <td>False</td>\n",
       "      <td>False</td>\n",
       "      <td>False</td>\n",
       "    </tr>\n",
       "    <tr>\n",
       "      <th>404289</th>\n",
       "      <td>False</td>\n",
       "      <td>False</td>\n",
       "      <td>False</td>\n",
       "      <td>False</td>\n",
       "      <td>False</td>\n",
       "      <td>False</td>\n",
       "    </tr>\n",
       "  </tbody>\n",
       "</table>\n",
       "<p>404290 rows × 6 columns</p>\n",
       "</div>"
      ],
      "text/plain": [
       "           id   qid1   qid2  question1  question2  is_duplicate\n",
       "0       False  False  False      False      False         False\n",
       "1       False  False  False      False      False         False\n",
       "2       False  False  False      False      False         False\n",
       "3       False  False  False      False      False         False\n",
       "4       False  False  False      False      False         False\n",
       "...       ...    ...    ...        ...        ...           ...\n",
       "404285  False  False  False      False      False         False\n",
       "404286  False  False  False      False      False         False\n",
       "404287  False  False  False      False      False         False\n",
       "404288  False  False  False      False      False         False\n",
       "404289  False  False  False      False      False         False\n",
       "\n",
       "[404290 rows x 6 columns]"
      ]
     },
     "execution_count": 6,
     "metadata": {},
     "output_type": "execute_result"
    }
   ],
   "source": [
    "# Check for missing or NaN values\n",
    "df.isnull() # It returns a boolean df indicating the presence or absence of missing values in each cell of it"
   ]
  },
  {
   "cell_type": "code",
   "execution_count": 7,
   "metadata": {},
   "outputs": [
    {
     "data": {
      "text/plain": [
       "id              0\n",
       "qid1            0\n",
       "qid2            0\n",
       "question1       1\n",
       "question2       2\n",
       "is_duplicate    0\n",
       "dtype: int64"
      ]
     },
     "execution_count": 7,
     "metadata": {},
     "output_type": "execute_result"
    }
   ],
   "source": [
    "# Check for the total missing or NaN values\n",
    "df.isnull().sum() # It sums up the number of 'True' values for each column"
   ]
  },
  {
   "cell_type": "code",
   "execution_count": 8,
   "metadata": {},
   "outputs": [
    {
     "data": {
      "text/html": [
       "<div>\n",
       "<style scoped>\n",
       "    .dataframe tbody tr th:only-of-type {\n",
       "        vertical-align: middle;\n",
       "    }\n",
       "\n",
       "    .dataframe tbody tr th {\n",
       "        vertical-align: top;\n",
       "    }\n",
       "\n",
       "    .dataframe thead th {\n",
       "        text-align: right;\n",
       "    }\n",
       "</style>\n",
       "<table border=\"1\" class=\"dataframe\">\n",
       "  <thead>\n",
       "    <tr style=\"text-align: right;\">\n",
       "      <th></th>\n",
       "      <th>id</th>\n",
       "      <th>qid1</th>\n",
       "      <th>qid2</th>\n",
       "      <th>question1</th>\n",
       "      <th>question2</th>\n",
       "      <th>is_duplicate</th>\n",
       "    </tr>\n",
       "  </thead>\n",
       "  <tbody>\n",
       "    <tr>\n",
       "      <th>105780</th>\n",
       "      <td>105780</td>\n",
       "      <td>174363</td>\n",
       "      <td>174364</td>\n",
       "      <td>How can I develop android app?</td>\n",
       "      <td>NaN</td>\n",
       "      <td>0</td>\n",
       "    </tr>\n",
       "    <tr>\n",
       "      <th>201841</th>\n",
       "      <td>201841</td>\n",
       "      <td>303951</td>\n",
       "      <td>174364</td>\n",
       "      <td>How can I create an Android app?</td>\n",
       "      <td>NaN</td>\n",
       "      <td>0</td>\n",
       "    </tr>\n",
       "    <tr>\n",
       "      <th>363362</th>\n",
       "      <td>363362</td>\n",
       "      <td>493340</td>\n",
       "      <td>493341</td>\n",
       "      <td>NaN</td>\n",
       "      <td>My Chinese name is Haichao Yu. What English na...</td>\n",
       "      <td>0</td>\n",
       "    </tr>\n",
       "  </tbody>\n",
       "</table>\n",
       "</div>"
      ],
      "text/plain": [
       "            id    qid1    qid2                         question1  \\\n",
       "105780  105780  174363  174364    How can I develop android app?   \n",
       "201841  201841  303951  174364  How can I create an Android app?   \n",
       "363362  363362  493340  493341                               NaN   \n",
       "\n",
       "                                                question2  is_duplicate  \n",
       "105780                                                NaN             0  \n",
       "201841                                                NaN             0  \n",
       "363362  My Chinese name is Haichao Yu. What English na...             0  "
      ]
     },
     "execution_count": 8,
     "metadata": {},
     "output_type": "execute_result"
    }
   ],
   "source": [
    "# Investigate the 3 rows that have the missing values\n",
    "df[df.isnull().any(axis=1)]"
   ]
  },
  {
   "attachments": {},
   "cell_type": "markdown",
   "metadata": {},
   "source": [
    "Even though the first 2 rows have questions that are not marked as duplicates, they are semantically similar and produce the same pragmatic meaning. This is an important point to consider when building a model to identify duplicate questions, as it highlights the need to use NLP techniques that can capture the semantic similarity between questions, beyond just comparing the text directly.\n",
    "\n",
    "Also, as we only have 3 NaN values, we decided to drop them as this represents a small percentage of duplicates in comparison with our total data. However, if this would represent a bigger percentage, the act of dropping rows would be needed to consider with caution as this could introduce bias to our dataset and affect the overall performance of our model. "
   ]
  },
  {
   "cell_type": "code",
   "execution_count": 9,
   "metadata": {},
   "outputs": [],
   "source": [
    "# Drop the missing values from the dataset\n",
    "df.dropna(subset=['question1', 'question2'], inplace=True)"
   ]
  },
  {
   "cell_type": "code",
   "execution_count": 10,
   "metadata": {},
   "outputs": [
    {
     "data": {
      "text/plain": [
       "0    255024\n",
       "1    149263\n",
       "Name: is_duplicate, dtype: int64"
      ]
     },
     "execution_count": 10,
     "metadata": {},
     "output_type": "execute_result"
    }
   ],
   "source": [
    "# Check for duplicate values before moving forward to our cleaning and preprocessing data\n",
    "df_counts = df['is_duplicate'].value_counts() # It counts de number of duplicate and non-duplicate questions in the dataset\n",
    "df_counts"
   ]
  },
  {
   "cell_type": "code",
   "execution_count": 11,
   "metadata": {},
   "outputs": [
    {
     "data": {
      "text/plain": [
       "0    63.079941\n",
       "1    36.920059\n",
       "Name: is_duplicate, dtype: float64"
      ]
     },
     "execution_count": 11,
     "metadata": {},
     "output_type": "execute_result"
    }
   ],
   "source": [
    "# Check the duplicate counts in terms of each percentage (\"question1\" and \"question2\") from the total\n",
    "percentages = df_counts / len(df) * 100\n",
    "percentages"
   ]
  },
  {
   "attachments": {},
   "cell_type": "markdown",
   "metadata": {},
   "source": [
    "Now, let's visualize the percentage of each data to see its proportionality in 2 different graphs as this will help us to understand the impact of the amount of duplicates of *question 1* in comparison with *question 2*, considering the total number of the questions."
   ]
  },
  {
   "cell_type": "code",
   "execution_count": 12,
   "metadata": {},
   "outputs": [
    {
     "data": {
      "image/png": "[encoded data removed]",
      "text/plain": [
       "<Figure size 640x480 with 1 Axes>"
      ]
     },
     "metadata": {},
     "output_type": "display_data"
    }
   ],
   "source": [
    "# Plot as a pie chart\n",
    "labels = ['Not Duplicate', 'Duplicate']\n",
    "plt.pie(percentages, labels=labels, autopct='%1.1f%%') \n",
    "plt.title('Percentage of not duplicate questions vs duplicate questions')\n",
    "plt.show()"
   ]
  },
  {
   "cell_type": "code",
   "execution_count": 13,
   "metadata": {},
   "outputs": [
    {
     "data": {
      "image/png": "[encoded data removed]",
      "text/plain": [
       "<Figure size 640x480 with 1 Axes>"
      ]
     },
     "metadata": {},
     "output_type": "display_data"
    }
   ],
   "source": [
    "# Plot as a bar chart\n",
    "plt.bar(labels, percentages)\n",
    "plt.title('Percentage of not duplicate questions vs duplicate questions')\n",
    "plt.ylabel('Percentage')\n",
    "plt.show()"
   ]
  },
  {
   "attachments": {},
   "cell_type": "markdown",
   "metadata": {},
   "source": [
    "There are 255,024 non-duplicate questions and 149,263 duplicate questions in the dataframe. This is an important factor to be considered before making our model as the count of non-duplicate and duplicate questions can help us to understand the nature of the dataset and, likewise, to give us some information on how to approach a model to identify duplicate questions.\n",
    "\n",
    "In our case, the number of duplicate questions (given by the Boolean 1) is much smaller than the number of non-duplicate questions. Then this could indicate that the dataset is imbalanced, which may affect the performance of the model afterwards. Thus, we might need to employ techniques like undersampling or oversampling to balance the dataset.\n",
    "\n",
    "As this can pose a challenge when building a model - the model may be biased towards classifying questions as non-duplicates, leading to a poor performance on identifying duplicates -, we decided to address this balance with the use of undersampling."
   ]
  },
  {
   "cell_type": "code",
   "execution_count": 14,
   "metadata": {},
   "outputs": [
    {
     "data": {
      "text/html": [
       "<div>\n",
       "<style scoped>\n",
       "    .dataframe tbody tr th:only-of-type {\n",
       "        vertical-align: middle;\n",
       "    }\n",
       "\n",
       "    .dataframe tbody tr th {\n",
       "        vertical-align: top;\n",
       "    }\n",
       "\n",
       "    .dataframe thead th {\n",
       "        text-align: right;\n",
       "    }\n",
       "</style>\n",
       "<table border=\"1\" class=\"dataframe\">\n",
       "  <thead>\n",
       "    <tr style=\"text-align: right;\">\n",
       "      <th></th>\n",
       "      <th>id</th>\n",
       "      <th>qid1</th>\n",
       "      <th>qid2</th>\n",
       "      <th>question1</th>\n",
       "      <th>question2</th>\n",
       "      <th>is_duplicate</th>\n",
       "    </tr>\n",
       "  </thead>\n",
       "  <tbody>\n",
       "    <tr>\n",
       "      <th>0</th>\n",
       "      <td>138496</td>\n",
       "      <td>220506</td>\n",
       "      <td>220507</td>\n",
       "      <td>Why don't we celebrate Columbus Day?</td>\n",
       "      <td>How should one celebrate Columbus Day?</td>\n",
       "      <td>0</td>\n",
       "    </tr>\n",
       "    <tr>\n",
       "      <th>1</th>\n",
       "      <td>160421</td>\n",
       "      <td>42810</td>\n",
       "      <td>42017</td>\n",
       "      <td>What is actual meaning of life?</td>\n",
       "      <td>What is the meanings of life?</td>\n",
       "      <td>1</td>\n",
       "    </tr>\n",
       "    <tr>\n",
       "      <th>2</th>\n",
       "      <td>368759</td>\n",
       "      <td>499167</td>\n",
       "      <td>499168</td>\n",
       "      <td>What incident gave you goosebumps?</td>\n",
       "      <td>Which incident gave you Goosebumps?</td>\n",
       "      <td>1</td>\n",
       "    </tr>\n",
       "    <tr>\n",
       "      <th>3</th>\n",
       "      <td>332533</td>\n",
       "      <td>438634</td>\n",
       "      <td>108799</td>\n",
       "      <td>Which book is the best book for algorithm and ...</td>\n",
       "      <td>What are the best algorithm books for beginners?</td>\n",
       "      <td>1</td>\n",
       "    </tr>\n",
       "    <tr>\n",
       "      <th>4</th>\n",
       "      <td>168157</td>\n",
       "      <td>36387</td>\n",
       "      <td>25096</td>\n",
       "      <td>How do I change my interests and likes on Quora?</td>\n",
       "      <td>How do I change my interests on Quora?</td>\n",
       "      <td>1</td>\n",
       "    </tr>\n",
       "    <tr>\n",
       "      <th>...</th>\n",
       "      <td>...</td>\n",
       "      <td>...</td>\n",
       "      <td>...</td>\n",
       "      <td>...</td>\n",
       "      <td>...</td>\n",
       "      <td>...</td>\n",
       "    </tr>\n",
       "    <tr>\n",
       "      <th>298521</th>\n",
       "      <td>99539</td>\n",
       "      <td>53820</td>\n",
       "      <td>165234</td>\n",
       "      <td>Where can I buy Cannabis Oil in the UK?</td>\n",
       "      <td>What's the best brand of olive oil I can buy i...</td>\n",
       "      <td>0</td>\n",
       "    </tr>\n",
       "    <tr>\n",
       "      <th>298522</th>\n",
       "      <td>360730</td>\n",
       "      <td>490529</td>\n",
       "      <td>490530</td>\n",
       "      <td>How much time is required for CAT preparations?</td>\n",
       "      <td>How much time is required for CAT preparation?</td>\n",
       "      <td>1</td>\n",
       "    </tr>\n",
       "    <tr>\n",
       "      <th>298523</th>\n",
       "      <td>161972</td>\n",
       "      <td>252243</td>\n",
       "      <td>96132</td>\n",
       "      <td>What qualities should you look for when decidi...</td>\n",
       "      <td>What makes you decide to follow someone on Quora?</td>\n",
       "      <td>1</td>\n",
       "    </tr>\n",
       "    <tr>\n",
       "      <th>298524</th>\n",
       "      <td>198688</td>\n",
       "      <td>299984</td>\n",
       "      <td>299985</td>\n",
       "      <td>Which is better? Washing powder or liquid dete...</td>\n",
       "      <td>Is liquid detergent better or powder detergent...</td>\n",
       "      <td>1</td>\n",
       "    </tr>\n",
       "    <tr>\n",
       "      <th>298525</th>\n",
       "      <td>377456</td>\n",
       "      <td>508755</td>\n",
       "      <td>508756</td>\n",
       "      <td>How is life in IRMA like?</td>\n",
       "      <td>How is life at IRMA like?</td>\n",
       "      <td>1</td>\n",
       "    </tr>\n",
       "  </tbody>\n",
       "</table>\n",
       "<p>298526 rows × 6 columns</p>\n",
       "</div>"
      ],
      "text/plain": [
       "            id    qid1    qid2  \\\n",
       "0       138496  220506  220507   \n",
       "1       160421   42810   42017   \n",
       "2       368759  499167  499168   \n",
       "3       332533  438634  108799   \n",
       "4       168157   36387   25096   \n",
       "...        ...     ...     ...   \n",
       "298521   99539   53820  165234   \n",
       "298522  360730  490529  490530   \n",
       "298523  161972  252243   96132   \n",
       "298524  198688  299984  299985   \n",
       "298525  377456  508755  508756   \n",
       "\n",
       "                                                question1  \\\n",
       "0                    Why don't we celebrate Columbus Day?   \n",
       "1                         What is actual meaning of life?   \n",
       "2                      What incident gave you goosebumps?   \n",
       "3       Which book is the best book for algorithm and ...   \n",
       "4        How do I change my interests and likes on Quora?   \n",
       "...                                                   ...   \n",
       "298521            Where can I buy Cannabis Oil in the UK?   \n",
       "298522    How much time is required for CAT preparations?   \n",
       "298523  What qualities should you look for when decidi...   \n",
       "298524  Which is better? Washing powder or liquid dete...   \n",
       "298525                          How is life in IRMA like?   \n",
       "\n",
       "                                                question2  is_duplicate  \n",
       "0                  How should one celebrate Columbus Day?             0  \n",
       "1                           What is the meanings of life?             1  \n",
       "2                     Which incident gave you Goosebumps?             1  \n",
       "3        What are the best algorithm books for beginners?             1  \n",
       "4                  How do I change my interests on Quora?             1  \n",
       "...                                                   ...           ...  \n",
       "298521  What's the best brand of olive oil I can buy i...             0  \n",
       "298522     How much time is required for CAT preparation?             1  \n",
       "298523  What makes you decide to follow someone on Quora?             1  \n",
       "298524  Is liquid detergent better or powder detergent...             1  \n",
       "298525                          How is life at IRMA like?             1  \n",
       "\n",
       "[298526 rows x 6 columns]"
      ]
     },
     "execution_count": 14,
     "metadata": {},
     "output_type": "execute_result"
    }
   ],
   "source": [
    "# Select randomly a subset of non-duplicate questions to match the number of duplicate questions\n",
    "duplicates = df[df['is_duplicate'] == 1] # Separate the duplicate and non-duplicate questions\n",
    "non_duplicates = df[df['is_duplicate'] == 0]\n",
    "num_duplicates = len(duplicates) # Get the number of duplicate questions\n",
    "non_duplicates_sampled = non_duplicates.sample(num_duplicates) # Select a subset of non-duplicate questions\n",
    "\n",
    "# Combine the sampled non-duplicate questions with the original duplicate questions\n",
    "balanced_df = pd.concat([duplicates, non_duplicates_sampled], axis=0) \n",
    "\n",
    "# Shuffle the dataset to ensure that the duplicate and non-duplicate questions are mixed\n",
    "balanced_df = balanced_df.sample(frac=1).reset_index(drop=True)\n",
    "balanced_df"
   ]
  },
  {
   "cell_type": "code",
   "execution_count": 15,
   "metadata": {},
   "outputs": [
    {
     "data": {
      "text/plain": [
       "0    149263\n",
       "1    149263\n",
       "Name: is_duplicate, dtype: int64"
      ]
     },
     "execution_count": 15,
     "metadata": {},
     "output_type": "execute_result"
    }
   ],
   "source": [
    "# Now, let's check if our dataset is more balanced\n",
    "balanced_df['is_duplicate'].value_counts()"
   ]
  },
  {
   "attachments": {},
   "cell_type": "markdown",
   "metadata": {},
   "source": [
    "#### 2.1 Splitting the dataset"
   ]
  },
  {
   "cell_type": "code",
   "execution_count": 16,
   "metadata": {},
   "outputs": [],
   "source": [
    "# Split the dataset into X and y variables\n",
    "X = balanced_df[['question1', 'question2']]\n",
    "y = balanced_df['is_duplicate']\n",
    "\n",
    "# Split the data into train and test sets\n",
    "X_train, X_test, y_train, y_test = train_test_split(X, y, test_size=0.2, random_state=1000)"
   ]
  },
  {
   "cell_type": "code",
   "execution_count": 17,
   "metadata": {},
   "outputs": [
    {
     "name": "stdout",
     "output_type": "stream",
     "text": [
      "(238820, 2)\n",
      "(238820,)\n"
     ]
    }
   ],
   "source": [
    "# Check the format of the dataset trainning sets\n",
    "print(X_train.shape)\n",
    "print(y_train.shape)"
   ]
  },
  {
   "cell_type": "code",
   "execution_count": 18,
   "metadata": {},
   "outputs": [
    {
     "name": "stdout",
     "output_type": "stream",
     "text": [
      "(59706, 2)\n",
      "(59706,)\n"
     ]
    }
   ],
   "source": [
    "# Check the format of the dataset testing sets\n",
    "print(X_test.shape)\n",
    "print(y_test.shape)"
   ]
  },
  {
   "cell_type": "code",
   "execution_count": 19,
   "metadata": {},
   "outputs": [
    {
     "data": {
      "text/html": [
       "<div>\n",
       "<style scoped>\n",
       "    .dataframe tbody tr th:only-of-type {\n",
       "        vertical-align: middle;\n",
       "    }\n",
       "\n",
       "    .dataframe tbody tr th {\n",
       "        vertical-align: top;\n",
       "    }\n",
       "\n",
       "    .dataframe thead th {\n",
       "        text-align: right;\n",
       "    }\n",
       "</style>\n",
       "<table border=\"1\" class=\"dataframe\">\n",
       "  <thead>\n",
       "    <tr style=\"text-align: right;\">\n",
       "      <th></th>\n",
       "      <th>question1</th>\n",
       "      <th>question2</th>\n",
       "    </tr>\n",
       "  </thead>\n",
       "  <tbody>\n",
       "    <tr>\n",
       "      <th>27971</th>\n",
       "      <td>Is there a possibility to love 2 person at once?</td>\n",
       "      <td>Is it possible for people to love 2 person at ...</td>\n",
       "    </tr>\n",
       "    <tr>\n",
       "      <th>39167</th>\n",
       "      <td>How can you register a dog without papers (AKC)?</td>\n",
       "      <td>How can I register a purebred dog without papers?</td>\n",
       "    </tr>\n",
       "    <tr>\n",
       "      <th>134599</th>\n",
       "      <td>What is the best phone under 10k in India?</td>\n",
       "      <td>Which is best phone under 10000?</td>\n",
       "    </tr>\n",
       "    <tr>\n",
       "      <th>154421</th>\n",
       "      <td>If you could only eat one food for the rest of...</td>\n",
       "      <td>What would happen if you eat the same food for...</td>\n",
       "    </tr>\n",
       "    <tr>\n",
       "      <th>51181</th>\n",
       "      <td>What's the best photo you have taken on an iPh...</td>\n",
       "      <td>What are the best photos you have taken by Mob...</td>\n",
       "    </tr>\n",
       "  </tbody>\n",
       "</table>\n",
       "</div>"
      ],
      "text/plain": [
       "                                                question1  \\\n",
       "27971    Is there a possibility to love 2 person at once?   \n",
       "39167    How can you register a dog without papers (AKC)?   \n",
       "134599         What is the best phone under 10k in India?   \n",
       "154421  If you could only eat one food for the rest of...   \n",
       "51181   What's the best photo you have taken on an iPh...   \n",
       "\n",
       "                                                question2  \n",
       "27971   Is it possible for people to love 2 person at ...  \n",
       "39167   How can I register a purebred dog without papers?  \n",
       "134599                   Which is best phone under 10000?  \n",
       "154421  What would happen if you eat the same food for...  \n",
       "51181   What are the best photos you have taken by Mob...  "
      ]
     },
     "execution_count": 19,
     "metadata": {},
     "output_type": "execute_result"
    }
   ],
   "source": [
    "# Check the features of X_train \n",
    "X_train.head()"
   ]
  },
  {
   "attachments": {},
   "cell_type": "markdown",
   "metadata": {},
   "source": [
    "After splitting our dataset, we are going to use only the trainning set to be cleaned, analyzed and enginnered whereas the testing set is going to be separated aside to be used solemnly in the testing of our model as a recommended practice in data science.\n",
    "\n",
    "It's important to keep the testing dataset separated from the training dataset to avoid overfitting, which occurs when a model performs very well on the training data but very poor on the testing data. By using the training dataset only, we can create a better model that is more likely to perform well on unseen data."
   ]
  },
  {
   "attachments": {},
   "cell_type": "markdown",
   "metadata": {},
   "source": [
    "### Step 3: Cleaning\n",
    "\n",
    "- Removing punctuation\n",
    "- Tokenization\n",
    "- Cleaning stopwords\n",
    "- Normalizing\n",
    "- Stemming or Lemmitization"
   ]
  },
  {
   "attachments": {},
   "cell_type": "markdown",
   "metadata": {},
   "source": [
    "In order to clean and preprocess the text data, we are going to apply different techniques, such as, converting it to lowercase, removing stop words and punctuation, and stemming or lemmatization of the the words."
   ]
  },
  {
   "attachments": {},
   "cell_type": "markdown",
   "metadata": {},
   "source": [
    "#### Removing punctuation"
   ]
  },
  {
   "cell_type": "code",
   "execution_count": 20,
   "metadata": {},
   "outputs": [
    {
     "data": {
      "text/plain": [
       "'!\"#$%&\\'()*+,-./:;<=>?@[\\\\]^_`{|}~'"
      ]
     },
     "execution_count": 20,
     "metadata": {},
     "output_type": "execute_result"
    }
   ],
   "source": [
    "# Import more libraries\n",
    "import string\n",
    "string.punctuation"
   ]
  },
  {
   "cell_type": "code",
   "execution_count": 21,
   "metadata": {},
   "outputs": [
    {
     "data": {
      "text/html": [
       "<div>\n",
       "<style scoped>\n",
       "    .dataframe tbody tr th:only-of-type {\n",
       "        vertical-align: middle;\n",
       "    }\n",
       "\n",
       "    .dataframe tbody tr th {\n",
       "        vertical-align: top;\n",
       "    }\n",
       "\n",
       "    .dataframe thead th {\n",
       "        text-align: right;\n",
       "    }\n",
       "</style>\n",
       "<table border=\"1\" class=\"dataframe\">\n",
       "  <thead>\n",
       "    <tr style=\"text-align: right;\">\n",
       "      <th></th>\n",
       "      <th>question1</th>\n",
       "      <th>question2</th>\n",
       "      <th>question1_cleaned</th>\n",
       "      <th>question2_cleaned</th>\n",
       "    </tr>\n",
       "  </thead>\n",
       "  <tbody>\n",
       "    <tr>\n",
       "      <th>71751</th>\n",
       "      <td>When did the trend of writing biographies on o...</td>\n",
       "      <td>What is the difference between wit, humor and ...</td>\n",
       "      <td>When did the trend of writing biographies on o...</td>\n",
       "      <td>What is the difference between wit humor and s...</td>\n",
       "    </tr>\n",
       "    <tr>\n",
       "      <th>107955</th>\n",
       "      <td>What is it like to be hunted by the FBI?</td>\n",
       "      <td>What does it feel like to be hunted by the FBI?</td>\n",
       "      <td>What is it like to be hunted by the FBI</td>\n",
       "      <td>What does it feel like to be hunted by the FBI</td>\n",
       "    </tr>\n",
       "  </tbody>\n",
       "</table>\n",
       "</div>"
      ],
      "text/plain": [
       "                                                question1  \\\n",
       "71751   When did the trend of writing biographies on o...   \n",
       "107955           What is it like to be hunted by the FBI?   \n",
       "\n",
       "                                                question2  \\\n",
       "71751   What is the difference between wit, humor and ...   \n",
       "107955    What does it feel like to be hunted by the FBI?   \n",
       "\n",
       "                                        question1_cleaned  \\\n",
       "71751   When did the trend of writing biographies on o...   \n",
       "107955            What is it like to be hunted by the FBI   \n",
       "\n",
       "                                        question2_cleaned  \n",
       "71751   What is the difference between wit humor and s...  \n",
       "107955     What does it feel like to be hunted by the FBI  "
      ]
     },
     "execution_count": 21,
     "metadata": {},
     "output_type": "execute_result"
    }
   ],
   "source": [
    "# Define a function to remove punctuation in our \"question1\" and \"question2\" columns\n",
    "def remove_punct(text):\n",
    "    text = \"\".join([char for char in text if char not in string.punctuation])\n",
    "    return text\n",
    "\n",
    "X_train = X_train.assign( # Assigning the new 2 columns in the dataframe\n",
    "    question1_cleaned=X_train[\"question1\"].apply(remove_punct),\n",
    "    question2_cleaned=X_train[\"question2\"].apply(remove_punct)\n",
    ")\n",
    "\n",
    "X_train.tail(2)"
   ]
  },
  {
   "cell_type": "code",
   "execution_count": 22,
   "metadata": {},
   "outputs": [
    {
     "data": {
      "text/html": [
       "<div>\n",
       "<style scoped>\n",
       "    .dataframe tbody tr th:only-of-type {\n",
       "        vertical-align: middle;\n",
       "    }\n",
       "\n",
       "    .dataframe tbody tr th {\n",
       "        vertical-align: top;\n",
       "    }\n",
       "\n",
       "    .dataframe thead th {\n",
       "        text-align: right;\n",
       "    }\n",
       "</style>\n",
       "<table border=\"1\" class=\"dataframe\">\n",
       "  <thead>\n",
       "    <tr style=\"text-align: right;\">\n",
       "      <th></th>\n",
       "      <th>question1_cleaned</th>\n",
       "      <th>question2_cleaned</th>\n",
       "    </tr>\n",
       "  </thead>\n",
       "  <tbody>\n",
       "    <tr>\n",
       "      <th>71751</th>\n",
       "      <td>When did the trend of writing biographies on o...</td>\n",
       "      <td>What is the difference between wit humor and s...</td>\n",
       "    </tr>\n",
       "    <tr>\n",
       "      <th>107955</th>\n",
       "      <td>What is it like to be hunted by the FBI</td>\n",
       "      <td>What does it feel like to be hunted by the FBI</td>\n",
       "    </tr>\n",
       "  </tbody>\n",
       "</table>\n",
       "</div>"
      ],
      "text/plain": [
       "                                        question1_cleaned  \\\n",
       "71751   When did the trend of writing biographies on o...   \n",
       "107955            What is it like to be hunted by the FBI   \n",
       "\n",
       "                                        question2_cleaned  \n",
       "71751   What is the difference between wit humor and s...  \n",
       "107955     What does it feel like to be hunted by the FBI  "
      ]
     },
     "execution_count": 22,
     "metadata": {},
     "output_type": "execute_result"
    }
   ],
   "source": [
    "# Drop the columns that are not going to be used anymore\n",
    "X_train = X_train.drop(['question1', 'question2'], axis=1)\n",
    "X_train.tail(2)"
   ]
  },
  {
   "attachments": {},
   "cell_type": "markdown",
   "metadata": {},
   "source": [
    "#### Tokenization and applying lower case"
   ]
  },
  {
   "cell_type": "code",
   "execution_count": 23,
   "metadata": {},
   "outputs": [],
   "source": [
    "# Import regular expression library\n",
    "import re"
   ]
  },
  {
   "cell_type": "code",
   "execution_count": 24,
   "metadata": {},
   "outputs": [
    {
     "data": {
      "text/html": [
       "<div>\n",
       "<style scoped>\n",
       "    .dataframe tbody tr th:only-of-type {\n",
       "        vertical-align: middle;\n",
       "    }\n",
       "\n",
       "    .dataframe tbody tr th {\n",
       "        vertical-align: top;\n",
       "    }\n",
       "\n",
       "    .dataframe thead th {\n",
       "        text-align: right;\n",
       "    }\n",
       "</style>\n",
       "<table border=\"1\" class=\"dataframe\">\n",
       "  <thead>\n",
       "    <tr style=\"text-align: right;\">\n",
       "      <th></th>\n",
       "      <th>question1_cleaned</th>\n",
       "      <th>question2_cleaned</th>\n",
       "      <th>question_1_tokenized</th>\n",
       "      <th>question_2_tokenized</th>\n",
       "    </tr>\n",
       "  </thead>\n",
       "  <tbody>\n",
       "    <tr>\n",
       "      <th>71751</th>\n",
       "      <td>When did the trend of writing biographies on o...</td>\n",
       "      <td>What is the difference between wit humor and s...</td>\n",
       "      <td>[when, did, the, trend, of, writing, biographi...</td>\n",
       "      <td>[what, is, the, difference, between, wit, humo...</td>\n",
       "    </tr>\n",
       "    <tr>\n",
       "      <th>107955</th>\n",
       "      <td>What is it like to be hunted by the FBI</td>\n",
       "      <td>What does it feel like to be hunted by the FBI</td>\n",
       "      <td>[what, is, it, like, to, be, hunted, by, the, ...</td>\n",
       "      <td>[what, does, it, feel, like, to, be, hunted, b...</td>\n",
       "    </tr>\n",
       "  </tbody>\n",
       "</table>\n",
       "</div>"
      ],
      "text/plain": [
       "                                        question1_cleaned  \\\n",
       "71751   When did the trend of writing biographies on o...   \n",
       "107955            What is it like to be hunted by the FBI   \n",
       "\n",
       "                                        question2_cleaned  \\\n",
       "71751   What is the difference between wit humor and s...   \n",
       "107955     What does it feel like to be hunted by the FBI   \n",
       "\n",
       "                                     question_1_tokenized  \\\n",
       "71751   [when, did, the, trend, of, writing, biographi...   \n",
       "107955  [what, is, it, like, to, be, hunted, by, the, ...   \n",
       "\n",
       "                                     question_2_tokenized  \n",
       "71751   [what, is, the, difference, between, wit, humo...  \n",
       "107955  [what, does, it, feel, like, to, be, hunted, b...  "
      ]
     },
     "execution_count": 24,
     "metadata": {},
     "output_type": "execute_result"
    }
   ],
   "source": [
    "# Define a function to split our sentences into a list of words\n",
    "def tokenize(text):\n",
    "    tokens = text.split()\n",
    "    return tokens\n",
    "\n",
    "X_train['question_1_tokenized'] = X_train['question1_cleaned'].apply(lambda x: tokenize(x.lower()))\n",
    "X_train['question_2_tokenized'] = X_train['question2_cleaned'].apply(lambda x: tokenize(x.lower()))\n",
    "X_train.tail(2)"
   ]
  },
  {
   "cell_type": "code",
   "execution_count": 25,
   "metadata": {},
   "outputs": [
    {
     "data": {
      "text/html": [
       "<div>\n",
       "<style scoped>\n",
       "    .dataframe tbody tr th:only-of-type {\n",
       "        vertical-align: middle;\n",
       "    }\n",
       "\n",
       "    .dataframe tbody tr th {\n",
       "        vertical-align: top;\n",
       "    }\n",
       "\n",
       "    .dataframe thead th {\n",
       "        text-align: right;\n",
       "    }\n",
       "</style>\n",
       "<table border=\"1\" class=\"dataframe\">\n",
       "  <thead>\n",
       "    <tr style=\"text-align: right;\">\n",
       "      <th></th>\n",
       "      <th>question_1_tokenized</th>\n",
       "      <th>question_2_tokenized</th>\n",
       "    </tr>\n",
       "  </thead>\n",
       "  <tbody>\n",
       "    <tr>\n",
       "      <th>71751</th>\n",
       "      <td>[when, did, the, trend, of, writing, biographi...</td>\n",
       "      <td>[what, is, the, difference, between, wit, humo...</td>\n",
       "    </tr>\n",
       "    <tr>\n",
       "      <th>107955</th>\n",
       "      <td>[what, is, it, like, to, be, hunted, by, the, ...</td>\n",
       "      <td>[what, does, it, feel, like, to, be, hunted, b...</td>\n",
       "    </tr>\n",
       "  </tbody>\n",
       "</table>\n",
       "</div>"
      ],
      "text/plain": [
       "                                     question_1_tokenized  \\\n",
       "71751   [when, did, the, trend, of, writing, biographi...   \n",
       "107955  [what, is, it, like, to, be, hunted, by, the, ...   \n",
       "\n",
       "                                     question_2_tokenized  \n",
       "71751   [what, is, the, difference, between, wit, humo...  \n",
       "107955  [what, does, it, feel, like, to, be, hunted, b...  "
      ]
     },
     "execution_count": 25,
     "metadata": {},
     "output_type": "execute_result"
    }
   ],
   "source": [
    "# Drop the previous columns\n",
    "X_train = X_train.drop(['question1_cleaned', 'question2_cleaned'], axis=1)\n",
    "X_train.tail(2)"
   ]
  },
  {
   "attachments": {},
   "cell_type": "markdown",
   "metadata": {},
   "source": [
    "#### Cleaning the stopwords"
   ]
  },
  {
   "cell_type": "code",
   "execution_count": 26,
   "metadata": {},
   "outputs": [
    {
     "name": "stderr",
     "output_type": "stream",
     "text": [
      "[nltk_data] Downloading package stopwords to\n",
      "[nltk_data]     /Users/rafaelaqueiroz/nltk_data...\n",
      "[nltk_data]   Package stopwords is already up-to-date!\n"
     ]
    },
    {
     "data": {
      "text/plain": [
       "['i',\n",
       " 'me',\n",
       " 'my',\n",
       " 'myself',\n",
       " 'we',\n",
       " 'our',\n",
       " 'ours',\n",
       " 'ourselves',\n",
       " 'you',\n",
       " \"you're\",\n",
       " \"you've\",\n",
       " \"you'll\",\n",
       " \"you'd\",\n",
       " 'your',\n",
       " 'yours',\n",
       " 'yourself',\n",
       " 'yourselves',\n",
       " 'he',\n",
       " 'him',\n",
       " 'his',\n",
       " 'himself',\n",
       " 'she',\n",
       " \"she's\",\n",
       " 'her',\n",
       " 'hers']"
      ]
     },
     "execution_count": 26,
     "metadata": {},
     "output_type": "execute_result"
    }
   ],
   "source": [
    "# Import the NLTK package\n",
    "import nltk\n",
    "nltk.download('stopwords')\n",
    "from nltk.corpus import stopwords\n",
    "\n",
    "# View the stopwords\n",
    "ENGstopwords = stopwords.words('english')\n",
    "ENGstopwords[0:25]"
   ]
  },
  {
   "cell_type": "code",
   "execution_count": 27,
   "metadata": {},
   "outputs": [
    {
     "data": {
      "text/html": [
       "<div>\n",
       "<style scoped>\n",
       "    .dataframe tbody tr th:only-of-type {\n",
       "        vertical-align: middle;\n",
       "    }\n",
       "\n",
       "    .dataframe tbody tr th {\n",
       "        vertical-align: top;\n",
       "    }\n",
       "\n",
       "    .dataframe thead th {\n",
       "        text-align: right;\n",
       "    }\n",
       "</style>\n",
       "<table border=\"1\" class=\"dataframe\">\n",
       "  <thead>\n",
       "    <tr style=\"text-align: right;\">\n",
       "      <th></th>\n",
       "      <th>question_1_tokenized</th>\n",
       "      <th>question_2_tokenized</th>\n",
       "      <th>question1_non_stop</th>\n",
       "      <th>question2_non_stop</th>\n",
       "    </tr>\n",
       "  </thead>\n",
       "  <tbody>\n",
       "    <tr>\n",
       "      <th>71751</th>\n",
       "      <td>[when, did, the, trend, of, writing, biographi...</td>\n",
       "      <td>[what, is, the, difference, between, wit, humo...</td>\n",
       "      <td>[trend, writing, biographies, online, profiles...</td>\n",
       "      <td>[difference, wit, humor, sarcasm]</td>\n",
       "    </tr>\n",
       "    <tr>\n",
       "      <th>107955</th>\n",
       "      <td>[what, is, it, like, to, be, hunted, by, the, ...</td>\n",
       "      <td>[what, does, it, feel, like, to, be, hunted, b...</td>\n",
       "      <td>[like, hunted, fbi]</td>\n",
       "      <td>[feel, like, hunted, fbi]</td>\n",
       "    </tr>\n",
       "  </tbody>\n",
       "</table>\n",
       "</div>"
      ],
      "text/plain": [
       "                                     question_1_tokenized  \\\n",
       "71751   [when, did, the, trend, of, writing, biographi...   \n",
       "107955  [what, is, it, like, to, be, hunted, by, the, ...   \n",
       "\n",
       "                                     question_2_tokenized  \\\n",
       "71751   [what, is, the, difference, between, wit, humo...   \n",
       "107955  [what, does, it, feel, like, to, be, hunted, b...   \n",
       "\n",
       "                                       question1_non_stop  \\\n",
       "71751   [trend, writing, biographies, online, profiles...   \n",
       "107955                                [like, hunted, fbi]   \n",
       "\n",
       "                       question2_non_stop  \n",
       "71751   [difference, wit, humor, sarcasm]  \n",
       "107955          [feel, like, hunted, fbi]  "
      ]
     },
     "execution_count": 27,
     "metadata": {},
     "output_type": "execute_result"
    }
   ],
   "source": [
    "# Define a function to remove stopwords\n",
    "def remove_stopwords(tokenized_text):    \n",
    "    text = [word for word in tokenized_text if word not in ENGstopwords]\n",
    "    return text\n",
    "\n",
    "X_train['question1_non_stop'] = X_train['question_1_tokenized'].apply(lambda x: remove_stopwords(x))\n",
    "X_train['question2_non_stop'] = X_train['question_2_tokenized'].apply(lambda x: remove_stopwords(x))\n",
    "X_train.tail(2)"
   ]
  },
  {
   "cell_type": "code",
   "execution_count": 28,
   "metadata": {},
   "outputs": [
    {
     "data": {
      "text/html": [
       "<div>\n",
       "<style scoped>\n",
       "    .dataframe tbody tr th:only-of-type {\n",
       "        vertical-align: middle;\n",
       "    }\n",
       "\n",
       "    .dataframe tbody tr th {\n",
       "        vertical-align: top;\n",
       "    }\n",
       "\n",
       "    .dataframe thead th {\n",
       "        text-align: right;\n",
       "    }\n",
       "</style>\n",
       "<table border=\"1\" class=\"dataframe\">\n",
       "  <thead>\n",
       "    <tr style=\"text-align: right;\">\n",
       "      <th></th>\n",
       "      <th>question1_non_stop</th>\n",
       "      <th>question2_non_stop</th>\n",
       "    </tr>\n",
       "  </thead>\n",
       "  <tbody>\n",
       "    <tr>\n",
       "      <th>71751</th>\n",
       "      <td>[trend, writing, biographies, online, profiles...</td>\n",
       "      <td>[difference, wit, humor, sarcasm]</td>\n",
       "    </tr>\n",
       "    <tr>\n",
       "      <th>107955</th>\n",
       "      <td>[like, hunted, fbi]</td>\n",
       "      <td>[feel, like, hunted, fbi]</td>\n",
       "    </tr>\n",
       "  </tbody>\n",
       "</table>\n",
       "</div>"
      ],
      "text/plain": [
       "                                       question1_non_stop  \\\n",
       "71751   [trend, writing, biographies, online, profiles...   \n",
       "107955                                [like, hunted, fbi]   \n",
       "\n",
       "                       question2_non_stop  \n",
       "71751   [difference, wit, humor, sarcasm]  \n",
       "107955          [feel, like, hunted, fbi]  "
      ]
     },
     "execution_count": 28,
     "metadata": {},
     "output_type": "execute_result"
    }
   ],
   "source": [
    "# Drop the previous columns\n",
    "X_train = X_train.drop(['question_1_tokenized', 'question_2_tokenized'], axis=1)\n",
    "X_train.tail(2)"
   ]
  },
  {
   "attachments": {},
   "cell_type": "markdown",
   "metadata": {},
   "source": [
    "#### Stemming"
   ]
  },
  {
   "cell_type": "code",
   "execution_count": 29,
   "metadata": {},
   "outputs": [
    {
     "name": "stderr",
     "output_type": "stream",
     "text": [
      "[nltk_data] Downloading package punkt to\n",
      "[nltk_data]     /Users/rafaelaqueiroz/nltk_data...\n",
      "[nltk_data]   Package punkt is already up-to-date!\n"
     ]
    }
   ],
   "source": [
    "# Import modules \n",
    "nltk.download('punkt')\n",
    "from nltk.stem import PorterStemmer"
   ]
  },
  {
   "cell_type": "code",
   "execution_count": 30,
   "metadata": {},
   "outputs": [],
   "source": [
    "# Create a stemmer object\n",
    "ps = PorterStemmer() # It will remove pre-defined stems\n",
    "\n",
    "# Define a function to stem the text\n",
    "def stemmed_text(words):\n",
    "    stemmed_words = [] # It initializes a new variable list\n",
    "    for word in words:\n",
    "        stemmed_words.append(ps.stem(word))\n",
    "    return stemmed_words"
   ]
  },
  {
   "cell_type": "code",
   "execution_count": 31,
   "metadata": {},
   "outputs": [
    {
     "data": {
      "text/html": [
       "<div>\n",
       "<style scoped>\n",
       "    .dataframe tbody tr th:only-of-type {\n",
       "        vertical-align: middle;\n",
       "    }\n",
       "\n",
       "    .dataframe tbody tr th {\n",
       "        vertical-align: top;\n",
       "    }\n",
       "\n",
       "    .dataframe thead th {\n",
       "        text-align: right;\n",
       "    }\n",
       "</style>\n",
       "<table border=\"1\" class=\"dataframe\">\n",
       "  <thead>\n",
       "    <tr style=\"text-align: right;\">\n",
       "      <th></th>\n",
       "      <th>question1_non_stop</th>\n",
       "      <th>question2_non_stop</th>\n",
       "      <th>question1_stem</th>\n",
       "      <th>question2_stem</th>\n",
       "    </tr>\n",
       "  </thead>\n",
       "  <tbody>\n",
       "    <tr>\n",
       "      <th>71751</th>\n",
       "      <td>[trend, writing, biographies, online, profiles...</td>\n",
       "      <td>[difference, wit, humor, sarcasm]</td>\n",
       "      <td>[trend, write, biographi, onlin, profil, bulle...</td>\n",
       "      <td>[differ, wit, humor, sarcasm]</td>\n",
       "    </tr>\n",
       "    <tr>\n",
       "      <th>107955</th>\n",
       "      <td>[like, hunted, fbi]</td>\n",
       "      <td>[feel, like, hunted, fbi]</td>\n",
       "      <td>[like, hunt, fbi]</td>\n",
       "      <td>[feel, like, hunt, fbi]</td>\n",
       "    </tr>\n",
       "  </tbody>\n",
       "</table>\n",
       "</div>"
      ],
      "text/plain": [
       "                                       question1_non_stop  \\\n",
       "71751   [trend, writing, biographies, online, profiles...   \n",
       "107955                                [like, hunted, fbi]   \n",
       "\n",
       "                       question2_non_stop  \\\n",
       "71751   [difference, wit, humor, sarcasm]   \n",
       "107955          [feel, like, hunted, fbi]   \n",
       "\n",
       "                                           question1_stem  \\\n",
       "71751   [trend, write, biographi, onlin, profil, bulle...   \n",
       "107955                                  [like, hunt, fbi]   \n",
       "\n",
       "                       question2_stem  \n",
       "71751   [differ, wit, humor, sarcasm]  \n",
       "107955        [feel, like, hunt, fbi]  "
      ]
     },
     "execution_count": 31,
     "metadata": {},
     "output_type": "execute_result"
    }
   ],
   "source": [
    "# Call up the function that applies \"stemmed_text\" to our columns in the data frame\n",
    "X_train['question1_stem'] = X_train['question1_non_stop'].apply(lambda x: stemmed_text(x))\n",
    "X_train['question2_stem'] = X_train['question2_non_stop'].apply(lambda x: stemmed_text(x))\n",
    "X_train.tail(2)"
   ]
  },
  {
   "attachments": {},
   "cell_type": "markdown",
   "metadata": {},
   "source": [
    "Before dropping the previous columns, we are going to make a comparative of the modification results given by stemming with the ones given by lemmatization technique."
   ]
  },
  {
   "attachments": {},
   "cell_type": "markdown",
   "metadata": {},
   "source": [
    "#### Lemmatization"
   ]
  },
  {
   "cell_type": "code",
   "execution_count": 32,
   "metadata": {},
   "outputs": [
    {
     "name": "stderr",
     "output_type": "stream",
     "text": [
      "[nltk_data] Downloading package wordnet to\n",
      "[nltk_data]     /Users/rafaelaqueiroz/nltk_data...\n",
      "[nltk_data]   Package wordnet is already up-to-date!\n",
      "[nltk_data] Downloading package omw-1.4 to\n",
      "[nltk_data]     /Users/rafaelaqueiroz/nltk_data...\n",
      "[nltk_data]   Package omw-1.4 is already up-to-date!\n"
     ]
    }
   ],
   "source": [
    "# Importing some modules \n",
    "nltk.download('wordnet')\n",
    "nltk.download('omw-1.4')\n",
    "from nltk.stem import WordNetLemmatizer\n",
    "from nltk.tokenize import word_tokenize"
   ]
  },
  {
   "cell_type": "code",
   "execution_count": 33,
   "metadata": {},
   "outputs": [],
   "source": [
    "# Create a lemmatizer object\n",
    "lemmatizer = WordNetLemmatizer() \n",
    "\n",
    "# Create a function to apply lemmitization into our words\n",
    "def lemmitization(words):\n",
    "    lemmitization_words = []\n",
    "    for word in words:\n",
    "        lemmitization_list = ' '.join([lemmatizer.lemmatize(word) for word in words])\n",
    "        lemmitization_words.append(lemmitization_list)\n",
    "    return lemmitization_words "
   ]
  },
  {
   "cell_type": "code",
   "execution_count": 34,
   "metadata": {},
   "outputs": [
    {
     "data": {
      "text/html": [
       "<div>\n",
       "<style scoped>\n",
       "    .dataframe tbody tr th:only-of-type {\n",
       "        vertical-align: middle;\n",
       "    }\n",
       "\n",
       "    .dataframe tbody tr th {\n",
       "        vertical-align: top;\n",
       "    }\n",
       "\n",
       "    .dataframe thead th {\n",
       "        text-align: right;\n",
       "    }\n",
       "</style>\n",
       "<table border=\"1\" class=\"dataframe\">\n",
       "  <thead>\n",
       "    <tr style=\"text-align: right;\">\n",
       "      <th></th>\n",
       "      <th>question1_non_stop</th>\n",
       "      <th>question2_non_stop</th>\n",
       "      <th>question1_stem</th>\n",
       "      <th>question2_stem</th>\n",
       "      <th>question1_lemm</th>\n",
       "      <th>question2_lemm</th>\n",
       "    </tr>\n",
       "  </thead>\n",
       "  <tbody>\n",
       "    <tr>\n",
       "      <th>71751</th>\n",
       "      <td>[trend, writing, biographies, online, profiles...</td>\n",
       "      <td>[difference, wit, humor, sarcasm]</td>\n",
       "      <td>[trend, write, biographi, onlin, profil, bulle...</td>\n",
       "      <td>[differ, wit, humor, sarcasm]</td>\n",
       "      <td>[trend, write, biographi, onlin, profil, bulle...</td>\n",
       "      <td>[differ, wit, humor, sarcasm]</td>\n",
       "    </tr>\n",
       "    <tr>\n",
       "      <th>107955</th>\n",
       "      <td>[like, hunted, fbi]</td>\n",
       "      <td>[feel, like, hunted, fbi]</td>\n",
       "      <td>[like, hunt, fbi]</td>\n",
       "      <td>[feel, like, hunt, fbi]</td>\n",
       "      <td>[like, hunt, fbi]</td>\n",
       "      <td>[feel, like, hunt, fbi]</td>\n",
       "    </tr>\n",
       "  </tbody>\n",
       "</table>\n",
       "</div>"
      ],
      "text/plain": [
       "                                       question1_non_stop  \\\n",
       "71751   [trend, writing, biographies, online, profiles...   \n",
       "107955                                [like, hunted, fbi]   \n",
       "\n",
       "                       question2_non_stop  \\\n",
       "71751   [difference, wit, humor, sarcasm]   \n",
       "107955          [feel, like, hunted, fbi]   \n",
       "\n",
       "                                           question1_stem  \\\n",
       "71751   [trend, write, biographi, onlin, profil, bulle...   \n",
       "107955                                  [like, hunt, fbi]   \n",
       "\n",
       "                       question2_stem  \\\n",
       "71751   [differ, wit, humor, sarcasm]   \n",
       "107955        [feel, like, hunt, fbi]   \n",
       "\n",
       "                                           question1_lemm  \\\n",
       "71751   [trend, write, biographi, onlin, profil, bulle...   \n",
       "107955                                  [like, hunt, fbi]   \n",
       "\n",
       "                       question2_lemm  \n",
       "71751   [differ, wit, humor, sarcasm]  \n",
       "107955        [feel, like, hunt, fbi]  "
      ]
     },
     "execution_count": 34,
     "metadata": {},
     "output_type": "execute_result"
    }
   ],
   "source": [
    "# Call up the function that applies lemmatization to our columns in the data frame\n",
    "X_train['question1_lemm'] = X_train['question1_non_stop'].apply(lambda x: stemmed_text(x))\n",
    "X_train['question2_lemm'] = X_train['question2_non_stop'].apply(lambda x: stemmed_text(x))\n",
    "X_train.tail(2)"
   ]
  },
  {
   "cell_type": "code",
   "execution_count": 35,
   "metadata": {},
   "outputs": [
    {
     "data": {
      "text/html": [
       "<div>\n",
       "<style scoped>\n",
       "    .dataframe tbody tr th:only-of-type {\n",
       "        vertical-align: middle;\n",
       "    }\n",
       "\n",
       "    .dataframe tbody tr th {\n",
       "        vertical-align: top;\n",
       "    }\n",
       "\n",
       "    .dataframe thead th {\n",
       "        text-align: right;\n",
       "    }\n",
       "</style>\n",
       "<table border=\"1\" class=\"dataframe\">\n",
       "  <thead>\n",
       "    <tr style=\"text-align: right;\">\n",
       "      <th></th>\n",
       "      <th>question1_lemm</th>\n",
       "      <th>question2_lemm</th>\n",
       "    </tr>\n",
       "  </thead>\n",
       "  <tbody>\n",
       "    <tr>\n",
       "      <th>71751</th>\n",
       "      <td>[trend, write, biographi, onlin, profil, bulle...</td>\n",
       "      <td>[differ, wit, humor, sarcasm]</td>\n",
       "    </tr>\n",
       "    <tr>\n",
       "      <th>107955</th>\n",
       "      <td>[like, hunt, fbi]</td>\n",
       "      <td>[feel, like, hunt, fbi]</td>\n",
       "    </tr>\n",
       "  </tbody>\n",
       "</table>\n",
       "</div>"
      ],
      "text/plain": [
       "                                           question1_lemm  \\\n",
       "71751   [trend, write, biographi, onlin, profil, bulle...   \n",
       "107955                                  [like, hunt, fbi]   \n",
       "\n",
       "                       question2_lemm  \n",
       "71751   [differ, wit, humor, sarcasm]  \n",
       "107955        [feel, like, hunt, fbi]  "
      ]
     },
     "execution_count": 35,
     "metadata": {},
     "output_type": "execute_result"
    }
   ],
   "source": [
    "# Drop previous columns and staying with the lemmatization technique\n",
    "X_train = X_train.drop(['question1_non_stop', 'question2_non_stop', 'question1_stem', 'question2_stem'], axis=1)\n",
    "X_train.tail(2)"
   ]
  },
  {
   "attachments": {},
   "cell_type": "markdown",
   "metadata": {},
   "source": [
    "### Step 4: Feature Engineering\n",
    "\n",
    "- tf-idf\n",
    "- word count\n",
    "- word2vec\n",
    "- number of the same words in both questions\n",
    "- ...."
   ]
  },
  {
   "attachments": {},
   "cell_type": "markdown",
   "metadata": {},
   "source": [
    "At this step, we are going to extract relevant features from the preprocessed text data. Some useful features for this task might include the length of the questions, the cosine similarity between their vector representations (WordCount), and the number of shared words between questions as belonging to the same semantic field (Word2Vec)."
   ]
  },
  {
   "attachments": {},
   "cell_type": "markdown",
   "metadata": {},
   "source": [
    "#### Calculating the length of the questions"
   ]
  },
  {
   "cell_type": "code",
   "execution_count": 36,
   "metadata": {},
   "outputs": [
    {
     "data": {
      "text/html": [
       "<div>\n",
       "<style scoped>\n",
       "    .dataframe tbody tr th:only-of-type {\n",
       "        vertical-align: middle;\n",
       "    }\n",
       "\n",
       "    .dataframe tbody tr th {\n",
       "        vertical-align: top;\n",
       "    }\n",
       "\n",
       "    .dataframe thead th {\n",
       "        text-align: right;\n",
       "    }\n",
       "</style>\n",
       "<table border=\"1\" class=\"dataframe\">\n",
       "  <thead>\n",
       "    <tr style=\"text-align: right;\">\n",
       "      <th></th>\n",
       "      <th>q1_lemm_len</th>\n",
       "      <th>q2_lemm_len</th>\n",
       "    </tr>\n",
       "  </thead>\n",
       "  <tbody>\n",
       "    <tr>\n",
       "      <th>27971</th>\n",
       "      <td>34</td>\n",
       "      <td>51</td>\n",
       "    </tr>\n",
       "    <tr>\n",
       "      <th>39167</th>\n",
       "      <td>44</td>\n",
       "      <td>47</td>\n",
       "    </tr>\n",
       "    <tr>\n",
       "      <th>134599</th>\n",
       "      <td>33</td>\n",
       "      <td>26</td>\n",
       "    </tr>\n",
       "    <tr>\n",
       "      <th>154421</th>\n",
       "      <td>65</td>\n",
       "      <td>50</td>\n",
       "    </tr>\n",
       "    <tr>\n",
       "      <th>51181</th>\n",
       "      <td>64</td>\n",
       "      <td>35</td>\n",
       "    </tr>\n",
       "    <tr>\n",
       "      <th>122319</th>\n",
       "      <td>41</td>\n",
       "      <td>76</td>\n",
       "    </tr>\n",
       "    <tr>\n",
       "      <th>154407</th>\n",
       "      <td>41</td>\n",
       "      <td>66</td>\n",
       "    </tr>\n",
       "    <tr>\n",
       "      <th>36506</th>\n",
       "      <td>39</td>\n",
       "      <td>66</td>\n",
       "    </tr>\n",
       "    <tr>\n",
       "      <th>179413</th>\n",
       "      <td>37</td>\n",
       "      <td>55</td>\n",
       "    </tr>\n",
       "    <tr>\n",
       "      <th>177051</th>\n",
       "      <td>39</td>\n",
       "      <td>112</td>\n",
       "    </tr>\n",
       "  </tbody>\n",
       "</table>\n",
       "</div>"
      ],
      "text/plain": [
       "        q1_lemm_len  q2_lemm_len\n",
       "27971            34           51\n",
       "39167            44           47\n",
       "134599           33           26\n",
       "154421           65           50\n",
       "51181            64           35\n",
       "122319           41           76\n",
       "154407           41           66\n",
       "36506            39           66\n",
       "179413           37           55\n",
       "177051           39          112"
      ]
     },
     "execution_count": 36,
     "metadata": {},
     "output_type": "execute_result"
    }
   ],
   "source": [
    "# Define a function to calculate the length of a string\n",
    "def calculate_length(text):\n",
    "    return len(str(text))\n",
    "\n",
    "# Create a new dataframe with the columns 'q1_lemm_len' and 'q2_lemm_len'\n",
    "X_train_len = pd.DataFrame()\n",
    "\n",
    "# Apply the function to each element in the 'question1_lemm' and 'question2_lemm' columns\n",
    "X_train_len['q1_lemm_len'] = X_train['question1_lemm'].apply(calculate_length)\n",
    "X_train_len['q2_lemm_len'] = X_train['question2_lemm'].apply(calculate_length)\n",
    "X_train_len.head(10)\n"
   ]
  },
  {
   "cell_type": "code",
   "execution_count": 37,
   "metadata": {},
   "outputs": [
    {
     "data": {
      "text/html": [
       "<div>\n",
       "<style scoped>\n",
       "    .dataframe tbody tr th:only-of-type {\n",
       "        vertical-align: middle;\n",
       "    }\n",
       "\n",
       "    .dataframe tbody tr th {\n",
       "        vertical-align: top;\n",
       "    }\n",
       "\n",
       "    .dataframe thead th {\n",
       "        text-align: right;\n",
       "    }\n",
       "</style>\n",
       "<table border=\"1\" class=\"dataframe\">\n",
       "  <thead>\n",
       "    <tr style=\"text-align: right;\">\n",
       "      <th></th>\n",
       "      <th>question1_lemm</th>\n",
       "      <th>question2_lemm</th>\n",
       "    </tr>\n",
       "  </thead>\n",
       "  <tbody>\n",
       "    <tr>\n",
       "      <th>27971</th>\n",
       "      <td>[possibl, love, 2, person]</td>\n",
       "      <td>[possibl, peopl, love, 2, person, time]</td>\n",
       "    </tr>\n",
       "    <tr>\n",
       "      <th>39167</th>\n",
       "      <td>[regist, dog, without, paper, akc]</td>\n",
       "      <td>[regist, purebr, dog, without, paper]</td>\n",
       "    </tr>\n",
       "    <tr>\n",
       "      <th>134599</th>\n",
       "      <td>[best, phone, 10k, india]</td>\n",
       "      <td>[best, phone, 10000]</td>\n",
       "    </tr>\n",
       "    <tr>\n",
       "      <th>154421</th>\n",
       "      <td>[could, eat, one, food, rest, life, would, choos]</td>\n",
       "      <td>[would, happen, eat, food, rest, life]</td>\n",
       "    </tr>\n",
       "    <tr>\n",
       "      <th>51181</th>\n",
       "      <td>[what, best, photo, taken, iphoneandroid, smar...</td>\n",
       "      <td>[best, photo, taken, mobil]</td>\n",
       "    </tr>\n",
       "    <tr>\n",
       "      <th>122319</th>\n",
       "      <td>[intend, mental, health, america]</td>\n",
       "      <td>[base, famili, experi, think, improv, health, ...</td>\n",
       "    </tr>\n",
       "    <tr>\n",
       "      <th>154407</th>\n",
       "      <td>[safe, clean, flat, screen, tv]</td>\n",
       "      <td>[touch, tv, screen, affect, tv, clean, tv, aff...</td>\n",
       "    </tr>\n",
       "    <tr>\n",
       "      <th>36506</th>\n",
       "      <td>[get, neighbor, wifi, password]</td>\n",
       "      <td>[chang, wifi, admin, password, forgotten, get,...</td>\n",
       "    </tr>\n",
       "    <tr>\n",
       "      <th>179413</th>\n",
       "      <td>[debunk, flat, earth, theori]</td>\n",
       "      <td>[debunk, argument, use, flat, earth, advoc]</td>\n",
       "    </tr>\n",
       "    <tr>\n",
       "      <th>177051</th>\n",
       "      <td>[would, keep, tag, line, ipl]</td>\n",
       "      <td>[indian, premier, leagu, ipl, best, play, xi, ...</td>\n",
       "    </tr>\n",
       "  </tbody>\n",
       "</table>\n",
       "</div>"
      ],
      "text/plain": [
       "                                           question1_lemm  \\\n",
       "27971                          [possibl, love, 2, person]   \n",
       "39167                  [regist, dog, without, paper, akc]   \n",
       "134599                          [best, phone, 10k, india]   \n",
       "154421  [could, eat, one, food, rest, life, would, choos]   \n",
       "51181   [what, best, photo, taken, iphoneandroid, smar...   \n",
       "122319                  [intend, mental, health, america]   \n",
       "154407                    [safe, clean, flat, screen, tv]   \n",
       "36506                     [get, neighbor, wifi, password]   \n",
       "179413                      [debunk, flat, earth, theori]   \n",
       "177051                      [would, keep, tag, line, ipl]   \n",
       "\n",
       "                                           question2_lemm  \n",
       "27971             [possibl, peopl, love, 2, person, time]  \n",
       "39167               [regist, purebr, dog, without, paper]  \n",
       "134599                               [best, phone, 10000]  \n",
       "154421             [would, happen, eat, food, rest, life]  \n",
       "51181                         [best, photo, taken, mobil]  \n",
       "122319  [base, famili, experi, think, improv, health, ...  \n",
       "154407  [touch, tv, screen, affect, tv, clean, tv, aff...  \n",
       "36506   [chang, wifi, admin, password, forgotten, get,...  \n",
       "179413        [debunk, argument, use, flat, earth, advoc]  \n",
       "177051  [indian, premier, leagu, ipl, best, play, xi, ...  "
      ]
     },
     "execution_count": 37,
     "metadata": {},
     "output_type": "execute_result"
    }
   ],
   "source": [
    "X_train.head(10)"
   ]
  },
  {
   "attachments": {},
   "cell_type": "markdown",
   "metadata": {},
   "source": [
    "From this quick exploration, we can notice that most of the questions have the same length (the same number of words) with only some exceptions (for example, the paired up questions of index 39167). This is a factor to be considered as this can impact the model in identifying duplicate questions from the users."
   ]
  },
  {
   "attachments": {},
   "cell_type": "markdown",
   "metadata": {},
   "source": [
    "#### WordCount\n",
    "\n",
    "This algorithm is explored here in order to understand the frequency of the words used in a document and also the similarity between the vectors represented by the words used in the *question 1* and *question 2*. The cosine vector values range from -1 to 1 which is an indication of their similarity. \n",
    "\n",
    "The WordCount algorithm can be used to calculate the frequency of words in a document, and it can also be used to represent each document as a vector of word frequencies. These vectors can be compared using various similarity measures, such as the cosine similarity, to assess the similarity between two documents.\n",
    "\n",
    "In the context of comparing the question 1 and question 2 columns of a dataset, the WordCount algorithm could be used to calculate the frequency of words in each question and represent them as vectors of word frequencies. Then, the cosine similarity between the two vectors could be calculated to determine the similarity between the two questions.\n",
    "\n",
    "t is worth noting that while the WordCount algorithm is a useful tool for analyzing the frequency of words in a document, it does not capture the semantic meaning of the words or the context in which they are used. That is the reason why we explored our trainning dataset with the * Word2Vec*  algorithm afterwards."
   ]
  },
  {
   "cell_type": "code",
   "execution_count": 38,
   "metadata": {},
   "outputs": [],
   "source": [
    "# Import the module \"CountVectorizer\" from sklearn library\n",
    "from sklearn.feature_extraction.text import CountVectorizer"
   ]
  },
  {
   "cell_type": "code",
   "execution_count": 39,
   "metadata": {},
   "outputs": [
    {
     "name": "stdout",
     "output_type": "stream",
     "text": [
      "(238820,)\n",
      "(238820,)\n"
     ]
    }
   ],
   "source": [
    "# Check how many words we can find considering each feature and our trainning dataset\n",
    "question1_wordcount = X_train['question1_lemm'].shape\n",
    "print(question1_wordcount)\n",
    "question2_wordcount = X_train['question2_lemm'].shape\n",
    "print(question2_wordcount)"
   ]
  },
  {
   "cell_type": "code",
   "execution_count": 40,
   "metadata": {},
   "outputs": [],
   "source": [
    "# Instantiate a CountVectorizer class object\n",
    "countVectorizer = CountVectorizer(strip_accents=ascii, lowercase=False)"
   ]
  },
  {
   "cell_type": "code",
   "execution_count": 41,
   "metadata": {},
   "outputs": [
    {
     "name": "stderr",
     "output_type": "stream",
     "text": [
      "/var/folders/zt/gl7xtkgj7238nsqq03s_q7840000gn/T/ipykernel_63686/3982557574.py:2: FutureWarning: The series.append method is deprecated and will be removed from pandas in a future version. Use pandas.concat instead.\n",
      "  X_train_final = X_train['question1_lemm'].append(X_train['question2_lemm'])\n"
     ]
    },
    {
     "data": {
      "text/plain": [
       "477640"
      ]
     },
     "execution_count": 41,
     "metadata": {},
     "output_type": "execute_result"
    }
   ],
   "source": [
    "# Append the 2 sets of trainning data from each feature: \"question1\" and \"question2\"\n",
    "X_train_final = X_train['question1_lemm'].append(X_train['question2_lemm'])\n",
    "len(X_train_final)"
   ]
  },
  {
   "attachments": {},
   "cell_type": "markdown",
   "metadata": {},
   "source": [
    "##### Applying the *.fit()* and *.transform()* methods to the training dataset"
   ]
  },
  {
   "cell_type": "code",
   "execution_count": 42,
   "metadata": {},
   "outputs": [
    {
     "data": {
      "text/plain": [
       "CountVectorizer(lowercase=False, strip_accents=<built-in function ascii>)"
      ]
     },
     "execution_count": 42,
     "metadata": {},
     "output_type": "execute_result"
    }
   ],
   "source": [
    "# Fit the \"X_train_final\" dataset to the countVectorizer class object\n",
    "train_countVectorizer = countVectorizer.fit(X_train_final)\n",
    "train_countVectorizer"
   ]
  },
  {
   "cell_type": "code",
   "execution_count": 43,
   "metadata": {},
   "outputs": [
    {
     "name": "stdout",
     "output_type": "stream",
     "text": [
      "  (0, 31519)\t1\n",
      "  (0, 40266)\t1\n",
      "  (0, 41493)\t1\n",
      "  (1, 5284)\t1\n",
      "  (1, 17132)\t1\n",
      "  (1, 39410)\t1\n",
      "  (1, 44193)\t1\n",
      "  (1, 58799)\t1\n",
      "  (2, 320)\t1\n",
      "  (2, 8849)\t1\n",
      "  (2, 26656)\t1\n",
      "  (2, 40535)\t1\n",
      "  (3, 12499)\t1\n",
      "  (3, 14272)\t1\n",
      "  (3, 18010)\t1\n",
      "  (3, 21076)\t1\n",
      "  (3, 30900)\t1\n",
      "  (3, 38282)\t1\n",
      "  (3, 44615)\t1\n",
      "  (3, 59034)\t1\n",
      "  (4, 8849)\t1\n",
      "  (4, 27490)\t1\n",
      "  (4, 40572)\t1\n",
      "  (4, 48548)\t1\n",
      "  (4, 51267)\t1\n",
      "  :\t:\n",
      "  (238815, 30215)\t1\n",
      "  (238815, 35199)\t1\n",
      "  (238816, 5597)\t1\n",
      "  (238816, 8849)\t1\n",
      "  (238816, 10885)\t1\n",
      "  (238816, 11315)\t1\n",
      "  (238816, 13438)\t1\n",
      "  (238816, 14358)\t1\n",
      "  (238816, 18893)\t1\n",
      "  (238816, 51264)\t1\n",
      "  (238817, 1577)\t1\n",
      "  (238817, 29969)\t1\n",
      "  (238817, 51003)\t1\n",
      "  (238818, 9272)\t1\n",
      "  (238818, 10599)\t1\n",
      "  (238818, 17301)\t1\n",
      "  (238818, 38359)\t1\n",
      "  (238818, 41185)\t1\n",
      "  (238818, 42255)\t1\n",
      "  (238818, 49746)\t1\n",
      "  (238818, 53277)\t1\n",
      "  (238818, 59091)\t1\n",
      "  (238819, 20254)\t1\n",
      "  (238819, 25648)\t1\n",
      "  (238819, 30987)\t1\n"
     ]
    }
   ],
   "source": [
    "# Assign the transform method\n",
    "X_train_question_1 = train_countVectorizer.transform(X_train['question1_lemm'])\n",
    "print(X_train_question_1)"
   ]
  },
  {
   "cell_type": "code",
   "execution_count": 44,
   "metadata": {},
   "outputs": [
    {
     "name": "stdout",
     "output_type": "stream",
     "text": [
      "  (0, 31519)\t1\n",
      "  (0, 40102)\t1\n",
      "  (0, 40266)\t1\n",
      "  (0, 41493)\t1\n",
      "  (0, 52517)\t1\n",
      "  (1, 17132)\t1\n",
      "  (1, 39410)\t1\n",
      "  (1, 42801)\t1\n",
      "  (1, 44193)\t1\n",
      "  (1, 58799)\t1\n",
      "  (2, 141)\t1\n",
      "  (2, 8849)\t1\n",
      "  (2, 40535)\t1\n",
      "  (3, 18010)\t1\n",
      "  (3, 21076)\t1\n",
      "  (3, 24065)\t1\n",
      "  (3, 30900)\t1\n",
      "  (3, 44615)\t1\n",
      "  (3, 59034)\t1\n",
      "  (4, 8849)\t1\n",
      "  (4, 34669)\t1\n",
      "  (4, 40572)\t1\n",
      "  (4, 51267)\t1\n",
      "  (5, 5768)\t1\n",
      "  (5, 8307)\t1\n",
      "  :\t:\n",
      "  (238813, 42277)\t1\n",
      "  (238814, 31479)\t1\n",
      "  (238814, 43169)\t1\n",
      "  (238814, 58246)\t1\n",
      "  (238815, 8849)\t1\n",
      "  (238815, 19462)\t1\n",
      "  (238815, 35199)\t1\n",
      "  (238815, 46851)\t1\n",
      "  (238816, 5597)\t1\n",
      "  (238816, 10885)\t1\n",
      "  (238816, 14358)\t2\n",
      "  (238816, 35656)\t1\n",
      "  (238816, 51267)\t1\n",
      "  (238817, 1577)\t1\n",
      "  (238817, 29969)\t1\n",
      "  (238817, 50118)\t1\n",
      "  (238817, 51003)\t1\n",
      "  (238818, 16566)\t1\n",
      "  (238818, 25622)\t1\n",
      "  (238818, 46102)\t1\n",
      "  (238818, 58777)\t1\n",
      "  (238819, 20254)\t1\n",
      "  (238819, 20326)\t1\n",
      "  (238819, 25648)\t1\n",
      "  (238819, 30987)\t1\n"
     ]
    }
   ],
   "source": [
    "# Assign the transform method to the \"question 2\" feature of the X_train\n",
    "X_train_question_2 = train_countVectorizer.transform(X_train['question2_lemm'])\n",
    "print(X_train_question_2)"
   ]
  },
  {
   "cell_type": "code",
   "execution_count": 45,
   "metadata": {},
   "outputs": [
    {
     "data": {
      "text/plain": [
       "array([[0, 0, 0, ..., 0, 0, 0]])"
      ]
     },
     "execution_count": 45,
     "metadata": {},
     "output_type": "execute_result"
    }
   ],
   "source": [
    "# Convert \"X_train_question_1\" to an array\n",
    "X_train_question_1[0].toarray()"
   ]
  },
  {
   "cell_type": "code",
   "execution_count": 46,
   "metadata": {},
   "outputs": [
    {
     "data": {
      "text/plain": [
       "array([[0, 0, 0, ..., 0, 0, 0]])"
      ]
     },
     "execution_count": 46,
     "metadata": {},
     "output_type": "execute_result"
    }
   ],
   "source": [
    "# Convert \"X_train_question_2\" to an array\n",
    "X_train_question_2[0].toarray()"
   ]
  },
  {
   "cell_type": "code",
   "execution_count": 47,
   "metadata": {},
   "outputs": [
    {
     "data": {
      "text/html": [
       "<div>\n",
       "<style scoped>\n",
       "    .dataframe tbody tr th:only-of-type {\n",
       "        vertical-align: middle;\n",
       "    }\n",
       "\n",
       "    .dataframe tbody tr th {\n",
       "        vertical-align: top;\n",
       "    }\n",
       "\n",
       "    .dataframe thead th {\n",
       "        text-align: right;\n",
       "    }\n",
       "</style>\n",
       "<table border=\"1\" class=\"dataframe\">\n",
       "  <thead>\n",
       "    <tr style=\"text-align: right;\">\n",
       "      <th></th>\n",
       "      <th>question1_word_count</th>\n",
       "    </tr>\n",
       "  </thead>\n",
       "  <tbody>\n",
       "    <tr>\n",
       "      <th>238818</th>\n",
       "      <td>(0, 9272)\\t1\\n  (0, 10599)\\t1\\n  (0, 17301)\\...</td>\n",
       "    </tr>\n",
       "    <tr>\n",
       "      <th>238819</th>\n",
       "      <td>(0, 20254)\\t1\\n  (0, 25648)\\t1\\n  (0, 30987)\\t1</td>\n",
       "    </tr>\n",
       "  </tbody>\n",
       "</table>\n",
       "</div>"
      ],
      "text/plain": [
       "                                     question1_word_count\n",
       "238818    (0, 9272)\\t1\\n  (0, 10599)\\t1\\n  (0, 17301)\\...\n",
       "238819    (0, 20254)\\t1\\n  (0, 25648)\\t1\\n  (0, 30987)\\t1"
      ]
     },
     "execution_count": 47,
     "metadata": {},
     "output_type": "execute_result"
    }
   ],
   "source": [
    "# Make a specific dataframe for each feature separately\n",
    "X_train_question1_word_count = pd.DataFrame(X_train_question_1, columns=['question1_word_count'])\n",
    "X_train_question1_word_count.tail(2)"
   ]
  },
  {
   "cell_type": "code",
   "execution_count": 48,
   "metadata": {},
   "outputs": [
    {
     "data": {
      "text/html": [
       "<div>\n",
       "<style scoped>\n",
       "    .dataframe tbody tr th:only-of-type {\n",
       "        vertical-align: middle;\n",
       "    }\n",
       "\n",
       "    .dataframe tbody tr th {\n",
       "        vertical-align: top;\n",
       "    }\n",
       "\n",
       "    .dataframe thead th {\n",
       "        text-align: right;\n",
       "    }\n",
       "</style>\n",
       "<table border=\"1\" class=\"dataframe\">\n",
       "  <thead>\n",
       "    <tr style=\"text-align: right;\">\n",
       "      <th></th>\n",
       "      <th>question2_word_count</th>\n",
       "    </tr>\n",
       "  </thead>\n",
       "  <tbody>\n",
       "    <tr>\n",
       "      <th>238818</th>\n",
       "      <td>(0, 16566)\\t1\\n  (0, 25622)\\t1\\n  (0, 46102)...</td>\n",
       "    </tr>\n",
       "    <tr>\n",
       "      <th>238819</th>\n",
       "      <td>(0, 20254)\\t1\\n  (0, 20326)\\t1\\n  (0, 25648)...</td>\n",
       "    </tr>\n",
       "  </tbody>\n",
       "</table>\n",
       "</div>"
      ],
      "text/plain": [
       "                                     question2_word_count\n",
       "238818    (0, 16566)\\t1\\n  (0, 25622)\\t1\\n  (0, 46102)...\n",
       "238819    (0, 20254)\\t1\\n  (0, 20326)\\t1\\n  (0, 25648)..."
      ]
     },
     "execution_count": 48,
     "metadata": {},
     "output_type": "execute_result"
    }
   ],
   "source": [
    "# Make a specific dataframe for each feature separately\n",
    "X_train_question2_word_count = pd.DataFrame(X_train_question_2, columns=['question2_word_count'])\n",
    "X_train_question2_word_count.tail(2)"
   ]
  },
  {
   "cell_type": "code",
   "execution_count": 49,
   "metadata": {},
   "outputs": [
    {
     "data": {
      "text/html": [
       "<div>\n",
       "<style scoped>\n",
       "    .dataframe tbody tr th:only-of-type {\n",
       "        vertical-align: middle;\n",
       "    }\n",
       "\n",
       "    .dataframe tbody tr th {\n",
       "        vertical-align: top;\n",
       "    }\n",
       "\n",
       "    .dataframe thead th {\n",
       "        text-align: right;\n",
       "    }\n",
       "</style>\n",
       "<table border=\"1\" class=\"dataframe\">\n",
       "  <thead>\n",
       "    <tr style=\"text-align: right;\">\n",
       "      <th></th>\n",
       "      <th>question1_word_count</th>\n",
       "      <th>question2_word_count</th>\n",
       "    </tr>\n",
       "  </thead>\n",
       "  <tbody>\n",
       "    <tr>\n",
       "      <th>238818</th>\n",
       "      <td>(0, 9272)\\t1\\n  (0, 10599)\\t1\\n  (0, 17301)\\...</td>\n",
       "      <td>(0, 16566)\\t1\\n  (0, 25622)\\t1\\n  (0, 46102)...</td>\n",
       "    </tr>\n",
       "    <tr>\n",
       "      <th>238819</th>\n",
       "      <td>(0, 20254)\\t1\\n  (0, 25648)\\t1\\n  (0, 30987)\\t1</td>\n",
       "      <td>(0, 20254)\\t1\\n  (0, 20326)\\t1\\n  (0, 25648)...</td>\n",
       "    </tr>\n",
       "  </tbody>\n",
       "</table>\n",
       "</div>"
      ],
      "text/plain": [
       "                                     question1_word_count  \\\n",
       "238818    (0, 9272)\\t1\\n  (0, 10599)\\t1\\n  (0, 17301)\\...   \n",
       "238819    (0, 20254)\\t1\\n  (0, 25648)\\t1\\n  (0, 30987)\\t1   \n",
       "\n",
       "                                     question2_word_count  \n",
       "238818    (0, 16566)\\t1\\n  (0, 25622)\\t1\\n  (0, 46102)...  \n",
       "238819    (0, 20254)\\t1\\n  (0, 20326)\\t1\\n  (0, 25648)...  "
      ]
     },
     "execution_count": 49,
     "metadata": {},
     "output_type": "execute_result"
    }
   ],
   "source": [
    "# Join the 2 dataframes together\n",
    "X_train_q1_and_q2_word_count = pd.concat([X_train_question1_word_count, X_train_question2_word_count], axis=1)\n",
    "X_train_q1_and_q2_word_count.tail(2)"
   ]
  },
  {
   "attachments": {},
   "cell_type": "markdown",
   "metadata": {},
   "source": [
    "##### Applying the *.transform()* method to the test dataset"
   ]
  },
  {
   "cell_type": "code",
   "execution_count": 50,
   "metadata": {},
   "outputs": [
    {
     "name": "stdout",
     "output_type": "stream",
     "text": [
      "  (0, 8488)\t1\n",
      "  (0, 11108)\t1\n",
      "  (0, 12430)\t2\n",
      "  (0, 21754)\t1\n",
      "  (0, 30987)\t1\n",
      "  (0, 38569)\t1\n",
      "  (0, 40182)\t1\n",
      "  (0, 48003)\t1\n",
      "  (0, 52140)\t1\n",
      "  (0, 52691)\t1\n",
      "  (0, 58462)\t1\n",
      "  (1, 4665)\t1\n",
      "  (1, 17062)\t1\n",
      "  (1, 38264)\t1\n",
      "  (1, 41498)\t1\n",
      "  (1, 52691)\t1\n",
      "  (1, 60157)\t1\n",
      "  (2, 8849)\t1\n",
      "  (2, 26494)\t1\n",
      "  (2, 26656)\t1\n",
      "  (2, 27203)\t1\n",
      "  (2, 38569)\t1\n",
      "  (2, 52059)\t1\n",
      "  (3, 6177)\t1\n",
      "  (3, 11108)\t1\n",
      "  :\t:\n",
      "  (59701, 52140)\t1\n",
      "  (59701, 52691)\t1\n",
      "  (59701, 58783)\t1\n",
      "  (59702, 22471)\t1\n",
      "  (59702, 24769)\t1\n",
      "  (59702, 26117)\t1\n",
      "  (59702, 26494)\t1\n",
      "  (59702, 45216)\t1\n",
      "  (59702, 48930)\t1\n",
      "  (59702, 52045)\t1\n",
      "  (59702, 57834)\t1\n",
      "  (59702, 58225)\t1\n",
      "  (59702, 60157)\t2\n",
      "  (59703, 12833)\t1\n",
      "  (59703, 22969)\t1\n",
      "  (59703, 26494)\t1\n",
      "  (59704, 9552)\t1\n",
      "  (59704, 11864)\t1\n",
      "  (59704, 26494)\t1\n",
      "  (59704, 38264)\t1\n",
      "  (59704, 52140)\t1\n",
      "  (59704, 52691)\t1\n",
      "  (59704, 58059)\t1\n",
      "  (59705, 33620)\t1\n",
      "  (59705, 52691)\t1\n"
     ]
    }
   ],
   "source": [
    "# Assign the transform method to our test dataset\n",
    "X_test_question_1 = countVectorizer.transform(X_test['question1'])\n",
    "print(X_test_question_1)"
   ]
  },
  {
   "cell_type": "code",
   "execution_count": 51,
   "metadata": {},
   "outputs": [
    {
     "name": "stdout",
     "output_type": "stream",
     "text": [
      "  (0, 4945)\t1\n",
      "  (0, 5979)\t1\n",
      "  (0, 7213)\t1\n",
      "  (0, 17062)\t1\n",
      "  (0, 17115)\t1\n",
      "  (0, 22471)\t1\n",
      "  (0, 24065)\t1\n",
      "  (0, 25402)\t1\n",
      "  (0, 27763)\t1\n",
      "  (0, 33496)\t1\n",
      "  (0, 38018)\t1\n",
      "  (0, 48930)\t1\n",
      "  (0, 48942)\t1\n",
      "  (0, 52691)\t1\n",
      "  (0, 58783)\t1\n",
      "  (1, 17062)\t1\n",
      "  (1, 21618)\t1\n",
      "  (1, 52691)\t1\n",
      "  (1, 56439)\t1\n",
      "  (1, 60157)\t1\n",
      "  (1, 60177)\t2\n",
      "  (2, 22969)\t1\n",
      "  (2, 38569)\t1\n",
      "  (3, 17062)\t1\n",
      "  (3, 26471)\t1\n",
      "  :\t:\n",
      "  (59701, 49944)\t1\n",
      "  (59701, 52045)\t1\n",
      "  (59702, 5979)\t1\n",
      "  (59702, 10384)\t1\n",
      "  (59702, 11108)\t1\n",
      "  (59702, 22471)\t1\n",
      "  (59702, 24769)\t1\n",
      "  (59702, 26494)\t2\n",
      "  (59702, 35723)\t1\n",
      "  (59702, 45216)\t1\n",
      "  (59702, 57834)\t1\n",
      "  (59702, 58225)\t1\n",
      "  (59703, 8849)\t1\n",
      "  (59703, 12833)\t1\n",
      "  (59703, 26494)\t1\n",
      "  (59703, 52059)\t1\n",
      "  (59704, 9552)\t1\n",
      "  (59704, 11108)\t1\n",
      "  (59704, 38264)\t1\n",
      "  (59704, 58189)\t1\n",
      "  (59705, 11108)\t1\n",
      "  (59705, 26117)\t1\n",
      "  (59705, 26440)\t1\n",
      "  (59705, 27763)\t1\n",
      "  (59705, 33620)\t1\n"
     ]
    }
   ],
   "source": [
    "# Assign the transform method to our \"question 2\" feature of the X_test dataset \n",
    "X_test_question_2 = countVectorizer.transform(X_test['question2'])\n",
    "print(X_test_question_2)"
   ]
  },
  {
   "cell_type": "code",
   "execution_count": 52,
   "metadata": {},
   "outputs": [
    {
     "data": {
      "text/plain": [
       "array([[0, 0, 0, ..., 0, 0, 0]])"
      ]
     },
     "execution_count": 52,
     "metadata": {},
     "output_type": "execute_result"
    }
   ],
   "source": [
    "# Convert \"X_test_question_1\" to an array\n",
    "X_test_question_1[0].toarray()"
   ]
  },
  {
   "cell_type": "code",
   "execution_count": 53,
   "metadata": {},
   "outputs": [
    {
     "data": {
      "text/plain": [
       "array([[0, 0, 0, ..., 0, 0, 0]])"
      ]
     },
     "execution_count": 53,
     "metadata": {},
     "output_type": "execute_result"
    }
   ],
   "source": [
    "# Convert \"X_test_question_2\" to an array\n",
    "X_test_question_2[0].toarray()"
   ]
  },
  {
   "cell_type": "code",
   "execution_count": 54,
   "metadata": {},
   "outputs": [
    {
     "data": {
      "text/html": [
       "<div>\n",
       "<style scoped>\n",
       "    .dataframe tbody tr th:only-of-type {\n",
       "        vertical-align: middle;\n",
       "    }\n",
       "\n",
       "    .dataframe tbody tr th {\n",
       "        vertical-align: top;\n",
       "    }\n",
       "\n",
       "    .dataframe thead th {\n",
       "        text-align: right;\n",
       "    }\n",
       "</style>\n",
       "<table border=\"1\" class=\"dataframe\">\n",
       "  <thead>\n",
       "    <tr style=\"text-align: right;\">\n",
       "      <th></th>\n",
       "      <th>question1_vect</th>\n",
       "    </tr>\n",
       "  </thead>\n",
       "  <tbody>\n",
       "    <tr>\n",
       "      <th>59704</th>\n",
       "      <td>(0, 9552)\\t1\\n  (0, 11864)\\t1\\n  (0, 26494)\\...</td>\n",
       "    </tr>\n",
       "    <tr>\n",
       "      <th>59705</th>\n",
       "      <td>(0, 33620)\\t1\\n  (0, 52691)\\t1</td>\n",
       "    </tr>\n",
       "  </tbody>\n",
       "</table>\n",
       "</div>"
      ],
      "text/plain": [
       "                                          question1_vect\n",
       "59704    (0, 9552)\\t1\\n  (0, 11864)\\t1\\n  (0, 26494)\\...\n",
       "59705                     (0, 33620)\\t1\\n  (0, 52691)\\t1"
      ]
     },
     "execution_count": 54,
     "metadata": {},
     "output_type": "execute_result"
    }
   ],
   "source": [
    "# Make a specific dataframe for each feature separately\n",
    "X_test_question_1_vect = pd.DataFrame(X_test_question_1, columns=['question1_vect'])\n",
    "X_test_question_1_vect.tail(2)"
   ]
  },
  {
   "cell_type": "code",
   "execution_count": 55,
   "metadata": {},
   "outputs": [
    {
     "data": {
      "text/html": [
       "<div>\n",
       "<style scoped>\n",
       "    .dataframe tbody tr th:only-of-type {\n",
       "        vertical-align: middle;\n",
       "    }\n",
       "\n",
       "    .dataframe tbody tr th {\n",
       "        vertical-align: top;\n",
       "    }\n",
       "\n",
       "    .dataframe thead th {\n",
       "        text-align: right;\n",
       "    }\n",
       "</style>\n",
       "<table border=\"1\" class=\"dataframe\">\n",
       "  <thead>\n",
       "    <tr style=\"text-align: right;\">\n",
       "      <th></th>\n",
       "      <th>question2_vect</th>\n",
       "    </tr>\n",
       "  </thead>\n",
       "  <tbody>\n",
       "    <tr>\n",
       "      <th>59704</th>\n",
       "      <td>(0, 9552)\\t1\\n  (0, 11108)\\t1\\n  (0, 38264)\\...</td>\n",
       "    </tr>\n",
       "    <tr>\n",
       "      <th>59705</th>\n",
       "      <td>(0, 11108)\\t1\\n  (0, 26117)\\t1\\n  (0, 26440)...</td>\n",
       "    </tr>\n",
       "  </tbody>\n",
       "</table>\n",
       "</div>"
      ],
      "text/plain": [
       "                                          question2_vect\n",
       "59704    (0, 9552)\\t1\\n  (0, 11108)\\t1\\n  (0, 38264)\\...\n",
       "59705    (0, 11108)\\t1\\n  (0, 26117)\\t1\\n  (0, 26440)..."
      ]
     },
     "execution_count": 55,
     "metadata": {},
     "output_type": "execute_result"
    }
   ],
   "source": [
    "# Make a specific dataframe for each feature separately\n",
    "X_test_question_2_vect = pd.DataFrame(X_test_question_2, columns=['question2_vect'])\n",
    "X_test_question_2_vect.tail(2)"
   ]
  },
  {
   "cell_type": "code",
   "execution_count": 56,
   "metadata": {},
   "outputs": [
    {
     "data": {
      "text/html": [
       "<div>\n",
       "<style scoped>\n",
       "    .dataframe tbody tr th:only-of-type {\n",
       "        vertical-align: middle;\n",
       "    }\n",
       "\n",
       "    .dataframe tbody tr th {\n",
       "        vertical-align: top;\n",
       "    }\n",
       "\n",
       "    .dataframe thead th {\n",
       "        text-align: right;\n",
       "    }\n",
       "</style>\n",
       "<table border=\"1\" class=\"dataframe\">\n",
       "  <thead>\n",
       "    <tr style=\"text-align: right;\">\n",
       "      <th></th>\n",
       "      <th>question1_vect</th>\n",
       "      <th>question2_vect</th>\n",
       "    </tr>\n",
       "  </thead>\n",
       "  <tbody>\n",
       "    <tr>\n",
       "      <th>59704</th>\n",
       "      <td>(0, 9552)\\t1\\n  (0, 11864)\\t1\\n  (0, 26494)\\...</td>\n",
       "      <td>(0, 9552)\\t1\\n  (0, 11108)\\t1\\n  (0, 38264)\\...</td>\n",
       "    </tr>\n",
       "    <tr>\n",
       "      <th>59705</th>\n",
       "      <td>(0, 33620)\\t1\\n  (0, 52691)\\t1</td>\n",
       "      <td>(0, 11108)\\t1\\n  (0, 26117)\\t1\\n  (0, 26440)...</td>\n",
       "    </tr>\n",
       "  </tbody>\n",
       "</table>\n",
       "</div>"
      ],
      "text/plain": [
       "                                          question1_vect  \\\n",
       "59704    (0, 9552)\\t1\\n  (0, 11864)\\t1\\n  (0, 26494)\\...   \n",
       "59705                     (0, 33620)\\t1\\n  (0, 52691)\\t1   \n",
       "\n",
       "                                          question2_vect  \n",
       "59704    (0, 9552)\\t1\\n  (0, 11108)\\t1\\n  (0, 38264)\\...  \n",
       "59705    (0, 11108)\\t1\\n  (0, 26117)\\t1\\n  (0, 26440)...  "
      ]
     },
     "execution_count": 56,
     "metadata": {},
     "output_type": "execute_result"
    }
   ],
   "source": [
    "# Join the 2 dataframes together\n",
    "X_test_q1_and_q2_vect = pd.concat([X_test_question_1_vect, X_test_question_2_vect], axis=1)\n",
    "X_test_q1_and_q2_vect.tail(2)"
   ]
  },
  {
   "cell_type": "code",
   "execution_count": 57,
   "metadata": {},
   "outputs": [
    {
     "name": "stdout",
     "output_type": "stream",
     "text": [
      "<class 'pandas.core.frame.DataFrame'>\n",
      "<class 'pandas.core.frame.DataFrame'>\n"
     ]
    }
   ],
   "source": [
    "# Check the type of our dataset to make sure they are the same type before doing the test of the algorithm\n",
    "print(type(X_train_q1_and_q2_word_count))\n",
    "print(type(X_test_q1_and_q2_vect))"
   ]
  },
  {
   "cell_type": "code",
   "execution_count": 58,
   "metadata": {},
   "outputs": [
    {
     "data": {
      "text/plain": [
       "(238820, 2)"
      ]
     },
     "execution_count": 58,
     "metadata": {},
     "output_type": "execute_result"
    }
   ],
   "source": [
    "X_train_q1_and_q2_word_count.shape"
   ]
  },
  {
   "cell_type": "code",
   "execution_count": 59,
   "metadata": {},
   "outputs": [
    {
     "data": {
      "text/plain": [
       "Index(['question1_word_count', 'question2_word_count'], dtype='object')"
      ]
     },
     "execution_count": 59,
     "metadata": {},
     "output_type": "execute_result"
    }
   ],
   "source": [
    "X_train_q1_and_q2_word_count.columns"
   ]
  },
  {
   "cell_type": "code",
   "execution_count": 60,
   "metadata": {},
   "outputs": [
    {
     "data": {
      "text/plain": [
       "(59706, 2)"
      ]
     },
     "execution_count": 60,
     "metadata": {},
     "output_type": "execute_result"
    }
   ],
   "source": [
    "X_test_q1_and_q2_vect.shape"
   ]
  },
  {
   "cell_type": "code",
   "execution_count": 61,
   "metadata": {},
   "outputs": [
    {
     "data": {
      "text/plain": [
       "Index(['question1_vect', 'question2_vect'], dtype='object')"
      ]
     },
     "execution_count": 61,
     "metadata": {},
     "output_type": "execute_result"
    }
   ],
   "source": [
    "X_test_q1_and_q2_vect.columns"
   ]
  },
  {
   "cell_type": "code",
   "execution_count": 62,
   "metadata": {},
   "outputs": [],
   "source": [
    "# Import the module \"cosine_similarity from sklearn\"\n",
    "from sklearn.metrics.pairwise import cosine_similarity"
   ]
  },
  {
   "cell_type": "code",
   "execution_count": 63,
   "metadata": {},
   "outputs": [],
   "source": [
    "# Create a function to iterate through each row of the dataframe to get the \"cosine_similarities\" of the questions 1 and 2 from my X_train\n",
    "train_count_cosine = []\n",
    "for row in range(len(X_train_q1_and_q2_word_count)):\n",
    "    train_count_cosine.append(cosine_similarity(X_train_q1_and_q2_word_count['question1_word_count'][row], X_train_q1_and_q2_word_count['question2_word_count'][row]))"
   ]
  },
  {
   "cell_type": "code",
   "execution_count": 64,
   "metadata": {},
   "outputs": [
    {
     "data": {
      "text/plain": [
       "(238820, 1)"
      ]
     },
     "execution_count": 64,
     "metadata": {},
     "output_type": "execute_result"
    }
   ],
   "source": [
    "# Reshape the \"train_count_cosine\" list created above so we can convert it in a new dataframe\n",
    "train_count_cosine = np.reshape(train_count_cosine, (238820, 1))\n",
    "train_count_cosine.shape"
   ]
  },
  {
   "cell_type": "code",
   "execution_count": 65,
   "metadata": {},
   "outputs": [
    {
     "name": "stdout",
     "output_type": "stream",
     "text": [
      "[[0.77459667]\n",
      " [0.8       ]\n",
      " [0.57735027]\n",
      " ...\n",
      " [0.8660254 ]\n",
      " [0.        ]\n",
      " [0.8660254 ]]\n"
     ]
    }
   ],
   "source": [
    "print(train_count_cosine)"
   ]
  },
  {
   "cell_type": "code",
   "execution_count": 66,
   "metadata": {},
   "outputs": [
    {
     "data": {
      "text/html": [
       "<div>\n",
       "<style scoped>\n",
       "    .dataframe tbody tr th:only-of-type {\n",
       "        vertical-align: middle;\n",
       "    }\n",
       "\n",
       "    .dataframe tbody tr th {\n",
       "        vertical-align: top;\n",
       "    }\n",
       "\n",
       "    .dataframe thead th {\n",
       "        text-align: right;\n",
       "    }\n",
       "</style>\n",
       "<table border=\"1\" class=\"dataframe\">\n",
       "  <thead>\n",
       "    <tr style=\"text-align: right;\">\n",
       "      <th></th>\n",
       "      <th>train_cosine_similarity</th>\n",
       "    </tr>\n",
       "  </thead>\n",
       "  <tbody>\n",
       "    <tr>\n",
       "      <th>0</th>\n",
       "      <td>0.774597</td>\n",
       "    </tr>\n",
       "    <tr>\n",
       "      <th>1</th>\n",
       "      <td>0.800000</td>\n",
       "    </tr>\n",
       "    <tr>\n",
       "      <th>2</th>\n",
       "      <td>0.577350</td>\n",
       "    </tr>\n",
       "    <tr>\n",
       "      <th>3</th>\n",
       "      <td>0.721688</td>\n",
       "    </tr>\n",
       "    <tr>\n",
       "      <th>4</th>\n",
       "      <td>0.612372</td>\n",
       "    </tr>\n",
       "  </tbody>\n",
       "</table>\n",
       "</div>"
      ],
      "text/plain": [
       "   train_cosine_similarity\n",
       "0                 0.774597\n",
       "1                 0.800000\n",
       "2                 0.577350\n",
       "3                 0.721688\n",
       "4                 0.612372"
      ]
     },
     "execution_count": 66,
     "metadata": {},
     "output_type": "execute_result"
    }
   ],
   "source": [
    "# Create a dataframe from list \"train_count_cosine\"\n",
    "train_cosine_df = pd.DataFrame(train_count_cosine, columns = ['train_cosine_similarity'])\n",
    "train_cosine_df.head()"
   ]
  },
  {
   "cell_type": "code",
   "execution_count": 67,
   "metadata": {},
   "outputs": [
    {
     "data": {
      "text/html": [
       "<div>\n",
       "<style scoped>\n",
       "    .dataframe tbody tr th:only-of-type {\n",
       "        vertical-align: middle;\n",
       "    }\n",
       "\n",
       "    .dataframe tbody tr th {\n",
       "        vertical-align: top;\n",
       "    }\n",
       "\n",
       "    .dataframe thead th {\n",
       "        text-align: right;\n",
       "    }\n",
       "</style>\n",
       "<table border=\"1\" class=\"dataframe\">\n",
       "  <thead>\n",
       "    <tr style=\"text-align: right;\">\n",
       "      <th></th>\n",
       "      <th>question1_lemm</th>\n",
       "      <th>question2_lemm</th>\n",
       "    </tr>\n",
       "  </thead>\n",
       "  <tbody>\n",
       "    <tr>\n",
       "      <th>27971</th>\n",
       "      <td>[possibl, love, 2, person]</td>\n",
       "      <td>[possibl, peopl, love, 2, person, time]</td>\n",
       "    </tr>\n",
       "    <tr>\n",
       "      <th>39167</th>\n",
       "      <td>[regist, dog, without, paper, akc]</td>\n",
       "      <td>[regist, purebr, dog, without, paper]</td>\n",
       "    </tr>\n",
       "    <tr>\n",
       "      <th>134599</th>\n",
       "      <td>[best, phone, 10k, india]</td>\n",
       "      <td>[best, phone, 10000]</td>\n",
       "    </tr>\n",
       "    <tr>\n",
       "      <th>154421</th>\n",
       "      <td>[could, eat, one, food, rest, life, would, choos]</td>\n",
       "      <td>[would, happen, eat, food, rest, life]</td>\n",
       "    </tr>\n",
       "    <tr>\n",
       "      <th>51181</th>\n",
       "      <td>[what, best, photo, taken, iphoneandroid, smar...</td>\n",
       "      <td>[best, photo, taken, mobil]</td>\n",
       "    </tr>\n",
       "  </tbody>\n",
       "</table>\n",
       "</div>"
      ],
      "text/plain": [
       "                                           question1_lemm  \\\n",
       "27971                          [possibl, love, 2, person]   \n",
       "39167                  [regist, dog, without, paper, akc]   \n",
       "134599                          [best, phone, 10k, india]   \n",
       "154421  [could, eat, one, food, rest, life, would, choos]   \n",
       "51181   [what, best, photo, taken, iphoneandroid, smar...   \n",
       "\n",
       "                                 question2_lemm  \n",
       "27971   [possibl, peopl, love, 2, person, time]  \n",
       "39167     [regist, purebr, dog, without, paper]  \n",
       "134599                     [best, phone, 10000]  \n",
       "154421   [would, happen, eat, food, rest, life]  \n",
       "51181               [best, photo, taken, mobil]  "
      ]
     },
     "execution_count": 67,
     "metadata": {},
     "output_type": "execute_result"
    }
   ],
   "source": [
    "X_train.head()"
   ]
  },
  {
   "attachments": {},
   "cell_type": "markdown",
   "metadata": {},
   "source": [
    "The results in the *train_cosine_df* dataframe above compared with our preprocessed dataframe *X_train* represent the cosine similarity values between the pairs of questions 1 and 2 in the trainning set. The index of the dataframe corresponds to the index of the question pairs in the original dataset (in this case the *X_train*), and the value in each row represents the cosine similarity between the corresponding pair of questions; more especifically we calculated the cosine similarity between pairs of questions based on their word frequency counts.\n",
    "\n",
    "Note: The cosine similarity is a metric that measures the similarity between two vectors in a high-dimensional space. A cosine similarity value of 1 indicates that the two questions are identical (for example, they have the exact same words and/or the exact same frequencies), while a value of 0 indicates that the two questions are not considered similar (for example, they have no words in common detected). Values between 0 and 1 indicate partial similarity, where higher values indicate greater similarity."
   ]
  },
  {
   "attachments": {},
   "cell_type": "markdown",
   "metadata": {},
   "source": [
    "Now, let's apply this analysis to our test set."
   ]
  },
  {
   "cell_type": "code",
   "execution_count": 68,
   "metadata": {},
   "outputs": [],
   "source": [
    "# Create a function to iterate through each row of the dataframe to get the \"cosine_similarities\" of the questions 1 and 2 from my X_test\n",
    "test_count_cosine = []\n",
    "for row in range(len(X_test_q1_and_q2_vect)):\n",
    "    test_count_cosine.append(cosine_similarity(X_test_q1_and_q2_vect['question1_vect'][row], X_test_q1_and_q2_vect['question2_vect'][row]))"
   ]
  },
  {
   "cell_type": "code",
   "execution_count": 69,
   "metadata": {},
   "outputs": [
    {
     "data": {
      "text/plain": [
       "(59706, 1)"
      ]
     },
     "execution_count": 69,
     "metadata": {},
     "output_type": "execute_result"
    }
   ],
   "source": [
    "# Reshape the \"test_count_cosine\" list created so we can also convert it in a new dataframe\n",
    "test_count_cosine = np.reshape(test_count_cosine, (59706, 1))\n",
    "test_count_cosine.shape"
   ]
  },
  {
   "cell_type": "code",
   "execution_count": 70,
   "metadata": {},
   "outputs": [
    {
     "name": "stdout",
     "output_type": "stream",
     "text": [
      "[[0.06900656]\n",
      " [0.40824829]\n",
      " [0.28867513]\n",
      " ...\n",
      " [0.57735027]\n",
      " [0.37796447]\n",
      " [0.31622777]]\n"
     ]
    }
   ],
   "source": [
    "print(test_count_cosine)"
   ]
  },
  {
   "cell_type": "code",
   "execution_count": 71,
   "metadata": {},
   "outputs": [
    {
     "data": {
      "text/html": [
       "<div>\n",
       "<style scoped>\n",
       "    .dataframe tbody tr th:only-of-type {\n",
       "        vertical-align: middle;\n",
       "    }\n",
       "\n",
       "    .dataframe tbody tr th {\n",
       "        vertical-align: top;\n",
       "    }\n",
       "\n",
       "    .dataframe thead th {\n",
       "        text-align: right;\n",
       "    }\n",
       "</style>\n",
       "<table border=\"1\" class=\"dataframe\">\n",
       "  <thead>\n",
       "    <tr style=\"text-align: right;\">\n",
       "      <th></th>\n",
       "      <th>test_cosine_similarity</th>\n",
       "    </tr>\n",
       "  </thead>\n",
       "  <tbody>\n",
       "    <tr>\n",
       "      <th>0</th>\n",
       "      <td>0.069007</td>\n",
       "    </tr>\n",
       "    <tr>\n",
       "      <th>1</th>\n",
       "      <td>0.408248</td>\n",
       "    </tr>\n",
       "    <tr>\n",
       "      <th>2</th>\n",
       "      <td>0.288675</td>\n",
       "    </tr>\n",
       "    <tr>\n",
       "      <th>3</th>\n",
       "      <td>0.516398</td>\n",
       "    </tr>\n",
       "    <tr>\n",
       "      <th>4</th>\n",
       "      <td>0.596285</td>\n",
       "    </tr>\n",
       "  </tbody>\n",
       "</table>\n",
       "</div>"
      ],
      "text/plain": [
       "   test_cosine_similarity\n",
       "0                0.069007\n",
       "1                0.408248\n",
       "2                0.288675\n",
       "3                0.516398\n",
       "4                0.596285"
      ]
     },
     "execution_count": 71,
     "metadata": {},
     "output_type": "execute_result"
    }
   ],
   "source": [
    "# Create a dataframe from list \"test_count_cosine\"\n",
    "test_cosine_df = pd.DataFrame(test_count_cosine, columns = ['test_cosine_similarity'])\n",
    "test_cosine_df.head()"
   ]
  },
  {
   "cell_type": "code",
   "execution_count": 72,
   "metadata": {},
   "outputs": [
    {
     "data": {
      "text/html": [
       "<div>\n",
       "<style scoped>\n",
       "    .dataframe tbody tr th:only-of-type {\n",
       "        vertical-align: middle;\n",
       "    }\n",
       "\n",
       "    .dataframe tbody tr th {\n",
       "        vertical-align: top;\n",
       "    }\n",
       "\n",
       "    .dataframe thead th {\n",
       "        text-align: right;\n",
       "    }\n",
       "</style>\n",
       "<table border=\"1\" class=\"dataframe\">\n",
       "  <thead>\n",
       "    <tr style=\"text-align: right;\">\n",
       "      <th></th>\n",
       "      <th>question1</th>\n",
       "      <th>question2</th>\n",
       "    </tr>\n",
       "  </thead>\n",
       "  <tbody>\n",
       "    <tr>\n",
       "      <th>146132</th>\n",
       "      <td>Are there biological chips or biological modul...</td>\n",
       "      <td>If someone regularly yells at me, I get afraid...</td>\n",
       "    </tr>\n",
       "    <tr>\n",
       "      <th>144980</th>\n",
       "      <td>How do you add a picture to a post on Reddit?</td>\n",
       "      <td>How do you upload pictures from your PC to you...</td>\n",
       "    </tr>\n",
       "    <tr>\n",
       "      <th>240112</th>\n",
       "      <td>Who is in the best interest for india? Hillary...</td>\n",
       "      <td>Who is good for India Hillary or Trump?</td>\n",
       "    </tr>\n",
       "    <tr>\n",
       "      <th>121127</th>\n",
       "      <td>How can I improve my answer writing skills in ...</td>\n",
       "      <td>How do I improve my writing skills for UPSC?</td>\n",
       "    </tr>\n",
       "    <tr>\n",
       "      <th>232148</th>\n",
       "      <td>Why do I feel lonely without friends?</td>\n",
       "      <td>I don't have any friends and I feel lonely, wh...</td>\n",
       "    </tr>\n",
       "  </tbody>\n",
       "</table>\n",
       "</div>"
      ],
      "text/plain": [
       "                                                question1  \\\n",
       "146132  Are there biological chips or biological modul...   \n",
       "144980      How do you add a picture to a post on Reddit?   \n",
       "240112  Who is in the best interest for india? Hillary...   \n",
       "121127  How can I improve my answer writing skills in ...   \n",
       "232148              Why do I feel lonely without friends?   \n",
       "\n",
       "                                                question2  \n",
       "146132  If someone regularly yells at me, I get afraid...  \n",
       "144980  How do you upload pictures from your PC to you...  \n",
       "240112            Who is good for India Hillary or Trump?  \n",
       "121127       How do I improve my writing skills for UPSC?  \n",
       "232148  I don't have any friends and I feel lonely, wh...  "
      ]
     },
     "execution_count": 72,
     "metadata": {},
     "output_type": "execute_result"
    }
   ],
   "source": [
    "X_test.head()"
   ]
  },
  {
   "attachments": {},
   "cell_type": "markdown",
   "metadata": {},
   "source": [
    "Again, here, we can notice the cosine similarity results applied to our testing data which gave us somewhat good results, but still might not good enough. For example, the cosine similarity of paired questions with index 240112 is 0.566 but as those questions are related and have similar pragmatic function, it could be higher. The value given represent that they were considered only partially similar, but indeed they are very closer to each other (in this case, probably the word *best* affected the result.)"
   ]
  },
  {
   "attachments": {},
   "cell_type": "markdown",
   "metadata": {},
   "source": [
    "#### Word2Vec"
   ]
  },
  {
   "cell_type": "code",
   "execution_count": 73,
   "metadata": {},
   "outputs": [],
   "source": [
    "# Import gensim library and module\n",
    "import gensim\n",
    "from gensim.models import Word2Vec"
   ]
  },
  {
   "cell_type": "code",
   "execution_count": 74,
   "metadata": {},
   "outputs": [
    {
     "name": "stdout",
     "output_type": "stream",
     "text": [
      "Word2Vec(vocab=22443, vector_size=100, alpha=0.025)\n",
      "Word2Vec(vocab=20896, vector_size=100, alpha=0.025)\n"
     ]
    }
   ],
   "source": [
    "# Instantiate Word2Vec object\n",
    "word2vec_q1 = Word2Vec(X_train['question1_lemm'], window=5, min_count=2) # Window displays the size of window for surrounding words\n",
    "word2vec_q2 = Word2Vec(X_train['question2_lemm'], window=5, min_count=2) # The min_count ignores all words that appear less than that\n",
    "print(word2vec_q1)\n",
    "print(word2vec_q2)"
   ]
  },
  {
   "cell_type": "code",
   "execution_count": 75,
   "metadata": {},
   "outputs": [
    {
     "name": "stdout",
     "output_type": "stream",
     "text": [
      "['best', 'get', 'india', 'like', 'peopl', 'way', 'differ', 'use', 'good', 'would', 'make', 'quora', 'one', 'learn', 'life', 'time', 'money', 'question', 'know', 'what', 'work', 'indian', 'think', 'start', 'new', 'thing', 'trump', 'book', 'mean', 'year', 'note', 'someon', 'becom', 'engin', 'much', 'go', 'ever', 'movi', 'find', 'happen', 'mani', 'onlin', 'world', 'day', 'without', 'improv', 'us', 'job', 'english', 'person', 'better', 'want', 'feel', 'first', 'girl', 'love', '500', '1000', 'take', '2016', 'univers', 'need', 'possibl', 'prepar', 'program', 'account', 'compani', 'could', 'ask', 'weight', 'languag', 'donald', 'lose', 'phone', 'compar', 'number', 'buy', 'countri', 'answer', 'dont', 'stop', 'chang', 'realli', 'live', 'websit', 'import', 'presid', 'effect', 'googl', 'studi', 'war', 'student', 'black', 'busi', 'long', 'develop', 'sex', 'win', 'app', 'place', 'exampl', 'help', 'colleg', 'facebook', 'ban', 'increas', 'write', 'rupe', 'game', 'friend', 'market', 'clinton', 'rs', 'im', 'look', 'see', 'old', 'system', 'free', 'comput', 'say', 'read', 'earn', 'hillari', 'state', 'come', 'elect', 'real', 'instagram', 'still', 'human', 'exam', 'servic', 'iphon', 'creat', 'video', 'name', '2', 'watch', 'major', 'exist', 'school', 'travel', 'caus', 'view', 'give', 'women', 'govern', 'back', 'card', 'top', 'hack', 'android', 'word', 'interest', 'song', 'made', 'bad', 'month', 'guy', 'laptop', 'test', 'affect', 'play', 'data', '3', 'eat', 'car', 'call', 'energi', 'visit', 'scienc', 'relationship', 'invest', 'product', 'bank', 'delet', '2017', 'site', 'cant', 'support', 'experi', 'reason', 'interview', 'right', 'anyon', 'softwar', 'manag', 'skill', 'mobil', 'two', '1', 'water', 'averag', 'earth', 'password', 'follow', 'idea', 'true', 'social', 'career', 'type', 'men', 'tell', 'design', 'mark', 'power', 'modi', 'american', 'youtub', 'download', 'food', 'home', 'pakistan', 'gener', 'china', 'favorit', 'cours', 'rid', 'show', 'die', 'c', '10', 'email', 'consid', 'problem', 'anim', 'mechan', 'high', 'code', 'safe', 'believ', 'speak', 'web', 'hair', 'date', 'even', 'usa', 'control', 'age', 'plan', 'class', 'cost', 'process', 'end', 'cultur', 'remov', 'pro', 'big', 'provid', 'current', 'man', 'appli', 'dog', 'tv', 'actual', 'done', '5', 'unit', 'run', 'futur', 'option', 'whatsapp', 'great', 'stori', 'educ', 'histori', 'move', 'god', 'employe', 'build', 'post', 'keep', 'law', 'term', 'chines', 'gmail', 'period', 'last', 'success', 'music', 'economi', 'internet', 'white', 'tip', 'pay', 'bodi', 'doesnt', 'cat', 'avail', 'reduc', 'intern', 'citi', 'everi', 'mind', 'offic', 'java', 'startup', 'messag', 'america', 'hard', 'fat', 'score', 'fact', 'digit', 'next', 'vote', 'applic', 'youv', 'hotel', 'open', 'worth', 'light', 'technolog', 'project', 'purpos', 'sleep', 'chanc', 'physic', 'delhi', 'requir', 'deal', 'benefit', 'commun', 'window', 'train', 'presidenti', 'decis', '2000', 'form', 'rate', 'currenc', 'today', 'main', 'face', 'electr', 'around', 'stock', 'battl', 'gain', 'behind', 'fall', 'photo', 'block', 'height', 'parent', 'civil', 'complet', 'join', 'never', 'traffic', 'blog', 'legal', 'salari', 'drive', 'pictur', 'review', 'attract', 'list', 'dream', 'kill', 'girlfriend', 'seri', 'woman', 'talk', 'worst', 'got', 'speed', 'tri', 'nation', 'function', 'alway', 'polic', 'week', '4', 'search', 'marri', 'posit', 'hate', 'theori', 'instal', 'graduat', 'someth', 'machin', 'recov', 'part', 'dark', 'seen', 'handl', 'common', 'file', 'institut', 'pregnant', 'public', 'anoth', 'easili', 'polit', 'stay', 'foreign', 'turn', 'space', 'kind', 'user', 'expect', 'famili', 'order', 'propos', 'point', 'grow', 'popular', 'sentenc', 'industri', 'appl', 'drug', 'instead', 'base', 'relat', 'overcom', 'drink', 'determin', 'found', '7', 'center', 'temperatur', 'death', 'forc', 'allow', 'valu', 'bangalor', 'biggest', 'secur', 'cell', 'mba', 'choos', 'hour', 'privat', 'per', 'profil', 'group', 'degre', 'network', 'wear', 'suicid', 'resolut', 'fast', 'level', 'air', 'masturb', 'limit', 'star', 'advantag', 'activ', 'desert', 'pass', 'qualiti', 'wrong', 'medic', 'price', 'coach', 'python', 'hous', 'ia', 'near', 'muslim', 'similar', 'fund', 'save', '6', 'impact', 'well', 'sydney', 'topic', 'media', 'sell', 'abl', 'calcul', 'boy', 'demonet', 'gate', 'ca', 'matter', 'film', 'safeti', 'depress', 'iit', 'offer', 'boyfriend', 'side', 'natur', 'charg', 'add', 'ms', 'structur', 'sourc', 'visa', 'share', 'send', 'set', 'normal', 'eye', 'credit', 'beginn', 'night', 'faster', 'beauti', '20', 'small', 'less', 'tool', 'solv', 'contact', 'solut', 'store', 'canada', 'porn', 'happi', 'hire', 'intellig', 'tax', 'inform', 'area', 'math', 'text', 'accept', 'advic', 'suggest', 'corrupt', 'field', 'moment', 'distanc', 'line', 'master', 'commit', 'model', 'con', 'child', 'method', 'green', 'health', 'smoke', 'color', 'econom', 'origin', 'avoid', 'connect', 'leav', 'put', 'issu', 'inr', 'precaut', 'track', 'australia', 'easiest', 'self', 'other', 'bollywood', 'fix', 'size', 'uk', 'russia', 'lot', 'step', 'given', 'mix', 'earthquak', 'practic', 'nra', 'easi', 'religion', 'also', 'shotgun', 'basic', 'california', 'recruit', 'famou', 'attack', 'opinion', 'bill', 'iq', 'research', 'exactli', 'letter', 'electron', 'parti', 'organ', 'check', 'children', 'gift', 'meet', 'jee', 'marriag', 'alcohol', 'snapchat', 'break', 'healthi', 'amazon', 'must', 'sign', 'devic', 'care', 'pain', 'heard', 'understand', 'convert', 'signific', 'emot', 'btech', 'daili', 'resourc', 'didnt', 'releas', 'singl', 'exercis', 'motiv', 'etc', 'belli', 'anyth', 'charact', 'solar', 'correct', 'second', 'cold', 'fight', 'mass', 'oper', 'cheat', 'short', 'paper', 'hand', 'lost', 'macbook', 'smartphon', 'olymp', 'narendra', 'board', 'south', 'team', 'custom', 'jio', 'spend', 'brain', 'blood', 'germani', 'access', 'loss', '100', 'sim', 'infinit', 'strategi', 'describ', 'invent', 'address', 'expand', 'late', 'properti', 'three', 'page', 'receiv', 'planet', 'explain', 'isnt', 'full', 'quickli', 'everyon', 'japan', 'often', 'polici', 'femal', 'prime', 'disadvantag', 'brand', 'gay', 'trade', 'prefer', 'left', 'male', 'certif', 'treat', 'uber', 'perform', 'celebr', 'profession', 'hyderabad', 'coupl', 'moon', 'past', 'neg', 'event', 'hollywood', 'kerala', 'known', 'tech', 'islam', 'imag', '8', '30', 'hole', 'gold', 'chemic', 'pc', 'peni', 'british', 'bring', 'oil', 'scientif', 'obama', 'suitabl', 'featur', 'perman', 'wifi', 'replac', 'japanes', 'mumbai', 'special', 'capit', 'low', 'recent', 'doctor', 'meth', 'addict', 'final', 'io', 'fail', 'favourit', 'lie', 'rank', 'locat', 'ad', 'scope', 'taken', 'mathemat', 'recommend', 'role', 'driver', 'internship', 'across', 'detail', 'land', 'sound', 'writer', 'memori', 'art', 'close', 'candi', 'pune', 'altern', 'galaxi', 'appear', 'fake', '12', 'seo', 'minist', 'object', 'diet', 'transfer', 'balanc', 'north', 'admiss', 'present', 'crack', 'let', 'net', 'grade', 'potenti', 'armi', 'clear', 'knowledg', 'season', 'everyth', 'wife', 'hacker', 'western', 'prevent', 'secret', 'pursu', 'samsung', 'smart', 'vs', 'channel', 'teach', '2015', 'hindi', 'taffi', 'news', 'pm', 'advanc', 'said', 'red', 'flat', 'cure', 'fear', 'illeg', 'restaur', 'greatest', 'screen', 'incom', 'pleas', 'rich', 'german', 'financi', 'toward', 'simpl', 'sinc', 'reserv', 'moral', 'result', 'insid', '15', 'son', 'joke', 'specif', 'select', 'estat', 'kid', 'act', 'alien', 'camera', 'return', 'crush', 'partner', 'rule', 'surviv', 'comment', 'fli', 'wave', 'x', 'panel', 'actor', 'clean', 'evid', 'away', 'stream', 'factor', 'els', 'direct', 'singapor', 'thought', 'opportun', 'bang', 'tea', 'microsoft', 'updat', 'shop', 'episod', 'enough', 'europ', 'anxieti', 'counti', 'produc', 'b', 'paid', 'programm', 'global', 'acn', 'curb', 'case', 'alreadi', 'psycholog', 'passport', 'nuclear', 'head', 'cut', 'ga', 'percentag', 'respons', 'wont', 'mistak', 'batteri', 'footbal', 'cricket', 'grad', 'procedur', 'amount', 'sun', 'necessari', 'player', 'quit', 'sexual', 'introduc', 'babi', 'within', 'touch', 'wish', 'strike', 'decid', 'cloth', 'listen', 'written', 'plant', 'dollar', 'convers', 'corpor', 'algorithm', 'rehab', 'id', 'materi', 'vacuum', 'modern', 'pound', 'million', 'linux', 'debat', 'saltwat', 'technic', 'your', 'reset', 'edit', 'competit', 'difficult', 'begin', 'placement', 'contrast', 'subject', 'forgot', 'root', 'spotifi', 'ye', 'scrap', 'twitter', 'funniest', 'gst', 'phd', 'measur', 'blue', 'puppi', 'lead', 'mother', 'sea', 'least', 'achiev', 'christian', 'investor', 'drop', 'record', 'fastest', 'danger', 'novel', 'teacher', 'sale', 'confid', 'disord', 'print', 'cast', 'skin', 'yahoo', 'harri', 'candid', 'rang', 'york', 'sport', 'ticket', 'fit', 'birthday', 'accord', 'citizen', 'militari', 'husband', 'fire', 'ex', 'hurt', 'earli', 'crime', 'profit', 'front', 'due', 'non', 'neet', 'sahara', 'depart', 'proof', 'rememb', 'father', 'though', 'pokémon', 'stand', 'goa', 'hp', 'formula', 'inpati', 'ancient', 'regret', 'gadget', 'includ', 'recoveri', 'far', 'equat', 'societi', 'court', 'cook', 'contribut', 'scientist', 'mental', 'effici', 'insur', 'flight', 'french', 'morn', 'enjoy', 'version', 'inspir', 'licens', 'creativ', 'yet', 'concentr', 'may', 'prove', 'mac', 'ssc', 'paint', 'bike', 'promot', 'fresher', 'cancer', 'ball', 'goal', 'upsc', 'dead', 'tata', '25', 'pressur', 'voic', 'immigr', '50', 'torrent', 'gre', 'minimum', 'chemistri', 'log', 'minut', 'weed', 'egg', 'graviti', 'chennai', 'equal', 'statu', 'acid', 'anger', 'embarrass', 'mindblow', 'miss', 'asian', 'burn', 'young', 'seem', 'walk', 'refer', 'rais', 'launch', 'prospect', 'link', 'democrat', 'super', 'race', 'room', 'growth', 'kvpi', 'tourist', 'potter', 'philippin', 'heart', 'platform', 'forget', 'speech', 'middl', 'poor', 'advertis', 'littl', 'regist', 'ive', 'atheist', 'individu', 'trip', 'wall', 'consult', 'higher', 'switch', 'member', 'surgic', 'host', 'concept', 'doubl', 'rather', 'continu', 'heat', 'total', 'hindu', 'adult', 'defin', 'coffe', 'staff', 'sbi', 'highest', 'habit', 'purchas', 'deep', 'cambodia', 'unmarri', 'expens', 'multipl', 'packag', 'everyday', 'protect', 'content', 'approach', 'larg', 'wait', 'leagu', 'quickbook', 'longer', 'birth', 'togeth', 'whether', 'chat', 'bore', 'round', 'lyric', 'symbol', 'milk', 'core', 'climat', 'kashmir', '18', 'workout', 'cool', 'cover', 'shoe', 'zero', 'glass', 'publish', 'definit', 'draw', '40', 'muscl', 'latest', 'regard', 'typic', 'logic', '12th', 'cutoff', 'commerci', 'third', 'trick', 'loan', 'noth', 'throne', 'reaction', 'protein', 'rel', 'server', 'fun', 'stress', 'nativ', 'hold', 'isi', 'chip', 'fluentli', 'pan', 'strong', 'outsid', 'speaker', 'independ', 'key', 'visitor', 'liber', 'standard', 'convinc', 'told', 'comfort', 'situat', 'atom', 'trust', 'probabl', 'anonym', 'russian', 'claim', 'smell', 'serv', 'realiti', 'medicin', 'gp', 'romant', 'teenag', 'urin', 'financ', 'abroad', 'metal', 'peac', 'firm', 'treatment', 'scene', '16', 'innov', 'occur', 'translat', 'sent', 'report', 'choic', 'integr', 'worri', 'among', 'might', 'graphic', 'notic', 'bond', 'budget', 'okay', 'mistri', 'carri', 'israel', 'upload', 'quot', 'alon', 'pronunci', 'cyru', 'introvert', 'harass', 'spanish', 'figur', 'astrolog', 'san', 'disabl', 'implement', 'declar', 'characterist', 'popul', 'hitler', 'psychopath', 'express', 'hit', 'khan', 'identifi', 'phrase', 'european', 'east', 'summer', 'straight', '13', 'attend', 'sometim', 'script', 'involv', 'amaz', 'campu', 'tast', 'sector', 'upvot', 'branch', 'blow', 'rest', 'fill', 'sa', 'cri', 'mit', 'somm', 'databas', 'ice', 'korean', 'pokemon', 'entrepreneur', 'hear', 'seat', 'afford', 'manufactur', 'reach', 'assist', 'mexico', 'met', 'tamil', 'entir', 'associ', 'nice', 'templ', 'rbi', 'influenc', 'mail', 'tabl', 'empir', 'whole', 'circl', 'cbse', 'freelanc', 'histor', 'consum', 'excel', 'match', 'cheap', 'error', 'teeth', 'leader', 'terror', 'plane', 'cash', 'jew', 'mbb', 'upgrad', 'truth', 'biolog', 'maximum', 'employ', '4g', 'analysi', 'action', 'strongest', 'plu', 'harm', 'po', 'turkey', 'perfect', 'bar', 'count', 'symptom', 'london', 'contain', 'aspect', 'guitar', 'pilot', 'analyt', 'format', 'angel', 'accur', 'request', 'enter', 'arent', 'ring', 'literatur', 'ecommerc', '14', 'vehicl', 'os', 'tattoo', 'colour', 'javascript', 'stupid', 'extrem', 'box', 'map', 'loos', 'franc', 'cycl', 'lower', 'dress', 'cgl', 'cheapest', 'cse', 'certain', 'coast', 'articl', 'ignor', 'rock', 'floor', 'presenc', 'cancel', 'demand', 'document', 'collect', 'bit', 'professor', 'recip', 'separ', 'born', 'background', 'ethic', 'shape', 'iii', 'republican', 'slow', 'gun', 'undergradu', 'korea', 'weirdest', 'regular', 'chicken', 'bibl', 'hide', 'particl', 'came', 'philosophi', 'pet', 'virtual', 'transact', 'essay', 'island', 'abus', 'challeng', 'kiss', 'squar', 'king', 'jesu', 'local', 'afraid', 'hot', 'reliabl', 'wake', 'cannot', 'theyr', '9', 'respect', 'meant', 'racist', 'later', 'react', 'gym', 'ram', 'messeng', 'fee', '24', 'iim', 'worklif', 'apart', 'medal', 'ship', 'actress', 'constitut', 'truli', 'arm', 'tree', 'horror', 'failur', 'soon', 'gobi', 'abil', 'virgin', 'classic', 'condit', 'dc', 'five', 'andor', 'suit', 'four', 'ghost', 'harvard', 'shall', 'scam', 'predict', 'author', 'motor', 'cs', 'repli', 'wash', '3d', 'critic', 'argument', 'fish', 'mar', 'street', '17', '11', '15000', 'feed', 'reject', 'campaign', 'denomin', 'domain', '3g', 'pakistani', 'unusu', 'destroy', 'discov', 'liquid', 'agenc', 'payment', 'invit', 'construct', 'gmat', 'detect', 'style', 'possess', 'bite', 'region', 'fiction', 'conserv', '6s', 'shot', 'execut', 'lock', 'phase', 'academ', 'beat', 'ill', 'tc', 'airlin', 'piec', 'bed', 'warm', 'terrorist', 'lake', 'ear', 'lord', 'resum', 'tire', 'lesson', 'stage', 'suddenli', 'pick', 'older', 'pregnanc', 'obsess', 'tile', 'maintain', 'robot', 'usual', 'netflix', 'led', 'dubai', 'overr', 'went', 'zone', 'speci', 'ipad', 'ip', 'magnet', 'initi', '23', 'antiviru', 'variou', 'evolv', 'kg', 'brother', 'architectur', 'respond', 'voltag', 'unknown', 'focu', 'catch', 'consequ', 'statement', 'medit', 'ago', 'element', 'along', 'wors', 'painless', 'rent', 'l', 'weapon', 'prison', 'airport', 'road', 'weak', 'conflict', 'php', 'elector', 'scratch', 'uniqu', 'cloud', 'dhoni', 'spous', 'wordpress', 'politician', 'wed', '21', 'railway', 'resid', 'repres', 'sens', 'africa', 'elig', 'experienc', 'daniel', 'impress', 'fan', 'mutual', 'exchang', 'easier', 'risk', 'unlock', 'greek', 'goe', 'relianc', 'calori', 'ibp', 'damag', 'display', 'lesser', 'flow', 'equival', 'leg', 'client', 'load', 'band', 'carbon', 'tradit', 'n', 'interact', 'valid', 'earphon', 'salt', 'item', 'marijuana', 'west', 'sad', 'quick', 'via', 'six', 'framework', 'union', 'scale', 'fruit', 'expans', 'artifici', 'tall', 'billion', 'arab', 'theme', 'rotat', 'dragon', 'sure', 'democraci', 'orgasm', 'api', 'attempt', 'xbox', 'central', 'absolut', 'gravit', 'conspiraci', 'surgeri', 'aliv', 'strength', 'ok', 'park', 'sort', 'ideal', 'substitut', 'christma', 'shoot', 'diseas', 'revenu', 'francisco', 'aircraft', 'extra', 'copi', 'kejriw', 'becam', 'transform', 'flag', 'half', 'gender', 'finish', 'cigarett', 'feet', 'distribut', 'chain', 'centr', 'almost', 'largest', 'dish', 'instrument', 'shouldnt', 'freedom', 'uri', 'rape', '2014', 'repair', 'daughter', 'quantum', 'environ', 'realist', 'havent', 'nasa', 'who', 'wide', 'taller', 'surfac', 'procrastin', 'ac', 'washington', 'linkedin', 'button', 'canadian', 'brown', 'compound', '15k', 'kolkata', 'spot', 'somebodi', 'sever', 'especi', 'demonetis', 'poem', 'ventur', 'cream', 'tank', 'spoken', 'collaps', '0', 'anybodi', 'artist', 'qualifi', 'vagina', 'wikipedia', 'redmi', 'lakh', 'remot', 'donat', 'station', 'royal', 'mom', 'divid', 'headphon', 'australian', 'gandhi', 'retriev', 'suppli', 'bitcoin', 'commerc', 'fair', 'beach', 'centuri', 'sing', 'debit', 'section', 'steel', 'resign', 'tinder', 'remedi', 'pimpl', 'pull', 'autom', 'club', 'ek', 'combin', 'primari', 'sugar', 'basi', 'categori', 'signal', 'monitor', 'mr', 'neutral', 'magic', 'analyst', 'rise', 'chrome', 'diploma', 'automat', 'wast', 'parallel', 'cm', 'deliv', 'owner', 'camp', 'la', 'techniqu', 'motion', 'realiz', 'weekend', 'ground', 'deposit', 'string', 'fashion', 'narcissist', 'lawyer', 'breast', 'mtech', 'nit', 'behavior', 'triangl', '1st', 'goswami', 'suppos', 'offlin', 'angri', 'dri', 'trend', 'path', 'evil', 'ident', 'suffer', 'vector', 'plastic', 'incid', 'piano', 'built', 'principl', 'navi', 'bsc', 'furnitur', 'syria', 'html', 'ocean', 'cup', 'cope', 'usb', 'ride', 'iron', 'valley', 'router', 'dna', 'photograph', 'what’', 'length', 'coin', 'govt', 'cross', 'sit', 'scholarship', 'bake', 'hardest', 'thank', 'danc', 'sister', 'acceler', 'rio', 'despit', 'gap', 'ratio', 'conduct', 'genuin', '10000', 'arnab', 'astronaut', 'ubuntu', 'evolut', 'h1b', 'besid', 'invad', 'mysteri', 'pure', 'roman', 'factori', 'previou', 'intel', 'remain', 'v', 'sap', 'mode', 'depend', 'circuit', 'throw', 'director', 'orbit', 'weakest', 'pdf', 'bird', 'icloud', 'asia', 'billionair', 'titl', 'pa', 'upcom', 'nano', 'agent', 'kong', 'mirror', 'indic', 'ii', 'batman', 'john', 'pill', 'complex', 'religi', 'processor', 'entranc', 'random', 'meat', 'adopt', 'forward', 'scare', 'bomb', 'statist', 'weather', 'librari', 'anal', 'river', 'texa', 'brexit', 'e', 'enterpris', 'whose', 'boil', 'either', 'revers', 'schedul', 'retir', 'heavi', 'vietnam', 'journal', 'bug', 'vocabulari', 'manaphi', 'hr', 'except', 'sky', 'ece', 'queen', 'differenti', 'flash', 'naruto', 'empti', 'decreas', 'teen', 'tablet', 'anymor', 'mine', 'densiti', 'export', 'font', 'took', 'wine', 'hisher', 'petrol', 'hong', 'dimens', 'target', 'flipkart', 'funni', 'revolut', 'huge', 'curv', 'till', 'visual', 'push', 'observ', 'sociopath', 'guid', 'satellit', 'hillstat', 'raw', 'ipod', 'seriou', 'fighter', 'oxygen', 'tier', 'contract', 'homosexu', 'disappear', 'sperm', 'simpli', 'examin', 'lift', 'discontinu', 'twice', 'submit', 'entri', 'pattern', 'chest', 'annoy', 'uniform', 'dislik', 'un', '2nd', 'berni', 'hasnt', 'ladi', 'winter', 'expert', 'bay', 'accid', 'explan', 'ielt', 'appropri', 'nose', '22', 'jump', 'hospit', '200', 'unabl', 'belong', 'extern', 'moto', 'frequenc', 'restor', 'prostitut', 'biotechnolog', 'divorc', 'aspir', 'routin', 'pic', 'bottl', 'slit', 'vegetarian', 'stanford', 'novemb', 'proper', 'cake', 'essenti', 'interfac', 'veloc', 'silicon', 'boss', 'immedi', 'african', 'studio', 'lack', 'printer', 'fluent', 'grammar', 'dad', '60', 'lewi', 'passion', 'enhanc', 'sander', 'notif', '2020', 'legit', 'accident', 'photographi', 'england', 'debt', 'latin', 'suprem', 'administr', 'stranger', 'quoran', 'hero', 'ranger', 'bigger', 'cabl', 'chew', 'inch', 'bias', 'ten', 'embed', 'bachelor', 'defeat', 'subscrib', 'prank', 'suck', 'pack', 'dual', '19', 'directli', 'port', 'jet', 'finger', 'friendli', 'arvind', 'keyword', 'mention', 'gb', 'refriger', 'withdraw', '3rd', 'soul', 'volum', 'viru', 'genet', 'criteria', 'territori', 'yellow', 'swim', 'vice', 'itun', 'justic', '10th', 'elon', 'rice', 'keyboard', 'shower', 'barack', 'retail', 'forev', 'stomach', 'crimin', 'longest', 'shirt', 'shift', 'fine', 'comedi', 'captain', 'dell', 'oldest', 'boost', 'compon', 'constant', 'logo', 'jealou', 'jewish', 'broke', 'pen', 'acquir', 'border', 'yoga', 'descript', 'offici', 'knew', 'arizona', 'gpa', 'airplan', 'particular', 'variabl', 'chocol', 'broken', 'audio', 'appoint', 'oral', 'chess', 'millionair', 'vision', 'aptitud', 'agricultur', 'meal', 'verifi', 'particularli', 'memor', 'desktop', 'filter', 'cgpa', 'agre', 'ceo', 'percentil', 'ps4', 'justifi', 'he', 'movement', 'oppos', '₹500', 'radio', 'britain', 'itali', 'bangladesh', 'pop', 'refus', 'gdp', 'wallet', 'prize', 'musk', 'browser', 'spain', 'lone', 'pride', 'jackson', 'r', 'academi', 'chairman', 'stuff', 'congress', 'belief', 'veget', 'satisfi', 'storag', 'exact', 'sherlock', 'faux', 'fuel', 'abolish', 'tesla', 'malaysia', 'paytm', 'beer', 'affair', 'hell', 'amend', 'tutori', 'zealand', 'frequent', 'opposit', 'faith', 'pizza', 'album', 'hydrogen', 'oven', 'cupcak', 'succeed', 'paypal', 'officejet', 'shave', 'regul', 'ab', 'talent', 'wing', 'hamster', 'arrang', 'binari', 'obtain', 'arrest', 'saw', 'childhood', 'ie', 'unlimit', 'progress', 'richest', 'weird', 'shown', 'benefici', '4620', 'transit', '90', 'brazil', 'airprint', 'resist', 'canon', 'award', 'trait', 'transgend', 'thesi', 'massag', 'cluster', 'karma', 'punish', 'promis', '₹1000', 'blind', 'roll', 'arriv', 'scar', 'bought', 'accent', 'adam', 'sheet', 'assembl', 'medium', 'penalti', 'decemb', 'volt', 'mountain', 'properli', 'sum', 'brahmin', '2013', 'sat', 'chart', 'soda', 'facial', 'pool', 'equiti', 'g', 'skip', 'own', 'duti', 'clash', 'qualif', 'erad', 'jail', 'lazi', 'foot', 'infosi', 'underr', 'pronounc', 'proud', 'angl', 'younger', 'nazi', 'georg', 'upon', 'repeat', 'magazin', 'collid', 'minor', 'hope', 'microwav', 'rout', 'attent', 'pi', 'chhattisgarh', 'auckland', 'seed', 'ivi', 'accomplish', 'martial', 'steve', 'bjp', '300', 'senior', 'establish', 'heaven', 'affili', 'beard', 'lesbian', 'stack', 'advis', 'quickest', 'shi', 'quantiti', 'sudden', 'awar', 'copyright', 'adapt', 'judg', 'jimmi', 'bone', 'sampl', 'fresh', 'wheel', 'friction', 'lectur', '5s', 'bag', 'william', '30000', 'stone', 'septemb', 'hang', 'assassin', 'punjab', 'superpow', 'johnson', 'switzerland', 'diabet', 'atm', 'taught', 'bear', 'crash', 'k', 'enabl', 'attach', 'nobodi', 'singh', 'concret', 'norway', 'cyber', 'deliveri', 'ejacul', 'accentur', 'crop', '60000', 'syllabu', 'sd', 'singer', 'inflat', 'edmonton', 'she', 'murder', 'tie', 'drone', 'desir', 'florida', 'opt', 'citizenship', 'readi', 'capac', 'honey', 'door', 'lee', 'tag', 'januari', 'putin', 'kingdom', 'hostel', 'ebook', 'shock', 'enfield', 'u', 'ethnic', 'destin', '2010', 'that', 'scrape', 'confus', 'monkey', 'sql', 'orient', 'bluetooth', 'eventu', 'bulli', 'genr', 'republ', 'output', 'caught', 'percept', 'engag', 'borderlin', 'feder', 'semest', 'eg', 'ola', 'deactiv', 'sleepi', 'breakup', '5001000', 'carrier', 'displac', 'gari', 'craziest', 'einstein', 'transport', 'mission', 'clan', 'diesel', 'pradesh', 'hadoop', 'ugc', 'drama', 'kept', 'ugli', 'css', 'patent', 'msc', 'wale', 'concern', 'mexican', 'documentari', 'hd', 'pretti', 'classifi', 'highli', 'sodium', 'grand', 'gone', 'emerg', 'simul', 'liter', 'cv', 'dslr', 'auto', 'disk', 'fantasi', 'theoret', 'jaipur', 'mahabharata', 'merg', 'solid', 'powder', 'lenovo', 'slowli', 'nepal', 'settl', 'rain', 'stronger', 'dot', 'octob', 'michael', 'gear', 'subtitl', 'holder', 'iran', 'juic', 'implic', 'press', '30k', 'don’t', 'eu', 'anthem', 'friendship', 'photon', 'annual', 'patient', '32', 'i', 'disney', 'molecul', 'grammat', 'domest', 'admit', 'wise', 'harder', 'boot', 'eve', 'particip', 'crisi', 'extent', 'poison', 'ireland', 'marin', 'configur', 'escort', 'de', 'scariest', 'victori', 'dr', 'edg', 'junior', 'tour', 'heal', 'input', '911', 'nobel', 'town', 'tribe', 'appreci', 'sm', 'italian', '70', 'skinni', 'sponsor', 'url', 'assum', 'muhammad', 'soldier', 'registr', 'soccer', 'approv', 'mi', 'jailbreak', 'franchis', 'tooth', 'crazi', 'snow', 'permit', 'backup', 'ultim', 'cc', 'forgotten', 'compat', 'deserv', 'pant', 'escap', 'odd', 'extens', 'sequenc', 'pump', 'modul', 'colon', 'transmiss', 'spi', 'banana', 'pornstar', 'anyway', 'permiss', 'basketbal', 'nail', 'smile', 'indonesia', 'broker', 'formal', 'fabric', 'surnam', 'renew', 'tummi', 'comic', 'tend', 'click', 'lip', 'gen', 'scenario', 'simultan', 'monthli', 'illuminati', 'confirm', 'aim', 'icon', '2018', 'survey', 'insecur', 'wire', 'ronaldo', 'divis', 'co', 'newspap', 'racism', 'task', 'flavor', 'hinduism', 'balaji', 'bleach', 'addit', 'poker', 'nyc', 'nikon', 'infect', 'explor', 'fulli', 'robert', 'freshman', 'clock', 'jack', 'nadu', '2012', 'cfa', 'autism', 'overal', 'reddit', 'pierc', 'there', '60k', 'mouth', 'plate', 'breath', 'wireless', 'constantli', 'serial', 'estim', 'optim', 'stereotyp', 'vegan', 'thick', 'poll', 'recogn', 'kitchen', 'manual', 'authent', 'w', 'extract', 'curs', 'portal', 'cab', 'premier', 'chees', 'tail', 'be', 'commiss', 'cathol', 'shake', 'weigh', 'struggl', 'visibl', 'healthcar', 'rubi', 'bowl', 'nfl', 'geographi', 'pink', 'flirt', 'tough', 'xiaomi', 'breakfast', 'reput', 'swallow', 'photoshop', 'coolest', 'spell', 'mosquito', 'architect', 'dub', 'snake', 'linear', 'apach', 'charter', 'condom', 'forum', 'georgia', 'soft', 'safest', 'stick', '50k', 'sin', 'mini', 'insan', 'beyond', 'athlet', 'former', 'scan', 'egypt', 'plot', 'max', 'grey', 'extinct', 'discount', 'layer', 'proven', 'butt', 'calculu', 'supplement', 'alli', 'breed', 'hike', 'ukrain', 'pollut', '35', 'sight', 'consol', 'verbal', 'decent', 'usag', 'moder', 'matrix', 'venezuela', 'capabl', 'extend', 'sick', 'pin', 'excess', 'golden', 'graph', 'hilari', 'avg', 'bull', 'dynam', 'ray', 'domin', 'discoveri', 'hoax', 'orang', 'relev', 'usernam', 'whey', 'verif', 'marvel', 'greec', 'spring', 'closer', 'competitor', 'index', 'declin', 'mentor', 'bu', 'televis', 'dj', 'setup', 'diagram', 'melbourn', 'forgiv', 'pleasur', 'chicago', 'ufo', 'bacteria', 'bicycl', 'carolina', 'fbi', 'yr', 'silver', 'vpn', 'hors', 'axi', 'swiss', 'nude', 'unexpect', 'rude', '50000', 'hump', 'restrict', 'refund', 'kinet', 'imei', 'quran', 'thigh', 'valuabl', 'up', 'psu', 'substanc', 'sociolog', 'extrovert', 'aw', 'rental', 'tenni', 'nba', 'violat', 'ww2', 'steam', 'i5', 'awkward', '25000', 'dinner', 'firsttim', 'clinic', 'frustrat', 'cuisin', 'announc', 'paranorm', 'greater', 'held', 'superman', 'deni', 'throughout', 'filipino', 'combat', 'unblock', 'imagin', 'asset', 'stare', 'privileg', 'saudi', 'poverti', 'farm', 'editor', 'aiim', 'discuss', 'entertain', 'sibl', 'juli', 'interpret', 'newton', 'airbnb', 'bermuda', 'holiday', 'encount', 'spread', 'reveal', 'communist', 'aerospac', 'trace', 'nomin', 'wouldnt', 'loneli', 'mixtur', 'iraq', 'chief', 'pee', 'philosoph', 'bleed', 'taxi', 'passiv', 'fundament', 'youth', 'highway', 'lo', 'intuit', 'organis', 'violenc', 'eagl', 'honor', 'excit', 'nowaday', 'captainci', 'threat', 'wealth', 'chase', 'honest', 'felt', 'conscious', 'asleep', 'isro', 'ngo', 'august', 'unhealthi', 'cube', 'church', 'hardwar', 'rare', 'metro', 'boredom', 'disput', 'deriv', 'charger', 'arabia', 'attitud', 'ebay', 'swift', 'worship', 'array', 'equip', 'victim', 'bullet', 'spider', 'z', 'oracl', 'ipl', 'crystal', '21st', 'hobbi', 'butter', 'len', 'beam', 'insert', 'infin', 'petroleum', 'guilti', 'digest', 'evalu', 'comparison', 'sanskrit', 'introduct', 'automobil', 'anywher', 'guard', 'vinegar', 'sensit', 'brake', 'grant', 'mostli', 'year’', 'cpu', 'hip', 'messi', 'toronto', 'arbitr', 'spirit', 'compliment', 'legitim', 'neural', 'electromagnet', 'manipul', 'voter', 'jame', '9th', 'scheme', 'telugu', 'copper', '81', 'leather', '45', 'angular', 'strang', 'adob', 'nake', 'evolutionari', 'rahul', 'compet', 'screenshot', 'spin', 'consist', 'al', 'june', '55', 'motorcycl', 'bridg', 'holm', 'ai', 'polar', 'obc', 'lifetim', 'profess', 'cinema', 'frame', 'agreement', 'f1', 'lean', 'tiger', 'hedg', 'foam', 'percent', 'approxim', 'rail', 'login', 'cpt', 'privaci', 'membran', 'wwe', 'compil', 'ww1', 'illinoi', 'couldnt', '1990', 'imposs', 'missil', 'richard', 'twin', 'cowork', 'hesh', '27', 'toilet', 'convict', 'gurgaon', 'perspect', 'wonder', 'honda', 'wet', 'soni', 'whenev', 'nois', 'mytholog', 'smartest', 'vomit', 'cotton', 'atmospher', 'pharmaceut', 'hall', 'strangest', 'alabama', 'wind', 'lab', 'thousand', 'kindl', 'rifl', 'karnataka', 'audit', 'environment', 'secondari', '7th', 'cabinet', 'abstract', 'fox', 'friday', 'outcom', 'strongli', 'pair', 'cousin', 'reflect', 'analog', 'coloni', 'jon', 'wage', 'passeng', 'broadband', 'ionic', 'static', 'makeup', 'hidden', 'cheaper', 'manip', 'investig', 'irctc', 'sc', 'vit', 'slim', 'cow', 'defend', 'tweet', 'cooper', 'inject', 'divers', 'eastern', 'tomorrow', 'hill', 'jam', 'cpec', 'pari', 'myth', 'massiv', '11th', 'algebra', 'protest', 'radiat', 'proceed', 'bread', 'termin', 'wwii', 'comprehens', 'stuck', 'ics', 'bba', 'secular', 'spiritu', 'verizon', 'usp', 'throat', 'alaska', 'antarctica', 'stain', 'gujarat', 'tongu', 'split', 'ap', 'facil', 'bark', 'somewher', 'i’m', 'interior', 'wood', 'shorter', 'overnight', '150', 'enforc', 'northern', 'fuck', 'badli', 'bipolar', 'cogniz', 'deepli', 'fever', 'lollipop', 'sore', 'everybodi', 'ui', 'truck', 'bruce', '28', 'circul', 'milki', 'pok', 'shoulder', 'thermal', 'tower', 'syndrom', 'meme', 'fri', 'founder', 'larger', 'kidney', 'default', 'palestin', 'compos', 'worldwid', 'treati', 'discrimin', 'vacat', 'pr', 'geniu', 'rocket', 'southern', 'noida', 'smarter', 'bra', 'tourism', 'aap', 'rat', 'il', 'nurs', 'lion', 'cement', 'github', '10k', 'dump', 'diamond', 'coval', 'vader', 'wipro', 'confer', 'commonli', 'laserjet', 'vitamin', 'refuge', 'folder', 'troubl', 'darth', 'clearli', '2011', 'fluid', 'festiv', 'linguist', 'induct', 'versa', 'zombi', 'superior', 'cute', 'bhopal', 'rippl', 'syrian', 'seal', 'wisdom', 'focus', 'monet', 'luxuri', 'enemi', 'cellular', 'serious', 'maharashtra', 'telescop', 'aid', 'arduino', 'resolv', 'composit', 'defens', 'awesom', 'expir', 'joker', '51', 'forex', 'emoji', 'wit', 'sold', 'reform', 'wealthi', 'council', 'bet', 'upper', 'thin', 'pte', 'tackl', 'freez', '4th', 'margin', 'silli', 'tatkal', 'turkish', 'fertil', 'incest', 'acquisit', 'ensur', 'belt', 'boob', 'dumb', '20000', 'shepherd', 'unemploy', 'intercours', 'bob', 'km', 'lightn', 'wholesal', 'delay', 'sweden', 'mile', 'foundat', '80', 'upset', 'eaten', 'spray', 'nodej', 'anti', 'creepiest', 'walmart', 'sync', 'session', 'sensor', 'immort', 'ncr', 'seek', 'menstrual', 'playlist', 'taiwan', 'prophet', 'oxid', 'puzzl', '5000', 'tan', 'complic', 'flower', 'gta', 'backward', 'ration', 'bother', 'backstori', 'honeymoon', 'bubbl', 'lemon', 'counsel', '26', 'zuckerberg', 'context', 'optic', 'aggreg', 'pole', 'bedroom', 'blogger', 'vc', 'stem', 'patel', 'lucid', 'neck', 'thermodynam', 'instant', 'stabl', 'label', 'wild', 'fb', 'decor', 'irrit', 'christ', 'netherland', 'nucleu', 'liar', 'wasnt', 'sri', 'potti', 'blame', 'revis', 'unfair', 'reader', 'cough', 'tap', 'adventur', 'outer', 'ba', 'transplant', 'dentist', 'punjabi', 'will', 'bisexu', 'pork', 'melt', 'thailand', 'edward', 'stretch', 'secretari', 'sole', 'penetr', 'knee', 'proton', 'occupi', 'colorado', '2019', 'abort', 'salman', 'lotteri', 'fals', 'intend', 'ibm', 'effort', 'sustain', '29', 'adolf', 'gel', 'bath', 'span', 'chosen', 'guarante', 'elimin', 'sharma', 'row', 'interstellar', 'guinea', 'ipcc', 'toefl', 'plugin', 'martin', 'beef', 'batch', 'tumblr', 'cafe', 'cop', 'waist', 'reliev', 'santa', 'convent', 'shiva', 'bush', 'soil', 'nutrit', 'doesn’t', 'steal', 'mnc', 'rural', 'deaf', 'assign', 'fifa', 'premium', 'rational', 'accus', 'distinct', 'banker', 'joint', 'molecular', 'quota', 'command', 'it’', 'util', 'sauc', 'palm', 'versu', 'brows', 'ww3', 'senat', 'plug', 'layman', 'neutron', 'poland', 'onion', 'calendar', 'rs500', 'bypass', 'aluminum', 'compress', 'captur', 'hat', 'chandigarh', 'arrow', 'radiu', 'jersey', 'perceiv', 'remaind', 'isar', 'downvot', 'laugh', 'demonit', 'fallen', 'difficulti', 'manga', 'sweat', 'asu', 'twitch', 'conductor', 'ssb', 'audienc', 'suffici', 'condition', 'cooki', 'migrat', 'arkansa', 'mood', 'cellphon', 'rap', 'enlighten', 'instantli', 'flush', 'sweet', 'ntse', 'integ', 'sunni', 'feminist', 'spacetim', 'delhincr', 'p', 'conquer', 'krishna', 'miner', 'governor', 'gave', 'immin', 'nexu', 'manhattan', 'mainten', 'coupon', 'urban', 'dirti', 'rainbow', 'swami', 'respir', 'loop', 'isp', 'j', 'builder', 'kapil', 'bulb', 'greenlit', 'correl', 'excus', 'worker', 'eclips', 'peter', 'bengaluru', 'alphabet', 'inner', 'cd', 'portfolio', 'capacitor', 'mandarin', 'odi', 'intellectu', 'uae', 'spark', 'therapist', 'torqu', 'numer', 'crew', 'invalid', 'perfectli', 's7', 'lac', '34', 'violin', 'corn', 'ahmedabad', 'purifi', 'ted', 'column', 'wrote', 'textbook', 'meter', 'headach', 'merchant', 'bcom', 'underwear', 'playstat', 'ux', 'era', 'ego', 'repercuss', 'ruin', 'epic', 'theorem', 'schizophrenia', 'victoria', 'david', 'dialogu', 'uttar', '95', '52', 'ovul', 'skype', 'prior', 'favor', 'lunch', 'residenti', '2008', 'mad', 'proxi', 'quantit', 'micro', 'unlik', 'bharat', 'leak', 'silent', 'tone', 'iss', 'laser', 'icici', 'inherit', 'colli', 'guest', 'stephen', 'pirat', 'casual', 'fridg', 'jean', 'specialist', 'judaism', 'frozen', 'hangout', 'intj', 'holocaust', 'peanut', 'lifestyl', 'depict', 'prescript', 'vertic', 'flip', 'poetri', 'signatur', 'lick', 'varanasi', 'devil', 'az', 'therapi', 'abiot', 'tyre', 'pardon', 'emul', 'spectrum', 'fetish', 'vivekananda', 'indu', 'disciplin', 'lg', '400', 'newli', 'vaccin', 'booth', 'logist', 'iisc', 'legend', 'ali', 'partial', 'apolog', 'starbuck', 'oliv', 'deduct', 'matur', 'rig', 'mate', 'isra', 'seven', 'pg', 'sue', 'rapper', 'sorri', 'contin', 'solver', '350', 'ahead', 'shampoo', 'matlab', 'nvidia', 'pitch', 'cach', 'dye', 'fluenci', 'md', 'explod', 'cristiano', 'knight', 'adjust', 'can’t', 'negoti', 'manner', 'virus', 'michigan', 'onto', 'bulk', 'influenti', 'coconut', 'disast', 'nigeria', 'stamina', 'holi', 'gainer', 'mortgag', 'stark', 'volunt', 'tripl', 'kick', 'tube', 'creation', 'f', 'shadow', 'learner', 'norwegian', 'fossil', 'invis', 'da', 'smaller', 'deviat', 'discharg', 'although', 'stolen', 'instanc', 'hawaii', 'cruis', 'encrypt', 'wildlif', 'nov', 'castl', 'portray', 'penni', 'minecraft', 'traine', 'physicist', 'erect', 'dick', 'geograph', 'purpl', 'lane', 'committe', 'draft', 'prelim', 'volcano', 'gf', 'nitrogen', 'slide', 'singular', 'distinguish', 'mint', 'combust', 'neighbor', 'perk', 'recycl', 'dental', 'shah', 'amcat', 'polish', 'modifi', 'rs1000', 'angularj', 'psychologist', 'suspens', 'nato', 'elev', 'bing', 'nonprofit', 'lover', 'tab', 'ib', 'tomato', 'ir', 'consumpt', '5th', 'pig', 'flaw', 'shortest', 'simplifi', 'airtel', 'outlook', 'trailer', 'attain', 'accessori', 'cognit', 't20', 'reactiv', 'terribl', 'paul', 'civilian', 'squad', 'dandruff', 'argentina', 'borrow', 'libertarian', 'goldman', 'crore', 'dumbest', 'wherea', 'how', '₹2000', 'dm', 'labor', 'mole', 'trek', 'bright', 'superhero', 'district', 'shut', 'tester', 'fantast', 'regularli', 'fought', 'gonna', 'tim', 'jake', 'retain', 'pinterest', 'afghanistan', 'frontend', 'vodka', 'brought', 'prepaid', 'starv', 'mous', 'puls', 'dysfunct', 'ant', 'irish', 'whiten', 'bot', 'happiest', 'darkvacuumgravit', 'tom', 'semen', 'vlsi', 'uninstal', 'tshirt', 'kali', 'coal', 'stamp', 'rom', 'uc', 'suzuki', 'compens', 'trump’', 'shell', 'parliament', 'bio', 'confess', 'cap', 'ridicul', 'fm', 'infatu', 'cia', 'alleg', 'testosteron', 'caffein', 'tini', 'cosmic', 'trial', 'illus', 'bottom', 'ink', 'shippuden', 'diagnos', 'gather', 'potato', 'sach', 'mask', 'bengal', 'march', 'hypothesi', 'dictionari', 'neurosci', 'ph', 'soviet', 'buddhism', 'halloween', 'bean', 'brush', 'noun', 'entrepreneurship', 'snap', 'esteem', 'gateway', 'leadership', 'mysql', 'toughest', 'directori', 'vega', 'partit', 'pre', 'finland', 'pocket', 'verb', 'trigger', 'hypothet', 'iitje', 'beta', 'cartoon', 'malayalam', 'deloitt', 'microscop', 'gross', 'austria', 'cashless', 'februari', 'forest', 'coordin', '99', 'leonardo', 'earlier', 'humor', 'coke', 'egyptian', 'slave', 'insect', 'gum', 'thriller', 'sigma', '360', 'superfluid', 'mb', '56', 'solo', 'podcast', 'maker', 'sir', 'mainstream', 'delta', 'rogu', 'vari', 'impeach', 'tick', 'undergrad', 'nicknam', 'iranian', '20k', 'immun', 'diplomat', 'lay', 'fingerprint', 'voldemort', 'marathon', 'intersect', 'mahatma', 'somehow', 'reveng', 'apocalyps', 'pacif', 'alarm', 'surpris', 'biotic', 'metabol', 'ohio', 'snowden', 'bmw', 'adhd', 'sword', 'pepper', 'pickup', 'fart', 'stroke', 'antibiot', 'dvd', 'mock', 'wolf', 'counter', 'atheism', 'secretli', 'turbin', 'resort', 'blond', 'exit', 'marshmallow', 'concert', 'bat', 'correctli', 'pilani', 'muller', 'commut', 'strip', 'seattl', 'ape', 'slower', 'complaint', 'bald', 'smallest', 'ide', 'unfollow', 'contest', 'usd', 'justin', 'homeless', 'deploy', 'jr', 'dedic', 'sand', 'scalp', 'behaviour', 'sneez', 'exclud', 'enlarg', 'violent', 'ceremoni', 'grown', 'fell', 'strateg', 'incorpor', 'bump', 'workplac', 'handwrit', 'bless', 'princ', 'adsens', 'absorb', 'selfi', 'certifi', 'toxic', 'drill', 'barrier', 'allah', 'summari', 'omegl', 'ee', 'mca', 'membership', 'encourag', 'argu', 'chequ', 'seller', 'sabha', 'metric', 'fulfil', '18002514919', 'misconcept', 'clone', 'kernel', 'soap', 'overdos', 'horoscop', 'asthma', 'supernatur', '2002', 'mermaid', 'synchron', 'insight', 'ngc', 'demon', 'significantli', 'chef', 'genocid', 'intent', 'circular', 'incred', 'accommod', 'saddest', 'attribut', 'coincid', 'synonym', 'recognit', 'iot', 'st', 'patriot', 'horni', 'calm', 'boe', 'defenc', 'proport', 'wax', 'tape', 'hungri', 'satan', 'pencil', 'frost', 'abraham', 'htc', 'hello', 'vein', 'minim', 'ao', 'ion', 'disturb', 'invas', 'promin', 'cramp', 'jamaica', 'climb', 'tension', 'wechat', 'feedback', 'helicopt', 'meaning', 'dumbledor', 'hawk', 'mammal', 'lucki', 'dinosaur', 'elder', 'aggress', '40000', 'mount', 'mainland', 'prokaryot', 'ordinari', 'backend', 'imperi', 'scotland', '64', 'hashtag', 'toni', 'notabl', 'welcom', 'lowest', 'nonfict', 'float', 'outdoor', 'intens', 'benadryl', 'sip', 'dasht', 'selenium', 'timelin', 'menstruat', 'ocd', 'peak', 'gsoc', 'hdfc', 'gene', 'urjit', 'overlay', 'psychiatrist', 'allen', 'scandal', 'bookmark', 'tear', 'b2b', 'arrog', 'ka', 'drum', 'postgradu', 'distract', 'raspberri', 'ndtv', 'gram', 'detector', 'bitter', 'assault', 'groceri', 'clat', 'dylan', 'entropi', 'hunt', 'vr', 'nerv', 'loser', 'awak', 'mid', 'bombay', 'nda', 'sandwich', 'remind', 'shark', 'eyesight', 'vishwanathan', 'amd', 'garlic', 'regain', 'eleph', 'innoc', 'polo', 'relax', 'fiitje', 'iiit', 'mp3', 'potu', 'vape', 'calcium', 'mess', 'imessag', 'fraud', 'temporari', 'outsourc', 'solubl', 'junk', 'abandon', 'duplic', 'slab', 'compulsori', 'kannada', 'pest', '100000', '6th', 'luck', 'prerequisit', 'advisor', 'seminar', 'yawn', 'controversi', 'aveng', 'expos', 'kohli', 'realis', 'urdu', 'bee', 'ar', 'biographi', 'coursera', 'mg', 'cnn', 'ctc', 'sharp', 'slot', 'designjet', 'stupidest', 'complain', 'household', 'selfesteem', 'titan', 'ppf', 'highlight', 'unbias', 'sub', 'bare', 'van', 'slang', 'vocal', 'drunk', 'puberti', 'whiskey', 'paradox', 'galleri', 'admir', 'spent', 'theist', 'bass', 'shoud', 'lte', 'broadcast', 'molar', 'mari', 'subscript', 'bonu', 'asperg', 'neither', 'nehru', 'circumst', 'bin', 'alpha', 'eukaryot', 'afterlif', 'warren', 'credibl', 'doc', 'bihar', 'pharmaci', 'horizon', 'nonmuslim', 'phenomenon', 'diwali', 'nintendo', 'lighter', 'femin', 'nokia', 'regress', 'revolv', 'hcl', 'adject', 'boston', 'ps3', 'coimbator', 'slogan', 'blade', 'homemad', 'i3', 'nearli', 'qa', 'minnesota', 'extraterrestri', 'vermont', 'tempera', 'villag', 'bootcamp', 'juri', 'closest', 'node', 'behav', 'flame', 'chapter', 'att', 'nervou', 'allergi', 'weld', 'geometri', 'distro', 'fed', 'hi', 'reson', 'erectil', '2d', 'tutor', 'cockroach', 'snooker', 'venu', 'recess', 'prescrib', 'correspond', 'villain', 'elizabeth', 'journey', 'fault', 'contractor', 'appeal', 'giant', 'emperor', 'romanc', 'farmer', 'yesterday', '50ae', 'trash', 'nuke', 'ecosystem', 'presidentelect', 'templat', 'toy', 'insult', 'pit', 'autist', 'bell', 'pointer', 'bhagat', 'raghuram', 'telecom', 'whatev', 'toe', 'healthier', 'rome', 'creatur', 'invers', 'assess', 'pot', 'ass', 'asid', 'hybrid', 'drain', 'tracer', 'killer', 'knife', 'yadav', 'scari', 'mat', 'trader', '65', 'poster', '3000', 'warrior', '19th', 'arthur', 'depth', 'feasibl', '53', 'badass', 'antenna', 'blank', 'wanna', 'buyer', 'hiv', 'april', 'wound', 'subconsci', 'oversea', 'trap', 'trainer', 'lic', 'rajan', 'liner', 'lens', 'pornographi', 'snapdeal', 'anchor', 'etymolog', 'magnesium', 'manchest', 'lesserknown', 'django', 'queri', 'diari', 'inevit', 'vampir', 'clever', 'beast', 'mathematician', 'recreat', 'lipton', 'loud', 'se', 'pubic', 'alloc', 'you’r', 'ml', 'rapidli', 'gotten', '75', 'journalist', 'vinci', 'highland', 'rust', 'hai', 'hypocrit', 'gif', 'em', 'charl', 'gang', 'pipe', 'decad', 'lung', 'wildest', 'mayb', 'neighborhood', 'ceil', 'pray', 'nicest', 'lust', 'receipt', 'toler', 'ccna', 'transcript', 'co2', 'julian', 'liquor', 'zodiac', 'facetim', 'rush', 'aadhar', 'ayurved', 'roommat', 'faculti', 'assang', 'phoenix', 'pixel', 'jayalalitha', 'doubt', 'capitalist', 'fisher', 'empathi', 'distil', 'explos', 'cuba', 'ae', 'glue', 'barcelona', 'pf', 'jordan', 'michel', 'amp', 'ben', 'sock', 'offend', 'photosynthesi', 'oneplu', 'actoractress', 'tortur', 'sketch', 'awaken', 'sphere', 'desper', 'marathi', 'na', 'chronic', 'durabl', 'karan', 'transistor', 'drawn', 'siri', 'reward', 'rumor', 'pretend', 'musician', 'biomed', 'soup', 'guru', 'du', 'viswanathan', 'inferior', 'craigslist', 'bid', 'joseph', 'jerk', 'viral', 'jealousi', 'actuari', 'kik', 'hottest', 'ct', 'spare', 'pussi', 'alltim', 'monetari', 'bend', 'infrastructur', 'lucknow', 'nri', 'emi', 'lb', 'flu', 'strengthen', 'nightmar', 'canva', 'rose', 'ridg', 'welfar', 'descend', 'bd', 'buddhist', 'rajasthan', 'drown', 'airbu', 'worn', 'exhaust', 'thai', 'mitochondria', 'rib', 'vers', 'basin', 'bodybuild', 'x2', '180', 'fraction', '4s', 'mayan', 'aadhaar', 'recal', 'precis', 'brief', 'trademark', 'dictat', 'inappropri', 'roller', 'bootstrap', 'pcm', 'vladimir', 'gita', 'indi', 'threaten', 'socket', 'diamet', 'ji', 'horizont', 'tran', 'clay', 'tenur', 'peru', 'troll', 'med', 'theater', 'shahrukh', 'pose', 'andrew', 'coeffici', 'bsnl', 'sonoran', 'swollen', 'bitsat', 'articleship', 'mangalor', 'himher', 'cocain', 'fetch', 'virat', 'eee', 'foil', 'oxford', 'worthi', 'saturn', 'bf', 'underwat', 'liver', 'lobster', 'rear', 'gibson', 'luther', 'analyz', 'surg', 'alloy', 'ate', 'salesforc', 'silenc', 'columbia', 'runner', 'shia', 'wizard', 'legisl', 'le', 'forbidden', 'menu', 'sheldon', 'nikola', 'kitten', 'exhibit', 'segment', 'nomine', 'mandatori', 'pitbul', 'mormon', 'scooter', 'attorney', 'offens', 'temporarili', 'badminton', 'endors', 'ford', 'mediev', 'nuditi', 'albert', 'spici', 'dota', 'undergo', 'retina', 'mixer', 'firewal', 'kmc', 'guatemala', 'inspiron', 'yo', 'ipo', '1980', 'aipmt', 'indor', 'prototyp', 'trivia', 'viber', 'contemporari', 'vellor', 'iitian', 'mattress', 'irrat', 'leas', 'mill', 'magnitud', 'methamphetamin', 'overweight', 'jan', 'submarin', 'bangkok', 'basebal', 'slightli', 'warranti', 'stabil', 'wavelength', 'ideolog', 'highschool', 'contradict', 'dropbox', 'grid', 'scandinavian', 'thoma', 'sachin', 'exgirlfriend', 'classif', 'utah', 'consciou', 'wrist', 'nest', 'kennedi', 'gase', 'fiscal', 'spam', 'cannabi', 'ny', 'echo', 'oklahoma', 'chariti', 'pearl', 'patna', 'ace', '31', 'elast', 'sunday', 'carpet', 'settlement', 'deport', 'czech', 'flavour', 'mod', 'viewer', 'agnost', 'sexiest', 'rabbit', 'unrequit', 'learnt', 'huski', 'backlog', 'hydroxid', 'ambassador', 'swing', 'breakdown', 'regim', 'horribl', 'pend', 'protocol', '100k', 'wayn', 'vera', 'h', 'alo', 'acoust', 'simpson', 'tens', 'kim', 'accuraci', 'quiet', 'rhyme', 'armstrong', 'info', 'automot', 'googleabl', 'eras', 'shear', 'strict', 'boundari', 'mckinsey', 'chlorid', 'ibuprofen', 'gamma', 'imdb', 'rough', 'bikini', 'sikh', 'backlink', 'whale', 'atroc', 'sexi', 'diod', 'beverag', 'rum', 'scroll', 'bbc', 'soulmat', 'littleknown', 'fedex', 'punch', 'marketplac', 'navig', 'headset', 'itchi', 'payrol', 'howev', 'crowd', 'consent', 'stat', 'srm', 'arabian', 'perpetu', 'uniti', '48', 'hunter', 'apollo', 'indonesian', 'denmark', 'steer', '1500', 'lumia', 'obes', 'boxer', 'metaphor', 'firearm', 'subway', 'rukh', 'mcdonald', 'fate', 'tactic', 'deterg', 'untold', 'ontario', 'ltd', 'dealer', 'dissolv', 'portug', 'candl', 'amplifi', 'allianc', 'berlin', 'brace', 'none', 'dtu', 'llc', 'berkeley', 'ton', 'onsit', 'instruct', 'scorpio', 'prioriti', 'js', 'chose', 'selfish', 'dispos', 'asteroid', 'plasma', 'hotspot', 'coder', 'admin', 'stalk', 'joe', 'sanriku', 'absent', 'cruz', 'elit', 'persian', 'mercuri', 'cucumb', 'j7', 'dare', 'cofound', 'coup', 'princeton', 'xanax', 'pyramid', 'tune', 'buri', 'dioxid', 'pe', 'heater', 'slaveri', 'snapdragon', 'absenc', 'modem', 'dose', 'penc', '1000r', 'hdmi', 'belkin', 'rhode', 'macro', 'itch', 'lgbt', 'i7', 'spoiler', 'chetan', 'mechatron', 'zip', 'questionansw', 'decim', 'prohibit', 'ncert', 'fl', 'cellulit', 'ritual', 'uan', 'multi', 'redeem', 'dutch', 'blowjob', 'odor', 'handsom', 'heritag', 'polym', 'eccentr', 'curriculum', 'gujarati', 'bathroom', 'watt', 'repeal', '20th', 'supplier', '57', 'costum', 'norm', 'panda', 'entiti', 'destini', 'labour', 'coverag', 'iceland', 'walker', 'legaci', 'katrina', 'skirt', 'shade', 'wallpap', 'anatomi', 'altitud', 'vike', '2007', 'exclus', 'bahama', 'seduc', 'thread', 'occup', 'taboo', 'boat', 'pad', 'anxiou', 'liberti', 'evapor', 'chromosom', 'strain', 'vendor', 'champion', 'caviti', 'helmet', 'notifi', 'funer', 'eminem', 'euro', 'engg', 'coastal', 'surround', 'jacket', 'compromis', 'eas', 'paragraph', 'spiderman', 'useless', 'apk', 'tornado', 'aeronaut', 'closet', 'baluchistan', 'oscar', 'fallaci', 'jain', 'temper', 'vibrat', 'cite', 'exposur', 'recipi', 'intermedi', 'rob', 'fulltim', 'neuron', 'mm', 'meiosi', 'colombia', 'crown', 'maruti', 'rip', 'kapoor', 'suspend', 'magento', 'tobacco', 'bi', 'deck', 'ktm', 'bounc', 'spacex', 'cylind', 'bpo', 'reinforc', 'kit', 'notebook', 'ambani', 'unattract', 'ghz', 'potassium', 'plural', 'poop', 'rumour', 'injuri', 'hurrican', 'mughal', 'warn', '160', 'butterfli', 'folk', 'poorli', 'previous', 'outlet', 'fiber', '3s', 'shuttl', 'hairstyl', 'enrol', 'swedish', 'coat', 'mah', 'clip', 'tamilnadu', 'factual', 'panic', 'reactor', 'repel', 'flour', 'topper', 'hamilton', 'gover', 'demograph', 'transmit', 'banerje', 'biodivers', 'armpit', 'drift', 'unix', 'miami', 'fairi', 'q', 'suspect', 'longterm', 'unpopular', 'mike', 'plagiar', 'fusion', 'sx', 'mild', 'hype', 'azhar', 'portabl', 'over', 'randomli', 'practis', 'diarrhea', 'rss', 'didn’t', 'andhra', 'agil', 'cashback', 'simplest', 'xp', 'taylor', 'isol', 'microphon', 'conclus', 'kalahari', 'sender', 'midnight', 'qatar', 'envelop', 'llb', 'preserv', 'surgeon', 'blackhead', 'bs', 'gpu', 'prosper', 'gt', 'surf', 'louisiana', 'frank', 'powerpoint', 'roof', 'abruptli', 'skateboard', 'cisco', 'preschool', 'christoph', 'multipli', 'int', 'therapeut', 'yamaha', 'microcontrol', 'inaugur', 'beg', 'hampshir', '2gb', 'alik', '8th', 'ramayana', 'mahindra', 'homework', 'hug', 'telegram', 'witch', 'unsubscrib', 'dnc', 'bose', 'mice', 'textur', 'helium', 'restart', 'healthiest', '2g', 'mindset', 'tendulkar', 'topolog', 'sniper', 'miser', 'stimul', 'consider', 'glow', 'elementari', 'chile', 'ethernet', 'illustr', 'bold', 'bieber', 'são', 'deepest', 'radic', 'saa', 'prejudic', 'mma', 'rolex', 'caucasian', 'wikileak', 'urg', 'wayanad', 'sack', 'implant', 'raj', '800', 'lincoln', 'starter', 'gray', 'nagpur', 'min', 'warcraft', 'reproduct', 'recharg', 'winner', 'portugues', 'condens', 'bolt', 'endang', 'disgust', 'elderli', 'shrink', 'merced', 'vagin', 'ratan', 'montana', 'mysor', 'silk', 'invoic', 'circumcis', 'std', 'blister', 'lao', 'bia', 'shaft', 'muscular', 'pillow', 'bca', 'buddha', 'malaysian', 'expat', 'monday', 'http', 'rc', 'dilat', 'disconnect', 'elitmu', 'favour', 'incub', 'bench', 'superstit', 'dakota', 'hundr', 'leap', '250', 'colleagu', 'repeatedli', '98', 'indiana', 'imo', 'anticip', 'rs2000', 'disappoint', 'disc', 'churchil', 'wrap', 'tight', 'rectifi', 'mortal', 'shed', 'kentucki', 'flute', 'princip', 'ultra', '220', 'xat', 'nut', 'signifi', 'pmp', 'delici', 'orlando', 'intoler', 'monopoli', 'anyhow', 'propaganda', 'vp', 'yearli', 'obamacar', 'quant', 'steak', 'spheric', 'nearbi', 'lanyard', 'jill', 'pension', 'durat', 'kumar', 'kaif', 'relief', 'patch', 'classroom', 'capgemini', 'princess', 'snape', 'perfum', 'sulfur', 'systemat', 'vietnames', 'neil', 'lamp', 'tomé', 'fluctuat', 'itinerari', 'príncipe', 'delawar', 'jupit', 'warfar', 'owe', 'brisban', 'gentleman', 'theatr', 'micromax', 'fest', 'southeast', 'theft', 'austin', 'erp', 'fare', 'duke', 'varieti', 'darkvacuum', 'aleppo', 'upward', 'scream', 'inc', 'lyft', 'cum', 'acet', 'crowdfund', 'nearest', 'discret', 'ulcer', 'indiffer', '8gb', 'inequ', 'thc', 'semiconductor', 'textil', 'rothschild', 'avatar', 'comeback', 'auction', 'analys', 'johar', 'riddl', 'ingredi', 'gulf', 'cabin', 'satur', 'shutter', 'trustworthi', 'crab', 'patienc', 'voicemail', 'revel', 'peel', 'globe', 'gorilla', 'swear', 'neurolog', '38', 'scanner', 'forehead', 'mp', 'unwant', 'instinct', 'bengali', 'fourth', 'granvil', 'jallikattu', 'diffus', 'guilt', 'oblig', 'rna', 'cruel', 'garden', 'proposit', 'insul', 'luke', 'hiroshima', 'marker', 'ingest', 'safer', 'vapor', 'tb', 'vat', 'drawback', 'astronomi', 'hangov', 'hierarchi', 'flux', 'mall', 'hydrochlor', 'warehous', 'jazz', 'g4', 'shield', 'tampon', 'bhim', 'smooth', 'porcelain', 'aamir', 'testament', 'iso', 'laundri', 'beatl', 'amongst', 'deed', 'vibe', 'ceram', 'obviou', 'spoil', 'momentum', 'rubber', 'mankind', 'monarchi', 'quiz', 'stein', 'plain', 'racial', 'hulk', 'thor', 'otherwis', 'pushup', 'reduct', 'papua', 'ran', 'existenti', 'objectori', 'cider', 'poorest', 'dig', 'ironi', 'capsul', 'plateau', 'forecast', 'paramet', 'forens', 'hub', 'pancak', 'tracker', 'erot', 'bound', 'workload', 'asexu', 'finit', 'herp', 'betray', 'bandwidth', '110', 'ssd', 'jawaharl', 'hdd', 'humid', 'karna', 'novic', 'sponsorship', 'anna', 'reincarn', 'lag', 'infj', 'alexand', 'oh', 'mooc', 'slip', 'brick', 'imaginari', 'masood', 'ft', 'uncomfort', 'insist', 'buffer', 'crm', 'dimpl', 'oili', 'shame', 'preval', 'fool', 'hammer', 'chihuahuan', 'guidelin', 'disprov', 'cubic', 'where', 'searh', 'dolphin', 'aviat', 'eight', 'xi', 'literari', 'autocad', 'ug', 'pneumonia', 'afternoon', 'darwin', 'ottoman', 'telangana', 'watermelon', 'creator', 'ownership', 'si', 'haunt', 'rod', 'hebrew', 'pgdm', 'provinc', 'jedi', 'audi', 'corner', 'lcd', 'lisa', 'assur', 'turtl', 'crave', 'werent', 'borough', 'wive', 'popcorn', 'jammu', 'multivers', 'premarit', 'amateur', 'dividend', 'clearanc', 'coil', '120', 'filmmak', 'pcb', 'gem', 'byte', 'geni', 'lump', '2006', 'g3', 'kota', '40k', 'scalar', 'yogurt', 'com', 'physiolog', 'ryan', 'persist', 'streak', 'shortcut', 'huh', 'pulsar', 'nicotin', 'hiccup', 'mold', 'clerk', 'realti', 'reinstal', 'kite', 'ethanol', 'hemispher', 'squat', 'dil', 'benghazi', 'licenc', 'assumpt', 'heroin', 'nerd', 'belgium', 'lal', '54', 'recognis', 'miui', 'resistor', 'brazilian', 'ansi', 'bahadur', 'jfk', 'guess', 'approx', 'heartbreak', 'grandpar', 'labrador', 'stanc', 'daeneri', 'clutch', 'chair', 'armenian', 'buffalo', 'partnership', 'nsit', 'morgan', 'technician', 'fairli', 'ak', 'crude', 'hon', 'represent', 'molest', '67', 'sexist', 'domino', 'dissert', '4k', 'manila', 'zenfon', 'kashmiri', 'merit', 'lanka', 'hollow', 'deadli', 'quad', 'prompt', 'chord', 'impli', 'turbul', 'knock', 'disagre', 'cyanid', 'painter', 'farewel', 'craft', 'inbox', 'ufc', 'penis', 'mu', 'ioniz', 'ecolog', 'iocl', 'nich', 'ping', 'raid', 'regrow', 'hockey', 'erupt', 'charismat', 'indict', 'sulfat', 'dp', 'unifi', 'sincer', 'diverg', 'hash', 'inorgan', 'economist', 'flexibl', 'gk', 'swap', 'je', 'hey', 'packet', 'harvey', 'idl', 'td', 'ernest', 'lime', 'brutal', 'ski', 'yield', 'eyebrow', 'weekli', 'censor', 'sarcast', 'paralysi', 'emir', 'ps', 'terrierbord', 'golf', 'contagi', 'sensat', 'steroid', 'mbp', 'biblic', 'grass', 'nc', 'laravel', 'xperia', 'tensorflow', 'launder', '4gb', 'deficit', 'otg', 'hormon', 'cocacola', 'outstand', 'schengen', 'arous', 'rub', 'capita', 'tuition', 'nonn', 'qr', 'exboyfriend', 'refresh', 'bschool', 'desk', 'taxat', 'profici', 'parttim', 'slight', 'luggag', 'cauveri', 'downgrad', '5k', 'appar', 'geforc', 'rajya', 'counterfeit', 'slam', 'sp', 'rey', 'semant', 'rama', 'valenc', 'youll', 'nonvegetarian', 'jeff', 'dispatch', 'motherboard', 'aerob', 'scorpion', 'loot', 'oscil', 'chant', 'collabor', 'hrithik', 'cosmet', 'jelli', 'inact', 'charli', 'propel', 'everywher', 'shit', 'maxim', 'hobbit', 'salad', 'oneself', 'kilo', 'etiquett', 'gsm', 'youngest', 'usc', 'floyd', 'karakum', 'cambridg', 'olympiad', 'watson', 'bro', 'ammonium', 'panther', 'stuf', 'antimatt', 'chandra', 'avocado', 'screw', 'massachisett', 'readili', 'fade', 'unprotect', 'shakespear', 'newborn', 'ninja', 'neighbour', 'wwi', 'wheeler', 'dangal', 'sandi', 'locker', 'fascism', 'energyinfinit', 'limiti', 'sweetest', 'dan', 'tender', 'viabl', 'detox', 'destruct', 'witti', 'turbocharg', 'opera', 'nagasaki', 'bow', 'el', 'duck', 'synthet', 'do', 'indoor', '1tb', 'ann', '14th', 'publicli', 'wharton', 'master’', 'cholesterol', 'montreal', 'beggar', 'phuket', 'riot', '36', 'therefor', 'tennesse', 'buck', 'ancestri', 'thanksgiv', 'confront', 'dive', 'rebel', 'nonu', 'bind', 'idiom', 'gambl', 'sf', 'theyv', 'alert', 'debug', 'isotop', 'sacrific', 'saint', 'troop', 'headlight', 'smoker', 'dilut', 'rep', 'wrestl', 'bhubaneswar', 'motorola', 'pope', '3day', 'ur', 'stubborn', 'donor', 'strand', 'nu', 'almond', 'nine', 'mucu', 'boiler', 'duo', 'tokyo', 'harmon', 'width', 'friendzon', 'intimid', 'tribun', '2a', 'varianc', 'burner', 'experiment', 'socialist', 'monro', 'wa', 'tunnel', 'grill', 'sunglass', '1700', 'squirt', '201617', 'tropic', 'psychic', 'hagu', 'bulldog', 'fellow', 'blockchain', 'phosphat', 'zinc', 'overthink', 'dutert', '37', 'monster', 'intim', 'mainli', '1611', 'garbag', 'waterloo', 'twist', 'backpack', 'sunburn', 'panti', 'hen', 'fellowship', 'daddi', 'demonstr', 'telephon', 'intp', 'hbo', 'cheek', 'lt', 'rapist', '1a', 'curiou', 'sink', 'cutest', 'walt', 'allot', 'wand', 'infant', 'invert', 'adword', 'repetit', 'safari', 'clinton’', 'chairperson', 'ghana', 'armor', 'sushi', 'amiti', 'worm', 'warrant', 'boom', '12000', 'franklin', 'barcod', 'iv', 'razor', 'dalit', 'vimi', 'ce', 'arteri', 'roku', 'rapid', 'mileag', 'void', 'kuwait', 'futurist', 'vodafon', '1963', 'dopamin', 'converg', 'prayer', '1957', 'hogwart', 'smartli', 'dancer', 'cuban', 'aa', 'snack', 'luci', 'jqueri', 'diego', 'nors', 'andreanof', 'nott', 'crook', 'lsd', 'hypnot', 'taj', 'bc', 'vancouv', 'bicep', 'reallif', 'henri', 'pixar', 'mafia', 'gradient', 'owl', 'battlefield', 'dongl', 'aka', 'lionel', 'enthalpi', 'phobia', 'napoleon', '1960', 'tuesday', 'exempt', '87', 'fanci', 'fascin', 'calabria', 'sa1', 'whi', 'plaster', 'probat', 'inmat', 'induc', 'idiot', 'a2a', '17yearold', 'judici', 'karaok', 'peer', 'et', 'underground', 'ignou', 'downsid', 'selfconfid', 'feminin', 'remark', 'mahal', 'emit', 'refract', 'margo', 'collar', 'storm', 'tin', 'bhutan', 'stadium', 'enzym', '125', 'prep', 'wardrob', 'lifespan', 'vulner', 'adverb', 'cheer', '510', 'rhetor', 'gwalior', 'activa', 'microprocessor', 'highend', 'remak', 'viagra', 'petit', 'alzheim', 'aesthet', 'etf', 'mitosi', '1922', 'iswa', '88', 'shelter', 'hardli', '44', 'fidel', 'snowboard', 'clog', 'mongodb', 'tougher', 'balloon', 'archiv', 'ussr', 'trim', 'toshiba', 'honour', 'amsterdam', 'uneth', 'allo', 'hut', 'macbeth', 'identif', 'hyundai', 'cult', 'aspnet', 'provis', 'goebbel', 'reciev', 'grace', 'prozac', 'plz', '1080p', 'whiski', 'hazard', 'aspirin', 'calcutta', 'joy', 'findout', 'hookah', 'dbm', 'moistur', 'usml', '600', 'elbow', 'elsewher', 'ruler', 'myanmar', 'resel', 'detroit', 'compressor', 'von', 'fatigu', 'peroxid', '44in', 'b2', 'madrid', 'whilst', '₹', 'sare', 'mukesh', 'cock', 'sundar', 'liabil', 'portrait', 'ash', 'predat', 'dissoci', 'recurs', 'tequila', 'inhand', 'reviv', 'dizzi', 'chloroplast', '1k', 'bhagavad', 'terrestri', 'hairfal', 'reproduc', 'mushkil', 'bride', 'banglor', 'depreci', 'deton', 'telecommun', 'reissu', 'nse', 'rrb', 'fenc', 'cultiv', 'sleev', 'sequel', 'distort', 'cet', 'veda', 'burger', 'sam', '2100', 'alter', 'offshor', 'cpa', 'thiel', 'targaryen', 'grave', 'miracl', 'lighten', 'carb', 'categor', 'fortun', 'serbia', 'asean', 'melania', 'breaker', 'upsid', 'gixxer', 'ministri', 'troubleshoot', 'chri', 'herbal', 'centrifug', 'zee', 'cersei', 'dial', 'alchemist', '2009', 'soy', 'creed', 'whistl', 'tu', '2001', 'valuat', 'kilogram', 'loui', 'fractur', 'caller', 'spite', 'semi', 'selfstudi', 'sapien', 'slept', 'collector', 'darker', 'balochistan', 'grain', 'cantones', 'jog', 'syrup', 'pie', 'scotch', 'baba', 'fx', 'teresa', 'astrophys', 'inhal', 'dualiti', '4kg', 'leo', 'interfer', 'twenti', 'bruis', 'radioact', 'qualcomm', 'slap', 'enlist', 'methodolog', 'hana', 'threesom', 'caltech', 'taklamakan', 'rectangular', 'azerbaijan', '66', 'fantas', 'lannist', 'breez', 'ferment', 'loyal', 'ey', 'quoracom', 'statutori', 'yale', 'chsl', 'distributor', 'chuck', 'bulgaria', 'b1b2', 'inclin', 'madra', 'hotstar', 'prematur', 'taco', 'frog', 'teja', 'karl', 'er', 'gluten', 'k3', 'surrend', 'ashoka', 'poke', 'kitkat', 'lipid', 'nitric', 'penultim', 'trillion', 'mvc', 'hoard', 'soften', 'westworld', 'disclos', 'rebellion', 'gasolin', 'idol', 'modi’', 'massacr', 'dec', 'wbjee', 'higg', 'reli', 'rubik', 'conceptu', 'lok', 'bloomberg', 'disrespect', 'earlob', 'sauron', 'woke', 'upto', 'mute', 'pipelin', 'persia', 'referr', 'replic', 'postal', 'tor', 'patagonian', 'brooklyn', 'diy', 'stray', 'vedic', 'unhappi', 'ra', 'roshan', 'spec', 'renaiss', 'glucos', 'removedsack', 'coaster', 'tiss', 'aliexpress', 'colder', 'winston', 'telekinesi', 'jose', 'specifi', 'whip', 'quarter', 'annum', 'toothpast', 'oyo', 'hulu', 'phantom', 'thermostat', 'adderal', 'titanium', 'necessarili', 'unfortun', 'banda', 'diminish', 'reus', 'kanhangad', '500r', 'ammonia', 'humour', 'corp', 'californian', 'untreat', 'skyrim', 'briefli', 'inconveni', 'ghaziabad', 'portion', 'libya', 'morocco', 'kalam', 'astronom', 'vijay', 'sect', 'protector', 'supervisor', 'youd', '32gb', 'bihari', 'pl', 'horcrux', 'etg', 'gd', 'wiki', 'buffett', 'numb', 'bajaj', 'wellknown', 'pablo', 'newbi', 'spice', 'poet', 'turk', 'bulletproof', 'monoxid', '89', 'lifelong', 'vizio', 'dalla', 'nift', 'ed', 'envi', 'lokpal', 'traction', 'lawsuit', 'sixth', 'landscap', 'ouija', 'microeconom', 'incent', 'realtim', 'marx', '20162017', 'launcher', 'arya', 'suspici', 'puerto', 'vine', 'mamata', 'dushka', 'toss', 'matern', 'nevada', 'deliber', 'affin', 'lotion', 'skate', 'embassi', 'businessman', '85', 'expands…', 'bankruptci', '91', 'antonym', 'noam', 'heavier', 'affirm', 'anu', 'geolog', 'chomski', 'srcc', 'bacon', 'rico', 'orthodox', 'thicker', 'cage', '94', 'extracurricular', 'asbesto', 'tensor', 'fort', 'viscos', 'sour', 'isb', 'grape', 'waterproof', 'roast', 'nippl', 'ec', 'survivor', 'amplitud', 'zoo', 'reunit', 'cleaner', 'html5', 'roger', 'spaceship', 'udemi', '…', 'profound', 'unfriend', 'hermion', 'choke', 'catalyt', 'ssl', 'kansa', 'matt', 'lucr', 'align', 'tensil', 'daytona', 'flop', 'pluto', 'philadelphia', 'impuls', 'anniversari', 'lpa', '01', 'flora', 'dunkirk', 'advers', 'columbu', 'drdo', 'ranikhet', 'whine', 'solvent', 'lap', 'strawberri', 'sl', 'talaq', 'gopro', 'aryan', 'lan', 'gigolo', 'ralli', 'mentalist', 'rodrigo', 'inventori', 'toyota', '₹15000', 'ongc', 'yemen', 'vertebr', 'radar', 'decay', 'sticker', 'wormhol', 'displayport', 'outdat', 'sdk', 'digger', 'fifth', 'akhilesh', 'comcast', 'unavail', 'scala', 'homogen', 'foster', 'aunt', 'deeper', 'afcat', 'repo', 'flood', 'jungl', 'showroom', 'strap', '25k', 'halo', 'reloc', '500k', 'lend', 'asham', 'fame', 'warner', 'kidnap', 'steven', 'indirect', 'atlanta', 'revolt', 'cater', 'cave', 'latex', 'freezer', 'tragic', 'ture', 'clue', 'wasp', 'conan', 'fibonacci', 'outgo', 'nobl', 'surveil', 'mason', 'dramat', 'appetit', 'uv', 'shepherdbord', '1746', 'cdma', 'mla', 'selfawar', 'ladakh', 'limacallao', 'vtu', 's5', 'wwiii', 'cadet', 'abdul', 'malwar', '130', 'psychiatri', 'harvest', 'harbor', 'fauna', 'alexa', 'constip', 'diagnosi', '15yearold', 'gamer', 'occasion', 'sting', 'mushroom', 'rd', 'endur', 'toddler', 'hop', 'connecticut', 'jone', 'canal', 'cp', 'asylum', 'vallenar', 'handset', 'vishnu', 'bizarr', 'autobiographi', 'edx', 'hatr', 'ami', 'bicarbon', 'chromebook', 'charm', 'cereal', 'mongol', 'disneyland', 'tertiari', 'applianc', 'git', 'nitrat', 'veg', 'primarili', 'raven', 'acmicpc', 'aakash', 'straighten', 'stylish', 'speck', 'meetup', 'hypnosi', 'flea', 'wolv', 'ross', '63', 'ozon', 'pichai', 'trilog', 'comedian', 'ambedkar', 'notat', 'indiapakistan', 'gtx', 'commod', 'ancestor', 'projectil', 'homeschool', 'incomplet', 'yugioh', 'walter', 'smith', 'marit', 'uncondit', 'bolivia', 'jurisdict', 'hadnt', 'submiss', 'compass', 'chill', '2s', 'satir', 'typhoon', 'myersbrigg', 'ss', 'vu', '1938', 'mongolia', 'cyclon', 'kazakhstan', 'arena', '58', 'insomnia', 'richer', 'rafal', 'yard', 'meteor', 'anthropolog', 'andi', '4000', 'kenya', 'pvt', 'tale', 'deadlin', 'imac', 'dynasti', 'kardashian', 'fir', 'graviton', 'patanjali', 'riyadh', 'bud', 'conveni', 'abdomen', 'hannib', 'karat', 'pandora', 'ajay', 'cart', 'transpar', 'pepsi', 'incorrect', 'sprint', 'stripe', 'eczema', 'plausibl', 'hawala', 'consolid', 'grasp', 'omega', 'confeder', '1gb', 'gi', 'ratna', 'dataset', 'dealership', 'qm', 'teleport', 'ssn', 'abc', 'mere', 'ic', '1024', 'issuanc', 'uberx', 'chop', 'su', 'acryl', '1s', 'thu', 'crucial', 'resembl', '7000', 'cam', '2math', 'cyst', 'inexpens', 'kpop', 'batter', 'groupon', 'penn', 'upi', 'emma', 'rostov', 'gui', 'rs60000', 'burnt', 'depriv', 'hopeless', 'robbin', 'anderson', 'hint', 'marilyn', 'obstacl', 'webcam', 'gland', 'acne…', 'npa', 'thief', 'augment', 'shout', 'pv', 'prestigi', 'goat', 'seemingli', 'shivaji', 'xcode', 'infrar', 'parliamentari', 'microbiolog', 'logout', '72', 'urgent', 'kickass', 'accumul', 'respiratori', 'antidepress', 'freeli', 'subtl', 'aris', 'commemor', 'polytechn', 'hank', 'inher', '13yearold', 'scab', 'scottish', 'heavili', 'convex', 'longitud', 'baratheon', 'chlorin', 'tanzania', 'spoke', 'cone', 'brass', 'kain', 'cargo', 'antisoci', 'zapata', 'allel', 'landform', 'baggag', 'ucla', 'stereo', 'fifti', 'chin', 'proverb', 'bamboo', '500000', 'royc', 'dens', 'showcas', 'vlc', 'myopia', 'yolk', 'scent', 'wheat', 'legendari', 'acknowledg', 'gyroscop', 'variant', 'tide', 'bangladeshi', 'buffet', 'masala', 'psat', 'laid', 'mum', 'alberta', 'rudest', 'dangelo', 'goku', 'clingi', 'render', 'h2o', 'bluray', 'vivo', '14day', 'soundtrack', 'apnea', 'supercharg', 'proactiv', 'selfdefens', 'dmt', 'tohoku', 'metallurgi', 'stiff', 'clau', '5kg', 'shimla', 'coolant', 'commonwealth', 'th', 'thoroughli', 'isc', '1010', 'oop', 'historian', 'kabaddi', 'ravi', 'valv', 'keen', 'continent', 'annex', 'dilemma', 'suppress', 'advisori', 'tournament', 'expel', 'aao', 'burst', 'sharehold', 'teas', 'emiss', 'satisfact', 'abu', 'scott', 'detach', 'mega', 'hsc', 'sarcasm', 'sensori', 'emoticon', 'oz', 'inspect', 'gallon', 'catcher', 'clark', 'vi', 'rainforest', 'nio', 'bb', 'scst', '68', 'costco', 'multiplay', 'realworld', 'reconstruct', 'rti', 'wisconsin', 'rectangl', 'stainless', 'jay', 'fc', 'everest', '700', 'chelsea', 'daydream', 'tent', 'garment', 'understood', 'tissu', 'thinker', 'aftr', 'olympian', 'hook', 'cascadia', 'supermarket', 'intak', 'del', 'complement', 'doom', 'heap', 'tvf', 'tonsil', 'songwrit', 'traitor', 'judgment', 'apparel', 'circumfer', 'needl', 'aluminium', 'ceas', 'jennif', 'wipe', 'leningrad', 'chandrakar', 'laden', 'compel', 'inertia', '32bit', 'autonom', 's3', 'advoc', 'mp4', 'tauru', 'ellen', 'overhyp', 'heel', 'literaci', 'turbo', 'creep', 'gop', 'bane', 'blend', 'jpeg', 'perpendicular', 'eo', 'rampant', 'oppon', 'propheci', '10kg', 'conjunct', 'tonight', 'nova', 'barium', 'electrician', 'alia', 'dice', 'sheep', 'schizoid', 'nougat', 'cooker', 'gut', 'bhatt', 'equilibrium', 'fewer', 'greenland', 'haircut', 'schooler', 'iift', 'africanamerican', 'sharpen', 'seventh', 'fargo', 'banner', 'adida', 'litter', 'outburst', 'quest', 'dialect', 'munich', 'mecca', 'raipur', 'sung', 'a380', 'etern', 'lamb', 'can', 'driven', 'clown', 'barri', 'thar', 'overturn', 'madli', 'iowa', 'mmorpg', 'tylenol', 'xlri', 'fright', 'hesit', 'nsh', 'rai', 'kilomet', 'blur', 'reptil', '12k', 'convect', '64bit', 'mustread', 'masterb', '1970', 'circulatori', 'brokerag', 'beagl', 'consecut', 'litr', 'ned', 'hijab', 'j5', '61', 'patholog', 'nickel', 'zeu', 'inventor', 'guwahati', 'ericsson', 'civic', 'whirlpool', 'eyeglass', 'nmim', 'rv', 'heterosexu', 'fitbit', 'opin', 'saturday', 'cdac', 'outfit', 'tyrion', 'riemann', 'discard', 'ro', 'noodl', 'inter', 'gs', 'postpon', 'acronym', 'migrain', 'oct', 'abbrevi', 'ramen', 'alkali', 'you’v', '18th', 'pasta', 'jainism', 'cornel', 'orchestra', 'sec', 'everytim', 'li', 'arjun', 'shopifi', 'jacki', 'halal', 'tat', 'robin', 'convey', 'doll', 'veteran', 'gr', 'nd', 'packer', 'whini', 'upwork', 'subsidi', 'romania', 'tableau', 's6', 'freecharg', 'webpag', 'eyelid', 'ongo', 'arc', 'chronolog', 'himalayan', 'fluorin', 'creami', 'layout', 'bse', 'fuse', 'cheater', 'anytim', '220v', 'tamilian', 'uno', 'stalin', 'anakin', 'objectivec', 'cinemat', 'unus', 'paranoid', 'dentistri', 'thumb', '93', 'bluestack', 'blender', 'falsifi', 'kannadiga', 'tasti', 'rag', 'relay', 'maryland', '33', 'mri', 'salmon', '00', 'header', 'clintontrump', 'nanshan', 'classmat', 'xii', 'mao', 'thursday', 'hassl', 'hover', 'rosetta', 'hotmail', 'quebec', 'dawn', 'refil', 'judgement', 'tampa', 'rarest', 'descent', 'thunder', 'devast', 'footag', 'interv', 'stunt', 'pug', 'emigr', 'girth', 'dust', 'these', 'inductor', 'modif', 'cbi', 'spontan', 'caption', 'rabi', 'ow', 'om', 'overload', 'if', 'covert', 'ankl', 'counterpart', 'leverag', '46', 'wat', 'unsolv', '3a', 'fond', 'sunset', 'allerg', 'romeo', 'osama', 'tangibl', 'entitl', 'overflow', 'bigg', 'buzz', 'courier', 'jim', 'toll', 'lizard', 'spacecraft', 'palestinian', 'kuril', 'celsiu', 'pentium', 'slack', 'armenia', 'gomez', 'valentin', 'overlap', 'uncl', 'monologu', 'rope', 'pondicherri', 'pugcavali', 'hostil', 'unrealist', 'metr', 'artwork', 'firefox', '19yearold', 'paradigm', 'en', '2004', 'nagar', 'dishonest', 'freight', 'spine', 'bran', 'ivanka', '1604', 'magician', 'nafta', 'sentiment', 'udac', 'ppc', 'osho', 'rsu', 'crow', 'bribe', 'token', 'happier', 'museum', 'matthew', 'seeker', 'womb', 'atleast', 'decrypt', 'personnel', 'referendum', 'chubbi', 'slaughter', 'drastic', 'assert', 'lax', 'agenda', 'jaw', 'trivandrum', 'fold', 'volkswagen', 'nike', 'seced', 'deadpool', 'ckwl', 'cvv', 'hw', 'guidanc', 'happili', 'comet', 'vga', 'bitdefend', 'tuna', 'ifb', 'sleepov', '–', 'bent', 'sierra', 'shutdown', 'dashboard', 'misus', 'scarciti', 'ballon', 'homo', 'forb', 'bussi', 'persuas', 'loc', 'ism', 'brahma', 'rye', 'phlegm', 'propuls', 'roy', 'legitimaci', 'chanakya', 'neutrino', 'sabotag', 'offcampu', 'avenu', 'kindli', 'infidel', 'coexist', 'massachusett', 'timet', 'spit', 'scientolog', 'marshal', 'docker', 'rival', 'xml', 'sensex', 'missouri', 'leopard', 'matrimoni', 'rs2500030000', 'chamber', 'clarif', 'hibern', 'bataan', 'nugget', 'treadmil', 'grab', '1962', 'singaporean', 'embrac', 'maratha', 'superstar', 'macromolecul', 'restrain', 'bsf', 'es', 'smash', 'grizzli', 'mandela', 'ki', 'spectacl', 'croatia', 'brainwash', 'occas', 'veto', 'madagascar', 'antisemit', 'malay', 'screenplay', 'cgi', 'gymnast', 'vanish', 'venmo', 'reticulum', 'immers', 'prosecut', 'windsor', 'endoplasm', 'verdict', 'ptsd', 'degener', 'hz', 'gupta', 'wednesday', 'mo', 'inhous', 'wilson', 'tagalog', 'greet', 'inspector', 'odisha', 'paperback', 'drag', 'davi', 'trauma', 'srinagar', 'dam', 'infertil', 'topcod', 'unstabl', 'qoura', 'fd', 'bp', 'hatchback', 'fad', 'suffix', 'carnivor', 'indigen', 'houston', 'herbalif', 'edison', 'kanpur', 'mutant', 'screenwrit', 'maggi', 'worthwhil', 'surat', 'cardio', 'dn', 'angsti', 'tibet', 'resurrect', 'assam', 'stink', 'seagat', 'indiranagar', '1965', 'vocat', 'seinfeld', '2024', 'hvac', 'vast', 'jerri', 'imax', 'han', 'avid', 'zoom', 'bhel', 'landlord', 'ripe', 'skunk', 'stool', 'oat', 'hubbl', 'nap', 'divert', 'notion', 'lactos', 'denver', 'vest', 'ascend', 'neon', 'infp', 'selfdriv', 'lithium', 'multivitamin', 'shini', 'fourier', 'brightest', 'lifechang', 'matric', '16gb', 'poorer', 'dev', 'wig', 'bioinformat', 'afmc', 'summit', 'attest', 'alot', 'ron', 'suv', 'stitch', '2x', 'obsolet', 'punctuat', 'complexion', 'crawl', 'meta', 'wrongli', 'jk', 'latitud', 'b1', 'guardian', 'distant', 'who’', 'prais', 'moham', 'aren’t', 'hindiurdu', 'centripet', '₹500₹1000', 'pharma', 'matapan', 'leaf', 'oregon', 'flex', '78', 'nyu', 'pore', 'unstopp', 'symbiosi', 'landlin', 'ouster', 'regiment', 'larri', 'hydraul', 'mona', 'prone', 'fintech', 'reagan', 'barch', 'interraci', 'srk', 'enrich', 'masculin', 'pedophil', 'fp', '—', 'kangana', 'weve', 'casino', 'thrive', 'narciss', 'alan', 'miscarriag', 'eighth', 'alumni', 'degrad', 'prostat', 'gbo', 'gandalf', 'lymph', 'polygon', 'puk', 'rescu', 'deodor', '“the', 'feather', 'atacama', 'jane', 'swipe', 'tickl', 'variat', 'thrust', 'creepi', 'curl', 'hardwork', 'nowher', 'terrifi', 'neanderth', 'reflex', 'dehydr', 'girl’', 'honesti', 'cord', 'bulg', 'neo', 'utilitarian', '747', 'castro', 'iam', 'eticket', 'sanctuari', 'parrot', 'voyag', 'cocktail', 'impot', 'possabl', 'genit', 'stake', 'conclud', 'cto', 'codein', 'tilt', 'borodino', 'necklac', 'sith', 'symmetr', 'residu', 'blink', 'corridor', 'boson', 'romanian', 'ellipt', 'barrel', 'nonrenew', 'unnecessari', 'preciou', 'pub', 'scammer', 'entrepreneuri', 'arch', 'shiv', 'baraka', 'footprint', 'recur', 'baleno', 'physician', 'icai', 'pwc', '×', 'kpmg', 'noisi', 'shine', 'stanley', 'billi', 'fatti', '92', 'steril', 'sworn', 'mesopotamia', 'methan', 'lamin', 'overwatch', 'acca', 'benchmark', 'blacklist', 'ottawa', 'mt', 'waveparticl', 'aztec', 'getaway', 'costli', 'cbr', 'imovi', 'mistress', 'cph4', 'melodi', 'vault', 'furiou', 'mediterranean', 'probiot', 'duolingo', 'pint', 'goodby', 'deflect', 'affleck', 'demat', 'shepherdgolden', 'outi', 'hymen', 'seiz', 'mvp', 'iitb', 'judiciari', 'succes', 'intro', 'mailbox', 'stab', 'dji', 'shyness', 'jayalalithaa', 'scriptur', 'unlucki', 'passag', 'priyanka', 'regardless', 'chihuahua', 'triniti', 'crossplatform', 'zomato', 'vowel', 'iri', 'null', 'pour', '42', 'sovereignti', 'discourag', 'coolpad', 'midsenior', '15m', 'empath', 'aeroplan', 'constel', 'soak', 'louder', 'ict', 'defect', 'capricorn', 'goi', 'inhabit', 'istanbul', 'narr', 'bcg', 'politi', 'undo', 'dropout', 'wattpad', 'brink', 'cooler', 'hamburg', 'postag', 'piss', 'valdosta', 'oppress', 'ferrari', 'tenant', 'coo', 'dob', 'unclo', 'coldest', 'horsepow', 'jellyfish', 'yelp', 'accredit', 'madison', 'nirma', 'zeta', 'vacanc', 'situp', 'x1', 'buddi', 'costa', 'zika', 'greenhous', 'viceversa', 'quadcor', 'glove', 'retent', 'pun', 'jaguar', 'colombian', 'cern', '370', 'dine', 'tangent', 'hrm', 'mover', 'luxembourg', 'racket', '5v', 'selflearn', 'reconcil', 'cohen', 'drank', 'fiancé', 'guitarist', 'rainfal', 'kettl', 'tx', 'barclay', 'intrins', 'aborigin', 'lace', 'firmwar', 'psycho', 'runway', '13th', 'sarkar', 'euthanasia', 'philip', 'polynomi', 'thug', 'sanction', 'championship', 'evernot', '2003', 'nifti', 'db', 'venic', 'curvatur', 'ballet', 'ayurveda', 'scifi', 'transsexu', 'boon', 'bust', 'bracket', 'blanket', 'workflow', 'selena', 'unsc', 'provok', 'cybersecur', 'fring', '390', 'arsen', 'heisenberg', 'credenti', 'sem', 'wolverin', 'nadar', 'segreg', 'bounti', 'lnmiit', 'fahrenheit', 'h4', 'roam', 'nth', 'ditch', 'crunch', 'gcse', 'tubal', 'ho', 'macroeconom', 'torch', 'exterior', 'phenomena', 'nostradamu', 'convolut', '2025', 'honestli', 'emilia', 'dhanbad', 'beij', 'barbado', 'r3', 'queue', 'dosha', 'impos', 'crusad', 'aristotl', 'elearn', 'manali', 'syntax', '59', 'escobar', 'grandfath', 'virtu', 'tqwl', '1kg', 'miniatur', 'laplac', 'biochemistri', 'uiux', 'revamp', 'sitcom', 'interchang', 'worthless', 'copywrit', 'quadrat', 'curbelimin', 'hornet', 'nonvirgin', 'unconsci', 'undercov', 'portland', 'cb', 'forbid', 'monom', 'johnni', 'soundcloud', 'redirect', 'rington', 'libra', 'ese', 'neurologist', 'carrot', 'pupil', 'claus', 'hypothyroid', 'virgo', 'leon', 'pigeon', 'vandal', 'ecuador', 'bale', 'excercis', 'jeep', '₹30000', 'labpitbul', 'enact', 'ravana', 'rowl', 'bodyguard', 'nolan', 'dairi', 'op', 'polygami', 'edibl', 'resolutions’2017', 'physiotherapi', 'contributor', 'dicaprio', 'neumann', 'awa', 'carter', 'sonic', 'testicl', 'asphalt', 'reheat', 'byzantin', 'boycott', 'dryer', 'towel', 'batsman', 'rider', 'nissan', 'duct', 'fog', 'geometr', 'hunger', 'interven', 'nurtur', 'abram', 'internetonlin', 'proprietorship', 'ham', 'scrambl', 'nile', 'forth', 'hijack', 'fdi', 'embarass', 'firebas', 'honeywel', 'luca', 'howard', 'chatbot', 'devalu', 'imt', 'hawaiian', 'daycar', 'haryana', 'ginger', 'alto', 'persuad', 'traumat', 'cola', 'afterward', 'rcc', 'salti', 'dwarf', 'tucson', 'i20', 'northeastern', 'suscept', 'prolong', 'abduct', 'uneduc', 'mathdisplaystyl', 'testimoni', 'propan', 'thrown', 'vitiligo', 'lithuania', 'forrest', 'rand', 'mun', 'marksheet', 'qualit', 'naval', 'median', 'inde', 'simpler', 'synthes', 'uncertainti', 'hood', 'propag', 'paraguay', 'perci', '1971', 'danish', '17th', 'armour', 'mahabharat', 'deer', 'numerolog', 'subcontin', 'dor', 'pivot', 'm750n', 'fpga', 'laboratori', 'shanghai', 'martian', 'fission', 'tecton', 'curri', 'irrespect', 'wrinkl', 'meerut', 'aam', 'videocon', 'rpm', '24in', 'rotten', 'shri', 'melatonin', 'sweater', 'slr', 'despis', 'promo', 'bhu', 'iaf', 'northeast', '16yearold', 'grate', 'shriram', 'hourglass', 'thru', 'o2', 'jeremi', 'pervert', 'jvm', 'servo', 'gordon', 'narrat', 'pisc', 'regina', 'lucif', 'stationari', 'lame', 'directv', 'chromecast', 'shortterm', 'godaddi', 'mic', 'specialis', 'ligat', 'intervent', 'ddo', 'fallout', 'sophomor', 'udaipur', 'netanyahu', 'parasit', 'domicil', 'mantra', 'sacramento', '1800', 'shepherdhuski', 'canker', 'bayesian', 'conveyanc', 'allahabad', 'simil', 'gradual', '80000', 'luckiest', 'culinari', 'nationalist', 'thunderbird', 'munnar', 'hondura', 'aniston', 'xl', 'bootload', '10yearold', 'dirt', 'ipu', 'demerit', '1111', 'interf', 'plato', 'g2', 'sasuk', 'unback', 'injur', 'kfc', 'bhogl', 'mbti', 'harsha', 'embrass', 'brilliant', 'legalis', 'vet', 'reservoir', 'mutton', 'collis', 'hanuman', 'dengu', 'azerbaijani', 'phosphoru', 'boycot', 'biodegrad', 'tf', 'feb', 'peninsula', 'nihil', 'sine', 'viewopinion', 'teaser', 'nontechn', 'lice', 'blast', 'encod', 'arthriti', 'dravid', 'bmc', 'bradley', 'idaho', 'tortilla', 'projector', 'offenc', 'migrant', 'lightsab', 'brew', 'rideshar', 'ci', 'impract', 'virginia', 'quotat', 'hive', 'unawar', 'downhil', 'par', 'spike', 'od', 'oak', 'torrentzeu', 'reappear', 'obvious', 'distrust', 'concious', 'offset', 'cana', 'comedk', 'blurri', 'fianc', 'hal', 'sansa', 'tame', 'unjust', 'rahu', 'absorpt', 'supervis', 'thrill', 'drake', 'parker', 'manmohan', 'merger', 'pennsylvania', 'rash', 'prom', 'fascist', 'lebanon', 'aurora', 'cacpt', 'lasik', 'irregular', 'tzu', 'deflat', 'magnu', 'foreskin', 'passbook', 'multin', 'eros', 'world’', 'unverifi', 'peach', 'infer', 'cibil', 'jewelri', 'monica', 'fellatio', 'oyster', 'mcat', 'kva', 'bpm', 'json', 'dermatologist', 'pitt', 'brad', 'hurdl', 'thirsti', 'ergonom', 'parkinson', 'cypru', 'abund', 'checker', 'milit', 'taliban', 'deplet', 'connector', 'introductori', 'mulayam', 'taxabl', 'collag', 'proavisor', 'weaker', 'antichrist', 'status', 'csir', 'kb', 'genom', 'depot', 'vim', 'dropper', 'zoho', 'arun', 'pandey', 'shooter', 'pantyhos', 'waiver', 'loyalti', 'incognito', 'elabor', 'upe', 'primer', 'samajwadi', 'dlink', '\\u200e₹1000', '\\u200e₹500', 'ut', 'inprov', 'cortana', 'bootabl', 'seizur', '9gag', 'panama', 'penguin', 'te', 'arijit', 'faithless', 'shobhit', 'bridesmaid', 'exe', 'stove', 'tyson', '1952', 'xavier', 'coca', 'kilauea', 'mehta', 'gin', 'skywalk', 'shortlong', 'refurbish', 'jar', '777', 'symmetri', 'garag', '1m', 'hygien', 'quark', 'trojan', '3x', 'quicker', 'gestur', 'leonard', 'mamta', 'audiobook', 'nostalg', 'liberia', 'booti', 'yosemit', 'nicmar', 'kany', 'pointerbox', 'joaquin', 'postscript', 'eyelash', 'hv', 'asshol', 'dimension', 'bitch', 'agraw', 'amino', 'hungarian', 'revolutionari', 'que', 'pewdiepi', 'biryani', 'ds', 'hussein', 'cnc', 'onboard', 'zoloft', 'rar', 'anomali', 'narrow', 'atp', 'tai', 'clara', 'tlc', '15th', 'rotor', 'lunar', 'gotham', 'sulphur', 'rupay', 'frac', 'authoritarian', 'malt', 'simon', 'mash', 'quadcopt', 'madhya', 'psd', 'dba', 'priest', 'inaccur', 'latter', 'israelipalestinian', 'lite', 'fdr', 'gig', 'lingeri', 'foursquar', 'immor', 'pistol', 'msi', 'nasti', '530', 'scholar', 'temp', 'trophi', 'bracelet', 'incur', 'platinum', 'programmingcod', 'brave', 'surpass', 'lawrenc', 'mh', 'dishwash', 'likelihood', 'mastercard', 'pseudosci', 'reunion', 'carnat', 'psn', 'arewer', 'nonmet', 'nlp', 'ea', 'yojana', 'sooryavansham', 'genotyp', '43', 'ballist', 'westero', 'recit', 'unreli', 'underdevelop', 'anemia', 'snore', 'stern', 'conced', '16th', 'benjamin', 'rick', 'oakland', 'socal', 'mauritiu', 'uranium', 'badg', 'nsg', 'turnov', 'millenni', 'tn', 'yu', 'necess', '₹25000', 'pulley', 'f22', 'vmc', 'ecr', 'expenditur', 'pedal', 'roorke', 'proxima', 'cinnamon', 'dictatorship', 'belowupto', 'fiverr', 'symphoni', 'brit', '2500', 'iter', 't795', 'venom', 'tolkien', 'lamborghini', 'hispan', '49', 'hiphop', 'sindhu', 'trustabl', 'hepat', 'intercept', 'castor', 'meaningless', 'condemn', 'coma', 'electrod', 'raee', 'aol', 'finnish', 'provision', 'recurr', 'lahor', 'lava', 'sexism', 'leh', 'haskel', 'crawler', 'enthusiast', 'organel', 'gearbox', 'dublin', 'trichi', 'biom', 'diana', '2030', 'mutat', 'ohm', 'muay', 'ira', 'jewelleri', 'champagn', 'handicap', 'driveway', 'overreact', 'mislead', 'maharaj', '144', 'markup', 'mccartney', 'airsoft', 'kharagpur', 'isaac', 'joey', 'longdist', 'pinscherchihuahua', 'opencv', 'yellowston', 'granit', 'ge', 'rivalri', 'overwhelm', 'xray', 'grew', 'hamlet', 'transvers', 'bm', '3year', 'hydrat', 'theta', 'sheryl', 'sindhi', 'sandberg', 'gemini', '500₹', 'parametr', 'trail', 'yearold', 'kohinoor', 'delus', '41', 'freak', 'tesseract', 'breakthrough', 'dispers', 'zedong', 'questionask', 'tallest', 'dd', 'pea', 'vertex', '1000₹', 'netaji', 'lightweight', 'planck', 'preview', 'fundrais', 'shortag', 'spa', '1687', 'earliest', '6k', 'brag', 'hentai', 'underestim', '23andm', 'supposedli', 'har', 'smoothli', 'clockwis', 'cruelti', 'nespresso', 'mcgill', 'nonstop', 'vienna', 'subsid', 'abstain', 'receptor', 'mailchimp', 'dome', 'compart', 'apprais', 'volatil', 'decod', 'bakeri', 'ark', 'nre', 'closur', 'insead', 'menopaus', 'terminolog', 'nicaragua', 'hm', '2000r', 'ocw', 'pointless', 'fece', 'joffrey', 'inspit', 'neyo', 'preop', 'hackathon', 'af', '47', 'lili', 'fibr', 'homeland', 'metadata', '7k', 'bloodi', 'sail', 'barron', 'punta', 'genesi', 'tenor', 'pursuit', 'jefferson', 'cardiac', 'cardboard', 'ibrahim', 'graphen', 'fortress', 'selfless', 'trigonometri', 'veterinarian', 'tunisia', 'dismiss', 'inclus', 'roughli', 'entangl', 'habbit', 'reboot', 'chia', '64gb', 'pace', 'people’', 'fragil', 'sultan', 'monument', 'reef', 'monk', 'firework', 'iodin', 'ethiopia', 'noncreami', 'modulu', 'avast', 'crate', 'slope', 'rs15000', 'chi', 'jabalpur', 'nonsens', '96', 'jaim', 'ti84', 'spill', 'aadmi', 'marco', 'montréal', '18yearold', 'samesex', 'nepales', 'pendriv', 'kuala', 'lumpur', 'bowler', 'treasur', 'cattl', 'nasdaq', 'postgresql', 'csv', 'began', 'imrov', 'mistaken', 'spank', 'kai', '5c', 'fermat', 'parabola', 'thinner', 'timor', 'freshmen', 'interperson', 'wii', '442', 'crowdsourc', 'vital', 'zs', 'apertur', 'oswald', 'viii', 'exponenti', 'unblur', 'rins', 'semiautomat', 'mockingbird', 'theolog', 'jira', '1math', 'maco', 'homeopathi', 'apathi', '720p', 'familiar', 'subtract', 'ferrou', 'sensibl', 'ec2', 'wwwsocialtradebiz', 'confin', 'chiropract', 'b2c', 'celeri', 'problemat', 'nutrient', 'materialist', 'gc', 'caribbean', 'sdhc', 'silliest', 'tibetan', 'mesh', 'eager', 'sudan', 'farthest', 'peev', 'shaw', 'camel', 'maiden', 'cph', 'nucleic', 'renam', 'salsa', 'carlsen', 'brogli', 'premis', 'underag', 'reopen', 'puffi', 'ota', 'complementari', 'acm', '190', 'reactj', 'boruto', 'deleg', 'peripher', 'va', 'layov', 'blackhol', 't2', 'amber', 'solomon', 'bulldogpitbul', 'pqwl', 'rlwl', 'codecademi', 'clap', 'escal', 'beethoven', 'pillar', 'vinyl', 'improvis', 'hypertens', 'passcod', 'bourbon', 'bomber', 'saul', 'd5200', 'in', 'chopra', 'deepika', 'admob', 'hypocrisi', 'expatri', 'modafinil', 'nsa', 'warang', 'editori', 'loophol', 'hungari', 'intimaci', 'iima', 'dough', 'reign', 'sonam', '62', 'seper', 'usain', 'leisur', 'ach', 'inflamm', 'zoolog', 'yorker', 'pars', 'somalia', 'grief', 'pollock', 'goosebump', 'regener', 'truecal', 'energ', 'mayweath', 'founderceo', 'totalitarian', 'methanol', 'salon', 'sennheis', 'burden', 'rto', 'oman', 'l2', 'hoffman’', 'concis', 'woocommerc', 'haram', 'hoffman', 'headshot', 'xmen', 'nigerian', 'congest', 'cr', 'mosfet', 'mono', 'spatial', 'skullcandi', '28th', 'russel', 'marxism', 'populist', 'ambiti', 'broadway', 'concuss', 'usabl', 'okcupid', 'hindustan', 'mait', '29th', 'juliet', 'armatur', 'yorkiecorgi', 'bronz', 'brandi', 'downfal', 'i’v', 'saga', 'ductil', 'hitchhik', 'misdemeanor', 'dehradun', 'linksi', 'spinal', 'mythic', 'prequel', 'mathx', 'dwarka', 'mispronounc', 'comma', '650', 'versail', 'spiral', 'stall', 'skull', 'filament', 'mandat', 'editorinchief', '2005', 'typefac', 'recept', 'touchscreen', 'coc', 'saddam', 'subsist', 'grope', 'booster', 'talli', 'pavilion', 'wp', 'lactic', 'laziest', 'bladder', 'person’', 'sebi', 'landmark', 'kamchatca', 'participl', 'trillionair', 'carlo', 'twilight', 'azad', '155', 'preced', 'pineappl', 'conceiv', 'indiau', 'roi', '1812', 'feloni', 'willpow', 'upenn', 'mediat', 'celeb', '1099', 'trench', 'eal', 'mosqu', 'optimist', 'unborn', 'sunlight', 'rooster', 'nonbeliev', 'eco', 'estonia', 'aaron', 'breeder', 'weightag', 'coorg', 'catalyst', 'happend', 'adhes', 'thane', 'unrel', 'jbl', 'purana', 'aaa', 'postur', '1947', 'manifest', 'bpharm', 'bcci', 'charlott', 'withstand', '39', 'cryptographi', 'papaya', 'wooden', 'pond', 'peta', '1000000', 'increment', 'eiffel', 'pearson', 'bourn', 'mph', 'vanilla', 'substanti', 'orphan', 'catia', 'cremat', 'falcon', 'grind', 'unicorn', 'myriad', '\\u202adelhi\\u202c', 'alongsid', 'brunei', 'ayn', 'classi', 'moist', 'ke', 'ital', 'allout', '1940', 'taxpay', 'pnb', 'anabol', 'glock', 'mediatek', 'cyclic', 'moocelearn', 'thyroid', '115', 'tendenc', 'equilater', 'flickr', 'trapezoid', 'lit', 'revert', 'overpr', 'ibiza', 'mario', 'legion', 'maritim', '1200', 'blown', 'plc', 'acer', '\\u202acompany\\u202c', 'marc', 'raft', 'vessel', 'lcm', 'warp', 'royalti', 'widespread', 'liverpool', 'unless', 'lil', 'constraint', 'jehovah', 'phenol', 'ukulel', 'undervalu', 'anasazi', 'weaken', 'gump', 'iphoneandroid', 'monoth', 'character', 'reschedul', 'indulg', 'grandmoth', '5g', 'contamin', 'palac', '625', 'curios', 'ether', '13000', 'reassign', 'neft', 'attir', 'swag', 'adjac', 'hardi', 'trumpclinton', 'barber', 'hendrix', 'nick', 'unread', 'mors', 'hyperton', 'straw', 'nurseri', 'nonveg', 'pagan', 'pesticid', 'pricey', 'beliz', 'mitsubishi', 'dsp', 'expiri', 'monaco', 'bullenglish', 'selfconsci', 'similarli', 'phonet', 'sodexo', 'sde', 'bullshit', 'jnu', 'nicki', 'tirupati', 'yeast', 'forearm', 'mcom', 'utter', 'beliv', 'spaniard', 'rtg', 'ccie', 'maurya', 'fragment', 'deputi', 'jimi', 'gimp', 'congression', 'biz', 'cochin', 'metaphys', 'sabbath', 'etl', 'tmobil', 'sulfid', 'ima', 'instructor', 'palmistri', 'scientistengin', 'khaki', 'bailey', 'iiith', 'grader', '320', 'subatom', 'hereditari', 'pluck', 'quantiz', 'legumin', 'y2', 'multicultur', 'polyest', 'oc', 'tum', 'instantan', 'forg', 'lumos', 'puller', 'prof', 'spear', 'gmo', 'versatil', 'infring', 'essenc', 'sergey', 'ledger', 'myntra', 'rhaegar', 'checkmat', 'neko', 'atsum', 'locht', 'chloroform', 'roug', '25th', 'dear', 'ukrainian', 'hinder', 'captiv', '315', 'saini', 'quantifi', 'mustach', 'cougar', 'alibaba', 'graham', 'lyf', 'hexagon', 'organiz', 'shouldn’t', 'driverless', 'thong', 'opensourc', 'turin', '201516', 'unnatur', 'wwwmidnightexpressionswordpresscom', '169', 'palpatin', 'tumor', 'thunderbolt', 'bucket', 'kabali', '6p', 'landhous', 'unbeliev', 'aunti', 'allig', 'absurd', 'edm', 'imped', 'lp', 'bodyweight', 'allus', 'kaufmichcom', 'incarn', '13579111315', 'hardcor', 'roosevelt', 'ost', 'pitcher', 'twinkl', 'prisma', 'degrass', 'asap', 'galileo', 'islamabad', 'br', 'ministeri', 'herbivor', 'crimea', 'leed', 'm604dn', 'fba', 'castrat', 'buttock', 'mainfram', 'shroud', 'terrier', 'await', 'amper', 'rigid', 'taarak', 'nitk', 'shenzhen', 'gm', 'deem', 'redesign', 'spywar', 'bpd', 'mug', 'blazer', '6000', 'extinguish', 'limeston', 'gown', 'espresso', 'reprogram', 'workday', 'padukon', 'gambler', 'enfp', 'verg', 'm1', 'imageri', 'lethal', 'cena', 'wirelessli', 'prop', 'mont', 'selfimprov', 'amish', 'bunni', 'alkalin', '25000inr', 'chan', 'refinanc', 'yen', 'pastor', 'imper', 'radial', 'naoh', 'emf', 'halt', 'mh370', 'freemason', 'baker', 'perhap', 'castebas', 'dean', 'squirrel', 'constitu', 'shameless', 'flesh', 'herb', 'freckl', 'fountain', 'parad', 'coldplay', 'artilleri', 'sixteen', 'cst', 'ng', 'vnit', 'slut', 'itc', 'csgo', 'infotech', 'butler', 'expedia', 'dhabi', 'saiyan', 'done”', '“would', 'psoriasi', '76', 'stochast', '86', 'incompet', 'cynic', 'hudson', 'damn', 'faridabad', 'coral', 'logarithm', 'commando', 'greatli', 'tranc', 'renown', 'gazet', 'notch', 'selftaught', 'ser', 'rf', 'slav', 'rt', 'conjug', 'ipc', 'savannah', 'leftw', 'wwwallbestlistcom', 'ambit', 'talkavg', '101', 'thrice', 'nonliv', 'hallucin', 'cuddl', 'denial', 'carnegi', 'spreadsheet', 'outback', 'growl', 'denot', 'azur', 'halfway', 'carbohydr', 'autopilot', 'casualti', 'informatica', '18000', 'planetari', 'kindest', 'strep', 'akbar', 'uni', 'darjeel', 'exotherm', 'schema', 'pickl', 'broccoli', 'cj', 'thumbnail', 'mose', 'one’', '12v', 'audibl', 'tortois', 'utorr', 'kochi', 'imit', 'english？', 'nestl', '1300d', 'inconsist', 'labia', 'easter', 'f18', 'homepag', 'derogatori', 'bureau', 'emath', 'drupal', 'parodi', 'frm', 'nbc', 'standpoint', 'indigo', 'dth', 'ethan', 'stylu', 'nonresid', 'thaw', '165', 'injustic', 'summon', 'audac', 'amnesia', 'mildew', '105', 'homeopath', 'diff', 'doctrin', 'lawn', 'motto', 'techno', 'tajikistan', 'smo', 'nj', '20yearold', 'copa', 'realism', 'oath', 'negan', 'lookup', 'regimen', 'massless', 'bronx', 'rica', '82', 'liga', 'atla', 'needi', 'curabl', 'moodi', 'lodg', 'r15', 'ftp', 'nebraska', 'zener', 'ought', 'reggio', 'reliv', 'exploit', 'nerf', 'dasa', 'hallelujah', 'shudra', 'uruguay', 'toastmast', 'sq', 'ddr3', 'brawl', 'cmi', 'perm', 'dawood', 'breach', 'flywheel', 'puma', 'rockstar', '2k', '69', 'sophist', 'biotech', 'rebuild', 'warhol', 'neglect', 'uncensor', 'pile', 'ganguli', 'mazda', 'genius', 'goddess', 'sausag', 'multitask', 'cation', 'tow', 'pessimist', 'someone’', 'klout', 'aceton', 'cdn', 'usindia', 'sinu', 'verma', 'ikea', 'imprison', 'scotia', 'scrum', 'latino', 'sharepoint', '1997', 'baar', 'corioli', 'kafka', 'criticis', '15mg', 'anaerob', 'subreddit', 'bankrupt', 'maximis', 'burglar', 'pilari', 'keratosi', 'nank', 'kasperski', 'furi', '247', 'shayari', 'moan', 'malia', 'arjuna', 'pharmacolog', 'arraylist', 'likabl', 'professorialprofessor', 'niti', 'indira', 'pushov', 'specul', 'unnecessarili', 'debilit', 'benifit', 'gibraltar', 'lubric', '250000', 'isl', 'midi', 'midlif', 'kurukshetra', 'riski', 'cengag', 'shrimp', 'henna', 'maldiv', 'gotra', '256', 'washer', 'defer', 'merchandis', 'auditor', 'homolog', 'cal', 'burqa', 'ador', 'curd', 'jinnah', 'mahendra', '60k900', '1896', 'bdsm', 'kobe', 'redo', '45000', 'slavic', 'divin', 'stripper', 'gaug', 'telltal', 'uncertain', 'blair', 'paradis', 'nepali', 'himach', 'standalon', 'isom', 'capacit', 'moor', 'hologram', 'trump–clinton', 'gravi', 'bartend', 'latent', 'trumpet', 'shankar', 'pornograph', 'peg', 'tina', 'defi', 'tricki', 'vlog', 'acr', 'gaya', 'tunak', 'diffract', 'middleclass', 'conscienc', 'luna', 'crocodil', 'intestin', 'huawei', 'temptat', 'subsequ', 'lefthand', 'maya', 'iem', 'jason', 'para', 'leftist', 'squeak', 'puriti', 'kkk', 'stealth', 'energet', 'limeric', 'smiley', 'captcha', 'ranbir', '20152016', 'replica', 'jindal', 'grip', 'gov', '102', 'iiser', 'anticlockwis', 'charcoal', 'unconvent', 'calligraphi', 'cuomo', 'swell', 'unsaf', 'blackberri', 'sardesai', 'vmware', 'amitabh', 'amazonin', 'chao', 'ix', 'behead', 'nanodegre', 'stole', 'childish', '750', 'orphanag', 'browni', 'voucher', 'elvi', 'facepalm', 'conceal', 'leia', 'ronald', 'chromatographi', 'emc2', 'wart', 'quartz', 'vizag', 'ssccgl', 'cumul', 'pec', 'nutriti', 'netel', 'noon', 'irc', 'indefinit', 'cloudi', 'spur', 'icu', 'precipit', '1984', 'nonpolar', 'algeria', 'schizophren', 'playback', 'rem', 'sniff', 'catnip', 'ecstasi', 'baltimor', 'widget', 'probationari', 'arid', 'remors', 'mon', '6d', 'nonbiodegrad', 'dy', 'payday', 'demolish', 'ingrown', 'wyom', 'lamarck', 'administ', 'chow', 'cmd', 'ladder', 'medicar', 'metallica', 'laughter', 'throttl', 'skew', 'deepdark', 'vol', 'muffin', 'indeen', 'parlour', 'veterinari', 'pgpm', 'rottweilerpitbul', 'jbim', 'dystrophi', 'sy', 'exceed', 'nata', 'kosher', 'siberian', 'stutter', 'pla', 'sibm', 'geophys', 'stude', 'unsend', 'valparaiso', 'psychiatr', 'unforgett', 'lotu', 'baltic', 'nootrop', '1822', 'fmcg', 'hq', 'cw', 'jeemain', 'backpag', 'subsurfac', 'gigant', 'edgwar', 'jadavpur', 'stipend', 'henc', 'merci', '404', 'nyquil', 'editorin', 'plank', 'cantilev', 'raini', 'etsi', 'lego', 'cruiser', 'mustvisit', 'wreck', '126', 'haiti', 'uxui', 'inbuilt', '500gb', 'patil', 'phi', 'apprentic', 'gospel', 'cpm', 'wherev', '1002', 'rightw', 'gaybisexu', 'somewhat', 'galact', 'dock', 'freekick', 'ferret', 'porsch', 'wallac', 'wealthiest', '5x', 'econometr', 'craziestweirdest', 'jarvi', 'barn', 'sedan', 'ambigu', 'gillian', 'eugen', 'mpsc', 'mississippi', 'timetravel', 'assad', 'bain', 'prey', 'abomin', 'poetic', 'quadrupl', 'mi5', 'salesman', 'traval', 'inhibit', 'highbrow', 'eater', 'marcu', 'whoever', 'marley', 'courag', 'municip', 'superstiti', 'beacon', 'nigger', 'cutter', 'serversid', 'ccnp', 'specialti', 'lagna', 'purr', 'lm', 'ethiopian', 'onelin', 'd3300', 'minu', 'wick', 'abdomin', 'transmitt', 'plsql', 'joel', 'nirvana', 'khouri', 'panason', 'epistemolog', 'supercomput', 'neuro', 'investigatori', 'physiqu', 'postdoc', 'contractu', 'incap', 'seismic', 'indopak', 'pca', 'daytoday', '316', 'noah', 'stepbystep', 'sagar', 'imf', 'dl', 'mach', 'stun', 'kayak', 'saavn', '520', 'spielberg', 'prism', 'occurr', 'ged', 'luffi', 'cpap', 'crust', '77', 'godrej', 'dxmath', 'hitler’', '1998', 'raja', 'murakami', 'antiqu', 'bbm', 'undefin', 'torah', 'gossip', 'babylon', 'suburb', 'antitrump', 'electrostat', 'arundhati', 'aqueou', 'aquariu', 'macaroni', 'emotionless', 'unman', 'vista', 'anarchi', 'skelet', 'eunuch', 'proxim', 'bestlook', 'g20', 'spencer', 'repar', 'incept', 'selfemploy', 'craig', 'pumpkin', 'beggin', 'knuckl', 'handshak', 'calgari', 'scout', 'surreal', 'flicker', 'lpg', 'x3', 'hyperbol', 'heterogen', 'poultri', 'extermin', 'sahib', 'wander', 'rover', 'problemsolv', 'cloak', 'xy', 'wich', 'nausea', 'hotter', 'procur', 'loco', 'sprite', 'cmat', 'openstack', 'wearabl', 'comp', 'phish', 'vajiram', 'demotiv', 'maroon', 'nurturinginsid', 'rubbish', 'dementia', 'carl', 'mozart', 'covet', 'harsh', 'couchsurf', 'redund', 'clitori', 'boygirl', 'tar', 'conway', 'rearrang', 'rigor', 'lexu', '365', 'chashmah', 'tifr', 'insa', 'koran', 'omnivor', 'mojav', '150000', 'sext', 'albani', 'quietli', 'ketchup', 'anand', 'epitheli', 'jsp', 'hsbc', 'volvo', 'nowazardan', 'sai', 'intranet', 'vacuol', 'sympathi', 'entp', 'curat', '1950', 'whore', 'actorsactress', 'cursiv', 'niit', 'brisket', 'critiqu', 'dowri', 'genghi', 'cosmo', 'righthand', 'immatur', 'avicii', '300k', 'plumb', '26th', 'scatter', 'mlb', 'drowsi', 'dodo', 'khalifa', 'vita', '140', 'skittl', 'wd', 'deutsch', 'blocker', 'lengthi', 'justif', 'dummi', 'unfairli', 'ajax', 'condo', 'anesthesia', 'rswl', 'funnel', 'aspen', 'causal', 'cpi', 'palantir', 'jem', 'hackerrank', 'maida', 'fur', 'nite', 'rlgn', 'christi', 'dwarv', 'fratern', 'pathway', 'addmis', 'glycolysi', 'gnwl', '71', 'yellowwhit', 'inquiri', 'hl', 'hemorrhoid', 'unwritten', 'threw', 'titrat', 'ren', 'kylo', 'milan', 'cad', 'myspac', 'waiv', 'baptiz', 'confidenti', 'sqft', 'nordic', 'drew', '73', 'ounc', 'ralph', 'fibromyalgia', 'salvador', 'wcdma', 'concord', 'nocturn', 'netbean', 'perimet', 'isoscel', 'nmat', 'lien', 'orgi', 'exagger', 'incessantli', 'persona', 'commentari', 'raccoon', 'yugoslavia', 'summar', 'mallya', 'zindagi', 'kitti', 'affidavit', 'blogspot', 'wu', 'hybri', 'obiwan', 'paraphras', 'reelect', 'lambda', 'helix', 'engineeringwhat', 'jace', 'clari', 'calvin', 'tupac', 'uefi', 'cologn', 'jharkhand', 'histrion', 'gratuiti', 'pledg', 'phenotyp', 'radha', 'snort', 'servlet', 'monocyt', 'corros', 'quarterback', 'climax', 'diplomaci', 'juan', 'hoover', 'microorgan', 'polymorph', 'airway', 'overrid', 'hyper', 'alley', 'palindrom', 'cathod', 'unicellular', 'phillip', '110v', '2kg', 'cortex', 'carpent', 'z3200', 'runtim', 'mycroft', 'vow', 'coyot', 'yuvraj', 'steakhous', 'thapar', 'nervous', 'messeg', 'cringeworthi', 'spartan', 'dread', 'odyssey', 'sovereign', 'nylon', 'bandhan', 'raksha', 'ugcnet', '1999', 'pd', 'compuls', '8000', 'collater', 'hydrolysi', 'prevail', 'empower', 'substrat', 'pega', 'syring', 'tdr', 'preme', 'predominantli', 'concili', 'radian', 'storytel', 'kalyan', 'mascot', 'sikkim', 'whatsoev', 'pandit', 'geek', 'e3', 'descriptor', 'rj', 'jeopardi', 'tragedi', 'chaplin', 'rage', 'paperwork', 'atlant', 'tuxedo', 'cadburi', 'kelvin', 'di', 'ne', 'tcp', 'applock', 'barc', 'k4', 'simp', 'deja', 'heath', 'mlm', 'india’', 'aux', 'quotient', 'kbp', 'servant', 'enorm', 'rahman', 'creatin', 'sanitari', 'wirefram', 'kinda', '70000', 'himalaya', 'bravest', 'berri', 'diver', 'malta', 'bcc', '80k', 'bail', 'mustse', 'adder', 'tomorrowland', 'jamia', 'char', 'disrupt', 'puppet', 'cliff', 'ari', 'giraff', 'waiter', 'inni', 'nihilist', 'spirt', 'inapp', 'crusher', 'noc', 'cascad', 'pedigre', 'coop', 'severu', 'cpc', 'helplin', 'jakarta', 'pewter', 'sparkl', 'mathxmath', 'amphetamin', 'amway', 'barbara', '112', 'pathogen', 'idf', 'mech', 'jinp', 'arih', 'hk', 'sikhism', 'wool', 'incit', 'misunderstood', 'pawn', 'rm', 'so2', 'unmov', 'bernes', 'pdpu', 'reev', 'mdm', 'shivaay', 'nonexist', 'overtak', 'bezo', 'sterl', 'daytim', 'federalist', 'boner', 'igneou', 'apj', 'plead', 'j1', 'stir', 'shin', 'psychopathi', '3600', 'conservativespiritcom', 'fred', 'vivid', 'humbl', 'beaten', 'rohit', 'ancestrycom', 'pooja', 'medel', 'nainit', 'multithread', 'resin', 'pud', 'adulthood', 'eid', 'ranaut', 'checkup', 'cerebr', 'fin', 'hexadecim', 'continuum', 'resent', 'plumber', 'radiologist', 'morphin', 'spars', 'privatis', 'xamarin', 'rs10000', 'comb', 'lisp', 'synthesi', 'pinch', '1945', 'rooftop', 'shortlist', 'slider', '35000', 'syllabl', 'nun', 'impair', 'brijmohan', 'selfpublish', 'inbound', 'misc', 'vadodara', 'benedict', 'fanat', 'marina', 'kailash', 'insulin', 'battleship', 'handbag', 'murray', 'k5', 'shatabdi', 'coalit', 'horrifi', 'gentl', 'snoop', 'codeignit', '128', 'rajdeep', '156', 'cosmolog', 'addanyproject', 'zeppelin', 'unreason', 'diagnost', 'vipassana', 'colonis', 'knead', 'cma', 'midday', 'uiuc', 'mediocr', 'oasi', '50010002000', 'dessert', 'dispens', 'indiass', 'opengl', 'burp', 'sandeep', 'horn', 'ebiz', 'costeffect', 'reappli', 'inlaw', 'traffick', 'visionari', 'sake', 'furri', 'trello', 'peso', 'franci', 'wateri', 'parachut', 'malleabl', 'jigsaw', 'languagehow', 'webscrap', 'jeb', 'bachchan', 'z5200', 'workstat', 'vailfivia', 'demolit', 'nutanix', 'boyfriendgirlfriend', 'paramilitari', 'gore', 'salut', 'superson', '3t', 'clot', 'allegi', 'staffykelpi', 'sublimin', 'mariana', 'alkan', 'vaild', 'preliminari', 'feynman', 'jaundic', 'ambul', 's4', 'centauri', 'soprano', 'psi', 'earth’', 'nanotechnolog', 'isn’t', 'ivf', 'inelast', 'vaselin', 'fateh', 'dreamt', 'gspot', 'timesav', 'sunil', 'zillow', 'picnic', 'focal', 'castilian', 'orlean', 'ppp', 'exot', 'stalker', 'lsat', 'overprotect', 'whatr', 'polyamor', 'well？', 'archeri', 'amritsar', '168', 'workshop', 'donkey', 'grudg', '940m', 'bilzerian', 'prc', 'uranu', 'farsi', 'chauhan', 'abid', 'macau', 'bilater', 'voluntarili', 'impun', 'cuboid', 'crippl', 'dropship', 'uncut', 'maheshwari', 'reit', 'discern', 'hawkish', 'chiang', 'dogpoint', 'poli', 'billiard', 'oust', '97', 'pharmacist', '200ah', 'dutt', 'websocket', 'hypothes', 'maid', 'underweight', 'inflict', 'vce', 'silica', 'doe', 'acclaim', 'debri', 'benz', 'lipstick', 'kw', 'knot', 'departur', 'arnav', 'lamar', 'upa', 'robberi', 'celeron', 'fuzzi', 'chandler', 'walli', 'img', 'sunflow', 'bacteri', 'ovarian', 'unexpectedli', 'cng', 'telepathi', 'unpredict', 'jihad', 'transcrib', 'ist', 'dope', 'mudra', 'caliph', 'habitat', 'meow', '2016–17', 'withheld', 'prithviraj', 'nt', 'jobless', 'sheila', 'swamp', 'predestin', 'biden', 'ubc', 'chlorophyl', '1948', 'bryant', 'hexan', 'haruki', 'leftov', 'personif', 'glassboro', 'lebron', 'alexandria', 'academia', '05', 'balsam', 'intrus', 'clariti', 'unearth', 'utilis', 'breastfeed', 'nixon', 'm2', 'tss', 'weeknd', 'mohali', 'metamorph', 'holden', 'osmania', 'bhp', 'ceasefir', 'biscuit', 'hay', 'wordi', 'poké', 'twoterm', 'cg', 'pse', 'bhishma', 'biomass', 'np', 'ldl', 'tendon', 'handcuff', 'moreov', 'teller', 'sage', 'nonindian', 'kissing', 'taglin', 'ta', 'alright', 'extrins', 'nonbrahmin', '24hour', 'whenwher', 'debunk', 'famouspopular', 'pertain', 'goto', 'noteworthi', 'reload', 'm452dw', 'dipol', 'wynk', 'bjt', 'apex', 'colin', 'brin', 'hawkey', 'rogan', 'ua', 'lhc', 'viscou', 'standbi', 'jawlin', 'duet', 'otp', 'infograph', 'nonlinear', 'promiscu', 'tomb', 'cytoplasm', 'sticki', 'amc', 'bravia', 'implicit', 'isil', 'richmond', '150r', 'pathet', 'knowingli', 'vascular', 'cystic', 'exhal', 'smoothi', 'sucros', 'layoff', 'mystic', 'ideapad', 'amit', 'primit', 'sakura', 'aiat', 'multimedia', 'dungeon', 'carburetor', 'capitan', 'multivari', 'beaver', 'mastermind', 'gtbit', 'revok', 'examm', 'aso', '45th', 'manageri', 'selfharm', 'imperfect', 'minneapoli', 'gal', 'trimmer', 'tailor', 'placebo', 'vie', 'calv', 'debitcredit', 'prefix', 'asha', 'inquir', 'sweati', 'pact', 'toothbrush', 'nonwhit', 'catholic', 'radiohead', 'erwin', 'swaraj', 'retak', '4chan', 'unga', 'apologis', 'braid', '401k', 'perl', 'namespac', 'pak', 'bpcl', 'baptism', 'cunnilingu', '3phase', 'margaret', 'technica', 'burberri', 'eread', 'cadr', 'taekwondo', 'ead', '151', 'anthoni', 'gutter', 'todo', 'bumbl', 'biker', 'atal', 'diaspora', 'kuan', 'trigonometr', 'cs50', 'golang', 'cbt', 'millilit', 'sulphat', 'magnif', 'chino', 'on7', 'corolla', 'beep', 'jitterbug', 'soro', 'astral', '84', 'deliver', 'sailor', 'erdogan', 'menac', 'batsmen', 'tldr', 'transpir', 'apa', 'gynecomastia', '240', 'sadist', 'xx', 'sooth', 'dip', 'tradeoff', 'payabl', '450', 'coco', '511', 'disintegr', 'consensu', 'cincinnati', 'mustard', 'desalin', 'lowend', 'multimillionair', 'diffrenc', 'ordin', 'leviti', 'unansw', 'alga', 'eng', 'econ', 'picasso', 'balkan', 'electro', 'pep', 'diaper', 'bariatr', 'geo', 'ale', 'terraform', 'archipelago', 'weav', 'amdoc', 'specter', 'insuffici', 'chad', 'mhtcet', 'boo', 'gees', 'moss', 'symposium', 'daw', 'out', 'coher', 'granth', 'prestig', 'lennon', 'netbook', 'tam', 'dent', 'indesign', '160r', 'introspect', 'svg', 'copilotsearchcom', '303', 'dilwal', 'midget', 'mathint', 'detriment', '8k', 'rewrit', 'overwhelmingli', 'treason', 'taipei', 'brock', 'm506x', 'flac', 'amput', '1994', '83', 'relativ', 'daisi', 'tourett', 'nfc', 'aruba', 'boulder', 'msg', 'jasmin', 'legislatur', 'selfhelp', 'newest', 'tango', 'ultron', 'sculptur', 'misogynist', 'defrost', 'connot', 'axl', 'tho', 'sa2', 'acl', 'webster', 'mishandl', 'monarch', 'dlp', 'wrestler', 'kt', 'wiser', 'wow', 'buggi', 'memo', 'registan', 'rim', 'mussoori', 'indo', 'stigma', 'sagittariu', 'r5', 'agarw', 'emmc', 'taho', 'regulatori', 'erotica', 'huskybord', 'kutcher', '640', 'asymptot', 'cinderella', 'pronoun', 'trajectori', 'trunk', 'groom', 'dat', 'emmi', 'campus', 'surfer', 'ramif', 'scofield', 'irnss', 'desi', 'trespass', 'ballast', 'dozen', 'dash', 'pasteur', 'ashram', 'ky', 'asynchron', 'stanni', 'hare', 'markov', 'fe', 'ascens', 'miniclip', 'mop', 'mangal', 'bhk', 'someday', 'lessen', 'pal', 'pigment', 'knive', 'ribosom', 'herhim', '9000', 'messiah', 'southwest', 'godfath', 'patrol', '74', 'fullstack', 'custodi', 'farmvil', 'monsoon', 'transcendent', 'friendliest', 'gratitud', 'bunge', 'm3', 'stammer', 'enginn', 'mhl', 'nelson', 'nyse', '666', 'dexter', 'sloth', 'ashton', 'distress', 'militia', 'intex', 'kinect', 'marten', 'chapati', 'intercast', 'nazism', 'quikr', 'angular2', 'mcdonald’', 'ignit', 'teaspoon', 'jenkin', 'ataturk', 'creationist', 'cram', 'aboard', 'octav', 'tinnitu', 'overse', 'rockefel', 'heartbroken', 'sangh', 'edgar', '14yearold', 'rashtriya', 'berth', 'nondisclosur', 'rnc', 'livein', 'theyll', 'blackmail', 'spleen', 'ketogen', 'cdse', 'ts', 'postapocalypt', 'patrick', 'drogo', '4i', 'iupac', 'jess', 'humili', 'khal', 'watsapp', 'jacob', 'macaron', 'collegium', 'mercedesbenz', 'loung', 'finn', 'handwritten', 'underwood', 'cherri', 'numpi', 'minaj', 'interrupt', 'homecom', 'abrupt', 'grassland', 'broad', 'aman', 'nikhil', 'playoff', 'demonitis', 'rowan', 'gasket', 'tunisian', 'byju', 'infantri', 'restructur', 'subhash', 'volleybal', 'bliss', 'washroom', 'reciproc', 'daylight', 'mightier', 'stood', 'censorship', 'ssi', 'nonenglish', 'knit', 'reagent', 'rfid', 'jss', 'willshould', 'techmahindra', 'refin', 'sketchup', 'homophobia', 'voip', 'margarin', '“need', 'sonia', 'jp', 'decompos', 'buzzfe', 'meng', 'proclaim', 'hermaphrodit', 'ravenclaw', 'savag', 'harmless', '1996', 'potent', 'mesa', 'waitlist', 'rac', 'repay', 'openli', 'slovenia', 'hydrocodon', 'rejoin', 'dildo', 'paperwhit', 'chimpanze', 'playboy', 'pale', 'hung', 'lilith', 'lanc', 'rommel', 'jamshedpur', 'days1', 'arrear', 'shawshank', 'shorten', 'mortar', '260lb', 'webinar', 'naiv', 'kickstart', 'vinc', 'nonamerican', 'surplu', 'madurai', 'aqua', 'globalis', 'dsl', 'athen', 'redempt', 'kubo', 'obey', 'littlefing', 'sideway', 'scuba', 'chairmanship', 'belov', 'undeni', 'crane', 'frappuccino', 'tommen', 'squarespac', 'annoyingli', 'crr', 'avogadro', 'wore', 'cordova', 'valmiki', 'retali', 'oddest', 'regrowth', 'striker', 'headmast', 'citru', 'poni', 'everyone’', 'velvet', 'shastri', 'multilevel', 'defici', 'madara', 'puff', 'epub', 'incestu', 'popup', 'salem', 'camscom', 'machineri', 'theresa', 'munjal', 'heurist', 'stapl', 'slimmer', 'sentri', 'paranoia', 'miranda', 'bali', 'checkpoint', 'twister', 'abap', 'hotb', 'ingress', 'harley', 'whenhow', 'gamechang', 'hashmap', 'howrah', 'skeptic', 'ksa', 'intership', 'nid', 'paralymp', '1314', 'neuroplast', 'downward', 'pragu', 'airfar', 'rack', 'kollywood', 'diatom', 'binomi', 'epigenet', 'subwoof', 'iasip', 'predispos', 'romney', 'mitig', 'wrangler', 'sdram', 'encapsul', 'crip', 'unknowingli', 'squeez', 'worldview', 'maestro', 'shazam', 'catfish', 'avalanch', 'tomboy', 'sigmund', 'machina', 'freud', 'sunris', 'cowboy', 'wherehow', 'powershel', 'fi', 'sufi', 'tarantino', 'quentin', 'heathrow', 'dravidian', 'uttarakhand', 'invok', 'chakra', 'sauna', 'coaxial', 'ramp', 'painlessli', 'handgun', 'monopol', 'graphit', 'techi', 'incan', 'purg', 'cartridg', 'hostess', 'lara', 'amazoncom', 'allan', 'chick', 'adulter', 'manu', 'solidwork', 'midwest', 'nro', 'monogami', 'lath', 'belgian', 'daikin', 'tribal', 'gaylesbianbi', 'uti', 'seneg', 'prolif', 'alopecia', 'curli', 'ein', 'hra', 'wasn’t', 'cape', 'revit', 'dubsmash', 'bookstor', 'medicaid', 'cheetah', 'preinstal', 'rachel', 'sal', 'ore', 'nawaz', 'vichitra', 'extremist', 'ome', 'rb', 'sharif', 'aerodynam', 'sledg', 'creek', '1835', 'w9', '410', 'purdu', 'sarah', 'raptur', 'accompani', 'confucian', 'nptel', 'godel', 'fatal', 'endocrin', 'pulp', 'dharma', 'misunderstand', 'sinha', 'dull', 'meritocraci', 'immens', 'housewif', 'hsu', 'taker', 'purs', 'psychometr', 'martyn', 'nonc', 'kyrgyzstan', 'adwar', 'tao', 'ultrason', 'palo', 'fragranc', 'kickbox', 'poo', 'fungi', 'raider', 'roadsid', 'hid', 'hacksaw', 'geeta', 'chamath', '1992', 'intraday', 'wheelchair', 'onward', 'mossad', 'panera', 'sprain', 'ammo', 'repent', 'amma', 'vendetta', 'eliez', 'yudkowski', 'agith', 'cameron', 'headlin', 'girli', 'deadshot', 'toast', 'empow', 'reich', 'ineffect', 'brotherhood', 'ooltah', 'apac', 'trampolin', 'bunk', 'concess', 'tedx', 'poisson', 'thirti', 'nevil', 'intermitt', 'usbc', 'brittl', 'h1', 'dmrc', 'dre', 'piston', 'amg', 'schrödinger', 'facilit', 'gyro', 'transexu', 'sickl', 'bloat', 'offspr', 'pst', 'thicken', 'gastric', 'itr', 'staf', 'epf', 'nosql', 'gosl', 'uncov', 'bigot', '122', 'enriqu', 'selftalk', 'permantley', 'nam', 'grumpi', 'topless', 'koh', 'chai', 'trouser', 'sapphir', 'reluct', 'counsellor', 'brook', 'burrito', 'neoliber', 'carnot', 'jonathan', 'jointli', 'moustach', 'mdi', 'unconstitut', 'narayan', 'eaadhaar', 'uefa', 'nonreligi', 'northwestern', 'tidal', 'duel', 'petersburg', 'preambl', 'ramsay', 'epilepsi', 'indestruct', 'ariana', 'threshold', 'celesti', 'stud', 'vfx', 'vanguard', 'feudal', '313', 'mandir', 'companion', 'liquidfoam', 'cracker', 'coe', 'bml', 'fatten', 'infinitesim', 'storylin', 'fingernail', 'sleeper', 'greedi', '660', 't1', 'gunshot', 'zebra', 'moroccan', 'psc', 'unintent', 'hardship', 'rx', 'conjur', 'nonprogramm', 'treasuri', 'programmat', 'cannon', 'surrogaci', 'wiper', 'neurotransmitt', 'nagaland', 'bittorr', '1404', 'takeoff', 'premiership', 'zipper', 'yuan', 'grinder', 'helpless', 'undergon', 'hane', 'amur', 'arbitrari', 'sasikala', 'icpc', 'serum', 'agatha', 'imam', 'mux', 'uganda', 'franca', 'rsi', 'sacrament', 'esp', 'generalis', 'crimson', 'dori', 'pendulum', 'lingua', 'whiter', '935', 'charit', 'difer', 'unobserv', 'pg13', 'perceptron', 'farc', 'arg', 'bromid', 'sindri', 'deepmind', 'a1', 'altogeth', 'pappu', 'hydrocarbon', 'a6000', 'twilio', 'mickey', 'khmer', 'levi', 'sharia', 'rutterdam', 'ungrat', 'csit', '444', 'mana', '1857', 'increasingli', 'zawar', 'ftre', 'ankit', 'alex', 'conveyor', 'indianapoli', 'laymen', 'yoke', 'malibu', 'bobcat', 'jinn', 'quesiton', 'angola', 'barefoot', 'mussel', 'clam', 'joni', 'hipster', 'hadith', 'josh', 'rugbi', 'caesar', 'bottleneck', 'anterior', 'majboori', 'naam', 'commenc', 'gatsbi', '36in', 'today’', 'entail', 'skyscrap', 'uce', 'exert', 'undiagnos', 'farther', 'capo', 'bowi', 'sita', 'infam', 'kn', 'salvat', 'cliché', '2050', '27th', 'defcon', 'hackerearth', 'deadlock', 'subnet', '1995', 'socrat', 'gothic', '148', 'alfr', 'bahrain', 'hound', 'egoist', 'wedlock', 'axial', 'overdr', 'saffron', 'scribe', 'crank', 'skim', 'incarcer', 'nh', 'jeffrey', 'westi', 'cigar', 'dart', 'shipment', 'hourli', 'vaio', 'deterior', 'onecoin', 'proudest', 'lexapro', 'metropolitan', 'beowulf', 'boseeinstein', 'hazel', 'scm', 'eleven', 'rocki', 'uniqlo', 'magnum', 'starvat', 'uphold', 'detain', 'crystallin', 'ubiquit', 'redditor', 'kurdistan', 'eric', 'certainli', 'disobey', 'ximb', 'shopkeep', 'synergi', 'unsung', '24x7', 'icwa', 'nginx', 'skit', 'babysit', 'multiplex', 'crotch', 'flim', 'tiffani', 'ambivert', 'chili', 'inerti', '3521', 'nuru', '1985', 'alken', '10x', '200mg', 'corpu', '‘empty’', 'cvt', '2x2', 'sucess', 'minerva', 'saver', 'phil', 'smog', 'kevin', 'cookwar', 'kozhikod', 'dothan', 'tpp', 'av', '1800v251’‘4919', 'basenjichihuahua', 'psychedel', 'veil', 'gavaskar', 'qtip', 'beautifi', 'samaj', 'iglesia', 'presum', 'demo', 'sop', 'misinform', 'quara', 'themat', '8051', 'bahubali', 'cent', 'mitchel', 'truncat', 'yew', 'pulmonari', 'lalu', 'vintag', 'archaeologist', 'albanian', 'bagel', 'tastiest', 'subha', 'nostril', 'subcultur', 'mayday', 'elf', 'ppl', 'supremacist', 'aai', 'ratifi', 'pioneer', 'manipur', 'unwelcom', 'sicilian', 'mn', 'shopper', 'kundali', 'autorickshaw', 'patern', 'ativan', 'zen', 'gall', 'brunswick', 'dt', 'fearless', 'stampscom', 'benzen', 'seoul', 'doyl', 'varun', 'prasad', '440', '147', 'lobe', 'ln', 'pragmat', 'illiter', 'cauter', 'liabl', 'dealt', 'beatbox', 'a4', 'imperson', 'backfir', 'booz', 'mavi', 'invisalign', 'jodhpur', 'chromatid', 'fashionista', 'sgd', 'artisan', 'intellect', 'persu', 'brita', 'altright', 'dodid', 'betta', 'saarc', 'electra', 'grubhub', 'casey', 'idp', 'iini', 'catchi', 'salvag', 'militar', 'moldova', 'joyc', 'stanza', 'suction', 'ugg', 'harbour', 'footwear', 'qtp', 'papa', 'antidonald', 'sohei', 'osx', 'rummi', '1361', 'nautic', 'autumn', 'truman', 'osi', 'acetaminophen', 'dotcom', 'pandava', 'realm', 'espn', 'mw', 'zzzquil', 'remix', 'uid', 'keanu', 'draco', 'rayban', 'cosmonaut', 'pb', 'euler', 'lynda', 'kane', 'voltmet', 'safeguard', 'vhdl', 'pmo', 'budapest', 'fluoresc', 'conversationalist', 'linkin', 'pentagon', 'archaeolog', 'kangaroo', 'guin', 'che', 'mellon', 'mathxymath', 'ovari', 'adher', 'hancock', 'odysseu', 'shadi', 'sourav', 'celtic', 'casio', 'probabilist', 'kant', 'sober', 'uplift', 'alevel', 'gibb', 'mhz', 'settler', 'l1', 'posterior', 'geotherm', 'kriya', 'qnet', 'othello', 'catan', '‘i', 'bulki', 'unwaiveringli', 'pornhub', 'thrift', 'bpl', 'eject', 'groin', 'englishdub', 'morning800am', 'joli', 'swastika', 'ranji', 'iaa', '501', 'realtor', 'fermi', 'radeon', 'foul', '6070', 'worsen', 'chisel', 'onechild', 'solitari', 'ihm', 'pod', '480', 'eq', '1015', 'axe', 'thompson', 'autotroph', 'emb', 'jurass', 'kendrick', 'vagu', 'innout', 'compact', 'bonus', 'brighter', 'librarian', '1974', 'airforc', 'phogat', 'pelvic', 'gabriel', 'paulo', 'logitech', 'fleec', 'ribbon', 'conservat', '40yearold', 'ilp', 'monotheist', 'labradorpug', 'memoris', 'printf', 'murphi', 'greed', 'stepmoth', 'dubstep', 'planar', 'bodnick', 'kart', 'shatter', 'josaa', 'checkout', 'dyslexia', 'oculu', 'eyebal', 'scanf', 'buff', 'infiltr', 'j2ee', 'voluntari', 'overdraft', 'silverback', 'nofap', 'sneak', 'imu', 'reclaim', 'maxwel', 'adequ', 'lloyd', 'keynot', 'punk', 'minimalist', 'crossdress', 'sinatra', 'meteorj', 'grammarlycom', 'hyperloop', 'tariff', 'energypotenti', 'jalandhar', 'petrochem', '480p', 'grandmast', 'dellhi', 'shaurya', 'postcard', 'postmat', 'obnoxi', 'geneva', 'autodesk', 'thrash', 'handicraft', '135', 'neuroscientist', 'fz', 'bittersweet', 'twelv', 'kneel', 'ramanujan', 'calib', 'capf', 'herniat', 'adulteri', 'alic', 'powerwal', 'insensit', 'overus', 'bansal', 'fanfict', 'turban', '10m', 'lynx', 'loudli', 'moth', 'mourn', 'stingi', '1986', 'overpopul', '900', 'hamper', 'pancrea', '1030', 'jntu', 'isca', 'uneven', 'lieuten', 'palawan', 'spoof', 'whisper', 'preach', 'unnot', 'electrolyt', 'cyanogen', 'multicellular', 'stewart', 'yell', 'picker', 'croft', 'nallamala', 'sedimentari', 'outperform', 'robust', 'amadeu', 'radiant', 'nhl', 'peoplesoft', 'heterotroph', 'surathk', 'ukraineeurop', 'uncompl', 'elixir', 'litig', 'statut', 'nk', 'mud', 'epl', 'airbend', 'rsa', 'reuter', 'arctic', 'pastri', 'no1', 'felon', 'firer', 'sherri', '横向卷轴rpg游戏', 'parser', 'sharpi', 'msrit', 'practition', 'summat', 'rs50000', 'araku', 'spree', 'irrelev', 'asperger’', 'eloqu', 'methyl', 'churn', 'quorian', 'importexport', 'scenic', 'rajiv', 'factbas', 'conquest', 'panick', 'sen', 'queensland', 'gigabyt', 'oceania', 'belfort', 'roti', 'mistakenli', 'howto', 'ceg', 'toggl', 'shih', 'ragpick', 'mastrub', 'sublim', 'welder', 's400', 'eec', 'conting', 'selfdisciplin', 'solitud', 'recount', 'pyrene', 'rao', 'sean', 'koi', 'lama', 'workspac', 'swimmer', 'mohammad', 'lana', 'verilog', 'asm', 'bernoulli', 'paralyz', 'kurdish', 'midway', 'adrian', 'lamo', 'spoon', '1100', 'colloid', 'crossfit', 'boreali', 'krav', 'nondeserv', 'howdo', 'basement', 'lavend', 'agartala', 'dim', 'shakur', 'tulip', 'interpol', 'drip', 'impend', 'devout', 'bridal', 'cub', 'archer', 'undress', 'concurr', 'trackpad', 'mourinho', 'jongun', 'bestfriend', 'goldberg', 'stuffi', 'bookmyshow', 'circu', 'solicit', 'vapour', 'maga', 'harmoni', 'devop', 'phonegap', 'estonian', 'nacl', 'autoplay', 'yoda', 'scalia', 'bunch', 'trembl', 'cue', 'underwrit', 'themself', 'citibank', 'multimet', 'pulsat', 'oxymoron', 'frankenstein', '2–3', 'aftermath', 'vedanta', 'cheroke', 'olx', 'drought', 'cs6', 'retract', 'thirdparti', 'deceiv', 'styrofoam', 'gummi', 'evad', 'oprah', 'ronaldinho', 'lender', 'kingroot', 'disregard', 'lui', 'ecchi', 'hernia', 'lehman', 'restless', 'paramed', 'airborn', 'wlan', 'exil', 'machiavelli', 'florenc', 'nerdi', 'paycheck', 'shore', 'cyclist', 'oppo', 'tirupathi', 'phrasal', 'disastr', 'polyamori', 'moscow', 'lor', '4digit', 'malcolm', 'finder', 'scholarli', 'moos', 'alkyn', 'nye', 'polyvor', 'mcq', 'purport', 'presley', 'manifesto', 'adress', 'highspe', 'follicl', 'flyer', 'musigma', 'fullsiz', 'romantic', 'warmer', 'pvc', 'filler', 'snapstreak', 'fork', 'siren', 'spurt', 'merc', 'espionag', 'typescript', 'unremark', 'curtain', 'sqlite', 'admitt', 'gione', 'poe', 'specificationswis', 'coars', 'jrf', 'ranchi', 'ganesh', 'nalanda', 'poach', 'cryptocurr', 'talki', 'kinemat', 'keralit', 'mica', 'cl', 'solder', 'precur', 'turnaround', 'pu', 'ntu', 'timer', 'keto', 'octa', 'ryanair', 'uss', 'pip', 'unitari', 'starboy', 'ecnr', 'kathmandu', 'yammer', 'overstay', 'calf', 'cleavag', 'bash', 'renounc', 'cancun', 'fist', 'varsiti', '612', 'lda', 'reflector', 'invari', 'victorian', 'flask', 'pele', 'directi', 'decomposit', 'trashi', 'sidney', 'formerli', 'surah', 'codi', 'c1', 'nook', 'grenad', 'wouldcould', 'astrophysicist', 'merkel', 'mcgregor', 'moni', 'conor', 'candor', 'monterey', 'disclosur', 'verna', 'stratifi', 'wbut', 'navajo', 'hgtv', 'touchpad', 'fresno', 'unsupervis', 'entrylevel', 'palihapitiya', 'eeg', 'periscop', 'passout', 'selflov', 'howl', 'cervic', 'postpaid', 'anorexia', 'surrog', 'endless', 'iphoneipad', 'mali', 'scandinavia', 'nasal', 'authorit', 'timothi', 'shunt', 'disparag', 'legola', 'widow', 'cylindr', 'boutiqu', 'travi', 'dogg', 'bazaar', 'neal', 'kijiji', '1800–251–4919', 'cleveland', 'uiet', 'itll', 'azor', 'panipat', 'nowzaradan', 'dominican', 'voiceov', 'sociopathi', 'rubix', 'kimi', 'headlamp', 'makemytrip', 'fullfledg', 'realest', 'geeki', 'deduc', 'mensa', 'bw', 'yeezi', 'luthor', '330', 'lex', 'persever', 'victor', '800000', 'cess', 'cosign', 'ntpc', 'doordash', 'blous', 'nonneg', '14000', 'concepcion', 'coliti', 'pilat', 'delux', 'sati', 'barkha', 'disbelief', 'nightclub', 'snail', 'avers', 'spaniel', 'bilingu', 'cod', 'lube', 'copycat', 'sochi', 'canyon', 'whitehat', 'extraordinari', 'referenc', 'kodaikan', 'divorce', '3yr', 'pansexu', 'ɖ∀ཡز∂', 'vincent', 'ɐŧ', 'ƫҿϟɮ☉', 'tta', 'patronu', 'denier', 'enslav', 'repuls', 'steric', 'beak', 'voot', 'abscond', 'gfe', 'bbbj', 'msog', 'dati', 'cim', 'owo', 'bbbjtc', 'bbf', 'sidhu', 'solenoid', 'dharamshala', 'whiteboard', 'norman', 'vm', 'aishwarya', 'mindfuck', 'gullibl', 'gsb', 'pwd', 'emac', 'tijuana', 'pka', 'doodl', 'fouryear', 'gentlemen', 'woodi', 'spawn', 'ftm', 'ventricl', 'dhan', 'clove', 'garmin', 'homesick', 'hugh', 'torent', 'laps', 'musthav', 'nickelback', 'roswel', 'parlor', 'halogen', 'kelli', 'madonna', 'draupadi', 'sneaker', 'scientologist', 'samoa', 'stub', 'isopropyl', '1972', '8085', 'postit', '55000', 'mango', 'slice', 'fob', 'nutella', 'proadvisor', 'v6', 'v8', 'pisa', 'sme', 'htmlcss', 'usacanada', '299', 'discipl', 'acquaint', 'tighten', 'almighti', 'benin', 'hopkin', 'wittiest', 'ifttt', 'whowhat', 'childbirth', 'remodel', 'intrest', '20mm', 'antibodi', 'constructor', 'loon', 'magnifi', 'malfoy', '1989', 'persecut', 'lopez', 'flew', 'bancshar', 'rin', 'geostationari', 'animos', 'jitsu', 'britney', 'evan', 'abt', 'ghat', 'ifsc', 'ieee', 'tangenti', 'sehwag', 'earl', 'malik', 'winrar', 'shashtri', 'heartless', 'notsofam', 'mai', 'tsunami', 'kanyakumari', 'advent', 'mukherje', 'strategist', 'mathsqrt72math', 'fiance', 'rourkela', 'planner', 'droid', 'navel', 'rhombu', 'watermark', 'lever', 'ammet', 'lear', 'ssh', 'disband', 'freshen', 'renault', 'cannib', 'iitjam', 'cumin', 'billboard', 'bunker', 'adiabat', 'pmt', 'kj', 'hush', 'unmotiv', 'refere', 'nashvil', 'monje', 'rtr', 'nonsmok', 'preprocessor', '4year', '1g', 'lecter', 'kiit', 'bipc', 'ananthagiri', 'cuda', '“complex”', 'cima', '810', '1600', 'i140', 'alchohol', 'barney', 'unsuccess', 'forprofit', 'mdma', 'vuitton', 'ming', 'ascii', 'nair', 'libel', 'footballsocc', 'woo', 'earbud', 'unarm', 'plunger', 'preexist', 'aca', 'gaana', 'andromeda', 'kaabil', 'preposit', 'pretenti', 'strait', 'wimp', 'defam', 'nehwal', 'saina', 'buis', 'workforc', 'ghul', 'hieroglyph', 'cf', 'andriod', 'scissor', 'sandler', 'hippo', 'dynamo', 'charad', 'monopolist', 'comey', 'nash', 'derma', 'bundl', 'holograph', 'night’', 'osmosi', 'abhimanyu', 'catastroph', 'boast', 'ideo', 'swe', 'expon', 'afsb', 'sap2000', 'bloom', 'andaman', 'hone', 'diatomac', 'soundmag', 'stockholm', 'refineri', 'barrist', 'solicitor', 'asoiaf', 'hered', 'pageant', 'floppi', 'gelatin', 'pseudoephedrin', 'pn', 'lauren', 'registrar', 'a7000', 'dekho', 'piraci', '173', 'shepherdlabrador', 'a5', 'disagr', 'flashlight', 'instig', 'faction', 'ramayan', 'naik', 'combo', 'univ', 'orat', 'grandma', 'crunchyrol', 'keylogg', 'sn', 'outbreak', 'kargil', 'flammabl', 'freefal', 'bosch', 'cameroon', 'arlington', '700d', 'countertop', 'fullscreen', 'tartar', 'highqual', 'npv', 'mahabharatha', 'paleo', 'graft', 'asymmetr', 'unsold', 'cfd', 'asvab', 'germ', 'hf', 'aussi', 'torn', 'toenail', 'barista', 'carpal', 'hallow', 'tarek', 'missionari', 'thinkpad', 'camouflag', 'résumé', 'milf', 'furnac', 'nietzsch', '9f', 'k12', 'ashwin', 'llm', 'ms2', 'mongolian', 'dawkin', 'quip', 'lid', 'syndic', 'neat', 'lgbtq', 'yorki', 'overheard', 'insta', '1787', 'exorcist', 'zondlecom', 'vimeo', 'mnit', 'escapad', 'torsion', 'casimir', 'chaotic', 'ncaa', 'eden', 'uncommon', 'jdk', 'anecdot', 'marbl', 'antiag', 'janeiro', 'cleans', 'cctv', 'qvc', 'dribbbl', 'netsuit', 'cockpit', 'gamemak', 'koffe', 'hardwood', 'acc', 'poptropica', 'octal', 'jerusalem', 'cosmopolitan', 'builtin', 'rever', 'retrograd', '24th', 'painkil', 'logan', 'rote', 'ble', 'wtc', 'shouldshouldnt', 'putti', 'ambien', 'haven’t', 'handmad', 'broth', 'uncontrol', 'deceler', 'housekeep', 'collin', 'raga', 'rpg', 'vicodin', 'snowflak', 'retarget', 'ue', 'déjà', 'doubli', 'skydiv', 'dumpl', 'ashkenazi', 'supremaci', 'u2', '2year', 'corona', 'hadn’t', 'goggl', '35mm', 'oceanographi', '24hr', 'aero', 'fundsindia', 'panchayat', 'ooti', 'iist', 'duckworthlewi', 'apc', 'stevi', 'kaaba', 'lwp', 'downey', 'tablecloth', 'ittehad', 'sceneri', 'glg', 'lobbyist', 'perth', 'backbon', 'bioscienc', 'mccarthi', 'loath', 'navratri', 'minoxidil', 'permut', 'tort', 'kodi', 'cardigan', 'hoe', 'giza', 'manpow', 'enviro', 'penal', 'shoplift', 'rosari', '400m', 'overli', 'archaic', 'weightlift', '250w', 'bernard', 'himym', 'ror', 'motif', 'polygam', 'shirdi', 'ishrat', 'prune', 'colorblind', 'amus', 'sitemap', 'counselor', 'dominatrix', 'etio', 'tacki', 'superdri', 'balm', 'ward', '6digit', 'gathbandhan', 'perfectionist', 'ita', 'orthogon', 'mov', 'winland', 'overview', 'warg', 'pageview', 'reimburs', 'pnp', 'sjsu', 'tantra', 'ibdp', '8yearold', 'famin', 'inkjet', 'azeri', 'methylphenid', 'rs5', 'mika', 'unvers', 'mathpimath', 'omaha', 'basil', 'instacart', 'readabl', 'charisma', 'glycerin', 'ligament', '1966', 'arabisra', 'squareoffin', 'dant', 'mimic', 'manhunt', 'nag', 'ritalin', 'remad', 'stork', 'cortisol', 'codeblock', 'garrett', 'angela', 'punnett', 'hubspot', 'emphasi', 'gandhiji', 'bart', 'walki', 'obstruct', 'suni', 'soror', 'wristband', '4day', 'faint', 'catabol', 'informat', 'hemp', '1987', 'iia', 'abnorm', 'orchestr', 'limp', 'bye', 'daesh', 'shuffl', 'guerrilla', 'vip', 'coutri', 'scihub', 'mnemon', '1982', 'goblin', '12pm', 'carson', 'sep', 'chopstick', 'unoffici', 'thackeray', 'idk', 'helena', 'adsorpt', 'metrocard', 'hatch', 'freddi', 'exp', 'goodwil', 'herd', 'stumbl', 'nonnuclear', 'mayor', 'narcot', 'plenti', 'mees', 'camphor', 'ripjaw', 'incens', 'bach', '517', 'sangli', 'newshour', 'avi', 'jpg', 'harappan', 'norton', 'flunk', 'redshift', 't0', 'tofu', 'deprec', '100000000', 'limb', 'borax', 'fs', 'stinson', 'bibliographi', 'catagori', 'lang', 'mv', 'kv', 'irrig', 'dll', 'grammi', 'bicamer', 'frictionless', 'surya', 'serotonin', 'rwanda', 'k2', 'carrey', 'atkinson', 'ieo', '50mm', 'copypast', 'réalli', 'gooey', 'exodu', 'maria', 'broom', '920m', 'raisin', 'blueprint', 'remarri', 'programat', 'theatric', 'advantagesdisadvantag', 'diffrent', 'ambival', 'semaphor', 'invertebr', 'minion', 'hc', 'ju', 'unsav', 'sisal', 'gamegeek', 'sweep', 'gaussian', 'refrain', 'doo', 'carol', 'acut', 'shud', 'fireresist', 'leaki', 'mip', 'webdriv', 'ivan', 'wt', 'defec', 'emp', 'gastli', 'biochem', 'salami', 'mindtre', 'caipcc', 'leicest', 'mahayana', 'cosmetolog', 'vaccum', '3k', 'bachata', 'xenophob', 'societ', 'pt', 'addepar', 'platformmediasourc', 'cartel', 'brent', 'vicepresid', 'lotr', 'xerox', 'roulett', 'remitt', 'brighten', 'bastard', 'yureka', 'maven', 'reentri', 'exploratori', 'yc', 'dietari', 'cheesecak', 'bharadwaj', 'sergeant', 'tuberculosi', 'adhar', 'pk', 'gerund', 'quinn', 'msd', 'melanin', 'you’', 'onpag', 'offpag', 'myer', 'dosag', 'quorawhi', 'mathematica', 'saniti', 'origami', 'alameda', 'thermomet', 'tr', '31st', 'onomatopoeia', 'reconcili', 'horrif', 'glycol', 'urea', '1868', 'sept', 'ya', 'tambora', 'tray', 'chyawanprash', 'usmc', 'yorkshir', 'monti', 'paa', 'microb', 'institu', 'badí‘', 'hyperspac', 'ipm', 'sidelin', 'inscrib', 'frizzi', 'rant', 'woodchuck', 'resili', '1988', 'lobbi', 'burma', 'patcher', 'motherinlaw', 'robinhood', 'clearest', '1755', 'vatican', 'astigmat', 'tel', 'carousel', 'tremend', 'ncc', 'schizoaffect', 'duckworth', 'censu', 'dogma', 'esland', 'gamet', 'piezoelectr', 'cello', 'testo', 'amid', 'purest', 'jeevan', 'butcher', '535', 'manli', 'fugu', 'trioxid', 'omnipot', 'mag', 'omnisci', 'spiderweb', 'godavari', 'sloan', 'chemist', 'newer', 'consumer', 'kyc', 'naan', 'sushma', 'lisbon', 'ethereum', 'simla', 'confederaci', 'roopkund', 'toptal', '9k', 'retard', 'sitesmatrixcom', '820', 'backpropag', 'ddr2', 'triumph', 'xfiniti', 'webhost', 'lodha', 'hoist', 'eritrea', 'lund', '2000025000', 'assimil', 'jw', 'concav', '1977', 'dzire', '35k', '1991', 'zara', 'counterstrik', 'webmast', 'gbp', 'lyricist', 'dermatolog', 'zumba', 'nuremberg', 'fandom', 'slipper', '38lpacan', 'bilirubin', 'lgbti', '85yr', 'joshua', 'surefir', 'bmath', 'm330', 'headquart', 'redi', 'equit', '099', 'euthan', 'tread', 'techinc', 'guerilla', 'kendra', 'bedsheet', 'recaptcha', 'asic', 'bookkeep', 'disqualifi', 'idiomat', 'irma', 'reven', 'testifi', 'detent', 'scarlet', 'unchart', 'scot', 'pvr', 'villa', 'toothpick', 'ljubljana', 'igcs', 'lyndacom', 'otto', 'accomod', 'unsatur', 'swayamsevak', 'sadhu', 'xa', 'z1', 'dissip', 'politico', 'dank', 'mcconaughey', 'parakeet', 'copenhagen', 'parkway', 'latina', 'phasor', 'aquarium', 'manifold', 'earpiec', 'mathab3math', 'cheapli', 'burj', 'fender', 'uvers', 'slash', 'ranogajec', 'comprehend', 'paroxetin', 'rescind', 'aldo', 'paxil', 'coffin', 'cruelest', 'brahmo', 'acdc', 'kurta', 'wag', 'huntsvil', 'retreat', 'longboard', 'tchaikovski', 'commot', 'gaddafi', 'kisser', 'laguna', 'ters', 'cydia', 'againt', 'deforest', 'activist', 'enema', 'balrog', 'decidu', '150k', 'abba', 'bhakt', '1x', 'outrun', 'writer’', 'lightyear', 'pranic', 'doorstep', 'nineti', 'majest', 'zest', 'rainwat', 'ssr', 'dht', 'mira', 'xsin', 'pakistanimmin', 'cento', 'evok', 'm712dn', 'ns', 'mbt', '3km', 'tun', 'uptu', 'quintessenti', 'russ', 'limbo', 'sling', 'radioisotop', 'lookalik', 'cisf', 'psychosi', 'goel', 'precook', 'somaiya', 'tapmi', 'mathdisplaystylelimxto', 'mathura', 'commission', 'aggressor', 'bohr', '500inr', 'fie', '1967', 'firsthand', 'vulgar', 'semiot', 'terra', 'liechtenstein', 'honeycomb', 'vssut', 'payon', 'burla', 'hindustani', 'witten', 'pinocchio', 'restroom', 'saruman', 'teddi', 'semin', 'preboard', 'broiler', 'narmada', 'deathli', 'reprint', 'pron', 'rgb', 'advil', 'underarm', 'dearest', 'glenn', 'impostor', 'nozzl', 'gerrymand', 'jare', 'dreamlin', 'decriminalis', '134', 'mc', 'accru', 'fungu', 'skillselect', 'mesra', 'emc', 'sorcer', 'albania', 'quizz', 'f35', 'bo', 'disaccharid', 'rug', 'asana', 'shun', 'landslid', '932', 'supervolcano', '1mb', 'greatwhit', 'salaam', 'limitless', 'mia', '178', 'hoop', 'ayurv', 'upanishad', 'misplac', 'nascar', 'cheekbon', 'estrogen', 'flappi', '30th', 'nand', 'bh3', 'drummer', 'amu', 'runni', 'zionist', 'tamu', 'nucleotid', 'scaffold', 'ps2', 'devot', 'impart', 'orthodont', 'delusion', '2048', 'albu', 'afghan', 'platon', 'pattaya', 'artifact', 'chitkara', 'djibouti', 'chipotl', 'gopichand', 'kalki', 'ayodhya', 'adrenalin', 'substant', 'howwhen', 'flowchart', 'dayn', 'rheumatoid', 'staircas', 'shortli', 'baidu', 'hci', 'oxal', 'workfromhom', 'broil', 'waterfal', 'blackmoney', 'lymphocyt', 'jeeadvanc', 'doha', 'eau', 'off', 'curricular', 'lactat', 'brute', 'pawan', 'dartmouth', 'umass', 'paneer', 'bim', 'caterpillar', 'bord', 'cfl', 'hairi', 'nibiru', 'olympu', 'franchise', 'longlast', 'infront', 'masti', 'dentur', 'c5', 'c4', 'seth', 'hpv', 'shavedhead', 'oci', 'zakir', 'tiwari', 'mapreduc', 'der', 'cyriu', 'writ', 'delink', 'sheriff', 'shillong', 'lapd', 'h2', 'goos', 'fluorid', 'tailgat', '175', 'habitu', 'apocalypt', 'garfield', 'airbag', 'sweeten', 'tachyon', 'recombin', 'nosi', 'bradi', 'confuciu', 'extradit', 'merri', 'haploid', 'langan', 'extramarit', 'inda', 'nanavati', 'freaki', 'contradictori', 'docomo', 'blob', 'cairo', 'rockdal', 'ebusi', 'ou', 'obscur', 'undertal', 'fordham', 'arithmet', 'shashi', 'architecturedesign', 'tharoor', 'mama', 'sumo', 'upse', 'illumin', 'bulimia', 'maev', 'camshaft', 'proscon', '250r', 'flirti', 'gettysburg', 'amo', 'navamsa', 'stout', 'gnome', 'cfp', 'folicl', 'jamaican', 'meanvarianceskew', 'drove', 'stimulu', 'sanyo', 'photoshoot', 'dribbl', 'ko', '15kg', '2yearold', 'inflight', 'nomad', 'bounci', 'honolulu', 'sw', 'iin', 'duplex', 'bhagwan', 'polymeras', 'chun', 'icbm', 'monochromat', 'nestlé', 'zit', 'canara', 'spratli', 'frontier', 'deceit', 'downlink', '18004392178', 'uplink', 'industrialist', 'b12', 'ventil', 'prejud', 'kodak', 'mi4i', 'vox', 'kerosen', 'jenner', 'freeman', 'excis', 'salesmen', 'youin', 'awkwardembarrass', 'wareh', 'frugal', 'floater', 'splinter', 'wwwstoreguidein', 'breezer', 'basket', 'sleepwalk', 'eighteen', 'uchiha', 'anurag', 'minora', 'rh', 'ticklish', 'cranial', 'sharingan', 'copernicu', 'biologist', 'kingship', 'biopic', 'zynga', '202', '304', 'suspicion', 'slowcook', 'uchicago', 'milkshak', 'obscuri', 'debentur', 'v5', 'nichola', 'metallurg', 'viewbelief', 'countrywhi', 'xxx', 'rahat', 'uzbekistan', 'theism', 'laveen', 'sudoku', 'valedictorian', 'preprat', 'oreo', 'fea', 'tricep', 'likealittl', 'ambran', 'acuiti', 'anjali', 'm20x', 'abhishek', '234', 'formul', '22nd', 'merlin', 'tywin', 'chlamydia', 'mrf', 'negat', 'damon', 'taper', 'nonmormon', 'fa', 'ghee', '3kg', 'pomad', 'mva', 'shae', 'mdesign', 'cun', 'enamel', 'unsuit', 'volcan', 'stator', 'donna', 'breastfe', 'pickpocket', 'heaviest', 'gallium', 'claudiu', 'jiit', 'glonass', 'idm', 'calibr', 'ramakrishna', 'axon', 'foami', 'lngedna', 'perjuri', 'fixer', '185', 'gynecologist', 'disinfect', 'wahhabi', 'forti', 'sicili', '189', 'latt', 'dave', 'curvi', 'clarinet', 'hypochondriac', '85k', 'ashok', 'e2', 'longev', 'dhaka', 'plaza', 'doug', '70d', 'bakr', 'roland', 'dresden', 'babri', 'splash', 'narse', 'codeforc', '14year', 'mim', 'pyrolysi', 'fico', 'brothel', 'reebok', 'cinematographi', 'orwel', 'septal', 'rebound', 'avr', 'odorless', 'hooter', 'ifr', 'inert', 'unpaid', '1855', 'crap', 'ole', 'supermoon', 'protinex', 'passiveaggress', 'unintellig', 'netgear', 'braill', 'smaug', 'mmr', 'mcmullin', 'jock', 'onoff', 'waze', 'ravish', 'dvr', 'doj', 'motel', 'pollen', 'noneu', 'selfteach', 'josef', 'mengel', 'oxycodon', 'schmidt', 'kemal', 'resumé', '5060', 'hivaid', 'jong', 'microbi', 'pedophilia', 'linkiscom', 'protrud', 'opium', 'nonchristian', 'phosphor', '270', 'gitam', 'rs20k', 'disco', 'epa', 'vimana', 'gcc', 'government’', 'meetm', 'jameson', 'gautam', 'yalu', 'agra', 'dept', 'imap', 'submers', 'iridium', '300grain', '“i', 'greyhound', 'iphone7', 'lockscreen', 'webbas', 'tracfon', 'thirteen', 'lata', 'remarket', 'clojur', 'poss', 'pluralist', 'cert', 'chickenpox', 'snapshot', 'droplet', 'gnp', 'underworld', 'arnold', '504', 'chouhan', 'sanyogita', 'unprofession', 'illog', 'beryllium', 'bred', 'kundli', '80211', 'crackpot', 'tso', 'raceethn', 'payload', 'haven', 'indirectli', 'squash', 'checklist', 'constanc', 'wineri', 'gourmet', 'improp', 'chalisa', 'palsi', 'indica', 'shaver', 'babu', 'mahesh', 'healthwarehousecom', 'successful', 'inning', 'chola', 'feedpostcom', 'quarterli', 'algo', 'narco', 'lauderdal', 'cmc', 'ww', 'nonprolifer', 'possum', 'intrigu', 'dorito', 'attrit', 'bj', 'nsf', 'ebola', 'nostalgia', 'hijra', 'bryan', 'offthebeatenpath', 'chernobyl', 'thoughtwork', 'sina', 'planet’', 'disguis', 'padmanabhaswami', 'hitman', 'amrita', 'nemo', 'est', 'pacquiao', 'mountbatten', 'eurofight', 'toad', 'togo', 'onshor', 'rvce', '70k', 'zayn', 'dodg', 'sunshin', 'monoton', 'unaccount', 'spanishamerican', 'salmonella', 'graffittibookscom', 'dodon’t', 'programmnig', 'spectromet', 'tirunelv', '5day', 'incontin', 'cappuccino', '60mph', 'cardin', 'contracept', '128gb', '4196', 'an', 'truffl', 'snippet', 'vick', 'bulova', 'jiu', 'inton', 'tarantula', 'patron', 'percocet', 'ymca', 'muzzl', 'rohingya', 'niser', 'mummi', '2611', 'showmovi', 'microcomput', 'spaghetti', 'secunderabad', 'aikido', 'outrag', 'rs30000', 'dietitian', 'fullmet', 'fetu', 'samurai', 'litmu', 'deceas', 'gallbladd', 'i10', 'incorrectli', 'tarragon', 'intermolecular', '109', 'v151', 'q164', 'yougod', 'chit', 'z3', 'kurt', 'visakhapatnam', 'flock', 'proofread', 'mother’', 'bronchiti', 'div', 'ironman', '1060', 'stair', 'alphabetagammathetadelta', 'dhirubhai', 'detoxifi', 'dalai', 'cilantro', 'neuter', 'arthakranti', 'hammerbach', 'swf', 'scra', 'botani', 'udemydownloadercom', 'spacesuit', 'kakashi', 'relativist', 'mangaanim', 'submerg', 'motogp', 'adorn', 'pellet', 'weekday', 'impedi', 'madden', 'pygmi', 'm606x', 'comit', 'ravan', 'bigotri', 'retweet', 'gaylesbian', 'kiosk', 'avl', 'whattsapp', 'bellybutton', 'blizzard', 'menon', 'pilsner', 'quizzer', 'noncompet', 'seawat', 'appsc', 'girlfriendboyfriend', 'solr', 'centimet', 'newsmal', 'screech', '1935', 'zoosk', 'siriu', 'evangel', 'umpir', 'rustom', 'somat', 'shingeki', 'kyojin', 'petal', 'vika', 'hs', 'holdem', 'puri', 'raptor', 'keynesian', 'risotto', 'aloud', 'angelina', 'overthrown', 'filet', 'mignon', 'mamc', 'overh', 'creme', 'cyanogenmod', 'springfield', 'paye', 'pullup', 'oedipu', 'valar', 'blackrock', 'siemen', 'wpi', 'photoelectr', 'flourish', 'sci', 'incumb', 'huma', 'abedin', 'sacr', '538', 'deepwat', 'navjot', 'toothach', '981', 'paramount', 'strictli', 'rutger', 'yash', 'ref', '5year', 'seafood', 'swiggi', 'rollback', 'antifreez', '₹20000', 'frisbe', 'reminisc', 'flipboard', 'osiri', 'spartacu', '5d', 'niec', '5050', 'cdot', 'silki', 'viewpoint', 'pm25', 'manganes', 'indemand', 'jerki', 'pesit', 'innat', 'flare', 'civilis', 'kepler', 'decept', 'tajmah', 'outflow', 'supermass', 't120', 'signup', 'jacksonvil', 'byrn', 'objectiv', 'dougla', 'vigilant', 'congo', 'condescend', 'overlook', 'obedi', '12yearold', 'oslo', 'sig', 'angellist', 'cocker', 'emerald', 'padi', 'daiict', 'frnd', 'streep', 'alev', 'dumbbel', 'diss', 'nitrid', 'ubl', 'agoura', 'bric', 'meryl', 's2', 'youngster', 'newzealand', 'stubhub', 'ahai', 'latvia', 'takeov', 'cosplay', 'you”', 'bde', 'trendi', 'outlin', 'volumetr', '227', 'psychiatrist”', 'mirag', 'ian', 'rubbl', 'recomend', 'beaglepoint', 'agnostic', 'aromatherapi', 'treehous', 'overthrow', 'odour', 'misti', 'checkin', 'supernova', 'imi', 'edcuat', 'normalis', 'yamuna', 'churchofsatancom', 'pharaoh', 'conform', 'underli', 'w2', 'sol', 'harmful', 'withhold', 'misinterpret', 'fcc', 'heil', 'nbfc', '₹5001000', 'neistat', 'unfit', 'boomer', 'moldi', 'blatant', 'deadliest', '2015–16', 'hassan', 'masseus', 'reactant', 'bead', 'esport', 'btechec', 'ailment', 'apu', 'gestat', 'fondl', 'gaga', 'notari', 'travellercom', 'imp', '786', 'skincar', 'benzoyl', 'coward', 'turner', 'coulter', 'cellulos', 'bonsai', 'robb', 'aurangzeb', 'parents’', 'thatcher', 'nonverb', 'lachen', 'relearn', 'oneday', 'glycerol', 'cn', 'vidhan', 'glorifi', 'solips', 'josé', 'hafiz', 'ppt', '7kg', 'trey', 'snooz', 'adp', 'cfo', 'silmarillion', 'mirza', 'remerg', 'miller', 'abigail', 'pictori', 'umbridg', 'wealthier', 'serif', 'geocach', '1520', 'glaze', 'aug', 'uberola', '“', 'grammer', 'chiropractor', 'flap', 'aroma', 'carriag', 'lesnar', 'antigua', 'randi', 'pittsburgh', 'swachh', 'whàt', 'clich', 'ballot', 'oval', 'carniv', 'veena', 'undertak', 'supplementari', 'islamist', 'bocconi', 'congratul', 'skrill', 'anni', 'turmer', 'psych', 'eca', 'tubeless', 'malala', 'kristina', 'apparatu', 'slightest', 'scallop', 'dehli', 'aneurysm', 'yukata', 'blackout', 'nn', 'debut', 'fedora', 'otter', 'aachen', 'kmph', 'ygritt', 'righteou', '1020', 'pp', 'driver’', '1minut', 'maverick', 'v2', 'liker', 'rgpv', 'ls', 'prosecutor', 'lentil', 'ecc', '04', 'atrial', 'nonchines', 'basanti', 'movietv', 'bhagavadgita', 'locomot', 'epilept', 'montebello', 'tsh', 'elv', 'upfront', 'predecessor', 'yousafzai', 'dyn', 'eddi', 'insurg', 'hoodi', 'wil', 'guaranti', 'bonapart', '⚪', 'wb', 'clairvoy', 'quagmir', 'arora', 'hairlin', '314', 'gypsi', 'decommiss', 'wade', 'talaaq', 'linden', 'huntington', 'atascadero', 'pogba', 'playground', 'gdpi', 'bt', 'ernakulam', 'kyo', 'hangzhou', 'rajput', 'reng', 'cottonmouth', 'oddeven', 'kate', 'sentient', 'formalinform', 'cottontail', 'asl', 'npcil', '60m', '400351', '648', 'terabyt', 'overconfid', 'participatori', 'notori', '5lb', 'huffington', 'rana', 'kama', 'perpetr', 'windshield', 'hebei', 'frack', 'nitian', 'azusa', 'tarzan', 'envis', 'umt', 'aborign', 'ent', 'sudaf', 'chamomil', 'guevara', 'wissen', 'hyperlink', 'homicid', 'mouthwash', 'chandragupta', 'grub', 'allpurpos', 'biswapati', 'sofwar', 'eldest', 'medici', 'wavi', 'pokecoin', 'rath', 'biswa', 'careless', 'dumber', 'arbitrag', 'boolean', 'perish', 'heir', 'flatsign', 'dal', 'ibibo', 'supercar', 'battalion', 'lca', 'sacrif', 'quinoa', 'nutrilit', 'tmt', 'descart', 'harden', '5am', 'anion', 'hrc', 'electroneg', '201213', 'append', 'splitscreen', 'a2', '1d', '921', 'bork', 'islamia', 'uteru', 'arama', 'milia', 'berger', 'nw', 'oatmeal', 'tetanu', 'parisian', 'hopper', 'backtest', 'secondhand', 'mig', 'mphil', 'won’t', 'broadli', 'skippabl', 'maci', 'cmu', 'rosberg', 'histon', 'eli', 'gout', 'pianist', 'pup', 'gumasta', 'punctur', 'hurri', '1525', 'homeostasi', 'prettiest', 'murga', 'manic', 'cordial', 'typist', 'couch', 'deviant', 'gail', 'beret', 'monogam', 'vasectomi', 'nusrat', 'ftii', 'razer', 'panacea', 'mathfx', 'pneumat', 'masturbatori', 'hummingbird', 'f20', 'rajnikanth', 'kyli', 'parol', 'rudi', 'nourish', 'dilig', 'tetra', 'hemingway', 'waterg', '601', 'endotherm', 'paus', 'ganga', 'ponzi', 'cirrhosi', 'chalk', 'gogo', 'donut', 'gandhinagar', 'oort', 'reiki', 'dialog', 'suffic', 'debbi', 'determinist', 'wav', 'aric', 'president', 'bumper', 'penang', 'aircondit', 'usci', 'reaccess', 'optimum', 'yogi', 'kth', 'interst', 'pott', 'insolubl', 'syracus', 'gni', '100m', 'itthen', 'sailboat', 'socialtradebiz', 'notepad', 'pokéstop', 'biraci', 'satakarni', 'hummu', 'albaghdadi', 'jesuss', 'keychain', 'kaun', 'primat', 'sanit', 'inear', 'setter', 'postul', 'tha', '950', 'lattic', '18777788969', 'sata', 'shallow', 'polytheist', 'shehe', 'slytherin', 'downstream', 'saliva', 'dom', 'wto', 'crispr', 'conjectur', 'dielectr', 'bitten', 'kgp', 'shrug', 'wasi', 'fleet', 'cardiologist', 'kraft', 'mayer', 'workbook', 'kgb', '1820', 'sankranti', 'doppler', 'gödel', '1215', 'indiap', '1infin', 'drool', 'extractor', 'lyanna', 'cityst', 'wellbuilt', 'apartheid', 'selfcontrol', 'hdl', 'rutherford', 'xiomi', 'scopu', 'emitt', 'changer', 'overanalyz', 'hongkong', 'encyclopedia', 'fifteen', 'removalist', 'substat', 'autofil', 'dachshund', 'doubleclick', 'kaguya', 'vacuumto', 'bitumen', 'subaru', 'disproportion', 'dui', 'antman', '−', 'rsquar', 'reccomend', 'saraswati', '123', 'sofa', 'aftersal', 'chhatrapati', 'yom', 'kearney', 'kippur', 'scoliosi', 'hpcl', 'ntt', 'n3700', 'transatlant', 'iitd', 'loom', 'silverlight', 'class11', 'gale', 'noniit', 'buse', 'milligram', 'guy”', 'gassi', 'atlassian', 'splitter', 'breathalyz', 'borat', 'corrobor', 'efil', 'se8', 'deuteronomi', 'lesli', 'iiest', 'crisp', 'concierg', 'sfdc', '“bulbule”', 'cayenn', 'manmad', 'scarf', 'reinstat', 'railgun', 'ocjp', 'n3540', 'tulsi', 'henan', '307', 'constantin', 'cashmer', 'meanwhil', 'incandesc', 'laurent', 'acceleromet', 'knox', 'opth1b', 'halflif', 'kan', 'shibpur', 'impregn', 'mahamantra', 'swarm', 'zeljko', '3gb', 'automata', 'theravada', 'adenoviru', 'bigfoot', 'savori', 'aromat', '100125', 'neonazi', 'debian', 'csi', 'greasi', '1981', 'ciliat', 'telemarket', 'brunch', 'igor', 'aerial', 'breathabl', 'susan', 'ferriss', 'jag', 'pouch', 'radhakrishnan', 'pascal', 'peculiar', 'humankind', 'intergalact', 'afresh', 'causat', 'milpita', 'punctual', 'iitnit', 'naukri', 'abhiyan', 'terenc', 'selfsuffici', 'catalog', 'cascod', 'humil', '₹60000', 'user’', 'protagonist', 'vishwa', 'frasier', 'extranet', 'postfix', 'dilip', 'paedophil', 'syntel', 'rinnegan', '075', 'pediatr', 'shifu', 'manur', 'welltrain', 'camilla', 'handbook', 'nontox', 'undirect', 'uconn', 'photobooth', 'indol', 'nicolau', 'intentcom', 'pessat', 'vitee', 'tomcat', 'sadhguru', 'blot', 'kamal', 'tee', 'twowheel', 'redhead', 'cadenc', 'jello', 'passé', 'gameplay', 'sertralin', 'coriand', 'lint', 'homophob', 'woe', 'pomeranianshih', 'swach', 'kyle', 'darkdeep', 'toruń', 'gangbang', 'jipmer', 'ddwrt', '114', 'baggi', 'sweatpant', 'exce', 'anguilla', 'haptik', 'n3', 'ladybug', 'stewi', 'makar', 'goodbad', 'siames', 'utopia', '“sort', 'jemima', 'humanoid', 'muscat', 'kotak', 'supercel', 'badoo', '’m', 'blu', 'modest', 'calhoun', 'rupeenot', 'pow', 'tupperwar', 'knw', 'datafram', 'of”', 'bannig', 'lazaru', '435', 'satin', 'watercolor', 'pajama', 'martensit', 'certainti', 'stdr', 'inn', 'vya', 'expung', 'cython', 'alienwar', '10can', 'betti', 'guernica', 'unopen', 'bitsat2017', 'mansion', 'ada', 'trainspot', 'trough', 'mongo', 'misspel', 'spoilerswhat', 'summli', 'dac', 'ciali', 'sade', 'keller', 'sodiumpotassium', 'mann', 'mobi', 'abcd', 'kundalini', 'noncod', 'saskatchewan', 'lagrang', 'helen', 'jabong', 'rift', 'senction', 'disproven', 'deathstrok', 'underwearobsess', 'amic', 'wilt', 'spinner', 'unaccept', 'rdx', 'dynamodb', '45minuteswealthcom', 'austen', 'nodul', 'uncc', '£100', 'safi', 'nf', 'usuk', 'vegeta', 'cobra', 'blacksmith', 'cherenkov', 'daredevil', 'gic', 'm4', '380', 'instabl', 'n1', '500w', 'pacino', 'ocpjp', 'nathan', 'inland', 'huntsman', 'masturbationporn', 'desai', 'gambia', '11yearold', '6100u', '5005u', 'bradman', 'kirk', 'stope', 'ruthless', 'bargain', 'amt', 'fibrosi', 'turcit', 'partaken', 'spun', 'ht', '4hour', 'sinx', 'hippi', 'pongal', 'antifederalist', 'unpublish', 'malici', 'shorttour', 'hypemcom', 'najeeb', 'svnit', 'molten', 'sciencefict', 'extrus', 'worldli', 'blockag', 'keenmobicom', 'crv', 'pimplelik', 'disapprov', 'epson', 'extempor', 'marijuanaweedganja', 'woodros', 'keton', 'glacier', 'kde', 'wwwwheystarcom', 'inver', 'porcupin', 'surinam', '2514919', 'apostl', 'uberxl', 'dnt', 'bhaang', 'mite', 'naughti', 'pleasant', 'kanniyakumari', 'elitist', 'websiteapp', 'thumbtack', '2468', 'allegori', 'playmat', 'shirk', 'undevelop', 'ibt', 'mewhat', 'lobotomi', 'nm', 'there’', 'carboxyl', 'lash', 'olli', '816g', 'cosa', 'predomin', 'rebrand', 'nuanc', 'urgenc', 'shiver', 'nonenglishspeak', 'kristen', 'ncsu', 'somatra', 'scooti', 'hardwaresoftwar', 'rewir', 'vyvans', 'adc', 'pilgrimag', 'math1', 'wen', 'sebac', 'saling', 'mde', 'asimov', 'caulfield', 'ti', 'diction', 'eastman', 'werewolv', 'criminolog', 'wastag', 'oversleep', 'maitreya', 'abel', 'holland', 'penumbra', 'umbra', 'gimmick', 'fireplac', 'xyz', 'infor', 'ferranti', '276', 'valyrian', '72hour', 'biometr', 'creditdebit', 'contempt', 'aplic', 'troy', 'requisit', 'mathsin', 'histolog', 'maaco', 'policymak', '1200d', 'iol', 'xmath', 'dailymot', 'mhcet', 'kenwood', 'hade', 'naturalist', '3digit', 'tampax', 'keypoint', 'judo', 'mathdisplaystyleintfracpi6fracpi4sqrt1cos2xdxmath', 'fictiti', 'boyd', 'why’', 'collegesunivers', 'nibbl', 'adt', 'kamagra', 'nightwear', 'fortiguard', 'crucibl', 'clarifi', 'branchwis', 'es20', 'rhizobium', 'pgdie', 'shepherdgreat', 'husband’', 'y0', 'hkust', 'kimchi', 'ballpoint', 'mathwork', 'txt', '11m', 'babbel', 'shane', 'sportsman', 'colourless', 'myoho', 'lifeguard', '290', 'wildli', 'unsign', '22yr', 'contrari', 'aquacultur', 'inattent', 'icl', 'pathfind', 'charleston', 'lkh', 'fsb', 'xena', 'toilett', 'uhg', 'slum', 'overhead', 'norvig', 'sunken', 'paracetamol', 'criss', 'fbi’', 'riff', 'huckleberri', 'airship', 'glider', 'violinist', 'colbert', 'longitudin', 'scold', 'fasciiti', 'ldr', 'costliest', 'melon', 'fintre', 'outlier', 'helio', 'prescott', 'splice', 'math3', '2tb', '1204', 'pier', 'fortoward', 'hypochlorit', 'moveset', 'parentag', 'parenthes', 'juneau', 'yaxi', 'tier2', 'malayali', 'lambasingi', 'stag', 'robertson', 'bariton', 'theodor', 'quikli', 'baccalaur', 'contextu', 'thorium', 'beck', '630', 'bureaucraci', 'reinvest', 'spongebob', 'malazan', 'gmoとくとくポイント', 'wiccawitchcraftwitch', 'gearless', 'ecotour', 'nastiest', 'nadella', 'woven', 'mcomm', 'moonlight', 'sandston', 'ucsb', 'dsm5', 'twofront', 'recoil', 'kubrick', 'dayswhich', 'a108700p', 'i55200u', 'colonist', 'souvenir', 'kongka', 'nl', 'serialseri', 'pottermor', 'ygeia3com', 'boltzmann', 'cem', 'plaf', 'fluffi', 'fo', 'plankton', 'agit', 'ucm', 'dint', 'pbuh', 'eggshel', '4math', 'handtohand', 'reckless', 'kishor', 'studenti', 'cheesi', 'cheerio', 'tint', 'rs1', 'vw', 'ob', 'w3schoolscom', 'zipcar', 'steinway', 'plantat', 'sedat', 'qq', 'theon', 'amartya', 'hyperpigment', 'kawasaki', '610', 'womengirl', 'disown', 'zhihu', 'subutex', 'provoc', 'jaitley', 'witchcraft', 'satya', 'esa', 'bestsel', 'depositori', 'snowfal', 'stingray', 'brahman', 'carcano', 'baroqu', 'hatter', 'sia', '‘consent’', 'appwebsit', 'nationalis', 'ddr', 'powerlift', 'tatoo', 'villar', 'buyout', 'genki', 'stressor', 'lager', 'durgapur', 'ligand', 'miley', 'vilifi', 'quadrilater', 'devolep', 'livestream', 'floss', 'sinus', 'spouse’', 'gurkha', 'huánuco', 'diphenhydramin', 'zelda', 'reindeer', 'tractor', 'congenit', 'burkini', 'centaura', 'spandex', 'imgur', '4month', 'slovakia', 'casserol', 'martiniqu', 'jammer', 'sidebar', 'blogswebsit', 'mchenri', 'vtx', 'iti', 'smriti', 'furthest', 'strut', 'cochlear', 'csab', 'guangzhou', 'stew', 'frown', 'bpsc', 'crappi', 'compris', 'sara', 'curdl', 'erlang', 'hometown', 'dowould', 'morphem', '窩艾尼', 'overtur', 'flick', '1h', 'crossov', 'klinefelt', '9b', 'undoubtedli', 'recoverreset', '18009315079', 'doomsday', 'psalm', 'mnth', 'stakehold', 'ferguson', 'fn', 'tantrum', 'nimitz', 'ableton', 'unixlik', 'forgiven', 'harmonica', 'odesk', 'trout', 'bahasa', 'taobao', 'sommeli', '9mm', 'p1', 'islamophobia', 'adenin', 'stormtroop', 'ch2oh', 'workahol', 'darkn', 'successor', 'cardiovascular', 'eintax', 'pentagram', 'antipsychot', 'unarch', 'mci', 'denim', 'pineal', 'calcif', 'diskwhich', 'gods', 'octopu', 'thakur', 'skoda', 'polyphas', 'tangl', 'wink', 'nathuram', 'd3200', 'timelaps', 'callback', 'picturemessag', 'menwomen', 'rebuilt', 'rateecpm', 'impal', 'spasm', 'pinto', 'musturb', 'watchdownload', 'opportunist', 'infti', 'moneybook', 'convoc', 'badger', 'nadal', '1z0560', 'faucet', 'dadmum', 'sway', 'wildcard', 'tobe', 'gendri', 'therano', 'corrup', 'crest', 'phenomen', 'nonac', 'campbel', 'mmo', 'misogyni', 'denni', 'warlik', 'nagini', 'riddler', 'woah', 'rite', 'travers', 'seab', 'notesmateri', 'gnulinux', 'caucu', '292', 'mockeri', 'm25', 'baroda', 'maze', 'apple’', 'valium', 'tmc', 'anushka', '787', '1n', 'rr', 'vanc', 'blunder', 'varnish', 'girlfriendwif', 'spout', '121', 'cicada', 'andheri', 'terri', '325', 'pi6', 'permeabl', 'tandon', 'consular', 'booksarticlesblog', 'uncollaps', 'npn', 'davidson', 'spotlight', 'valencia', 'clement', 'shareit', 'paleontolog', 'n2', 'lapel', 'anatolia', 'teflon', 'soleil', 'nescaf', 'canton', 'waer', 'uet', 'theqotcom', '06', 'echelon', 'tranquil', 'iitpal', 'rbf', 'clonazepam', 'southampton', 'egalitarian', 'biriyani', 't5', 'detest', 'passerbi', 'b100', 'zimmer', 'spat', 'futurama', 'pinger', 'oncom', 'trickiest', '₹10000', 'kavir', 'ucsd', 'dfa', 'anod', 'dissapear', 'sportsperson', 'ariel', 'larson', 'derek', 'ruthlessli', 'saeed', 'fun…', 'math8circ11math', 'math3circ621math', 'math2circ512math', 'math1circ45math', 'rapport', 'morrison', 'calumni', 'niantic', 'kisi', 'burglari', 'nate', 'buffoon', 'rehabilit', 'beneath', 'racquet', 'dissect', 'we', 'idolis', 'octan', 'de0', 'altera', 'others’', 'gambon', 'amul', 'nightlif', 'autoencod', 'sexposit', 'girlfriend’', 'unbalanc', 'unequ', '0s', 'thano', 'bhm', 'citigroup', 'universalhuntcom', 'dystopian', 'yoghurt', 'cag', '995', 'inaccess', 'leakag', 'mangeshkar', 'oem', 'motvit', 'xr', 'manit', 'tnpsc', 'gtr', 'baelish', 'aima', 'pco', 'deepseat', 'farah', 'baywatch', 'kingston', '3500', 'downtoearth', 'ankara', 'capston', 'amol', 'rmit', 'mesopotamian', 'tofrom', 'anthropologist', 'aristocrat', 'quarantin', 'vibrato', 'alliter', 'israelpalestin', 'linkag', 'handloom', 'sez', 'gocart', 'articul', 'horatio', 'jade', 'clorox', 'coor', 'havoc', 'navic', 'anaconda', 'layman’', 'baromet', 'behalf', 'crorepati', 'banega', 'profoundli', 'renli', 'bigbang', 'abacu', 'ibook', 'polypeptid', 'thranduil', 'gentli', 'tspsc', 'radpad', 'thomson', 'mapl', 'partli', 'blackschol', 'covari', 'unpleas', 'mettl', 'i’d', 'cebu', 'movebubbl', '16bit', 'obsolesc', 'irrevers', 'kathi', 'websiteweb', 'huthunt', 'microraptor', 'graffiti', 'epfo', 'rishi', 'png', 'cypher', 'goodlook', 'abe', 'cling', 'fatah', 'rendit', 'hemoglobin', 'gurukul', 'marketscom', 'esl', 'adel', 'mediclaim', 'miguel', 'syphili', 'frigat', 'soto', 'g6', '300000', 'vesicl', 'earthworm', 'nuclei', 'rebirth', 'ar15', 'latenc', 'oneword', '12345678', 'hain', 'simplilearn', 'vjti', '1953', 'toxin', 'sufism', 'foo', 'buysel', 'lysosom', 'oligarchi', 'xvid', 'kellyann', 'aorta', 'sampann', 'dhawan', 'mustang', 'ejuic', 'salesmarket', 'studentsalumni', 'misb', 'au', 'hostag', 'steeli', 'jboss', 'seagul', 'eod', 'cob', 'mol', 'grenada', 'antonio', 'akkadian', 'fuzz', 'botox', 'refut', 'thunderquot', 'taft', 'headstart', 'ax', 'atlanti', 'soma', 'rivet', 'draught', 'hybridis', 'homophon', 'tyler', 'janet', 'achanakmar', 'vidyamandir', 'emphas', 'covertli', 'napa', 'crt', 'podesta', 'nitiit', 'tapu', 'polypack', '820m', 'transduc', 'webnex', 'evas', 'authoris', 'mrxwhi', 'wherein', 'asansol', 'math9k6k6math', 'phonehandset', 'madeup', 'stomata', 'dhl', 'deciph', 'womanman', 'weibo', 'repositori', 'glitch', 'lstm', 'unleash', 'swan', 'jecrc', 'dialysi', 'undergar', 'carcinogen', 'alchemi', 'prestashop', 'masterchef', 'lecctur', 'decentr', 'jat', 'imran', 'tp', 'parallelogram', 'gaba', 'chutney', 'mathdydxmath', 'pell', 'aee', 'caiib', 'nat', 'sakaldiwipi', 'akc', 'lync', 'holdout', 'anhedonia', 'nonvascular', 'asiat', 'childeren', 'jaiib', 'hitachi', 'nocontact', 'countabl', 'evacu', 'shaki', 'diversifi', 'reenter', 'aiyyo', 'loneliest', 'giuliani', 'rave', 'freelet', 'inri', 'lena', 'exfriend', '2021', 'rooki', 'includeconioh', 'surest', 'cari', 'theirselv', 'lnfrac', 'sumk1infti', 'seminol', 'canteen', 'yang', 'reactanc', 'grofer', 'plagar', 'vajpaye', 'shaman', 'h2so4', 'krishnamurti', 'booklet', 'afro', 'policeman', 'newark', 'coelho', 'roth', 'neoclass', 'wellsfargocom', 'soc', 'rs15', 'cdm', 'middleton', 'curricula', 'interestingmost', 'smartestmost', 'surrey', 'tollywood', 'shkreli', 'mi3', 'footer', 'onetoon', 'tessel', 'ghostwrit', 'maladapt', 'sarabhai', 'honorari', 'pesitpesu', '”', 'qing', 'apt', 'fda', 'scottsdal', 'bestial', 'creepiestscariest', 'eel', 'spay', 'aurangabad', 'orc', 'nationwid', 'fu', '15year', 'runescap', 'crpc', 'magistr', 'claw', 'mcu', 'keith', 'resal', 'ghulam', 'cricinfo', 'tungsten', 'dolor', '443', 'hollaween', 'ahmad', 'mahdi', 'grindr', 'gsa', 'underneath', 'malefemal', 'miyan', 'yiannopoulo', 'milo', 'enquir', 'viet', 'goldfish', 'kia', 'roe', 'magnetoelectr', 'normandi', 'warfram', 'bbq', 'cassandra', 'unisex', 'archeolog', 'silo', 'cleanest', 'abstin', 'prude', 'isolation', 'bao', 'rs10', 'shadiest', 'positiv', 'dangersbenefit', 'megapixel', 'intelligentwis', 'khalilabad', '130k', 'skyfal', 'subordin', 'inmobi', 'cupertino', 'yatra', '730', 'nabard', 'grapefruit', 'worcestershir', 'ugliest', 'readdownload', 'inaccuratewrong', 'hamstr', 'inhuman', 'mig21', 'shingl', 'blackboard', 'phillipin', 'auster', 'defit', 'repet', 'vasodil', '8086', 'onthego', 'authenticjobscom', 'ampir', 'feminazi', 'filepilecom', 'autopsi', 'unbutton', 'kya', '4x', 'adelaid', 'ipython', 'crick', 'gratuit', 'nonpolit', 'repost', 'helic', 'putlock', 'mirrorless', 'phelp', 'rousey', 'ronda', 'nonmed', 'hospic', 'coworkerfriend', 'vf', 'glassdoor', 'qs', 'jobi', 'evolutionist', 'goldilock', 'lyndon', 'shahid', 'bal', 'mismatch', 't3', '297', 'unsweeten', 'hart', '1964', 'darfur', 'ashwathama', 'peed', 'gautama', 'banquo', 'healthprofscom', 'y2matecom', 'hegel', 'realt', 'irvin', 'aieee', 'colt', 'bg', 'griffith', 'prettier', 'paw', 'chevi', 'anarch', '117', 'kasol', 'sevi', 'assyût', 'gilgit', 'cliffhang', 'versant', 'rsm', '420', 'soetoro', 'baltistan', 'warship', 'r7', 'sutherland', 'shire', '25yearold', 'facto', 'rwth', 'ddr4', 'barbuda', 'lesswrong', 'turkmenistan', 'unlov', 'opencart', 'cogno', 'aint', 'telecast', 'liposuct', 'dicot', 'yintercept', 'influx', 'unlaw', 'microevolut', 'evangelion', 'sartr', 'ioi', 'retroact', '113', 'ma', 'rajdhani', '51st', 'dew', 'esperanto', 'pharm', 'horu', 'cin', 'viewership', 'lettuc', 'noteshow', 'autocrat', 'eb2', 'binaur', 'conscript', 'fiesta', 'proffesion', 'bhilai', 'capillari', 'asparagu', 'dofollow', 'birthplac', 'glu', 'digniti', 'airpod', 'coweta', 'ewast', 'allyoucaneat', 'perkin', 'xor', 'clueless', 'jio4gvoic', '15lac', 'whistleblow', 'orthoped', 'rediscov', 'aeon', 'funk', 'gamif', 'sharad', 'nakamoto', 'satoshi', 't1530', 'dotnet', 'gotcha', 'mobikwik', 'pariet', 'vento', 'davv', 'amulyam', 'manni', 'blaze', '125cc', 'waterc', 'clitor', 'ender', 'drm', 'pluralsight', 'resiz', '98000', 'hummer', 'hilli', 'montauk', 'shepherdretriev', 'englishspeak', 'conson', 'meso', 'nadi', 'savior', 'rjailbait', 'darkweb', 'fiberglass', 'itin', 'alison', 'junki', 'faq', 'yojna', 'neolith', 'grievou', 'marrow', 'tramadol', 'turkic', 'springer', 'trendiest', 'mend', 'pumic', 'pharmacovigil', 'eatdrink', 'nonhuman', 'eris', 'mustafa', 'nanni', 'westminst', 'ranch', '357', 'jingl', 'electromot', 'artform', 'deepen', 'intang', 'filmybabacom', '423', 'sixti', 'skillset', 'springsteen', 'kbc', 'yve', 'khalistan', 'backtrack', 'www', 'maraud', 'cotter', 'centaur', 'achil', 'lexil', 'busan', 'sprinkler', 'cesar', 'subquant', 'lakeland', 'khizr', 'kc', 'exuber', 'tio', 'scarlett', 'bandsing', 'bureaucrat', 'bodili', 'botswana', 'raghav', 'practicum', 'reno', '18year', 'tapioca', 'ucl', 'unimpl', '300w', 'handyman', 'don´t', 'autodidact', 'cassava', 'saber', 'proov', 'doraemon', 'cx', 'brandon', 'vidyalaya', 'unexplain', 'pinchoff', 'cmo', 'caprici', 'jayalalithaamma', 'kendriya', 'travencor', 'skylak', 'hdr', 'servicenow', 'ammunit', 'incredul', '60hz', '712', 'budgi', 'akshay', '2day', 'befikr', 'klonopin', 'kenyan', 'hdtv', 'dvdscr', 'goof', 'modernday', 'grapholog', 'sprinter', '132', 'hrd', 'mcduck', 'scroog', 'wobbl', 'voodoo', 'calico', 'kaggl', 'hardcov', 'noncommerci', 'efron', 'zac', 'lankan', 'sephora', 'ebooksnovel', 'bharath', 'weebli', 'lowwag', 'eveteas', 'you’d', 'surprisingli', 'glasswar', 'च्', 'hydro', 'ruskin', 'peyton', 'orm', 'ting', '214', 'todoist', 'chapstick', 'nirbhaya', 'crossbre', 'hoc', 'd5500', 'adhoc', 'grit', 'kearni', 'carrierbuildercom', '£', 'boxerpitbul', 'sensual', 'gantt', 'touchdown', 'glossi', 'cole', 'flipflop', 'christin', 'consiglio', 'creo', 'twain', 'itm', 'jounalist', 'cashier', 'investopedia', 'rethink', 'bella', 'kmap', 'gohan', 'mise', 'middlewar', 'sinai', 'owen', 'crumb', 'unrespons', 'himselfherself', 'unspoken', 'schneider', 'williams’', 'buyingsel', 'colloqui', 'peacemak', 'infus', 'headscarf', 'durga', 'baron', 'compli', 'hul', 'ptc', 'rca', 'value”', 'primerica', 'blatantli', 'alaskan', 'doberman', 'nonimmigr', 'dreadlock', 'crescent', 'offsid', 'healthili', 'tonn', 'y16', 'y8', 'bandag', 'dominica', 'wpf', '3x3', 'wiccan', 'ramdev', 'mcdowel', 'abdullah', 'doctordermatologist', 'carey', 'leopold', 'nonsurg', '22k', 'lithuanian', 'compulsari', '302', 'pedomet', 'f2', 'sparrow', 'pomegran', 'behanc', 'jojoba', '0fracxtan', 'hippocampu', 'a1c', '09', 'frontlin', 'memorabilia', 'saraswat', 'fixtur', 'goodnight', 'sgotsgpt', 'asterisk', 'stump', 'alphabetagammadeltatheta', 'kachenjungha', 'makeov', 'azamgarh', 'euglena', 'uphil', 'multibillionair', 'siteapp', 'sxhow', 'ruia', 'canola', 'creol', 'haitian', 'axiomat', 'pvalu', 'aladha', '10year', '191', '9262016', 'nephew', 'trinidadtobago', 'congruent', 'crimean', '65000', 'hcf', 'shemal', 'beverli', '11i', 'discretionari', 'georgetown', 'sloka', 'epoxi', 'akira', 'npt', 'villarica', 'potenc', 'tamilrockersnet', 'vizsla', 'jumbo', 'cines', 'franz', 'vultur', 'fyer', 'giveaway', 'g5', 'sapient', 'omnipres', 'osellcom', 'norco', 'acura', 'kalu', 'como', 'sqrt', 'ep', 'kanji', 'welspun', 'neetug', 'calibri', 'ripen', 'amygdala', 'kiev', '80c', 'tte', 'dum', 'eliquid', 'russellwest', 'fallon', 'lichen', 'cabbag', 'burgundi', 'invicta', 'jayz', 'fiasco', 'ringcentr', 'nipomo', 'ev', '√', 'makeschang', 'vanuatu', 'candidaci', 'unbear', 'hygienist', 'tropospher', '25g', 'rs200', 'weber', 'crutch', 'kabbadi', 'helper', 'awd', 'raavan', 'poona', 'endocytosi', 'patriarchi', 'winehous', 'thee', 'superfici', 'adv', 'pebbl', 'losewhen', 'ketosi', 'bachao', '655', 'sued', 'scoobi', 'unif', 'getch', 'icmr', 'matha', 'bhojpuri', 'rehears', 'anxietypleas', 'ch4', 'metropoli', 'barbi', 'mace', 'monetis', 'wacki', 'infest', 'infecti', 'deseas', 'cytosol', 'nonkorean', 'fraudul', 'mclr', 'instagramm', 'guam', 'vacant', 'athena', 'antigun', 'gloat', 'blowback', '145', 'dumpti', 'sütterlinschrift', 'thyristor', 'vlogger', 'hunch', 'serb', 'shastra', 'humpti', 'a', 'akhand', 'reflux', 'dusti', 'miscellan', 'repopul', 'sneaki', 'zerodha', 'sclerosi', 'chawla', 'rs25000', 'inexplic', 'hotlin', 'mitt', 'eskimo', '2017how', 'gpon', 'drywal', 'displaystyl', 'deter', 'tangerin', 'handson', 'crisprcas9', 'manohar', 'deperson', 'pinnacl', 'posses', 'kalpana', 'housejoy', 'catchyfunni', 'rankin', '6year', 'jaya', 'gujrat', 'liion', 'pathan', 'ultraviolet', 'moneygram', 'podium', 'chunk', 'whitelabel', 'moria', 'uta', 'subsidiari', 'outbrain', 'hoursday', 'redux', 'checkedin', 'standup', 'kinder', 'finest', 'forgav', 'nonhom', 'kerri', 'x2math', 'montserrat', 'coinbas', 'disillus', 'psychotherapist', 'uberblack', 'ubergo', 'inmort', 'hb', 'allevi', 'kmh', 'dobbi', 'kenobi', 'interplanetari', 'caltrain', '45k', 'chancellor', 'cout', 'rajinikanth', 'nzérékoré', 'novelist', 'compassion', 'manchurian', '4d', 'xxxyyyzzz', 'followedpopular', '20mg', 'townhous', 'interviewe', 'prodigi', 'maharaja', 'ncl', 'assort', 'iet', 'lindsay', 'iphoto', 'oppurtun', 'plum', 'techic', 'pavement', 'reced', 'cpl', 'crankshaft', 'fujitsu', 'shelf', 'aviv', 'camden', 'perciv', 'scp', 'spectral', 'kmean', 'cleverest', '1213', 'monsanto', 'veaux', 'amen', 'powerhous', 'cliqu', 'lightroom', 'drinkabl', 'heinz', 'pillion', 'hazar', 'edu', 'hibernia', 'britannia', 'struck', 'sphinx', 'orbitz', 'switchon', 'weren’t', 'mozzarella', 'damp', 'samantha', 'ove', 'naproxen', 'renov', 'maoist', 'mgb', 'unipolar', 'wong', 'csk', 'husk', 'iberian', 'cuss', 'rcb', 'nitish', 'cumberbatch', 'slime', 'militarili', 'aisl', 'wicket', 'unreserv', 'hindsight', 'bhat', 'highris', 'seiko', 'rickshaw', 'protien', 'antitrust', 'selfdef', 'iodid', 'contend', 'vagrant', 'dabi', 'gawker', 'electrolysi', 'lewinski', 'mandi', 'c3', 'imvu', 'ise', 'dihydr', 'ect', 'k1', 'amphibian', 'empathet', 'smtp', 'hiit', 'gaza', 'groundnut', 'geocentr', 'keepsaf', 'hyperv', 'jaype', '525', 'enigma', 'duryodhana', 'mening', 'kmsr1nex', 'augusta', 'outbreakapocalyps', '131', 'trivago', 'capm', 'wastewat', 'fairmind', 'deng', 'gini', 'teal', 'nc17', 'whitefield', 'azkaban', 'flatten', 'micat', 'austrian', 'mob', 'npd', 'tet', 'athiest', 'deckard', 'bucharest', 'repsset', 'autocomplet', 'v20', 'sorrow', 'soccerfootbal', 'idbi', 'cheney', 'sightse', 'ato', 'nonzero', 'nip', 'kaishek', 'tex', 'pacemak', '1900', 'curfew', 'bisector', 'bandh', 'poppi', 'smallcap', 'photocopi', 'putra', 'purgatori', 'lemonad', 'berber', '560', 'supermodel', 'markandey', 'katju', 'pakistan’', 'oclock', 'vastu', 'putnam', 'smartnerdygeeki', 'bet365', 'duvet', 'mundan', 'krypton', 'luminesc', 'omalley', 'sastra', 'marathah', 'girlboy', 'd3j', 'funniestweirdest', 'argentin', 'turnout', 'exclam', 'murugan', 'sucid', '111', 'p2p', 'wasiswil', 'ctr', 'octacor', 'imput', 'surfthechannelcom', 'paladin', 'midflight', 'preferenti', 'murdoch', 'gofundm', 'quartet', 'iiitd', 'padmanabha', 'tycoon', 'courtesi', 'lovabl', 'monorail', 'brigad', 'senseless', 'soundproof', 'smirnoff', 'unsur', 'empiric', 'europa', 'sonakshi', 'guardiola', 'rollout', 'calorimet', 'sunnah', 'dime', 'jockey', '4stroke', '30yearold', 'egyptolog', 'moba', 'jana', 'gana', 'jailbroken', 'dusk', 'bestworst', 'nath', 'tagor', 'fore', 'endpoint', 'redefin', 'yacht', '“metaanalysis”', 'deu', 'flaxse', 'oppenheim', 'happy', 'opal', 'smita', 'bioengin', 'banish', 'm30x', 'kellogg', '22000', 'nepean', 'iskcon', 'tmu', 'nashik', 'ucb', 'linu', 'torvald', 'vasistha', 'backstab', 'asat', 'haul', 'm40x', 'midbrain', 'clickabl', 'villier', '“cast', '02', 'pgp', 'unedit', 'thebest', 'jewel', 'blueberri', 'oet', 'nigga', 'onscreen', 'stifl', 'explicit', 'adblock', 'systol', 'roadrunn', 'backgammon', 'entourag', 'rambuncti', 'cuckoo', 'recollect', 'pythondjango', 'endoscopi', 'away”', 'barbershop', 'lightin', 'ranawat', 'buddybuildcom', 'doest', 'fastrack', 'godin', 'wolfram', 'cavemen', 'zurich', 'drawer', 'prefront', '2030kg', 'kearn', 'embib', 'gogh', 'proprietari', 'geico', 'dream11', 'remuner', 'lsu', 'crucifi', 'divest', 'substr', 'collegeunivers', 'bohemian', 'jorah', 'commonfigcom', 'defacto', 'cic', 'nontech', '470', 'org', 'albino', 'boleyn', 'bailout', 'mrp', 'eventsmeetup', 'kha', 'hauz', 'itachi', 'selfmad', 'actuat', 'ubermeruola', 'acorn', 'averagelook', 'niro', 'hayden', 'languang', 'neardeath', 'zerosum', 'demi', 'tak', 'devi', 'girlfrend', 'workrel', 'shroff', 'applet', '104', 'helpteach', 'hostar', 'diedi', 'serpent', 'inexperienc', 'plea', 'andorra', 'thoughtprovok', 'ukelel', 'lonli', 'tenth', 'y55l', 'rog', 'muse', 'bosnia', 'christensen', 'vasco', 'broader', '2030s2040', 'annuiti', 'childless', 'frodo', '457', 'gaull', 'workabl', 'kmhr', '106', 'neerja', 'abash', 'burrow', 'jenna', 'vicari', 'icar', 'mturk', '275', 'unlist', 'clickbuzzercom', 'jdbc', 'please…', 'pere', 'ancestr', 'carecom', 'oligarch', 'arrestor', 'champ', 'bh', 'neptun', 'typewrit', 'fabul', 'retro', 'temari', 'khamakha', 'scarier', 'dday', 'neurotyp', 'erik', 'tablefan', 'oppertun', 'wo', 'indianhindu', 'agni', 'awhil', 'goulash', 'overclock', 'apl', 'tuft', 'gcf', 'triangular', 'quaro', '555', '2750u', 'notar', 'highfunct', 'falsetto', 'cobalt', 'halv', 'colosseum', 'perri', 'kati', '3gp', 'intensley', 'sear', 'nucleophil', 'odia', 'abyss', 'ponytail', 'robinson', 'dickinson', 'tonic', 'overestim', 'diagon', 'edinburgh', 'sanskari', 'fenugreek', 'rk', 'goibibo', 'sanjay', 'dunningkrug', 'jockstrap', 'kshatriya', 'dorm', 'singli', 'ghd', 'blopboardcom', 'cvresum', 'widen', '9am', 'bidder', 'sathya', 'gwt', 'tummybelli', 'naxal', 'kohl', 'inadvert', 'scaveng', 'popper', 'hama', 'shiit', 'seomoz', 'webceo', 'rucksack', 'firefli', 'kleenex', 'amir', 'meridian', 'magna', 'carta', 'utterli', 'yuv', 'telecommut', '9year', 'natwest', 'predic', 'potion', 'defus', 'yeshi', 'dhonden', 'cain', 'jetlin', 'rhiniti', 'dhingra', 'whitman', '1905', 'suitcas', 'tirumala', 'chaitanya', 'wwwcosmicpetrochemcom', 'oversmart', 'hollist', 'dale', 'azimuth', 'freemasonri', 'purina', 'amda10', 'processori5', 'rohtak', 'palestinianisra', 'outward', 'chegg', 'nerds’', '‘stat', 'inlin', 'warhead', 'sunk', 'posibl', 'newcom', 'haramb', 'qaeda', 'enrag', 'newsfe', 'texttospeech', 'microservic', 'xam', 'greyjoy', 'undead', '125000', 'lepton', 'chassi', 'katcr', 'kickasstorr', 'michio', 'kaku', 'calend', 'ninti', 'akward', 'enum', 'bramha', 'voraci', 'strangestweirdestwildest', 'nonanonym', 'kurd', 'lolipop', 'centroid', 'fingertip', 'rulinska', 'illegitim', 'beyoncé', 'rode', 'mch', 'slate', 'jha', 'sindh', 'armynavyair', 'venezuelan', 'akatsuki', 'thermoelectr', 'csat', 'ssri', 'cambogia', 'garcinia', 'vmmc', 'virend', 'utensil', 'umbil', 'weaver', 'sympath', 'mhrd', 'nuget', 'inanim', 'schizotyp', 'spf', '5monthold', 'sunblock', 'bobbi', 'cyberoam', '811', 'contractionari', 'p1310', 'adhaar', 'nz', 'banknot', 'vnr', 'snl', 'efforttoresult', 'patti', 'malayale', 'sheen', '934', 'thunderstorm', 'untouch', '1031', 'groupm', 'livingston', 'szczecin', 'saif', 'tyndal', 'kale', 'pikachu', 'adfli', 'bout', 'indiachina', 'csc', 'counterintuit', 'youread', 'laptopnotebook', 'symantec', 'minded', 'entrac', 'annexur', 'csr', 'cornea', 'catchphras', 'foodpanda', 'reel', 'undisclos', 'kafasa', 'maser', 'hmmm', 'ranveer', 'sparta', 'estrang', 'averagegood', 'tft', 'wiz', 'israelit', '16k', 'paramagnet', 'methodist', 'preform', 'mcafe', 'boron', 'daft', 'sashimi', 'pew', 'coep', 'buster', 'vevo', '“annelise”', 'tasker', 'fillet', 'cookbook', 'brahmaputra', 'risen', 'unifundscom', 'parsiszoroastrian', 'rube', 'kedavra', 'dogu', 'newslett', 'avada', 'mutex', 'devolut', 'eleg', 'gpsc', 'pollin', 'photoedit', 'meatloaf', 'stationeri', 'fraser', 'infibeam', 'country’', 'productbas', 'backbonej', 'jessica', 'barley', 'michelin', 'kufute', 'aachar', 'syntact', 'dupe', 'clientsid', 'ketamin', 'kitchenaid', 'dunkin', 'skeleton', 'sharbat', 'theorist', 'micheal', '23rd', 'coverup', '1855mm', 'healdsburg', 'couldn’t', 'yodle', 'prochoic', 'railwir', 'icc', 'filezilla', 'piti', '476', 'sanhita', 'birmingham', 'q7', 'hairloss', 'unaccountedblack', 'mil', 'monrovia', 'bloodlin', 'swimsuit', 'macon', 'incompress', 'ramana', 'else’', 'wedg', 'hbr', 'firefight', 'ondemand', 'indianmuslim', 'taiwanes', 'benzoic', 'multinomi', 'catharsi', 'freshli', 'nielit', 'prakash', 'ocr', 'marissa', 'codebas', 'bro2', 'vise', 'newton’', 'spandrel', 'ganesha', 'klopp', 'genar', 'msm', 'screenedrenterscom', 'winterfel', 'lifi', 'ric', '17ghz', 'ja', 'analogu', 'a8', 'vibrant', 'groundhog', '4400', 'pranayama', 'modular', 'tith', 'decker', 'mohanl', 'urologist', 'rizal', 'oneminut', 'filibust', '1–2', 'glaucoma', 'pear', 'kiran', '“bulleya”', 'blackcor', 'psk', '9999', 'appearancewealth', 'x4', 'guava', '187lb', 'sixsid', 'grout', 'dijkstra', '≤', 'bunn', 'getgo', '301', 'pollster', 'stardom', 'aphrodisiac', 'myvideospromo', 'winloss', 'stp', 'antimuslim', 'ecol', 'cll', 'borneo', '877', 'germanium', '778', 'tradebiz', 'palin', 'robotstxt', 'disallow', 'mgmt', 'celib', 'ageism', 'isoton', 'iroquoi', 'mauritania', 'acp', 'isbn', 'patton', 'satavahana', 'kalinga', 'ibeatyoucom', 'overheat', 'macaulay', 'bicuri', 'foolish', 'rekha', '12mm', 'maltesehuski', 'um', 'cbc', 'tehran', 'sgpa', 'onset', 'bile', 'shelley', 'ntf', 'neuropathi', 'rosato', 'hematoma', 'movin', 'mk', 'lunchbox', 'bori', 'cherubim', 'marraig', 'bnp', 'parson', '333', 'citat', 'oj', 'jehan', 'marxist', 'plump', 'subash', 'calorif', 'hootsuit', 'modiji', 'hedgehog', 'ironcarbon', 'kpi', 'montgomeri', 'sondaught', '5002000', 'groundbreak', 'sunscreen', 'seraphim', 'málaga', 'vba', 'caleb', 'ggsipu', 'befriend', 'dispensari', 'viva', 'unmatch', 'chive', 'bacardi', 'winni', 'dermal', 'conic', 'pariba', 'anandiben', 'x86', 'amravati', 'hydrabad', 'downtown', 'wpapsk', 'cogent', 'pilger', 'conglomer', 'gx', 'cie', '940mx', 'taoism', 'bhagvad', 'topicspecif', 'subdivid', 'limx', 'dmv', 'vinay', 'constantinopl', 'amar', 'consort', 'mermaidsmermen', 'recklessli', 'eggplant', 'tambrahm', 'fr', 'gu', 'nadh', 'usertestingcom', 'mayo', 'belaru', 'ike', 'exemplifi', 'vy', 'intox', '2b', 'rajapaksh', 'umbrella', 'onedr', 'mfn', 'juggernaut', 'downtrodden', 'bookfinet', 'dayquil', 'surveyor', 'ag', 'bsens', 'vuej', '2530', 'fii', 'tack', 'reckon', 'roach', 'corbyn', 'sewag', 'ydse', 'brothersist', 'expt', 'expressj', 'reconnect', 'codechef', 'gn', 'flannel', 'loksabha', 'wagon', 'mast', 'diat', 'webview', 'modernilluminati', 'visio', 'naxalit', 'blockad', 'rev', 'hord', 'swagger', 'crater', 'bulgarian', 'calexit', 'eragon', 'chastis', 'spectra', 'btw', 'he’', 'conspir', 'cdr', 'wasabi', 'pooh', 'zoroastrian', 'dse', '1976', 'carrer', 'subson', 'ahmadabad', 'tempt', 'kera', 'overtim', 'meghalaya', 'affection', '2k17', 'hooker', 'appendix', 'capexempt', 'calmer', 'omit', 'metamorphosi', 'libgdx', 'isometr', 'veggi', 'wwwtelecomtubecom', 'linger', 'porter', 'solarc', 'spammer', 'aquat', 'bait', 'barbecu', 'buyback', '345', 'zootopia', 'obligatori', 'wring', 'nitro', 'biligiri', 'turboviraltrafficcom', 'yuri', 'quanta', 'hex', 'cisa', 'linod', 'tract', 'ravioli', 'pantnagar', 'pcod', 'goodread', 'pimplesacn', 'tastemak', 'maa', 'gynecolog', 'mf', 'cosin', 'chromophobia', 'cottag', 'impost', 'fleme', 'inabl', 'rut', 'wifehusband', 'tancet', 'bootstrapj', 'dhcp', 'gusto', 'hotlist', 'burlesqu', '100own', 'stenograph', 'glutamin', 'aegon', 'nacho', 'scaleabl', 'denorm', 'bec', 'tute', '“”select””', '211', 'usa1', 'macedonia', 'fastboot', 'opc', 'ectop', 'youyour', 'chilcot', 'chaldean', 'browney', 'stockpil', 'posh', 'parasurama', 'satelit', 'cpg', 'selfcent', 'companionship', '85mm', 'breastmilk', 'relap', 'vantablack', 'brunett', 'noncompetit', '123456424344', 'avira', 'overreach', 'callosum', 'francophon', 'absinth', 'hamil', 'scrub', 'cityscap', 'pundit', 'rollup', 'munit', 't00j', 'tgif', 'ɽφʉʛƕ', 'accutan', '12345', '293', 'tiptre', 'iranianpersian', 'halibut', 'å', '170', 'setu', 'synopsi', 'dce', 'fullbodi', 'arcan', 'ebt', 'tempratur', 'greatandhracom', 'chemotherapi', 'blueblack', 'glori', 'strontium', 'cranberri', '2022', 'dio', 'chipmunk', 'relienc', 'kendo', 'inan', 'goalkeep', 'tadpol', 'cannabismarijuana', 'doabl', 'baller', 'pariti', '1z0877', 'jaoi', '100kb', 'toptier', 'wwwjustmopcom', 'dana', 'pointcloud', 'f12', 'yuga', 'chatswood', 'hyena', 'drishyam', 'phosphid', 'uw', '941', 'simulink', 'flagship', 'lemoa', 'villi', 'ext', 'delf', 'konkan', 'toner', 'citycountri', 'skiplag', 'dane', 'linebreak', 'ezekiel', 'preload', 'stage1', 'thermocoupl', 'cranston', 'nitrogen15', 'nikesh', 'experinc', 'pacoima', 'sesam', 'excalibur', '910', 'tashkentuzbekistanussr', 'recordread', 'blubber', 'raina', 'hermeneut', 'talktalk', 'swyamsevak', 'pagerank', 'rori', 'freelancercom', 'ethnocentr', 'deafblind', 'asson', 'assay', 'ode', 'hum', 'talcum', 'indori', '20172018', 'dissimilar', 'lotto', 'tumbler', 'causeimpact', 'listerin', 'starch', 'northsouth', 'quesadilla', 'ios9', 'vill', 'lacklust', 'xth', 'wilder', 'unaffect', '15cm', 'cephalexin', 'golfer', 'schlumberg', '1050', 'dishonor', 'strava', '3am', 'mau', 'jerseysshirt', 'prouv', 'website’', '5472', 'conciou', 'redwood', 'viscer', 'dizi', 'whar', 'fet', 'malcom', 'undoubt', 'moviebatman', 'jayalalittha', 'fandango', 'trivial', 'watgdpi', '850mhz', 'autobahn', 'dirtiest', 'drumstick', 'memtech', 'una', 'electrologist', 'ame', '15876', 'thermopil', 'sao', 'franki', 'gato', '000€', 'corel', 'rundown', '骂人', 'ramon', 'keiran', 'fertilis', 'closeup', 'xdxmath', 'croc', 'mathamath', 'gautami', 'saferiski', 'kosovo', 'trebl', 'socketio', 'crossword', 'bestbuy', 'camscann', 'email”', '“ecstasy”', 'na2zno2', 'bullion', 'ups', 'tendinopathi', 'angelita', '33rd', 'err', 'bund', 'srinivasa', 'dropdown', 'criterion', 'meshichist', 'mathphysicschemistri', 'shetti', 'situ', 'savedtap', 'researchg', 'nerdylook', 'nword', 'tangamma', 'autoadmit', 'stepson', '45769', '34989', 'krabi', '27325', 'uyghur', 'hardbrick', 'jawbon', 'crypt', 'carcinoma', 'kershaw', 'plait', 'exet', 'clayton', 'sugarcrm', 'hydrochlorid', 'nongoogl', 'orthofil', 'reportedli', 'rodger', 'aberdeen', 'chic', '18140mm', 'zeiss', 'wonderland', 'babybel', 'attractioni', 'radagast', 'siebel', 'kidsteen', '2400', 'zag', 'zig', 'thedartmouthcom', 'retribut', 'catelyn', 'jn0694', 'leto', 'swoosh', 'chunavi', 'mindboggl', 'enlight', 'alcatraz', '732732', 'promissori', 'jdownload', 'teri', 'fracsec', 'x1csc', 'burlington', 'bei', 'voluptu', 'parcel', 'webflow', 'fyrom', 'iitiim', 'humma', 'bcoz', 'antijewish', '269', 'multius', 'procon', 'sch', 'canada’', 'upsel', 'antihistamin', 'lagertha', 'multichannel', 'totak', 'overshadow', 'juici', 'choicehow', 'unsort', 'vdi', 'ciaz', 'toeflielt', 'dlr', 'chalmer', 'madr', '“will”', 'fierc', 'dream11com', 'baptist', 'materialtreecom', 'cipher', 'smear', 'maglev', '526', 'brexpiprazolerexulti', 'sfm', 'rajyasabha', 'peopleth', 'butterfre', 'dir', 'suarez', 'a7', 'itd', 'choo', 'siddharth', 'accost', 'unmark', 'featu', 'powerlock', 'dryness', 'longstand', 'steadi', 'boyhood', 'jabba', 'humanenviron', 'consious', '8part', 'magpi', 'junction', 'accessexcel', 'businessdevelop', 'fillin', 'unpin', 'sunidhi', 'pierro', 'satsuma', 'clementin', 'fwb', 'willi', 'msbi', 'murph', 'heroincocain', 'drugsniffingdog', 'phycrotroph', 'lua', 'bioavail', 'shivsmarak', '1617', 'fulltext', '36b', 'terrex', 'hyperbola', 'firstcomefirstserv', 'digitalocean', 'footballersfootbal', 'sabo', 'ipl2016', 'andal', 'ni', 'ayahuasca', 'googlebot', 'outliningplan', 'rc125', 'trickl', 'autoimmun', 'pancreat', 'blindli', 'alkaloid', 'swarthmor', 'tizen', 'whatdo', '32yearold', 'banno', 'n1infti', 'mathdisplaystylesum', 't4est', 'thi1', 'is2', 'arcsin', 'joomla', 'readership', 'fudg', 'starkist', 'aureliu', 'ana', 'funicul', '3537', 'kombucha', '5mm', 'hyperpoliticis', 'ghibli', 'limnto', 'stackoverflow', 'scipi', 'altuch', 'ascent', 'expedit', 'lin', 'phycrophil', 'startl', 'excretori', 'fam', 'congressgandhi', 'ketchum', 'gniit', 'lappymast', '482', 'pitbulllab', 'timbaland', 'blasphem', '1nfrac1nfrac1nmath', 'nonpubl', 'barnet', 'montek', '2x5math', 'mimr', 'variac', 'olap', 'millet', 'aldehyd', 'ideasth', 'ishq', 'septoplasti', 'mathfcdot', 'mocha', 'f1math', 'cselectr', 'mora', 'athelet', 'flynn', 'clair', 'biofuel', 'draper', 'mobilecel', 'labview', 'mexicanamerican', 'natsu', 'exif', 'multimod', 'faiz', '42bn', 'naturopathi', 'rime', 'lithiumion', 'jab', 'ratemyprofessor', 'bristol', 'partsinterior', 'ahm', 'dexcar', 'yakuza', 'cortison', 'kuch', 'seeman', 'lockhe', 'sparknot', 'admixtur', 'untuck', 'dreamspark', 'pube', 'firstli', 'deist', 'plantar', 'questionnair', 'vespucci', 'arctan', 'popularusu', 'c100', 'afer', 'muggl', 'dorsal', 'bukkak', 'ahluwalia', 'ordinarili', 'apic', 'littor', 'prenup', 'idc', 'postdeath', 'riversid', 'nexa', 'embryon', 'institution', 'prasoon', 'joshi', 'vh', '1941', 'yelagiri', 'hyderbad', 'laptoponlin', 'gloss', 'reeason', 'pmjbi', 'sts107', 'albuterol', 'vidio', 'pmsbi', 'mishra', 'mediv', 'xb', 'appium', 'hazara', 'pashtun', 'fructos', 'nrsc', 'lol', 'mustlisten', 'myip', 'ackman', 'livestock', 'softwareoper', 'flee', '15g', 'aem', 'juno', 'aquajog', 'proc', 'checkmark', 'ekta', '1337', 'so3', 'lenin', 'swahili', 'xc', 'minimun', '1gbp', 'separatist', 'nonmonetari', 'wartim', 'receptacl', 'qarrtsiluni', '15000r', 'oni', 'blackish', 'kajear', '1billion', 'telegu', 'laptopdesktop', 'gaurav', '143', 'wwwkrazybutterflycom', 'opioid', 'odomet', 'organali', 'tanu', 'sioux', '618', 'herbert', 'ashwagandha', 'spore', 'kalanick', 'interestingcreativememor', 'altruism', 'geet', 'woodstock', 'callsign', 'aseanindia', 'hepatolog', 'gastroenterolog', 'kobo', 'mifi', 'acch', 'mangalik', 'p1102w', 'choker', 'electrochem', 'ionis', 'dilaudid', 'rakeback', 'subclass', 'lxc', 'opamp', 'grahan', 'dosh', 'fonepad', 'iilm', 'q350', 'cactu', 'septum', 'down’', 'méxico', 'wolframalpha', 'robber', '896', 'pianosynthes', 'persianiranian', 'kshmr', 'kickoff', 'exocytosi', 'gazpacho', 'gdynia', 'fanni', 'conflat', 'trotski', 'magritt', 'humsafar', 'edushashtra', 'dendrit', 'michelangelo', 'costarsproducersdirector', 'transgressionshistori', 'pornsit', 'hysd', 'houstondallasaustin', 'dominion', 'opencv3', 'lester', 'mania', 'tirupur', 'we’v', 'psomí', 'mpi', 'onesid', 'samuel', 'insadm', 'unban', 'busrikshawtaxi', 'calangut', 'palmer', 'merlot', 'hcn', 'saharanpur', 'abbey', 'interlac', '3m', 'sentinel', 'pasha', 'mohd', 'indistinguish', 'raboi', 'skelton', 'lamest', 'rukmini', 'scoop', 'wreckag', 'likeabl', 'blight', 'caricatur', 'sarai', 'bugatti', 'melisandr', 'veyron', 'lim', 'taimur', 'kareena', 'wakefield', 'cushman', 'hypermesh', 'coursedegre', 'typhoid', 'hypermarket', 'diopter', 'sxsb', 'acceptreject', 'pesa', 'bleacher', 'prog', 'venn', 'syllog', 'psychosoci', 'bokaro', 'aesa', 'minimis', 'cann', 'clubsocieti', 'greenwald', 'venat', 'timber', 'overwork', 'jayalaitha', 'supercold', 'armani', 'handcuf', 'wasteland', '12l', 'mordor', 'jiddu', 'peacekeep', '120v', 'purbapara', '700119', 'recoverremov', 'epigenom', 'brp', 'coincident', 'parsec', 'foriegn', 'shook', 'indiausa', '38gm', 'smb', 'abras', 'kausani', 'freeopen', 'octagon', 'ravula', 'fngmailcom', 'reckitt', 'creditsmoney', 'essar', 'carnotauru', 'nonpartisan', '573', 'horsemen', 'removeuninstal', 'cba', 'biplan', 'समवेताः', 'hota', 'osprey', 'aladdin', '7pm', '636', 'eddard', 'wilp', 'nr', 'inazuma', '194', 'bidi', 'opana', 'geller', 'mashabl', '23yearold', 'presedenti', 'developerwhat', 'cloverfield', 'unfilt', 'vitruvian', 'hysi', 'ciroc', 'dcn', 'student’', 'h4ead', 'kimmel', 'planu', 'wattag', 'qed', 'kmspico', 'powerbank', 'mrsa', 'tillerson', 'rex', 'gocash', 'npti', 'tvalu', 'rakesh', 'hawker', 'insidi', 'expansionist', 'foamgla', 'hypsm', 'audiovideo', 'laughabl', 'restaurateur', 'physcial', 'hollywoodtv', '450tc3', 'stockhold', 'cashflow', 'beetel', 'riley', 'wouldv', 'sebum', 'reacharg', 'tajik', 'quickblox', 'dunk', 'coupondunia', 'trumpcar', 'sklearn', 'volver', 'euusa', 'unroot', 'numbuh', 'raffl', 'ch3nh2', 'explicitli', 'rava', 'clock’', '7s', 'websiteplatform', '15v', 'ticketmeoutcom', 'taster', 'wallonia', 'x5', 'asp', 'prospectu', 'bakersfield', 'syke', 'whith', 'aph', 'cilia', 'restaurantpub', 'flagella', 'armyaft', 'theocrat', 'altman', 'testmysitecom', 'squish', 'plex', 'note3', 'clasher', 'dolbi', 'sharapova', 'staph', 'drogon', 'stdin', 'lnx', 'eureka', 'namo', 'bebe', 'freebi', 'bombard', 'bipartit', 'dialoug', 'loner', 'salespeopl', 'mb6870', 'exo', 'corean', 'direwolv', '400meter', '1893', 'grubwithu', 'xxxx', 'recondit', 'pgdbda', 'leetcod', 'responsibilit', 'affix', 'swore', '10cm', 'yamato', 'isleton', 'shimatta', 'harper', 'taxonomi', 'tupolev', 'octet', 'betawork', 'adreno', 'kerbal', '3cm', 'nairobi', 'youwhi', 'entryexit', 'odiya', 'rollsroyc', 'tradesi', 'antigrav', '160100', 'asi', 'ezra', 'homebas', 'followup', 'harddisk', 'hesperia', '1s3s24s4', 'mohawk', 'yaoi', 'parentssiblingsfriendsrel', '“detransitioned”', 'healer', 'bogotá', 'dia', 'kaplan', 'audiophil', 'fab', 'roomat', 'lingo', 'stepdaught', 'nibm', 'squeaki', 'loudspeak', 'kotex', 'hickman', 'coloss', 'biologyso', 'acetyl', 'n150', 'airtight', 'spokan', 'nicholson', 'mustfollow', 'antler', 'easytounderstand', 'studentnow', 'chessboard', 'abraxa', 'handed', 'exfat', 'chianti', 'chiranjeevi', 'ischem', 'chlorit', 'stamen', 'dolan', '“it', 'rdbm', 'renegoti', 'k9', '2cell', 'oncampu', 'bactrim', 'pbn', 'boi', 'marriott', 'dwolla', 'collagen', 'sriram', 'reactn', 'kendal', 'bassist', 'quich', 'tamarind', 'oreilli', 'chromium', 'unpair', 'implaus', '2s1p', 'antioch', 'hairdo', 'fv', 'lta', 'alam', 'alamgir', '1375', 'presidentprim', '“membarrier”', 'johor', 'myoglobin', 'slouch', 'carv', 'mathdfrac', 'lasso', '30whr', 'undat', 'bowel', 'tiananmen', 'pulitz', 'harp', 'felix', 'snp', 'middlebi', 'ath', 'houzz', 'webrtc', 'synaps', '6400', '626', 'dtsearch', 'hectic', 'findyahancom', '10mg', 'kapu', 'renminbi', 'mentallyphys', 'addadhd', 'ambassodor', 'envitacom', '“vandalism”', 'succul', 'rhythm', 'eftpo', 'megalodon', 'coz', 'ventricular', 'wilkinson', 'roanok', 'feni', 'heattech', 'masonri', 'holographi', 'waal', '1917', 'norri', 'chikungunya', '6ft', 'resuscit', 'mimicri', 'epo', 'foreword', 'electrophoresi', 'paychequ', 'bogu', 'fullyautomat', 'fianga', 'michelinstar', 'ambianc', 'meerkat', 'loam', 'dglucos', 'kerbi', 'dmannos', 'topmost', 'nimz', 'polygraph', 'minanc', 'namast', 'reword', 'plagu', 'slender', 'dm3', 'cocki', 'cornish', 'mel', 'porbit', 'l1a', 'chimney', 'saccharin', 'carthaginian', 'stateoftheart', 'vani', '“edit', 'apomixi', 'ddt', 'misbehav', 'luka', 'war”', 'electrotast', 'nonexecut', 'lucil', 'moviestv', 'jaggi', '1201', 'vasudev', 'permanent', 'appendectomi', 'synch', 'lantern', 'liy', 'nox', 'eamcet', 'movemb', 'overwrit', 'geoloc', 'alcl3', 'nsw', 'tencent', 'diadem', 'godzilla', 'aravind', 'antartica', 'compression', 'vivaldi', 'unravel', 'dystopia', 'miri', 'retire', '230', 'm605n', 'wpa', 'republician', 'namami', 'dualcor', 'odbc', 'umbrag', '100€', 'jubile', 'mathn2', 'diment', 'seva', '840425', 'evidencebas', 'glutathion', 'imbalanc', 'agrad', 'parabl', 'aitutaki', 'programmerwhat', 'daad', 'spitzpoodl', 'marwari', 'shawn', 'mizoram', 'mgo', 'rottweilerbox', 'testbook', 'washout', 'minc', 'hypoxia', 'otc', 'iasupsc', 'wh', 'demisexu', 'demigod', 'sandra', 'cauliflow', 'udp', 'odin', 'minster', 'frp', 'supplic', 'apto', 'balagurusami', 'xpath', 'sideburn', 'resetchang', '340', 'tadapna', 'usmexican', 'pane', 'siliconvalley', 'chij', 'ambhani', 'nonjudici', 'trumprel', 'cox', 'turo', 'creta', 'sant', 'selffund', 'calamansi', 'infocu', 'basa', 'triglycerid', 'omiss', '310', 'combinator', 'ambros', 'endorphin', '3x3x3', 'euphor', 'hindibollywood', 'shuttlecock', 'torment', 'clench', 'smoothest', 'traineemechan', 'miseri', 'rottweil', 'fujifilm', '100cc', 'e7', 'ceiba', 'soliloquy', 'pornwatch', 'egroceri', '1969', 'cbd', 'bbsr', 'yamaoka', 'imagesbazarcom', 'stylist', 'calicut', '550', 'raziman', 'panelist', 'briefcas', 'bertrand', 'layperson', 'aphasia', 'xampp', '20122014', 'wm', 'fennel', '225', 'ikr', 'dobermandachshund', 'roommate’', 'jj', 'cordon', 'chesapeak', 'bleu', 'negotiablesalescom', 'uft', 'hasn’t', 'graveyard', 'manuscript', 'noel', 'enverra', 'zeroairvoid', 'maniac', 'div2', 'switchyard', 'miscegen', 'pedro', 'dibas', 'nib', '8pm', 'phoeb', 'belittl', 'macroproposit', '107', 'lightspe', 'dobermanrottweil', 'airwatch', 'cryogen', 'alderaan', 'tatooin', 'livelihood', 'f4', 'f28', 'unexplor', '1635', 'vic', 'vaidya', 'zappa', 'egoism', 'downcast', 'pac', 'upcast', 'disha', 'patani', 'ala', 'stupefi', 'polycyst', 'websitesbook', 'eigenvalu', 'nanophoton', 'tissnet', '179', 'antiu', 'elanc', 'rudra', 'motorcyclist', 'dsg', 'esi', 'ecil', 'fml', '2pac', 'ux’', 'oncogen', '‘lean', 'piazza', 'ensu', 'businessstartup', 'salé', 'sae', 'seventi', 'smother', 'pscholog', 'den', 'ferrel', 'nontrivi', 'ucf', 'subset', 'stevia', 'airmen', 'b6', 'goood', 'cloudbas', 'chara', 'credenc', 'productservic', 'antitheft', 'singhal', 'postord', 'nutritionist', 'hebdo', 'ritchi', 'shovel', 'ursula', 'lore', '1517', 'unforgiv', 'aplast', 'orca', 'apenea', 'apologet', 'disobedi', 'esophagu', '092616', 'pullman', 'emgprosthesi', 'ddu', 'yaya', 'spinach', 'headvoic', 'korra', 'maneuver', 'cyberpunk', 'orthograph', 'turmoil', 'islam’', 'roggema', 'systembut', 'n4', 'polyth', 'c2180371', 'deo', 'disqualif', 'abscess', 'counterclockwis', 'dicuss', 'pseudosecular', 'promi', 'rte', 'sergiu', 'betweeen', 'petyr', 'bahira', 'k7', 'ı', 'gtu', 'slug', 'jamestown', 'tonk', 'iguana', 'looseleaf', 'intdfrac1sqrtx21dxmath', '6am', '19ghz', '1sin', 'psychoanalysi', 'nsitian', 'timefram', 'hundi', 'takeaway', 'darkest', 'quirrel', 'sauron’', 'sss', 'sewn', 'kombdi', 'usher', 'roadway', 'purebr', 'a3', 'girder', 'aiit', 'osaka', 'abgt', 'fax', '1618', 'ineffici', 'tanmay', '‘70', 'despot', 'romanov', 'rup', 'tailbon', 'rmo', 'hannah', 'fourteen', 'maytag', 'presidentelect’', 'torrentscc', '280k', 'mare', 'paleolith', 'neighbourhood', 'hyperinfl', 'loveh', 'lagoon', 'trainimprov', 'farfetch', 'kabhi', 'presemin', '3°c', 'fluidse', 'laissezfair', 'polyethylen', 'sinusoid', 'expresid', 'ही', 'tac', 'दूर', '‘need', 'gme', 'थी', 'पर', 'एक', 'mastur', 'crossroad', 'tic', 'multiprocess', 'mathemath', '10000inr', '100math', 'mathd', 'thirdworld', 'mathc', 'mathfracb4', 'math4a', 'ranipuram', 'medellin', 'ackerman', 'octahedr', '1z0444', 'semolina', 'rumbl', 'narnia', '6week', 'kunti', 'stash', 'kean', 'strictest', 'leash', 'nonremov', 'vaporizergi', 'lakkidi', 'puja', 'shepherdyellow', '465', 'runaway', 'elm', 'gangster', 'baseband', 'm605x', 'thx', 'carthag', '615', 'trichlorid', 'thorough', 'endometrium', 'kurud', 'divisor', 'openai', 'virtusa', 'z2', 'epgp', 'kefir', 'pcl', 'keat', 'polio', 'eurozon', 'extran', 'admi', 'vishwanath', 'indigest', 'fanboy', 'flamefireexplos', '144hz', 'quickcharg', 'wri', 'partisan', 'unfamiliar', 'andov', 'maharshi', 'nanomet', 'superscript', 'hashmi', 'tutsi', 'hutu', 'mascarpon', 'ccat', 'siliconbas', 'gowda', 'tripit', 'god’', 'vvt', 'shipwreck', '€500', 'coven', 'esther', 'adward', 'cocoa', 'gambit', 'gypsum', 'publishersdevelop', 'torso', 'gregorian', 'unmerg', 'homi', 'have', 'carrol', 'relentless', 'friendster', 'spanielbeagl', 'handlebar', 'salient', 'nullifi', 'undiscov', 'rightleft', 'pedestrian', 'unilaterali', 'dreamwork', 'couchdb', 'eso', 'bachelorbachelorett', 'mahalwari', 'ryotwari', 'emraan', 'zamindari', 'd750', 'dnce', 'rochest', '319', 'karta', 'chinki', 'cva', 'javaj2e', 'hightech', 'uva', 'tortion', 'millbra', 'coden', 'altair', 'pasport', 'handjob', 'igim', 'aria', 'bigdata', 'wy', 'discomfort', 'includestdioh', 'bathua', 'hyperlipidemia', 'ramsey', 'dobermanlab', 'mercer', 'melena', '8080', 'ukhand', 'lacross', 'twink', 'usuri', 'mirin', 'directon', 'foodi', 'vostro', 'gangnam', '£1', 'vcv', 'soa', 'woodrow', 'macdonald', 'mavic', 'underlin', 'agoraphobia', 'noachid', 'finvizcom', 'kirchoff', 'ferrero', 'irrefut', 'genderwomen', 'reddish', 'hazrat', '70345', 'protisit', 'songs？', 'overact', 'meru', 'klingon', '1310017100', 'nizamuddin', 'sidestick', 'natrulli', 'anglosaxon', 'moros', 'rocher', 'mitot', 'amnesti', 'hackintosh', 'pycharm', 'keydown', 'weevil', 'hno3', 'subdomain', 'peipu', 'similiar', 'paella', 'viejo', 'glendal', 'isha', 'fraudster', 'recertif', 'sugest', 'tabasco', 'magma', 'webhook', 'css3', 'supervisori', 'polari', 'huf', 'gatecs', 'montag', 'pcp', 'imesh', 'complexcenterforumhub', 'haier', '14l', 'connor', 'mta', 'septic', 'zürich', 'epsilon', 'togaf', 'ivectorizecom', 'lousi', 'tremor', 'khale', 'appsbarcom', 'uitabbar', 'puck', 'puddl', 'mathymath', 'iata', 'jolli', 'winslow', 'debtridden', 'inunderofov', 'atc', 'dorian', 'sudexo', 'predecid', 'carribean', 'garcia', 'cesium', 'aptana', 'e√x', 'chinchilla', 'despic', 'porou', 'bai', 'proce', 'fetus', 'fontfac', 'improvement”', 'enduringli', 'nod', '458', 'ghetto', 'deplor', 'sarasota', 'xamidea', '180ml', 'jami', 'schwarzenegg', 'shaox', 'intercom', 'meanest', 'nimcet', 'lululemon', 'threedimension', 'dire', 'loosen', 'j2', 'scorch', 'hyperthyroid', '348', 'intercultur', 'uniformli', 'shroom', 'codeint', 'bibliophil', 'combiflam', 'mjolnir', 'gaslight', 'jurgen', 'ptrcode', 'const', 'eventhough', 'tulsida', 'shinchan', 'tactless', 'stemcentrx', 'activia', 'peruvian', 'llr', '7lpa', 'uvu', 'tsar', 'compost', 'baddebt', 'outbound', 'dumper', 'harrison', 'dme', 'filenet', 'oneyearold', 'ransom', 'complianc', '6061', 'mtt', 'exposit', '30000r', 'agadè', '“pillage”', 'sideswip', 'stategi', 'richter', 'scobi', 'ibeacon', 'chong', 'bitlock', '2am', 'québécoi', 'mfm', 'deanna', 'selfprep', 'bidguru', 'atlaspublicrecordscom', '0math', 'clutter', 'viciou', '362', 'reasonhow', '5minut', 'nadia', 'boa', 'nami', 'joul', 'yar', 'magikarp', 'rattata', 'powai', 'remi', 'yaga', 'skd', 'mei', 'nonuk', 'nassim', 'nonmateri', 'childcar', 'turbotax', 'ttaje', 'taleb', 'antifragil', 'warbi', 'hera', '•', 'villian', 'hoarder', 'swagbuck', 'liken', 'bscbtech', 'n00b', 'xolo', 'novato', 'supper', 'adalat', 'pankaj', 'flaunt', 'louisiana–monro', 'spirulina', 'mathdisplaystyleint', '“kinikilig”', 'chutiya', 'improperli', 'smokestack', 'lago', 'googler', 'rajajinagar', 'wasseypur', 'osk', 'lorri', 'everett', 'hinton', 'onenight', 'optometri', 'ch20', 'javac', '“thank', 'montessori', 'shack', 'placehold', 'distributorship', 'zoro', 'iresis', 'inmov', 'sabkegaanecom', 'riverdal', '1214', 'ensembl', 'fanpag', 'spookiest', 'ultrafin', 'ghoshal', 'shreya', 'ccp', 'wahabi', 'means…', 'journalistwrit', '50313', 'saheb', 'breathless', 'dian', 'overdu', 'catherin', 'hilario', 'nene', 'quarrel', 'sugget', 'plannerschedul', '55300mm', 'sphincter', 'iimabc', 'selvi', 'shakti', 'effectv', 'loke', 'neoten', 'juilliard', 'saml', '103', 'harleydavidson', '30511', 'softli', '4562000', 'timberlak', 'patekar', 'nawalgarh', 'dishtv', 'bromanc', 'nana', 'batra', 'baháí', 'renal', 'damascu', 'habittact', 'eva', 'vin', '498a', 'dv', 'dhoom', 'tyranni', 'testhomework', 'mutini', 'makarand', 'kudrow', 'askcom', '90725', 'widest', 'plaintiff', 'packex', 'codec', 'gseb', 'x8', 'fitzgerald', 'writtendrawn', 'everday', 'anaspur', 'temazepam', '7z', 'syriac', 'altcom', 'margarita', '48k', '705', '102016', 'sevelop', 'hghar', 'reveri', '65k', 'overbor', 'microscopi', 'ecard', 'aslam', 'atif', 'tajdareharam', 'outlast', 'torboxnet', 'stockshar', 'alexacom', 'iimb', 'thinskin', 'seroxat', '“can’t', 'assasin', 'aspi', 'aether', 'tingl', 'choppi', 'olaub', 'mj', 'sugarcan', 'virtualbox', 'misrepresent', 'unrestrict', 'beenteencom', 'dima', 't25', '5lpa', 'perch', 'bnbr', 'cirqu', 'welldesign', 'office365', 'colourblind', 'unbrick', 'yellen', 'kvm', '200k', 'kajal', 'paritala', 'shannon', 'enclos', 'f7', 'millimolar', '70kmph', 'transubstanti', 'consubstanti', 'drawbridg', 'wordpressorg', 'bison', 'triac', 'extrasolar', 'subtop', 'meep', 'accntur', 'pashould', 'torpedo', 'siberia', 'shree', 'waitstaff', 'differec', 'importantli', 'streamlin', 'quattro', 'unrest', 'annul', 'tikka', 'cheven', 'uwe', 'userid', 'pasadena', 'ait', 'sequestr', '形から入る', '“prayer', 'languageread', 'brainstorm', 'postgi', '595', 'wherebi', 'arvin', 'xxx”', 'rs100000', 'allamake', 'deepsea', '6v', 'koe', 'helpaffect', 'splitsvilla', 'orderyourchoicecom', 'sharjah', 'perchlor', 'serieusli', 'sleepless', 'shepherdpug', 'superstructure”', 'rapey', '“alien', 'tabby’', 'affabl', 'nazilov', 'acquiesc', 'puc', 'panjab', 'handi', '2535', '2stroke', 'skyler', 'precent', 'rabind', 'healthrel', 'machiavellian', 'jaqen', 'replay', 'friendsfamili', 'motog', 'snorlax', 'udf', 'seltzer', 'katachi', 'expresss', 'stephani', 'goo', 'novelsbook', 'undercook', 'precompil', 'pacifica', 'atv', 'marinad', 'ei', 'busin', 'elliot', 'klum', 'doesi', 'kaiser', 'yearn', 'starcraft', 'punit', 'subfloor', '960m', 'forese', 'heidi', 'bharatiya', 'casein', 'titin', 'minumum', 'sequr', 'obrien', 'husbandwif', 'outpost', 'cisgend', 'btm', 'janata', 'cwg', 'ointment', 'jaunsari', 'nowday', 'transduct', 'anesthesiologist', 'buchanan', 'aiesec', 'yesno', '184', 'ul', 'probiti', 'triplet', 'mh17', 'ridden', 'annot', 'fawad', 'forcibl', 'taxpayer’', 'jossa', 'yfx', 'dsm', 'wpm', 'medina', '136', 'evn', 'ez', 'misrul', 'cmt', 'enumer', 'birchbox', 'bv', 'group1', 'skylin', 'sugarfre', '5d7d', 'mrwhippi', 'stirrup', 'nanothermit', 'regi', 'songz', 'tibco', 'tpin', 'dalhousi', 'goenka', 'harvardmit', 'ebd', 'nh2nh2', 'regulu', 'preeti', 'khairiyat', 'durex', 'diggl', 'rhve', 'abod', 'dblp', 'oja', 'shuld', '1015k', 'behold', 'dorsi', 'latissimu', 'combox', 'kremlin', '1b', 'plagiaris', 'neurolinguist', 'reliant', 'surcharg', 'outta', 'pranayam', 'kapalbhati', 'stdinvok', 'equifax', 'norwalk', '508', '8bit', 'emblem', '근데', 'sherperdgreat', 'nudg', 'cheerlead', 'tarth', '838z', 'paidnaukaricom', 'ox', '女漢子', 'compton', '“encounter”', 'wholl', 'eclerx', '하지만', 'kranti', '“objection”', '1058', 'hawkesburi', 'amperag', 'iniquit', '10w', 'francoprussian', 'novelti', 'camtasia', 'lhr', 'pushbutton', 'pretrial', '그런데', 'excersis', 'vitara', 'unfinish', 'chashmadid', 'lawyersofindiacom', 'limerick', '46000', 'sti', 'jetcom', 'geofilt', '“parallel”term', 'barabanki', 'macbok', 'rgipt', 'strenght', 'pricelin', 'pallonji', 'shapoorji', 'hallmark', 'meanwhat', 'amex', 'endeavor', 'hellen', 'nota', 'sidekick', 'mam', 'datastructur', 'hpair', 'kratom', 'sought', '10000000', 'pitot', 'cyprusnow', 'haphazardli', 'chipset', 'dotabuff', 'flv', 'whosoev', 'loft', 'menthol', 'backyard', 'rlc', 'xenomorph', 'm553dn', 'barit', 'sdxc', 'bade', 'tfidf', 'carbon12', 'preorder', 'cbzchemistrybotanyzoolog', 'viz', 'outlaw', 'alcubierr', 'finedin', 'jetpack', 'skillet', '‘it', 'classless', 'damper', 'value’', 'hellbent', 'chadar', 'gio', 'tit', 'fiori', 'gawah', 'masonit', 'dh', 'horniest', 'olufsen', 'ninth', 'indicatorgaug', '1yr', 'vallabhbhai', 'quistion', 'friendlist', 'sardar', 'standar', 'canderecom', 'forstal', 'shepherddachshund', 'pepsico', 'ello', 'millimet', 'cigarettesvapor', 'gsw', 'granni', 'gritti', 'sprout', '741', 'liquidatederadicatedabolish', 'gateforum', 'model’', 'siteorecom', 'maggot', 'recepto', '28000', 'vtuplanet', 'shirom', 'tortoiseshel', 'scilab', 'imak', 'compuat', 'zoologist', 'workbench', '1750', 'endem', 'eoi', 'jit', 'hind', 'starkil', 'pancetta', 'spouselov', 'consequenti', 'narasimha', 'igi', 'pratchett', 'sethusamudram', 'billionar', 'eagerpanda', 'tightli', '1930', 'cgp', 'significan', 'pentan', 'seroquel', 'udit', 'discworld', 'xbeardcom', 'medalist', 'locomotor', 'featherless', 'uslik', 'anaesthesia', 'akamai', 'eth', 'niguel', 'queef', 'deakin', 'cytosin', 'braless', 'dabba', 'orkut', 'hominem', 'kyro', 'cobi', 'otr', 'reimann', 'thymin', 'weightless', 'guanin', 'aircel', 'agar', 'sonnet', 'cclicens', 'bestmytestcom', 'ishmael', 'bedfordshir', 'hitk', 'greenvil', 'biromant', 'croissant', 'flue', 'pothol', 'truste', 'iraqi', 'loreal', 'broadest', 'ooo', 'samoan', 'sherkiy', 'sriharikota', 'rc6', 'aint”', 'androidio', '200n', 'timetrack', 'schemeloan', 'dsgnr', 'alkyl', 'dinesh', 'cabo', 'prepubesc', 'laura', 'jiraiya', 'freephon', 'outliv', 'leatherwork', 'destabil', 'glucon', 'mathnmath', 'ethyn', 'outofbodi', 'tortellini', 'skimboard', 'ephedrin', 'derbi', 'mastiff', 'galxi', 'cot', 'callus', 'smuggl', 'mata', 'fernando', 'tired', 'headband', 'tier3', 'lightli', 'bmm', 'whatspp', 'shepherdaustralian', 'sociopathpsychopathbesid', 'unixlinux', 'binsar', 'emulsifi', '1870', 'galvan', 'nacha', 'interdepend', 'raut', 'taxiforsur', 'infinity0', 'shinobi', 'mitid', 'exl', 'dtg', 'kamasutra', 'underpaid', 'iimjobscom', 'hegemoni', 'filthi', 'frequentist', 'quinci', 'cml', 'presbyterian', 'cowardic', 'bladeless', 'yx2', 'grappl', 'selfright', 'manitoba', 'manchu', 'maangog', 'strider', 'durmstrang', 'linker', '“horribl', 'laxman', 'dssc', 'nucleoplasm', '31th', 'primeredmi', '3sredmi', 'c2', 'maltipoo', 'gintama', 'sawant', 'rakhi', '1912', 'semifin', 'pranab', 'ashor', 'neccessari', 'seafar', 'urinateddefec', 'vividli', 'emr', 'subcutan', 'egest', 'sentra', 'bayern', 'rahan', 'xs', 'produt', 'config', 'screener', 'opencoursewar', 'inflammatori', 'zakat', 'chafa', 'servicebas', 'latop', '1xfriendli', 'dreadnought', 'superbug', 'kullu', 'th10', 'parenthood', 'indent', 'foucault', '‘80', 'wifegirlfriend', 'hydroelectr', 'topicbas', 'ndc', 'mustknow', 'ecigarett', 'smartwatch', 'jsf', 'bedridden', 'tfhe', 'mfacebookcom', 'touchfacebookcom', 'freemark', '278', '75000', 'betel', 'nanochemistri', 'brahm', 'deconstruct', 'hawx', 'javafx', 'itil', 'selfpropel', '13rd', 'slowest', '172', 'sulawesi', 'shale', 'transgress', 'hokag', 'beti', 'annabel', 'ludwig', 'serena', '801', 'thana', 'wolfgang', 'sicario', 'textilemateri', '74322', 'payer', 'superbik', 'denatur', 'hadron', 'mvj', 'fantasis', 'namah', 'mpl', 'hfl', 'priceless', 'definitesemidefinit', 'bharati', 'saggi', 'multiphys', 'comsol', 'fitna', 'hydrophil', 'rchemistri', 'snowi', 'walgreen', 'dajjal', 'steinbeck', 'marlin', 'cambodian', 'itsadatenightcom', 'suvidha', 'mendeley', 'localis', 'hawthorn', 'pujara', 'classiest', 'fibril', 'adjoint', 'bayer', 'malamut', 'algerian', 'nasik', 'kun', 'tout', 'fractal', 'bhargava', 'snicket', 'lemoni', 'allright', 'tl', 'uninhabit', 'standford', 'aliyah', 'israelionli', 'vsp', 'exgf', 'antibond', 'functor', 'cornstarch', 'halfangel', 'halfdemon', 'noncitizen', 'bordeaux', 'griezmann', 'empresa', 'instituto', 'twohour', 'sandisk', 'chatter', 'superglu', 'es6', 'mozambiqu', 'midsiz', 'dayton', 'dayananda', 'dmart', 'mtf', 'mileg', 'tetrahedr', 'umi', 'kauna', 'aspectcan', 'honk', 'canfi', 'rubra', 'randwick', 'irl', 'faceti', 'singlet', 'ghazwaehind', 'fundamentalist', 'amherst', 'kissanim', 'heeleraustralian', 'iwork', 'nonleth', 'kung', 'jaishemohammad', 'productsand', '90m', 'techonolog', 'methodfrequ', 'reaipmt', 'chewi', 'newsroom', 'ret', 'throwin', 'emmental', 'khowai', 'oka', 'wbm', 'granul', 'srilankan', 'nutshel', 'macronutri', 'micronutri', 'desig', 'mtv', 'ksp', 'powerprep', '12month', 'doesnot', 'chainsaw', 'tetracyclin', 'kic', 'primal', 'jahan', 'dover', 'ahmadinejad', '2am5am', 'xero', 'belliger', 'wysiwyg', 'scruff', 'lithospher', 'sif4', 'pio', 'tution', 'potentiomet', 'benthem', 'mahmoud', 'ijert', '¿', 'foggi', 'polymetal', 'patek', 'spectat', 'webb', 'aventador', 'rydalmer', 'filesystem', 'abramovich', 'pseudo', 'duncan', 'hose', 'firewir', 'xx1', 'hbase', 'muapt', '488', 'seti', 'monolith', 'bhagvat', 'rigour', 'invans', 'eletr', 'isa', 'wren', 'ofagainst', 'moretz', 'aanika', 'ambala', 'hcm', 'nav', 'amien', 'plzeň', 'orissa', 'sg', '1l', 'fazer', 'chloe', 'circus', 'breslin', 'moringa', 'indianpakistani', 'airspac', 'occult', 'trueli', 'agri', 'limxto', 'runningout', 'businessmen', 'kumon', 'centric', 'ringworm', 'paddi', 'retort', 'msu', 'playwright', 'dailychangescom', '11301', 'xtan', 'ripper', 'p90x', 'indiadonald', 'mathfracdydxfracy3y2x2math', 'arowana', 'monocoqu', 'guarantor', 'aspx', '66kv', 'pyrex', 'embryo', 'tug', 'tenderloin', 'topprospectcom', 'poi', 'vikram', 'townsend', 'sela', 'sandalwood', 'witcher', 'deadlift', 'transgender', 'ashle', 'maher', 'lifebydesigncom', 'stargat', 'dgital', 'shubham', 'nandani', 'varicocel', 'mophi', 'resumecv', 'statecountri', '8462852', 'pessim', 'iucn', 'schoolcolleg', 'unitarian', '306', 'beh2', 'rereleas', 'careerfoundri', 'stanton', 'selfhypnosi', 'stardust', 'mainstr', 'neiman', 'horticultur', 'shehnaz', 'zeitgeist', 'h1z1', 'tidyvers', 'scrabbl', 'endow', 'wbc', 'comorbid', 'sciatica', 'homeaway', 'shephard', 'randyl', 'eventbrit', 'som', 'aoe', 'hydronium', 'iostream', 'rejuven', 'mortil', 'keypad', 'strarv', 'p3ht', 'blackafrican', 'middleag', 'starship', 'resurfac', 'ote', 'wilmington', 'indou', 'dermat', 'humanitarian', 'danni', 'gaa', 'veritasium', 'pésterion', 'aseam', 'rhino', 'leukemia', 'hindibhojpuri', 'chemo', 'rlwl1', 'writertop', 'rlwl7', 'nlsiu', 'series4710101613…', '22x22', 'premed', 'densest', 'rtl', 'cormen', 'bazarlec', 'aromant', 'relationshipd', 'junagadh', 'mealworm', 'bifoc', 'funda', 'neatli', 'edupristin', 'muscletech', 'indd', 'dewalt', 'ns2', 'falkland', 'crayon', 'geologist', 'flatul', 'shankaracharya', 'ramanujacharya', 'gauntlet', 'scad', 'namenod', 'midwif', 'ratha', 'tvmovi', 'relinquish', 'sohum', 'freeway', '531', 'aac', 'waswer', 'radley', 'whitehead', '970', 'it…', 'mcv', 'garner', 'roundchat', 'ransomwar', 'cerber', 'bhutto', 'celest', 'luster', 'meizu', 'netbank', 'ctocofound', 'studymemor', 'datanod', 'saf', 'okr', 'manet', '1937', 'pomeranian', 'unc', 'inciner', '“nature”', 'savitar', 'followersfellowship', 'bonham', '22×222', 'nanj', 'nonferr', 'hanov', 'newcastl', 'nightshad', 'wix', 'flamingo', '1x1', 'teamhealth', '6pm', 'onenetworkdirect', 'freed', 'crawfish', 'gingiv', 'cpuz', 'duckfac', 'thestral', 'nonretina', '13inch', 'cedric', 'huluplu', 'errconnectionrefus', 'judi', 'nicobar', 'spg', 'bpt', 'z630', 'mayhem', 'rhapsodi', 'squadron', 'psychotherapi', 'vashikaran', '‘ennikkum’', 'postnat', 'topfiv', 'arri', 'cerebrum', '300135', 'quanzhou', 'qubool', 'clipboard', 'wozniak', 'hardcopi', 'merta', '005', 'catxat', 'arnd', 'rnkd', 'admt', 'jupiter’', 'wwwtuztascom', 'dominguez', 'pgdba', 'x7', 'now…', 'drivercar', 'inca', 'zbrush', '771', 'shastri’', 'palakkad', '1789', 'sitecor', 'civilsdaili', 'safavid', 'christmasnew', 'lavish', '50000r', '70’', '50’', 'crotalu', 'gama', 'depp', 'polystyren', 'tubem', 'ceat', 'courtier', 'lastfm', 'zafar', 'difffer', 'antagonist', 'dignam', 'wahlberg', 'rigbi', 'eleanor', 'gonorrhea', 'marriageswed', 'uyu', 'var', 'paysalari', '650663', 'communitarian', 'socialisingd', '1816', 'handbrak', 'kyi', 'suu', 'aung', 'scotu', 'ornament', 'anemon', 'kebab', 'mfc', 'yeono', 'chipbas', 'starwar', '6month', 'therea', 'tulli', 'romcom', 'chashma', 'prehensil', 'adani', 'more', 'tardigrad', 'transceiv', 'katniss', '201718', 'clegan', 'dandelion', 'microsd', 'defil', 'neurobion', 'oca', 'peertop', '98364', 'flyover', '10n', 'hitchen', 'adolesc', 'chirp', 'irr', 'seeder', '7year', 'bluehost', 'tiago', 'nanda', 'applaud', 'khwaja', 'archetyp', 'c4c', 'testdriven', 'moinuddin', '5800', 'fgfa', '‘the', 'bandana', 'tripadvisor', 'madera', 'sinemet', 'heliocentr', 'coapplic', '25100', '6kg', 'precursor', 'meadow', 'horseradish', 'bewafa', 'jobvit', 'secrethidden', 'sunnyval', 'cervix', 'avisa', 'wile', 'stellar', 'vulkan', 'haki', 'nco', 'adler', 'iren', 'iraniraq', '375', 'bookplay', 'ige', 'cpo', 'ssid', 'rasa', '“shalini”', 'rec', 'yuddham', 'hmm', 'kaur', 'kaushal', 'khali', 'spousepartn', '326', 'parasail', 'boric', 'topnotch', 'googlemicrosoft', 'tubul', 'remit', 'kl', 'learnabl', 'shackl', 'unwil', 'tammi', 'reo', 'nicer', 'filmtv', '‘king’', 'horsesho', 'denounc', 'cathay', 'commis', 'chronograph', 'tutorialslotcom', 'relainc', 'मत्परः', 'recheck', 'ttip', 'faraday', 'willcan', 'possibilti', '19216811', 'nematoda', 'platyhelminth', 'midterm', 'xilinx', '“terrorist', '9v', 'auschwitz', 'schindler', 'vtec', 'personalitystar', 'trooper', 'sy0401', 'alsowhich', 'hed', 'toolkit', 'filmfar', 'chimp', 'timezon', 'basel', 'dissid', 'yx', 'wildfir', 'montli', 'overthecount', 'itt', 'barca', 'instapap', 'baylor', 'cardiolog', 'doortodoor', 'jeweleri', 'ferb', 'ott', 'phinea', 'recogniz', 'buoyanc', 'coolpix', 'toour', 'athm20x', 'apathet', 'subprim', 'zygot', 'valparai', 'pyaar', 'punchnama', 'saket', '“good', 'sdeii', 'millia', 'unfalsifi', 'pgt', 'sli', 'mung', 'seagram', 'taskrabbit', 'experian', 'entropay', 'loka', 'upson', 'それでもまだ', 'isfj', 'hitech', 'f15', 'internshipjob', 'supris', 'vcc', 'pimp', 'indosikkim', 'indonep', 'spong', 'modoc', 'freer', 'beaker', 'muppet', 'ipil', 'slovenian', 'unhealthiest', '240p', '360p', 'ntp', 'feedforward', 'payback', 'svm', 'unimport', 'unesco', 'aeri', 'teak', 'bikan', 'subspac', 'sag', 'piracetam', 'bettor', 'osirix', 'fitbuyfollowercom', 'shitti', 'alienjak', 'guthier', 'hft', 'windu', 'muskil', 'unpop', 'breakmyshowcom', '50cc', 'waldo', 'weasel', 'aura', 'electrocut', 'metalloid', 'passowrd', 'disaronno', 'imgsafeorg', 'rs7000', 'ulta', 'booksel', 'mantel', 'biograph', 'cuticl', 'jasper', 'emili', 'rooney', 'inhibitor', 'reuptak', 'morcha', 'sukanya', 'senna', 'chivalri', 'cognitioniq', 'tether', 'gundam', 'loi', '600d', 'khel', 'compaq', 'hela', 'vibhushan', 'padma', 'multipolar', 'apprenticeship', 'tplink', 'hatak', 'nohara', 'freestyl', 'pedest', 'universitycolleg', 'presal', 'postproduct', 'needyclingi', 'antholog', 'burpe', 'tusk', 'cyril', 'cy', 'yahweh', 'playstor', 'eb5', 'websitesapp', '“win”', '“won”', 'deiti', 'delight', 'anglobo', 'tonkin', 'rsorder', 'ahalya', 'cleanli', 'finer', 'lyche', 'brais', 'kukatp', 'polymer', 'unzip', '300page', 'mynampix', 'cracklecom', 'regga', 'prolifer', 'xvideo', '1012', 'belch', 'phobo', 'samay', 'promethazin', 'robitussin', 'jaisalm', 'unregist', '60fp', 'coldflu', 'gambhir', 'bvucoep', 'gulti', 'x99', 'hyperr', 'c3h8', 'cuz', 'gtk', 'soylent', 'oaxaca', 'mischiev', 'cottonwood', 'monash', 'peppermint', 'hustl', 'wellington', 'wouldn’t', '03', 'endanger', 'dassault', 'metagenom', 'forsupport', 'microwavesaf', 'shifuji', 'epidemiolog', 'bmi', 'gatee', 'bloodraven', 'imbal', 'bebop', 'rihanna', 'fastmov', 'multibagg', 'periodont', 'primros', 'riskier', 'folklor', 'overpaid', 'backdat', 'swacch', 'tibia', 'charminar', 'esterlin', 'breitbartcom', 'wellsuit', 'peugeot', 'm5', 'asoci', 'mischief', 'homescreen', 'donni', 'bulleh', 'santorum', 'hunk', 'beiber', '“chr6coxhap2”', 'cando', 'characteris', 'pants’', 'wallapop', '18886335526', 'tasteless', 'comminut', 'benjen', 's4a', 'monterrey', 'bisquick', 'shiamajor', 'src', 'hun', 'feud', 'lightemit', 'chitta', 'reynold', 'nomenclatur', '£5000', 'nlu', 'superhuman', 'beelzebub', 'aswathama', 'prussia', 'chiranjiv', 'rattan', 'umayyad', 'genpact', 'vocera', 'haiku', 'yarn', 'osteen', 'umami', 'aquou', 'shakespearean', 'magdalen', 'transmissin', 'parsi', 'npr', 'easydifficult', 'luminifer', 'pocatello', 'toogoodtobetru', 'operand', 'ballad', 'disinform', 'consul', 'rewatch', '“stunninglyer”', 'dazzl', 'worldunivers', 'offerdriven', 'wamp', 'plzz', 'hmbrowsercom', 'vulva', 'statistician', 'appstor', 'camelto', 'shikha', 'jfet', 'vg', 'corgi', 'freshest', 'cicret', 'venou', 'constabl', '“to', 'objectifi', 'timeplacepeopl', 'novakovski', 'timehow', 'perfom', 'daro', 'mohenjo', 'olataxi', 'planer', 'patreon', 'recategor', 'carreer', 'suremeru', 'zolpidem', 'blush', 'shinkansen', 'legionnair', 'yonex', 'crh', 'sweatshop', 'ning', 'n300', 'peptobismol', 'congressman', 'biophys', 'shigoto', 'texter', 'soya', 'biopsi', 'pei', 'kk9k78kk', 'k34printf', 'khasra', 'khata', 'denzel', 'rectal', 'ladyboy', 'ternari', 'nonbinari', 'jobinternship', 'cano', 'ksnarayaacharya', 'fqt2', 'trombon', 'kalman', 'higley', 'flawless', 'ubiqu', '1819', 'httpwwwfitclowncomlosewat', 'harem', 'bandaid', 'zepto', 'onu', 'momo', 'd3100', 'gedmatch', 'placat', 'anth', 'vernier', 'hundredth', 'midland', 'sundari', 'soppana', 'toolbar', 'unscientif', 'v15', 'cori', 'galilei', 'tsa', 'conur', 'keratoconu', 'cif', 'mufftcom', 'middleman', 'slipperssho', 'telliesmovi', 'outdoorsho', 'indianmad', 'coxkroach', 'psiphon', 'snob', 'rottweilergerman', 'plasmid', 'priorit', 's6s5s4note', 'webmd', 'countriesmemb', 'mechnic', 'exclamatori', 'unacademi', 'nagato', 'unilev', 'rucku', 'shoolini', 'herzegovina', 'exonym', 'frat', 'eggless', 'hyperplasia', 'plier', 'sheepdog', 'nomencl', 'pai', 'tictacto', 'heatsink', 'chargeabl', 'earni', 'gutka', 'filmfilm', '“do', '100w', 'randsfjorden', 'spss', 'hypoglycemia', 'nervouswhat', 'disson', 'flamenco', 'mulch', 'ingrati', 'seaplan', 'glasnost', 'multilingu', 'coursedlp', 'log4j', 'trp', 'debshopscom', 'prosecco', 'btechmtech', 'dif', 'connectionn', 'congressmen', 'seduct', 'pincod', 'longhaul', '365dayscouponscom', 'tu9', 'raiser', 'couldntv', 'teleprompt', 'ht12e', 'respondacknowledg', 'ht12d', 'koramangala', 'antirabi', 'nerdwallet', 'maam', '350k', 'blynk', 'carmen', 'nucleolu', 'rabbi', 'hertz', 'miniseri', 'vitaminwat', 'infrct', 'mitzvah', 'actualizedorg', 'dursley', 'turnoff', 'julia', 'chevron', 'echinacitiescom', 'exmuslim', '1300', 'blackbox', 'thame', 'rpa', 'dtunsit', 'kdrama', 'gmt', 'airi', 'v30', '100mbp', 'bryde’', 'finalist', '1000tkb', '1010kb', 'scabi', 'msn', 'colliebeagl', 'lindt', 'dnd', 'hula', 'newport', 'lycanroc', 'wifien', 'cccp', 'multiorgasm', 'mangalorean', 'korsakoff', 'interviewbit', 'bangalorepun', 'philipp', 'sethupathi', 'bhosl', 'parsley', 'jhunjhunu', 'team’', 'deism', 'holster', '34th', 'jawahar', 'deregul', '13b', 'caucus', 'oauth', 'hater', 'southwark', 'sdr', 'sonora', '‘90', 'fayettevil', 'oligopoli', 'crimp', 'coenzym', 'nad', 'imprint', 'claritin', 'teachriponcom', '“clinton', 'ew', 'ware', '432', 'bedbug', 'wannab', 'schemat', 'assyrian', 'urn', 'kher', 'synolog', 'asprin', 'hashimoto', 'ayatollah', 'count”', 'withdrew', 'intra', 'rs600', '10000month', 'manchuria', 'oxidationreduct', 'loaf', 'mage', 'pgpx', 'ectomorph', 'contactor', 'gta5', 'textnow', 'lr6', 'bibvewadi', 'unequivoc', 'rvnl', 'longtim', 'professorialsprofessor', 'moocselearn', 'audiogram', 'fishi', 'kirana', 'sneha', 'klein', 'onlim', 'bronn', 'eyri', 'cpr', 'lolo', 'letv', 'v149', 'awa35', 'fy', '2600', 'lvm', 'babar', 'couplet', 'kimigayo', 'sonar', 'weightloss', 'weir', 'ipv4', 'tatter', 'trinidad', 'omelett', 'picki', 'datum', 'ford’', 'ehr', 'malviya', 'tobago', 'xchrison', 'whistler', 'werner', 'arbor', 'sucralos', 'córdoba', 'citric', 'swot', 'mendel', 'poznan', 'perpuskucom', 'xaxi', 'brewer', 'distresseddepress', 'coachig', 'basecamp', 'anyoneeveryon', 'sama', 'ernst', 'pompeii', 'worshipp', 'madam', 'violet', 'quitstop', 'skid', '201314', 'fallwint', 'hajj', 'johannesburg', 'iceberg', 'dettol', 'mrunal', '8½', 'lymphat', 'payscal', 'carbondioxid', 'zuma', 'kat', 'elat', 'feeder', 'antifung', 'glucomet', 'π', 'intact', '617', 'p15', 'crise', 'hathway', 'heppen', 'kamaal', 'sullivan', 'seeexperi', 'sassi', '430', 'suffoc', '152', 'samson', 'strangeweird', 'ambidextr', 'singerband', 'ethyl', 'preemploy', 'bcz', 'mem', 'assured”', '“flipkart', 'conundrum', 'selfdirect', 'irani', 'rockwel', 'ninjutsu', 'frac1co', 'diablo', 'vii', 'brillianc', 'wakhra', 'cafeteria', 'clipper', '1password', 'obliter', 'pavillion', 'mcse', 'adjourn', '1979', 'rigveda', '‘edgware’', '999', 'unto', '1800flowerscom', '450000', 'ramadan', 'of2', 's660', 'kotlin', 'guangdong', 'monotrem', 'tubular', 'mater', 'alma', 'gregori', 'player’', 'ncat', 'elus', 'yongnuo', 'mclaren', 'meluha', 'bishop', 'jabra', 'deterr', 'spoj', 'raghavendra', 'stl', 'rerun', 'smartassetcom', 'ebitda', 'nonparametr', 'nvme', '5v1a', 'pushi', 'bouquet', 'ultrasound', '250k', 'mbafm', 'indignantli', 'gryffindor', 'stepfath', 'similaritiesdiffer', 'flail', 'insurrect', 'sputum', 'meena', 'meera', 'sped', 'sirmadam', 'फ़जेती', 'ds160', 'thumka', 'uso', 'jenif', 'goliath', 'snmp', '“天人”', 'afrin', 'penil', 'rav4', 'antiindia', 'unlearn', '“stay', 'encompass', 'onerupe', 'utr', '7m', 'lincolnford', 'barnacl', 'downsampl', 'hurstvil', 'oneyear', 'freshwat', 'tahir', 'janib', 'stye', 'blacklett', 'custodian', 'balakrishnan', 'nrc', 'sixlett', 'pentecost', 'apostol', 'nazgûl', 'chaurasia', 'deepak', 'kakao', 'tif', 'ezerz', 'sivaji', 'maltes', 'vaughan', 'svu', 'hardwir', 'itis', 'aloha', 'fsa', 'boko', 'earplug', 'sandbox', 'psorisi', '2month', 'musk’', 'upsc2017', 'opp', 'snackbar', 'timepass', 'nonlif', 'upworkcom', '40mm', 'enviou', 'esta', 'essent', 'famous', 'afar', 'tasmania', 'picturesqu', 'erod', 'awaazepunjab', 'japaneseenglish', 'univeris', 'doctorpati', 'shortcom', 'mento', '422', 'maha', 'erasmu', 'tuck', 'amazonbas', 'mathlogxsinxmath', 'さあひる', 'premoney', 'kangna', 'babur', 'uit', 'dichlorin', 'buckl', 'kumaran', 'bjpmodi', 'opu', 'decibel', 'patnai', 'eventhorizon', 'malamutehuski', 'nust', 'nb', 'datalog', 'dojo', 'wwwmagnumcashadvancecom', 'simc', 'beetl', 'undestand', 'payumoney', 'taunt', '6200u', 'm230', 'kurseong', 'linxup', 'higen', 'jerom', 'relegion', 'plainview', 'acupunctur', 'pueblo', 'mcveigh', 'preislam', '35yearold', 'sheer', 'anbc', 'ɽφʉʛƕlook', 'stubhubcom', 'bon', 'nameaddress', 'bioremedi', 'carbid', '1920', 'golgi', 'aaj', 'booksmovieswaysresourc', 'womensgirl', 'ecu', 'us1', 'codevita', 'yagami', 'acrobat', 'döner', 'shawarma', 'srmjee', 'mid2010', 'lnt', 'intellij', '8year', 'plow', 'freemium', 'c2h6o', 'quill', 'competitionpractic', 'lorentz', 'su2', 'they’v', '70693', 'makedayspecialcom', 'ibrahimov', 'zlatan', 'classtiv', 'classpass', 'q13', 'q12', 'hiss', 'unexamin', 'wwwabundancestockadvisorscom', 'opagu', 'demarc', 'waybook', 'nutil', 'rajesh', 'flipagram', 'autozon', 'rita', 'seatgiantcom', 'monthyear', 'gridlin', 'teacherprofessor', 'dyslex', 'trai', 'expressionless', 'pricipl', 'development', 'tactil', 'amour', '1027', '1065', '12am', '050730', 'dau', 'freedom251', 'usaa', 'strive', 'boyfriendhusband', 'nonskipp', 'deliberatli', '‘a', '454', 'businessmarket', 'coulomb', 'softwaredefin', '13k', 'sou', 'mgm', 'fragrant', '竟然', 'cinder', '1102', 'keurig', 'parkour', 'racer', 'effortlessli', 'coleslaw', 'populac', 'dysphoria', 'demographi', 'stoke', 'fimo', 'unfold', 'dixit', 'garrick', 'emont', 'bernardino', 'piper', 'sludg', 'feta', 'misspelt', 'defac', '840m', 'ingam', 'forestri', 'euphem', '2xmath', 'але́хин', 'алекса́ндрович', 'алекса́ндр', 'alekhin', 'schutzstaffel', 'sturmabteilung', 'peep', 'epitom', 'micron', 'trunc', 'elosh', 'cmpni', 'lassitud', 'paintbal', 'pendant', 'calabash', '40°c', 'vindic', 'clearer', 'middleearth', 'mower', 'airbar', 'mako', 'successfailur', 'mi6', 'umrah', 'synchronis', 'transhuman', 'englishlanguag', 'imtgaziabad', 'iiftdelhi', 'croatian', 'powerpl', 'appsgam', 'photosvideo', 'berkshir', 'bareilli', 'adept', 'godess', '15″', 'cbdr', 'c203', 'orific', 'woodland', 'devonian', 'bilbo', '15ghz', 'housebuildupcom', 'scripp', '12ghz', 'lovemak', 'cerif', 'booksnovel', 'dadar', 'aissc', 'muslima', 'yusuf', 'salahudeenth', 'hizbulmujahideen', 'mustknown', 'jiofi', 'silva', 'grail', 'questionsansw', 'microchip', 'gim', 'cadillac', 'pitweil', 'enfj', 'stuart', 'ui5', 'mitti', 'chore', 'darken', 'mtp', 'hauntedspooki', 'lagaan', 'firstyear', 'mapmyindia', 'cinco', 'antmin', 'supertech', 'bmt', '230v', 'cyberwarfar', 'clef', 'cae', 'pokégym', 'zombocom', '3006', 'wid', 'shakuni', 'wht', 'wedgi', 'veal', 'clickbank', 'tvfilm', 'sexstoriancom', 'nudist', 'abject', 'lather', 'stairhead', 'mulligan', 'chinup', 'superfast', 'inflow', 'robe', 'misguid', 'leech', 'at', 'redmart', 'sqrt1', 'sqrt3', 'garuda', 'whipit', 'involut', 'landmin', 'naron', 'c4040121', 'smellodour', 'garnish', 'retrievercorgi', 'ferri', 'getter', 'durkheim', 'kinkiest', 'ramesh', 'horton', '140k', 'livabl', 'allin', 'levit', 'iyengar', 'specificaton', 'café', 'somevalu', 'somenam', 'gizzard', 'unset', 'binocular', 'nvc', 'satact', 'albeit', 'fiji', 'repaid', 'harrod', 'ashita', 'sakshi', 'humidifi', 'ccent', 'cane', 'viraldiskcom', 'bestmost', 'dx', 'birdman', 'nationst', 'brother’', '4am', 'potosi', 'turquois', 'pakistanchina', 'register', 'zionism', 'bum', 'halliday', 'resnick', 'hoverboard', 'scjp', 'crock', 'nonislam', 'tempor', 'sylabu', 'therebi', '369', 'beau', 'mayjun', 'pragram', 'ecpm', 'iwantmynamecom', 'v12', 'kasauli', '405', 'camgirl', 'nerizedentov', 'penanc', 'planidea', 'roc', '1year', 'expression', '305', 'sitar', 'registri', 'clumat', '100th', 'skymil', 'lufthansa', 'tweak', 'ramakrishnan', 'komodo', 'multisim', 'haze', 'mist', 'malfeas', 'panexitrol', '“膜”', 'rashid', 'tuscaloosa', 'packard', 'earthlik', 'htaccess', 'hewlett', 'prometheu', 'formaldehyd', '1234', 'haroun', 'pomodoro', 'kalka', 'berk', 'jodi', '245', 'orland', 'flashcard', 'overhang', 'meyer', 'coluld', 'who´', 'endor', 'kashyyyk', 'karaikudi', 'parshuram', 'rectum', 'aang', 'buymarijuanaonlinestor', 'picasa', 'silt', 'uav', 'clicker', 'pcie', 'qualm', 'eliot', 'medellín', 'jagga', 'mingl', 'refriend', 'hevc', '2356', '15yr', 'vijayawada', 'friendablecom', '888x4comc2pircomciberlovecomwalkofffatcomcycrimecomiai8comitgenycomprisonloverscomgone2godcom', 'bulleya', 'nutti', 'foursid', 'maricopa', 'tomatina', 'suryanamaskar', 'hypervisor', 'lure', 'geass', '3sintcost', 'drinker', 'wordpresscom', 'wwwallgenericmedicinecom', 'omen', 'inbetween', 'wasserman', '3333', 'nauseou', 'mobli', 'airbrush', 'gastriti', 'teammat', 'hobb', 'doze', 'schultz', 'whomev', 'prowar', '70r', 'gate2018', 'heroku', 'rtb', 'bono', 'rabat', 'ophthalmolog', 'ilinoi', '79', 'pol', 'gamecub', 'sanatana', '18650', '150cc', 'subdu', 'sherman', 'involuntari', 'screwdriv', 'indemn', 'rotj', 'ashfield', '1946', 'salamat', 'pinhol', 'hysteresi', 'angioplasti', 'overvalu', '265', 'sentienc', 'declassifi', 'stepup', 'onida', 'eshop', 'seychel', 'yercaud', 'ferromagnet', 'vythiri', 'pbt', 'birther', 'itp', 'mein', 'tna', 'fa1', 'mcclellan', 'usaco', 'blip', 'modcrack', 'digg', 'penpencil', 'bisexualityhomosexu', 'semiauto', 'puritan', 'nagisa', 'cosquilla', 'infra', '200300', 'wassermanschultz', 'tolani', 'overpow', 'transient', 'anonfilescom', 'davisco', 'clinch', 'carryon', 'panchkula', 'chap', 'class12', 'jizya', 'na2o', 'proschool', 'irreplac', 'obcncl', 'examswhat', 'mdr', 'kent', 'vsco', 'pheasant', 'sidewalk', 'emo', 'cantorshazan', 'm2020794', 'xyplan', 'drunken', 'pakrit', 'teamwork', 'sbipo', 'cddvd', 'softer', 'oneoff', 'rearengin', 'midengin', 'decre', 'hbti', 'galvanomet', 'lmia', 'ingot', 'selfdetermin', 'dceu', 'akkad', 'dali', 'indoctrin', 'ditto', 'sould', 'ionic2', 'holeinthewal', 'gradesbett', 'unintend', 'gokart', 'habitdecis', 'largehug', 'cluedo', 'nameless', 'die”', 'bremen', '“that', 'lovecraft', 'codemojicom', 'bizbillacom', 'rfp', 'cemeteri', 'couldv', 'earphoneheadphon', 'fetti', 'borrowask', 'sargon', '31000', 'neater', 'improvementclarif', 'seconds…', 'mather', '21yearold', 'thaad', 'seldom', 'prosthet', 'wap', 'raindrop', 'gurdwara', 'cincher', 'ani', 'copyrightfre', 'khalid', 'ulnar', 'hinata', 'muscatin', 'yii', 'irp', 'suraj', 'appssit', 'roleplay', 'leftlean', 'irm', 'dosham', 'femaletomal', 'birla', 'aditya', 'handstand', 'bovril', 'seventeen', 'thevenin', 'sieg', 'msmtech', 'fey', '251', 'sgpt', 'onedimension', '237', 'maradona', '224', 'barrack', 'bled', 'sportz', 'spelt', 'wandsworth', 'wayback', 'conferenc', 'alaikum', 'engineeringbut', 'shirpur', 'ummah', 'visionia', 'islamophob', 'thereof', 'whatar', 's0tx', 'tosh', 'rake', 'bigbasketcom', 'khanna', 'astro', 'turf', 'greenish', 'facebooktwitt', 'ageappropri', 'euclidean', 'vlookup', 'jf17', 'rubymin', 'scorn', 'intraclust', '1975', 'councious', '21day', 'qwerti', 'mtnl', 'muham', 'meier', 'dung', 'mastersphd', 'aerat', '485', 'edtech', 'rani', 'scada', 'relic', 'jcole', 'proverbi', 'calogeromos', 'lifeproof', 'smallvil', 'rcmp', '“mi', 'backdoor', 'iminodiacet', 'hepatobiliari', 'gaiden', 'paccar', 'nahco3', 'satyajit', 'natal', 'r8', 'pizzag', 'd7000', 'euphoria', 'd7100', 'bhai', 'oregano', 'neha', '1830', 'greenifi', 'devote', 'transfarm', 'dhammavinaya', 'ganja', 'fajita', 'carib', 'presentday', '812', 'shakira', 'antarct', 'bartman', 'cpagripcom', 'rotisseri', 'parentchild', 'form16', 'vt', 'quack', '7d', 'maithil', 'melissa', 'bic', 'gladiat', 'imperialist', 'cyient', 'edi', 'lll', 'yesteryear', 'endstag', 'adversari', 'hw6', 'dyson', 'cseit', 'sre', 'erytop', '32000', 'takehom', 'maimon', 'superfood', 'gra', 'aipvt', '4005u', 'etab', 'propens', 'me', 'condol', 'itbp', 'primark', '…pleas', 'sbh', 'dem', 'filmstar', '60000month', 'stdnt', '30₹', 'pgdiploma', 'hangman', 'gimbal', 'atmega32', 'darr', 'delphi', 'deol', 'kd', 'rs13000', 'rebutt', 'screensav', 'csu', 'ukreain', 'functionalist', 'dota2', 'virali', 'sha2', 'drinkwar', 'wouldb', 'exorc', 'advaita', 'phabric', 'unhid', 'augustin', 'aquina', 'hierarch', '1km', 'backach', 'w3', '1kw', 'shivl', 'repress', 'unhygien', 'renegad', 'shatri', 'gfci', 'relaps', 'addon', 'counting', 'down', 'minar', '“happiness”', 'untal', '1212', 'extratorr', 'counterterror', 'methadon', 'uspto', '240000', 'munsiyari', 'tutorialsbook', 'precid', 'dping', 'ganado', 'daughters’', 'prim', 'blew', 'gnu', 'megan', 'kruskal', 'vaporub', 'chlorat', 'standoff', 'scarc', 'unorganis', 'daybyday', 'arehav', 'mcd', 'together…', 'morri', 'simciti', 'brahmdagh', 'miniskirt', 'homestead', 'howwher', 'macular', 'staten', 'fmoviesto', 'gangotri', 'bodytobodi', 'tsi', 'swarnjobscom', 'starwood', 'bscit', 'adjunct', 'xfile', 'skanda', 'burswood', 'ndt', 'raymond', 'pixi', 'arabi', 'bloodborn', 'trig', 'reconsid', 'dualprocessor', 'brio', 'bugti', 'zair', 'perseid', 'crush’', 'guantanamo', 'dong', 'documentum', 'lumpkin', '451', 'sporad', 'pygmalion', 'annapurna', 'memento', 'memoir', 'aspd', 'immunolog', 'nsaid', 'burrough', 'gts6102', '1820k', 'interreligion', 'openui5sapui5', 'dustbin', 'dasha', 'pmi', 'lybia', 'nypd', 'intez', '3362', 'selfprofess', 'changekhullein', 'carshar', 'transluc', 'mbox', 'louisvil', 'macintosh', 'nyfd', 'wrongplanetnet', 'fdni', 'protist', '1080', '620', 'findemploy', 'oldi', 'ordnanc', 'gayatri', 'undisputedli', 'ifram', 'bajirao', 'mastani', 'd2', 'foeticid', 'shonen', 'antivenom', 'envenom', 'kph', 'nineteen', 'ninteen', 'horlick', 'urbanclap', 'jatt', 'dawson', 'interquartil', 'orthopaed', 'mantl', 'studenthow', 'amin', '18200mm', 'paperii', 'paperi', 'jetlag', 'thi', '400000', 'passionwhat', 'sophi', 'mutil', 'cos9', 'grievanc', 'chinapakistan', 'hacnd', 'wani', 'burhan', 'thiev', 'onei', 'gatei', 'highrank', 'aftereffect', '1300ma', 'kwid', 'ligo', 'ajaya', 'afterburn', 'housew', '10002000', 'smelli', 'muammar', 'comman', 'impati', 'stagflat', 'durjoy', 'hillsborough', 'antero', 'rau', 'crackl', '∀x', 'px', 'feedli', 'manti', 'wan', 'paramahamsa', 'msphd', 'anki', 'sram', 'dram', 'demean', 'prealzheim', 'megabyt', 'maillivecom', 'extc', 'scorpen', 'ppe', 'thawn', 'monistat', '2000₹', 'reusabl', 'kramer', '“c”', 'ulster', 'enneagram', 'hearthston', 'neu', 'khajuraho', 'platelet', 'aep', 'barb', 'manwoman', 'perceptu', 'bryce', 'gunther', 'linse', 'balli', 'daith', 'inlov', '1600m', 'ind', 'untim', 'abrog', 'gynaecologist', 'euron', 'redress', 'mostinfluenti', 'alqaeda', 'pcc', 'octopus', 'peani', 'khanacademycom', 'altisourc', 'kegel', '“love', 'begun', 'volubl', 'counterpoint', 'defrag', 'optionsjob', 'xfce', 'tolkein', 'jrr', 'women’', '30mg', 'freepaid', 'treatabl', 'manish', 'sisodia', 'mccain', 'priu', 'tra', 'ghar', 'stressedscar', 'pcmb', 'engrav', 'hvacr', 'nrega', '7500u', 'indepth', 'cacophon', 'speciat', 'mm2', 'converaion', 'hu', 'writen', 'acetylcholin', 'narcissa', 'prehomo', 'bellatrix', 'bharti', 'vidyapeeth', 'electricti', 'mistreat', 'cio', 'cxo', '1million', 'wildl', 'halfhand', 'qhorin', 'egift', 'descriptionelabor', 'inoi', 'englishmen', 'fivesecond', 'anhydr', 'ponder', 'foodstuff', 'ono', 'endgam', 'fret', 'kraken', 'babajobcom', 'pawar', 'powerbal', 'boondock', 'vod', 'lhmc', '62000', 'redfin', 'hickey', 'latterday', 'gayl', 'arthropod', '1516', '12word', 'bme', 'completli', 'a102', 'hashem', 'mariah', 'glasgow', 'lemarc', 'kakinada', 'gaspar', 'casanova', '702', 'cept', 'whiplash', 'shopmitrcom', 'celciu', 'nonarab', 'oss', 'keratin', 'prophas', 'unrip', 'patiala', 'ooaltah', 'xenon', 'ckt', 'rubyrail', 'denser', 'rarer', 'preprocess', 'alipay', 'abolitionist', '2000usdmonthli', 'rosa', 'tuhh', 'tantric', 'kyoto', 'unclog', 'getchar', 'polymerj', 'striploin', 'sirloin', 'shortcircuit', 'menlo', 'cristo', 'namenicknam', 'bapu', 'jessi', 'jenson', 'alura', 'grendel', 'settop', 'elli', 'buoyant', 'hitch', 'sgg', 'affluent', 'maul', 'noneconom', 'larynx', 'edema', 'á', 'pinki', 'unworthi', '2ndyear', 'wordnext', 'hominid', 'magnific', 'rishta', 'dydx', 'selffinanc', 'ddx', 'smayan', 'pgdc', 'commodor', 'pythonpanda', 'weimar', 'ste', 'sault', '…what', '9pm', 'nci', 'smg360h', '275g', '335', 'stung', '1070', 'zapier', 'pavitra', 'hobbyist', 'multicor', 'kr', '1993', 'aghori', 'stoneheng', 'rhonda', 'firstperson', 'tuolumn', 'vihar', 'teradata', 'retest', 'weeaboo', 'yanke', 'bedtim', '196', 'eigen', 'adi', 'mercari', 'coronari', 'yearround', 'urinari', 'monik', 'rs9000', 'brian', 'dipper', 'kaveri', 'lowincom', 'mx', 'taro', 'boba', 'tamron', 'rewind', 'baahubali', 'halfsister’', 'amtrak', 'dayold', 'harvardcambridgelondon', 'bruge', 'bookresourc', 'hav', 'atrium', 'ddit', 'flume', 'ilayaraja', 'hog', 'reinvent', 'nn1', 'bogota', 'tmj', 'genitalia', 'sawyer', 'arica', 'igf1', 'practicali', '1z0–066', 'shopahol', 'mck', 'nsfw', 'fentanyl', 'mcg', 'betnov', 'fcpx', 'fellowshipwhat', 'msclife', 'proselyt', 'xander', 'answersquest', '1011', '312', 'habersham', 'ofmean', 'lotwil', 'hd202ii', 'hd461', 'baloch', 'electroscop', 'lengthen', 'eckhart', 'mustdo', 'diaphragm', 'reek', 's7582', 'zambesi', 'srilanka', 'galactu', 'sqrti', 'ddn', 'microexpress', 'colonel', 'rican', 'deniabl', 'doi', 'lanki', 'narilatha', 'tripod', 'seamless', 'piezo', 'tm', 'agianst', 'ida', 'benzodiazepin', 'cinemasin', 'waffl', 'everlast', 'homejoy', 'wisconsin–madison', 'problemsitu', 'friendlier', 'appel', 'microfin', 'capitol', 'jetsam', 'scampi', 'petra', 'marcel', 'mamba', 'catalyz', 'rc200', 'anno', 'gyme', 'yogarshi', 'leatherfac', '23000', 'whove', 'kitesurf', 'salton', 'mg996r', 'lulu', 'subclass489', 'vend', 'euclid', 'cr7', 'salah', 'okara', 'rawalpindi', '894', '7am', 'ashley', 'khloe', 'works”and”pdms”', '“solid', 'lyricapregabalin', 'depressionbipolar', 'gad', 'scotti', 'egocéntrico', 'whai', 'es18', 'weeklong', 'compand', '200w', '206', 'haley', 'nikki', 'nofli', 'pumba', '215', 'martyr', 'introvers', 'saucer', 'chadha', 'armorpierc', 'hdi', 'itpl', 'blain', 'math0math', 'njit', 'asianafrican', 'roar', 'whenc', 'messian', 'mistleto', 'shlomo', 'prolog', 'scvngr', 'telemat', 'bioelectr', 'yifi', 'documentwhat', 'compliant', 'maneat', 'corbett', 'eman', 'docx', 'indiai', 'shiba', 'inu', 'manor', 'monocular', 'rupert', 'cushion', 'easa', 'cno', 'carlebach', 'anton', 'cortexa53', 'englishhindi', 'ecoclin', 'ecoton', 'aiib', 'payu', '\\u200b\\u200bi', 'golddigg', 'astar', 'dowloand', 'tubemogul', 'maybank', 'jaa', 'khoo', 'utopian', 'imark', 'saratoga', '4mg', 'matchmak', 'quantico', 'swab', 'bhaad', 'exami', 'psyd', 'mujumdar', 'elss', 'stimuli', 'plasmon', 'cloudera', 'baku', 'calip', 'intersex', 'tdc', 'byproduct', 'sonoma', 'upkeep', 'eyeshadow', 'oclaro', 'beirut', 'cyclopia', 'diploid', 'jillian', 'matterenergi', 'desilt', 'dredg', 'aye', 'digestrememberunderstand', 'subpeona', 'lightest', 'qigong', 'epc', '2929', '3029', '2930', '3030', 'jannah', 'peerreview', 'mlk', 'travellingtripscom', 'jest', 'sood', 'kar', 'officejob', 'airdrop', 'bullish', 'basqu', 'mumtaz', 'grayscal', 'gmc', 'hindusmuslim', 'pinion', '3k5k', 'tribbiani', 'protienx', 'mathe2xmath', 'changeupd', 'assamme', 'seeappreci', 'anticipatori', 'mound', 'coeduc', 'tonal', 'concordia', 'forelimb', 'gat', 'nickelodeon', 'ebayin', 'bouncer', 'pomelo', 'nonmarti', 'nationspeopl', 'unwittingli', 'antitheist', 'celibaci', 'mlc', 'electur', 'pathologist', 'botan', 'beet', 'noniod', 'largecap', 'midcap', 'bachan', 'writeup', 'couder', 'premonit', 'clamor', 'shawl', 'rarotonga', 'pop3', 'cosbi', 'fe250', 'daymonthyear', 'universe”', '“god', '492', 'sanderson', 'trna', 'equinox', 'warden', 'nepot', 'thefwacom', '50yearold', 'earwax', 'conclav', 'shikamaru', 'onecel', 'faulti', 'foreman', 'tilapia', 'baldwin', 'mir', 'trumpcrit', 'townhal', 'ccni', 'gopal', 'sofawalecom', 'pocahonta', 'twoway', 'siena', 'sew', 'towait', 'andtold', 'notbeliev', 'messagenotif', 'ocb', 'cring', 'nanci', 'jung', 'sculpt', 'nonorthodox', 'tradebusinessonlin', 'contrarian', 'ecnom', '30year', 'tld', 'differencr', 'mht', '50kg', 'underserv', 'bondag', 'anthrop', 'baregama', 'oncologist', 'itso', 'glee', 'mouthpiec', 'uruguayan', 'hypertroph', 'bhairamgarh', 'mosigma', 'dude', 'dyrdek', 'sinch', 'cleric', 'footwork', 'enerv', '704', 'screencast', 'perspir', 'vehement', 'helmut', 'omar', 'nodal', 'prose', 'thiruvambadi', 'vanadium', 'underqualifi', 'nomao', 'camcord', 'amidst', '₹2k', 'backtoback', 'nonpharmaceut', '3b', 'immov', 'cpwd', 'apr', 'pbr3', '108', 'stockinventori', 'pnr', '1z0510', 'inlaid', '₹50000', 'acb', 'bodo', '1968', 'anarchocommun', 'annonym', 'stripperdanc', 'telepatio', 'neurofeedback', 'peasant', 'underappreci', 'karenina', 'sociabl', 'sewer', 'jd', 'forceif', 'lindenwood', 'americawer', 'girard', 'vigyan', 'krishi', 'blockbust', '270000', 'snapon', 'fav', 'idont', '1872', 'valentine’', 'iac', 'effemin', 'janitor', 'government', 'gallup', 'kashyap', 'turntabl', 'that’', 'coloc', '711', 'malhotra', 'tradinghft', 'unsalt', 'thatll', 'lauri', 'nonviol', 'ffmpeg', 'fitter', 'crossleg', 'delft', 'h3po3', 'diem', 'wishask', 'mcb', 'elcb', 'saral', 'uric', 'gigg', 'chromat', 'wider', '4letter', 'father’', 'lic’', '50cal', '149', 'prem', 'shoul', 'typea', 'coprim', 'vikramaditya', 'clr', 'uninsur', 'claremont', 'scorer', '55k', 'atria', 'sorkin', 'pradhanmantri', 'kowloon', 'krk', 'lawmak', 'tidi', 'heartbeat', 'c2180278', 'utc', 'tofel', 'sequenti', 'squamou', 'manitowoc', 'antelop', '12inch', 'bashar', 'kurkur', 'inquisit', '18yr', 'karthikeya', 'bolton', 'adelita', 'sangam', 'inmo', 'zimbabw', 'blackstonebayrock', 'hydrocrack', 'kasich', 'ilhéu', 'sdn', '5yearold', 'maletofemal', 'regenc', 'wrt', 'grabber', '“pleas', 'neurot', 'ihav', 'minolta', 'pssed', 'rigv', 'zai', 'friendsand', 'habbitssmok', 'natak', 'zithromax', 'unclaim', '328i', 'fuzhou', 'greg', 'bookmovi', 'm16', 'arbi', 'comed', '出してある', 'jactcom', '出している', 'ophthalmophobia', 'hookup', 'deviantart', 'cat2016', 'monocot', 'shu', 'prudent', 'nukkad', 'unfaith', '55200mm', 'braintre', 'dormitori', 'mastub', 'genealog', 'propylen', 'headhunt', 'mitac', 'ceo’', 'y3x3', 'cleaver', 'litrat', 'mart', 'disbar', 'confort', 'ekalavya', 'hclo4', 'eit', 'terrain', 'siti', 'otterbox', 'amman', 'tauriel', 'yajurv', 'q158', 'uhaul', 'shouldcan', 'exemplari', 'moriarti', '650000', 'catalan', 'r2d2', 'hindranc', 'kugel', 'ava', 'e1', 'outweigh', 'nidorina', 'paharganj', 'gilmor', 'hmo', 'lucario', 'mew', 'zte', 'ewallet', 'napkin', 'swasth', 'xenophobia', 'mathlatexmath', 'sideeffect', 'atharv', 'indecis', 'prestress', 'emberj', 'weatherpredict', 'treex', 'macroevolut', 'blandest', 'ub', 'barren', 'wacom', 'theologian', 'shasta', 'sciencedailycom', 'saurav', 'italien', '403', '154', 'eeve', 'confirmdeni', 'pokazad', '290916', 'kibbutz', 'scapegoat', 'crizal', 'sevenday', 'wright', 'manhood', 'soontob', 'cricketmi', '5500', 'marketingwhat', 'prerecord', 'kanat', '6c', 'goodar', 'metasearch', 'wheedl', 'pparamet', 'sweeden', 'themwhich', 'craftsmanship', 'brownian', 'bitsian', 'meloxicam', 'opiat', 'multiparti', 'a10', 'localcouch', 'njac', 'hast', 't730', 'quantities’', 'alumin', 'sentence‘bauxit', 'sar', '11000', 'dosent', 'cyan', 'verv', 'tahiti', 'wishlist', 'toru', 'atletico', 'facet', 'nightfal', 'flytrap', 'hipsterlogogeneratorcom', 'ginni', 'gestapo', 'sanam', 'tumour', 'layaway', '3035', '839', '₹70000', 'psg', 'lowcost', 'salween', 'guadeloup', 'lynch', 'andrea', 'primas', 'mayonnais', 'alcatel', 'milano', 'eisenhow', 'hitchcock', 'clannad', 'starfish', 'magneto', 'dimethylamin', 'helsinki', 'flyme', '70kg', 'unsaid', 'swatch', 'searchabl', 'uml', 'shapiro', 'rebut', 'clf2', 'singleton', 'emarket', 'gorkha', 'linda', 'ultrabook', 'vidarbha', 'kp', 'kisan', 'patra', 'secretariat', 'maneuv', 'preworkout', 'xpose', 'throb', 'hyperextend', 'kili', 'chikkaballapur', 'shayri', 'leftlfloorfrac', 'tleft', 'mathtn', 'satyaki', 'atkin', 'wunderlist', 'kritvarma', 'inuyasha', 'areata', 'toupe', 'mouthswab', 'palladium', 'circumv', 'modal', 'cyborg', '18200', 'pinapansin', 'friend’', 'krispi', 'sameif', 'moorish', 'kripacharya', 'rightrfloorright', 'heroic', 'upris', 'khakra', 'quizlet', 'dividison', 'kosam', 'swirl', 'prabha', 'loomi', 'weasley', 'dogon', 'committ', 'aswatthama', 'comlet', 'ballroom', 'dda', 'shouri', 'wwdc', 'mahmud', 'indel', 'ticketmast', 'recours', 'disdain', 'rashi', 'khoon', 'mathx2', 'vneck', 'gpr', 'redbox', '611year', '1114', '1418', '°c', 'ximbbmhrm', 'hakusho', 'offsit', 'teleolog', 'celbrat', 'masago', 'bajrangi', 'bhaijaan', 'tobiko', 'unclean', 'd1', '80211ac', 'bgn', '100300', 'noetic', 'ambient', 'inflect', 'albatross', 'antioxid', 'roundhous', 'zincovit', 'rainstorm', 'moonshin', 'megyn', 'caregiv', 'jave', 'gulzar', 'masochist', 'apptitud', 'antigen', 'saviour', 'ansewr', 'psb', 'peacelov', 'dowload', 'eenadu', 'pericoron', 'staunch', 'maybach', 'coli', 'rayleigh', 'lcateja', 'zingat', 'sairat', '70692', 'd5300…can', 'autocollaps', 'leari', 'photographyy', 'crosswalk', 'afp', 'webrip', 'friends’', 'hdt', 'doctorsmed', 'hdrip', 'manstein', 'dvdrip', 'brrip', 'blueray', 'watcher', 'germin', 'swadeshi', 'icfai', 'rampag', 'groggi', 'motorbik', 'macrophag', 'exersis', 'nightli', 'masjid', 'snub', 'twine', 'aipmtneet', 'nh3', 'ph3', 'pid', 'partyplan', 'nigiri', 'amla', 'maki', 'choir', 'randomskip', 'knob', 'glacial', 'kitebo', 'averg', 'cocci', 'salicyl', 'sonata', 'jargon', 'nimbl', 'istp', 'midseptemb', 'pq', 'showtim', 'tenet', 'rpo', 'wordsphras', 'yhai', 'kaththi', 'grrm', 'dirichlet', 'me…', 'smackdown', 'topoisomeras', 'nonjew', 'antiterror', 'andrei', 'ipv6', 'drainag', 'impala', 'mozilla', 'photogen', '10cgpa', 'winthrop', 'anova', '1850', 'hardboil', 'lifes', 'theyd', 'osbn®', 'cherish', '200000', 'mauri', 'alamo', 'shisui', 'ester', 'dbb', 'rightli', '1776', 'puducherri', 'ahsoka', 'maharishi', 'weightt', 'bmep']\n",
      "['best', 'get', 'india', 'peopl', 'way', 'like', 'use', 'good', 'would', 'make', 'one', 'differ', 'quora', 'learn', 'life', 'time', 'money', 'know', 'question', 'year', 'work', 'think', 'thing', 'start', 'indian', 'new', 'what', 'trump', 'book', 'go', 'becom', 'note', 'someon', 'engin', 'ever', 'movi', 'much', 'want', 'us', 'mean', 'mani', 'happen', 'find', 'job', 'day', 'world', 'onlin', 'improv', 'feel', 'without', 'better', 'love', 'english', 'girl', 'possibl', 'person', 'first', 'need', '500', 'take', '1000', 'dont', 'account', 'prepar', 'could', '2016', 'donald', 'ask', 'buy', 'program', 'weight', 'languag', 'phone', 'univers', 'countri', 'lose', 'answer', 'compani', 'compar', 'chang', 'realli', 'stop', 'war', 'studi', 'number', 'live', 'googl', 'import', 'effect', 'websit', 'student', 'presid', 'busi', 'develop', 'im', 'friend', 'app', 'place', 'rupe', 'win', 'long', 'help', 'black', 'old', 'market', 'game', 'see', 'sex', 'look', 'colleg', 'facebook', 'clinton', 'write', 'exampl', 'still', 'free', 'increas', 'comput', 'system', 'elect', 'read', 'say', 'instagram', 'hillari', 'state', 'come', '2', 'creat', 'rs', 'earn', 'school', 'ban', 'exam', 'human', 'servic', 'major', 'real', 'exist', 'women', 'iphon', 'video', 'guy', 'watch', 'back', 'govern', 'month', 'name', 'travel', 'give', 'card', 'hack', '3', 'caus', 'view', 'interest', 'eat', 'bad', 'word', 'play', 'made', 'android', 'laptop', 'song', 'car', 'right', 'bank', 'data', 'earth', 'follow', 'scienc', 'top', 'experi', 'test', 'energi', 'site', 'visit', 'affect', 'invest', 'call', '1', 'reason', 'relationship', 'product', 'delet', 'softwar', '10', 'idea', 'support', 'tell', 'cours', 'mobil', 'skill', 'two', 'interview', 'water', 'high', 'c', 'cant', 'career', '2017', 'manag', 'men', 'social', 'averag', 'china', 'password', 'true', 'mark', 'food', 'american', 'design', 'rid', 'anyon', 'consid', 'favorit', '5', 'die', 'web', 'type', 'pakistan', 'youtub', 'power', 'date', 'even', 'hair', 'usa', 'home', 'believ', 'class', 'download', 'problem', 'code', 'modi', 'safe', 'email', 'anim', 'control', 'mechan', 'show', 'tv', 'done', 'end', 'big', 'gener', 'plan', 'keep', 'cost', 'doesnt', 'futur', 'god', 'appli', 'speak', 'man', 'pay', 'unit', 'dog', 'cultur', 'age', 'tip', 'current', 'pro', 'whatsapp', 'chines', 'actual', 'provid', 'java', 'law', 'build', 'next', 'great', 'cat', 'post', 'music', 'process', 'success', 'mind', 'bodi', 'histori', 'fat', 'run', 'option', 'gmail', 'period', 'messag', 'economi', 'last', 'term', 'remov', 'everi', 'parent', 'startup', 'digit', 'citi', 'vote', 'employe', 'score', 'join', 'move', 'educ', 'fact', 'white', 'review', 'internet', 'light', 'delhi', 'offic', 'decis', 'window', 'hotel', 'reduc', 'intern', 'deal', 'complet', 'sleep', 'physic', 'requir', 'block', 'hard', 'technolog', 'easili', 'stock', 'worth', 'talk', 'got', 'main', 'open', 'train', 'girlfriend', 'never', '2000', 'search', 'presidenti', 'purpos', 'demonet', 'marri', 'stori', 'avail', 'project', 'america', 'form', 'around', 'file', 'dream', 'seri', 'kind', 'salari', 'tri', 'someth', 'benefit', 'today', '4', 'drive', 'attract', 'applic', 'height', 'pictur', 'commun', 'civil', 'fall', 'gain', 'youv', 'week', 'rate', 'alway', 'battl', 'dark', 'speed', 'stay', 'hate', 'woman', 'traffic', 'photo', 'graduat', 'kill', 'list', 'blog', 'function', 'polic', 'currenc', 'posit', 'anoth', 'electr', 'chanc', 'recov', 'mba', 'legal', 'abl', 'turn', 'instal', 'seen', 'theori', 'space', 'pregnant', 'face', 'worst', 'easiest', 'common', 'forc', 'institut', 'found', 'part', 'sentenc', 'behind', 'wrong', 'nation', 'wear', 'hour', 'polit', 'famili', 'handl', 'bangalor', 'base', 'point', 'appl', 'degre', 'propos', 'natur', 'popular', 'privat', 'star', 'desert', 'python', 'sell', 'drug', 'grow', 'expect', 'cell', 'foreign', '7', 'ms', 'order', 'secur', 'well', 'overcom', 'relat', 'coach', 'temperatur', 'fast', 'iit', 'drink', 'allow', 'pass', 'death', 'muslim', 'biggest', 'public', 'math', 'center', 'valu', 'qualiti', 'choos', 'per', 'price', 'industri', 'resolut', 'save', 'machin', 'visa', '6', 'hous', 'happi', 'user', 'instead', 'ia', 'solv', 'masturb', 'health', 'share', 'impact', 'determin', 'send', 'medic', 'lot', 'offer', 'gate', 'profil', 'network', 'air', 'beginn', 'eye', 'depress', 'set', 'calcul', 'add', 'topic', 'ca', 'sydney', 'side', 'suicid', 'corrupt', 'field', 'boyfriend', 'less', 'tax', 'media', 'fund', 'near', 'uk', 'level', 'matter', 'similar', 'limit', 'area', 'child', 'issu', 'film', 'safeti', 'care', 'hire', 'normal', 'marriag', 'small', 'canada', 'structur', 'group', 'easi', 'also', 'activ', 'boy', 'master', 'smoke', 'didnt', 'russia', 'break', 'distanc', 'basic', 'tool', 'econom', 'credit', 'contact', 'porn', 'store', 'connect', 'advantag', 'leav', 'fight', 'faster', 'size', 'inform', 'emot', 'charg', 'given', 'line', 'sourc', 'put', 'advic', 'moment', 'gift', 'california', 'fix', 'model', 'method', 'text', 'night', 'jee', 'anyth', 'bollywood', 'btech', 'understand', 'other', 'cheat', 'beauti', 'precaut', 'step', '20', 'iq', 'germani', 'color', 'suggest', 'accept', 'green', 'short', 'mix', 'singl', 'exercis', 'earthquak', 'second', 'con', 'alcohol', 'avoid', 'research', '2015', 'pain', 'intellig', 'commit', 'shotgun', 'attack', 'south', 'meet', 'must', 'sign', 'electron', 'motiv', '8', 'nra', 'healthi', 'solar', 'pc', 'religion', 'heard', 'macbook', 'team', 'origin', 'self', 'paper', 'letter', 'belli', 'convert', 'recruit', 'charact', 'brain', 'late', 'cold', 'snapchat', 'practic', 'prefer', 'parti', 'etc', 'past', 'correct', 'jio', 'board', 'signific', 'infinit', 'narendra', 'australia', 'receiv', 'smartphon', 'children', 'amazon', 'coupl', 'olymp', 'blood', 'left', 'resourc', 'japan', 'sim', 'mass', 'treat', 'tech', 'track', 'exactli', 'custom', 'oper', 'famou', 'hand', '100', 'bill', 'quickli', 'devic', 'loss', 'strategi', 'mumbai', 'pursu', 'wifi', 'daili', 'properti', 'describ', 'address', 'organ', 'page', '12', 'brand', 'low', 'replac', 'spend', 'femal', 'celebr', 'lost', 'islam', 'explain', 'planet', 'male', 'internship', 'often', 'three', 'invent', 'rank', 'hollywood', 'enough', 'recommend', 'final', 'moon', 'close', 'prime', 'solut', 'ad', 'addict', 'writer', 'role', 'trade', 'opinion', 'oil', 'perform', '30', 'galaxi', 'season', 'north', 'doctor', 'releas', 'recent', 'gay', 'british', 'event', 'inr', '15', 'art', 'transfer', 'polici', 'everyth', 'alreadi', 'isnt', 'hyderabad', 'full', 'uber', 'access', 'hole', 'check', 'wife', 'smart', 'actor', 'io', 'locat', 'imag', 'kerala', 'gold', 'scientif', 'peni', 'chemic', 'ye', 'across', 'diet', 'ive', 'lie', 'present', 'meth', 'obama', 'armi', 'let', 'grade', 'known', 'difficult', 'suitabl', 'rich', 'land', 'crush', 'quit', 'advanc', 'kid', 'everyon', 'hacker', 'neg', 'net', 'capit', 'said', 'red', 'special', 'profession', 'featur', 'balanc', 'x', 'act', 'amount', 'pune', 'perman', 'certif', 'detail', 'german', 'driver', 'object', 'channel', 'japanes', 'least', 'skin', 'restaur', 'samsung', 'candi', 'head', 'toward', 'babi', 'away', 'scope', 'appear', 'moral', 'your', 'cut', 'memori', 'bring', 'crack', 'thought', 'taffi', 'singapor', 'within', 'curb', 'camera', 'news', 'teach', 'evid', 'ex', 'opportun', 'clean', 'seo', 'mathemat', 'ga', 'taken', 'estat', 'confid', 'fail', 'els', 'tea', 'programm', 'knowledg', 'admiss', 'paid', 'western', 'simpl', 'dollar', 'fear', 'linux', 'flat', 'sun', 'nuclear', 'secret', 'reset', 'novel', 'alien', 'grad', 'favourit', 'fli', 'pleas', 'cure', 'wish', 'hindi', 'drop', 'player', 'panel', 'cricket', 'incom', 'expand', 'anxieti', 'batteri', 'rememb', 'direct', 'factor', 'partner', 'joke', 'clear', 'subject', 'twitter', 'saltwat', 'strike', 'minist', 'investor', 'case', 'footbal', 'effici', 'sinc', 'bang', 'illeg', 'shop', 'greatest', 'rule', 'algorithm', 'stream', 'europ', 'seem', 'debat', 'screen', 'reserv', 'counti', 'mac', 'prevent', 'financi', 'phd', 'wave', 'spotifi', 'son', 'decid', 'listen', 'surviv', 'b', 'rehab', 'select', 'mother', 'sound', 'potenti', 'fake', 'enjoy', 'pound', 'blue', 'passport', 'materi', 'husband', 'result', 'birthday', 'cast', 'yahoo', 'necessari', 'mistak', 'convers', 'written', 'hurt', 'root', 'atheist', 'gst', 'measur', 'cook', 'ticket', 'lead', 'plant', 'harri', 'updat', 'earli', 'vacuum', 'formula', 'fire', 'edit', 'gadget', 'achiev', 'introduc', 'minut', 'prove', 'sale', '50', 'danger', 'sport', 'candid', 'corpor', 'technic', 'global', 'acn', 'insid', 'contrast', 'specif', 'sea', 'york', 'teacher', 'torrent', 'microsoft', 'altern', 'upsc', 'dead', 'cloth', 'disord', 'pokémon', 'accord', 'psycholog', 'fastest', 'pm', 'disadvantag', 'societi', 'tata', 'ball', 'told', 'forget', 'nativ', 'rang', 'id', 'produc', 'miss', 'puppi', 'prospect', 'scientist', 'return', 'vs', 'poor', 'chemistri', 'million', 'forgot', 'goa', 'ancient', 'includ', 'profit', 'inspir', 'sexual', 'flight', 'begin', 'wont', 'cancer', 'tourist', 'inpati', 'print', 'competit', 'link', 'weed', 'graviti', '16', 'might', 'gre', 'funniest', 'depart', 'egg', 'democrat', 'asian', 'refer', 'total', 'regret', 'bike', 'promot', 'hp', 'trip', 'comment', 'yet', 'mental', 'immigr', 'due', 'rais', 'episod', 'habit', 'court', 'littl', 'heart', 'launch', 'christian', 'middl', 'muscl', 'proof', 'respons', 'far', 'militari', 'publish', 'sahara', 'wall', 'ssc', 'modern', 'percentag', 'cash', 'shoe', 'recoveri', 'pressur', 'father', 'procedur', 'deep', 'walk', 'placement', 'acid', 'version', 'throne', 'touch', 'convinc', 'core', 'abroad', 'goal', 'citizen', 'anger', 'continu', 'room', 'non', 'burn', 'speaker', 'platform', 'leagu', 'alon', 'record', 'licens', 'minimum', 'zero', 'cheap', 'togeth', 'longer', 'host', 'morn', 'higher', 'fresher', 'though', 'content', '18', 'latest', 'concentr', 'okay', 'hit', 'hindu', 'sbi', 'french', 'cs', 'embarrass', 'kvpi', 'advertis', 'neet', 'coffe', 'summer', 'log', 'fit', 'crime', 'paint', 'wait', 'young', 'front', 'growth', 'standard', 'potter', 'regist', 'mindblow', 'unmarri', 'expens', 'consult', 'loan', 'whether', '13', 'statu', 'blow', 'soon', 'budget', 'surgic', '12th', 'staff', 'concept', 'packag', 'race', 'cambodia', 'rbi', 'may', 'israel', 'cse', 'plu', 'chat', 'contribut', 'bore', 'creativ', 'stand', 'quickbook', 'upload', 'rel', 'equat', 'adult', 'independ', 'among', 'individu', 'heat', 'korea', 'cool', 'purchas', 'milk', 'cbse', 'protect', 'comfort', 'mit', 'chennai', 'highest', 'equal', 'larg', 'mail', 'kashmir', 'figur', 'choic', 'visitor', 'gp', 'insur', '2014', 'hitler', 'enter', 'voic', 'attend', 'european', 'defin', 'declar', 'urin', 'peac', 'serv', 'isi', 'round', 'mexico', 'stress', 'super', 'spoken', 'doubl', 'draw', 'workout', 'atom', 'member', 'third', 'sent', 'birth', 'metal', 'realiti', 'entrepreneur', 'definit', 'rest', 'regard', 'born', 'switch', 'logic', 'spanish', 'key', 'graphic', 'gym', '14', 'outsid', 'psychopath', 'protein', 'approach', 'anonym', 'climat', 'financ', 'scene', 'scrap', 'hold', 'server', 'situat', 'noth', 'bond', 'ok', 'sometim', 'involv', 'iii', 'po', 'pan', 'amaz', 'introvert', 'express', 'gun', 'speech', 'sure', 'rather', 'treatment', 'multipl', 'carri', 'hear', '4g', 'harass', 'perfect', 'everyday', 'mistri', 'tamil', 'suit', 'harm', 'innov', 'cover', 'lyric', 'branch', 'phrase', 'weirdest', 'react', 'cyru', 'teenag', 'san', 'reach', '17', 'cgl', 'romant', 'claim', 'translat', 'beat', 'chip', '9', 'script', 'commerci', 'notic', 'reaction', 'somm', 'popul', 'upgrad', 'arent', 'trick', 'os', '25', 'terror', 'russian', 'seat', 'sector', 'glass', 'nice', 'via', 'impress', 'sa', 'whole', 'tast', 'firm', 'empir', 'assist', 'medicin', 'upvot', 'analyt', 'mbb', 'manufactur', 'occur', 'smell', 'bit', 'domain', 'ignor', 'kiss', 'demand', 'met', 'truth', 'particl', 'extra', 'document', 'guitar', 'later', 'templ', 'tabl', 'squar', 'khan', 'zone', 'iim', 'dress', 'probabl', 'coast', 'ill', 'lower', 'hot', 'andor', 'astrolog', 'pilot', 'trust', 'ring', 'ice', 'fun', 'demonetis', 'php', 'jesu', 'leader', 'virgin', '24', 'symbol', 'bibl', 'consum', 'jew', 'london', 'professor', '21', 'stupid', 'teeth', 'respect', 'korean', 'east', 'cheapest', 'experienc', 'freelanc', 'transact', 'biolog', 'scratch', 'strong', 'dc', 'histor', 'ecommerc', 'afraid', 'reject', 'abus', 'voltag', 'slow', 'actress', 'five', 'plane', 'fiction', 'wake', 'separ', 'count', 'conserv', 'pokemon', 'arm', 'integr', 'kg', 'symptom', 'box', 'recip', 'evolv', 'employ', 'element', 'meant', 'disabl', 'background', 'pick', 'report', 'piec', '3d', 'usual', 'hide', 'horror', '3g', 'motor', 'worklif', 'turkey', 'cutoff', 'ram', '40', 'constitut', '11', 'invit', 'request', 'unusu', 'map', 'destroy', 'racist', 'discontinu', 'payment', 'condit', 'floor', 'extrem', 'scam', 'philosophi', 'resum', 'lord', 'philippin', 'presenc', 'apart', 'fan', 'quantum', 'worri', 'excel', '15000', 'fee', 'databas', 'campu', 'client', 'essay', 'angel', 'ethic', 'local', 'liber', 'analysi', 'feed', 'javascript', 'messeng', 'chicken', 'tree', 'uniqu', 'mar', 'airlin', 'republican', 'strongest', 'tattoo', 'lesson', 'ip', 'contain', '6s', 'sens', 'typic', 'obsess', 'anymor', 'gmat', 'undergradu', 'ghost', 'tc', 'king', 'entir', 'rock', 'reliabl', 'went', 'associ', 'ship', 'franc', 'railway', 'afford', 'magnet', 'harvard', 'cycl', '0', 'bed', 'pregnanc', 'denomin', 'rent', 'implement', 'pet', 'tire', 'copi', 'meat', 'theyr', 'aspect', 'regular', 'collect', 'virtual', 'maximum', 'mtech', 'straight', 'circl', 'warm', 'accur', 'dubai', 'ago', 'wed', 'taller', 'match', 'failur', 'fill', 'quot', 'cri', 'conflict', 'cannot', 'lake', 'stage', 'respond', 'pakistani', 'action', 'discov', 'prison', 'half', 'almost', 'focu', 'articl', 'literatur', 'fluentli', 'calori', 'carbon', 'damag', 'wordpress', 'cloud', 'shot', 'certain', 'cancel', 'ideal', 'mutual', 'sad', 'suddenli', 'kejriw', 'gobi', 'bar', 'argument', 'l', 'overr', 'wash', 'marijuana', 'interact', 'wast', 'exchang', 'error', 'pull', 'union', 'influenc', 'fluent', 'abil', 'theme', 'catch', 'brother', 'navi', 'region', 'terrorist', 'repli', 'led', 'challeng', '23', 'truli', 'came', 'risk', 'bite', 'road', 'leg', 'sister', 'debit', 'lesser', 'band', 'older', 'lock', 'ipad', 'unknown', 'predict', 'dhoni', 'incid', 'elector', 'length', 'xbox', 'detect', 'four', 'medal', 'west', 'pimpl', 'annoy', 'suppli', 'router', 'ii', 'item', 'elig', 'gandhi', 'goe', 'critic', 'antiviru', 'tall', 'format', 'daughter', 'characterist', 'retriev', 'variou', 'dish', 'rotat', 'attempt', 'techniqu', 'spous', 'except', 'possess', 'earphon', 'speci', 'cream', 'brown', 'execut', 'relianc', 'conspiraci', 'framework', 'batman', 'shoot', 'conduct', 'along', 'shape', 'daniel', 'ground', 'valid', 'linkedin', 'categori', 'agenc', 'street', 'redmi', 'loos', 'centr', 'greek', 'maintain', 'airport', 'classic', 'colour', 'liquid', 'resid', 'academ', 'easier', 'shouldnt', 'surgeri', 'phase', 'scale', 'construct', 'signal', 'camp', 'revers', 'medit', 'vehicl', 'weapon', 'sever', 'tile', 'acceler', 'gap', 'bitcoin', 'netflix', 'analyst', 'robot', 'remain', 'gravit', 'democraci', 'absolut', 'campaign', 'africa', 'christma', 'painless', 'mom', 'till', 'substitut', 'sing', 'examin', 'club', 'moto', 'procrastin', 'cup', 'uri', 'gender', 'ac', 'chain', 'api', 'lawyer', 'weak', 'bay', 'billion', 'salt', 'artist', 'dri', 'display', 'ear', 'unlock', 'dragon', 'mine', 'tank', 'scare', 'html', 'adopt', 'lakh', 'button', 'fair', 'poem', 'repres', 'ibp', 'offlin', 'realiz', 'transform', 'diploma', 'ece', 'either', '10th', 'shall', 'entranc', 'becam', 'deposit', 'freedom', 'artifici', 'canadian', 'consequ', 'fish', 'passion', 'photograph', 'arab', 'francisco', 'park', 'rise', 'anybodi', 'nit', 'politician', 'huge', 'flag', 'chrome', 'havent', 'section', 'throw', 'spot', 'besid', 'evolut', 'abolish', 'beach', 'ubuntu', 'iron', 'wikipedia', 'royal', 'remedi', 'coin', 'built', 'suffer', 'repair', 'sit', '15k', 'cm', 'goswami', 'what’', 'scholarship', 'evil', 'especi', 'statement', 'six', 'h1b', 'expans', 'style', 'invad', 'tinder', '1st', 'donat', 'tradit', 'arnab', 'ek', 'fruit', 'despit', 'circuit', 'hr', 'ventur', 'strength', 'kolkata', 'n', 'decreas', 'inch', 'vietnam', 'bsc', 'ratio', '2nd', 'icloud', 'cigarett', 'identifi', 'station', 'orgasm', 'billionair', 'divid', 'broke', 'largest', 'somebodi', 'compound', 'river', 'piano', 'valley', 'collaps', 'author', 'arvind', 'initi', 'wors', 'steel', 'path', 'sort', 'architectur', '2013', 'took', 'rape', 'ride', 'pill', 'dislik', 'belong', 'naruto', 'sugar', 'vector', 'nasa', 'orbit', 'headphon', 'ident', 'monitor', 'director', 'aliv', 'mention', 'owner', 'finish', 'pattern', 'equival', 'motion', 'central', 'jump', 'ten', 'brazil', 'quick', 'fashion', 'statist', 'agent', 'lift', 'cope', 'tier', 'directli', 'vegetarian', 'astronaut', 'oppos', 'tablet', 'vocabulari', 'obtain', 'zealand', 'pa', 'syria', 'pdf', 'sap', 'trend', 'rio', 'ab', 'revenu', 'forward', 'la', 'narcissist', 'journal', 'librari', 'england', 'magic', 'diseas', 'disappear', 'pure', 'weakest', 'triangl', 'arizona', 'plastic', 'bake', 'combin', 'exact', 'asia', 'font', 'who', 'lack', 'john', 'aircraft', 'wide', 'breast', 'environ', 'retir', 'he', 'intel', 'elon', 'neutral', 'factori', 'grammar', 'flow', 'angri', 'simpli', 'furnitur', 'usb', '60', 'chart', 'underr', 'sander', 'hasnt', 'flash', 'entri', 'accomplish', 'island', 'weekend', 'fine', 'expert', 'ielt', 'bomb', 'broken', 'heavi', 'anal', 'commerc', 'parallel', 'basi', 'processor', 'barack', 'feet', 'densiti', 'extern', 'deliv', 'bigger', 'sky', 'visual', 'revolut', 'hisher', 'manaphi', 'indic', 'distribut', 'particular', 'danc', 'complex', 'debt', 'raw', 'ipod', 'pizza', 'embed', 'boil', 'wise', 'hillstat', 'stuff', 'thigh', 'thank', 'printer', 'bias', 'nose', 'weather', 'r', '10000', 'cabl', 'surfac', 'suppos', 'un', 'string', 'schedul', 'suprem', 'ocean', 'cgpa', 'silicon', 'roman', 'retail', 'berni', 'random', 'behavior', 'tie', 'sociopath', 'seriou', 'dual', 'boost', 'fighter', 'veloc', 'mr', 'blind', 'withdraw', 'mode', 'uniform', 'slit', 'ceo', 'pronunci', 'musk', 'stranger', 'jealou', 'studio', 'hospit', 'brexit', '90', '200', 'hardest', '₹1000', 'previou', 'divorc', 'religi', 'friendli', 'cross', 'curv', 'satisfi', 'bird', 'dna', 'seed', 'opposit', 'movement', 'notif', 'load', 'accid', 'aspir', 'confus', 'lewi', 'observ', 'stanford', 'airplan', 'transit', 'photographi', 'explan', 'refus', 'beard', 'ladi', 'britain', 'bug', '3rd', 'amend', '30000', 'lone', 'agre', 'hero', 'itali', 'paytm', 'gb', 'accent', 'don’t', 'viru', 'filter', 'autom', 'differenti', 'gone', 'swim', 'keyboard', 'radio', 'paypal', 'percentil', 'submit', 'volum', 'arriv', 'mirror', 'petrol', 'wallet', 'soul', 'she', 'homosexu', 'defeat', 'ultim', 'centuri', 'target', 'upcom', 'tesla', 'implic', 'justifi', 'bottl', 'dimens', 'senior', 'offici', 'chew', 'resign', 'cake', 'teen', 'titl', 'verifi', 'boss', 'pack', 'resist', 'export', 'legit', 'chess', 'fuel', 'particularli', 'judg', 'awar', 'dad', '₹500', 'automat', 'govt', 'audio', 'ebook', 'transgend', 'oxygen', 'guid', 'georg', 'gpa', 'hesh', 'flipkart', 'comedi', 'hell', 'v', 'acquir', 'sherlock', 'vision', 'republ', 'rice', 'admit', 'depend', 'genuin', 'stomach', 'wine', 'texa', 'murder', 'proven', '5s', '19', 'ps4', 'frequent', 'primari', 'routin', 'oldest', 'canon', 'enhanc', 'stone', 'shave', 'theoret', 'meal', 'oral', 'yellow', '2020', 'washington', 'instrument', 'weird', 'ranger', 'immedi', 'qualifi', 'frequenc', 'eu', 'shift', 'wale', 'shirt', 'benefici', 'lenovo', '35', 'vice', 'eg', 'chocol', 'arrang', 'australian', 'realist', 'iran', 'bear', 'keyword', 'dell', 'binari', 'restor', 'quoran', 'angl', 'compon', 'ukrain', 'unabl', 'breakup', 'criteria', 'mostli', 'memor', 'enterpris', 'forev', 'hamster', 'itun', 'remot', 'younger', 'constant', 'variabl', 'jewish', 'vagina', 'faux', 'shown', 'bachelor', 'belief', 'winter', 'thesi', 'oven', 'contract', 'succeed', 'beer', 'yoga', 'desktop', 'soccer', 'satellit', 'proud', 'principl', 'territori', 'heal', 'crash', 'copyright', 'crazi', 'own', 'bought', 'pop', 'desir', 'concret', 'clash', 'cupcak', 'lazi', 'clan', 'volt', '60000', 'soda', 'arrest', 'consist', 'merg', 'jimmi', 'crimin', 'nazi', 'longest', 'whose', 'airprint', 'chhattisgarh', 'storag', 'lectur', 'sat', 'officejet', 'knew', '4620', 'drone', 'prank', 'xiaomi', 'push', 'affili', 'patent', 'appropri', 'shower', 'funni', 'friendship', 'biotechnolog', 'sudden', 'twice', 'assum', 'prize', 'wouldnt', 'accentur', 'collid', 'talent', 'door', 'album', 'assembl', 'autism', 'jet', 'queen', 'academi', 'border', 'magazin', 'bag', 'pi', 'sheet', 'e', 'pool', 'kong', 'appoint', 'that', 'childhood', 'town', 'administr', 'sperm', 'hostel', 'tutori', 'attent', 'hydrogen', 'interfac', 'sum', 'wheel', 'bjp', 'max', 'skinni', 'african', 'mountain', 'comic', 'port', 'kingdom', 'fantasi', 'optim', 'disk', 'ivi', 'adam', 'steve', 'einstein', 'martial', 'boot', 'decemb', '10k', 'hang', 'equiti', 'bulli', 'odd', 'aptitud', 'pronounc', 'len', 'excess', 'engag', 'facial', 'prostitut', 'mysteri', 'sd', 'output', 'deliveri', 'logo', 'frustrat', '300', 'millionair', 'chairman', 'massag', 'microwav', 'emerg', 'ugc', '22', 'manual', 'ncr', 'johnson', 'veget', 'serious', 'ie', 'ola', 'edg', 'nikon', 'msc', 'browser', 'empti', 'unlimit', 'citizenship', 'duti', 'bowl', 'enfield', 'trait', 'fbi', 'hd', 'u', 'snow', 'poll', 'sponsor', 'overal', 'auckland', 'pride', 'pump', 'pollut', 'borderlin', 'skip', 'g', 'ireland', 'layer', 'there', 'qualif', 'transport', 'grand', 'edmonton', 'shi', 'penalti', 'wire', 'sight', 'william', 'punish', 'dslr', 'reddit', 'jaipur', 'css', 'advis', 'grey', 'chees', 'nowaday', 'subscrib', 'hong', 'classifi', 'adapt', 'promis', 'cyber', 'crop', 'solid', 'wing', 'pradesh', 'malaysia', 'syllabu', 'norway', 'singer', 'captain', 'superpow', 'diesel', 'aim', 'justic', 'latin', 'flirt', 'spi', 'affair', 'legitim', 'powder', 'gear', 'congress', 'finger', 'subtitl', 'agricultur', 'wonder', 'bone', 'cab', 'essenti', '2012', 'percept', '911', 'karma', 'spain', 'highli', 'patient', 'taught', 'intuit', 'clock', 'proper', 'stronger', 'diabet', 'victori', 'richest', 'nadu', 'minor', 'sql', 'pen', 'rubi', 'al', 'foot', 'gen', 'faith', 'dot', 'oracl', 'renew', 'visibl', 'refriger', 'septemb', 'bangladesh', 'crisi', 'scar', 'tenni', 'voter', 'configur', 'z', 'layman', 'properli', 'cuisin', 'medium', 'sm', 'indonesia', 'sampl', 'myth', 'interpret', 'soldier', 'juic', 'hinduism', 'saw', 'concern', 'broker', 'chest', 'roll', 'deactiv', 'repeat', 'domin', 'arabia', 'honey', '30k', 'ronaldo', 'smile', 'linear', 'eve', 'monthli', 'drama', 'basketbal', 'announc', 'charter', 'portal', 'apach', 'bull', 'nepal', 'formal', 'mini', 'kept', 'feder', 'imagin', 'jail', 'genet', 'rare', 'suck', 'smarter', 'quantiti', 'split', 'readi', 'fresh', 'stick', 'nba', 'photon', 'lollipop', 'friction', 'percent', 'accident', 'marvel', 'novemb', 'charger', 'mahabharata', 'tribe', 'harder', 'restrict', 'founder', 'tough', 'approv', 'mouth', 'semest', 'noida', 'soni', 'premier', 'hump', 'saudi', 'photoshop', 'setup', 'rude', 'jailbreak', 'attach', 'spin', 'divis', 'att', '45', 'ebay', 'nyc', 'stare', 'progress', 'destin', 'awesom', 'recogn', 'pretti', 'nail', 'atm', 'molecul', 'wireless', 'tummi', 'italian', 'escap', 'brought', 'nobel', 'supplement', 'tour', 'illuminati', 'pic', 'putin', 'i', 'hors', 'gave', 'confirm', 'spring', 'brahmin', 'modul', 'toronto', 'nano', 'vegan', 'poker', 'singh', 'yr', 'wwii', 'cfa', 'gari', 'de', 'felt', 'nfl', 'imposs', 'calculu', 'held', 'explor', 'sleepi', 'deni', 'mission', 'scrape', 'bother', 'decent', 'equip', 'franchis', 'scenario', 'holiday', 'newspap', 'vacat', '2010', 'infect', 'swiss', 'perspect', 'safest', 'combat', 'threat', 'bleach', 'stack', 'spirit', '11th', 'newton', 'backup', 'eventu', 'condom', 'auto', 'descript', 'carrier', 'assassin', 'lesbian', 'sin', 'hike', 'bluetooth', 'mexican', 'spread', 'domest', '51', 'dynam', 'cathol', 'command', '80', 'boredom', 'sodium', 'ufo', 'opt', 'hobbi', 'sweden', 'forgotten', 'stabl', 'bullet', 'trace', 'tail', 'sick', 'enabl', 'heaven', 'troubl', '2018', 'reput', 'aap', 'grammat', 'tooth', 'dub', 'fundament', 'compet', 'inflat', 'scariest', 'whey', 'meaning', 'sequenc', 'tini', 'surnam', 'hedg', 'freshman', 'junior', 'aw', 'sold', 'deepli', 'w', 'bet', 'regul', 'infosi', 'ugli', 'extens', 'click', 'declin', 'forum', 'firsttim', 'competitor', 'termin', 'i5', 'orang', 'breakfast', 'commiss', 'refund', 'elimin', 'vpn', 'login', 'rout', 'be', 'particip', 'unexpect', 'avg', 'cv', 'discuss', 'highway', 'quran', 'spell', 'deserv', 'metro', 'flush', 'spider', 'slowli', 'swallow', 'breath', 'icon', 'guilti', 'loneli', 'bba', 'matrix', 'michael', 'jackson', 'tend', 'press', 'intend', 'oxid', 'lip', 'clinic', 'ethnic', 'disney', 'reader', 'strangest', 'hawaii', 'punjab', 'guard', 'thailand', 'anyway', 'marin', 'valuabl', 'displac', 'shock', 'anthem', 'scheme', 'index', 'kinet', 'extract', 'gdp', 'angular', 'insecur', 'georgia', '81', 'documentari', 'hope', 'banana', 'composit', 'facil', 'input', 'robert', 'hadoop', 'makeup', 'up', 'pg', 'craziest', 'extinct', 'luxuri', 'monkey', 'chief', 'url', 'compat', 'cowork', 'jon', 'fluenci', 'cluster', 'encount', 'ww2', 'award', 'curs', 'ai', 'annual', 'vc', 'constantli', 'superman', 'sore', 'silver', 'extrovert', 'conscious', 'whenev', 'breed', 'mi', 'geographi', 'golden', 'church', 'pink', 'switzerland', 'venezuela', 'liter', 'fulli', '26', 'pee', 'rail', 'freez', 'captainci', 'asleep', 'vit', 'thin', 'dinner', 'snake', 'simul', 'escort', 'rain', 'ray', 'genr', 'violenc', 'honest', 'soft', 'grant', 'array', 'moder', 'wealth', 'kindl', 'rifl', 'spiritu', 'wood', 'tshirt', 'imei', 'pitch', 'audit', 'ration', 'fertil', 'capabl', 'cow', 'capac', 'egypt', 'messi', 'rental', 'racism', 'axi', 'rahul', 'forgiv', 'sanskrit', 'evalu', 'coolest', 'jam', 'chase', 'secular', 'butter', 'ipl', 'static', 'weigh', 'manipul', 'bicycl', 'excit', 'mile', 'mentor', 'relev', 'task', 'farm', 'anywher', 'poison', 'upper', 'colon', 'fluid', 'interior', 'lee', 'televis', 'ap', 'coloni', 'insert', 'compil', 'nobodi', 'cpu', 'digest', 'plate', 'taxi', 'athlet', '70', 'pork', 'fb', '5001000', 'couldnt', 'nodej', 'jack', 'swift', 'wit', 'bermuda', 'consol', 'airbnb', '2019', 'tomato', 'shut', 'tomorrow', 'poverti', 'cheaper', 'cube', 'focus', 'isro', 'healthcar', 'frame', 'reflect', 'iraq', 'hip', 'krishna', 'wage', 'settl', 'dj', 'sibl', '7th', 'truck', 'pornstar', 'hilari', '21st', 'tweet', 'eastern', 'wasnt', 'blame', 'flavor', 'upon', 'beam', 'induct', 'mnc', 'struggl', 'petroleum', 'unemploy', 'wind', 'karnataka', 'tag', 'balaji', 'appreci', '55', 'asset', 'lightn', 'transmiss', 'januari', 'permit', 'tiger', 'expir', 'worship', 'worker', 'gujarat', 'lion', 'secretari', 'addit', 'graph', 'closer', 'nois', 'simultan', '28', 'membran', 'skype', 'adob', 'architect', 'laugh', 'shiva', 'row', 'welcom', 'algebra', 'immin', 'irctc', 'diamond', 'butt', 'proceed', 'pari', 'scan', 'strongli', 'hangout', 'toilet', 'pr', 'compliment', 'ba', 'honda', 'bhopal', 'shake', 'fox', 'cc', 'friday', 'aerospac', 'bush', 'muhammad', 'convict', 'profess', 'vader', 'leather', 'eaten', 'frozen', 'unfair', 'compos', 'isp', '4th', 'foundat', 'sociolog', 'quota', 'dye', '50000', 'dump', 'wwe', 'usernam', 'taiwan', 'telugu', 'obc', 'stuck', 'pierc', 'optic', '27', 'deriv', 'outcom', 'greater', 'foam', 'ww1', 'discrimin', 'ics', 'octob', 'instant', 'cinema', 'caught', 'molecular', 'vinegar', 'gurgaon', 'plot', 'usp', 'enforc', 'somewher', 'eagl', 'serial', 'fri', 'it’', 'paranorm', 'syndrom', 'radiat', 'tourism', 'atmospher', 'stain', 'bu', 'pant', 'adolf', 'arrow', 'stretch', 'sauc', 'throat', 'headach', 'ui', 'versu', 'aid', 'hall', 'geniu', 'pleasur', 'nake', 'alli', 'default', 'cop', 'florida', 'tongu', 'ibm', 'pre', 'neck', 'infin', 'tumblr', 'puzzl', 'bipolar', 'jersey', 'k', 'honor', 'holm', 'forex', 'will', 'commonli', 'shorter', 'ww3', 'investig', 'philosoph', 'seal', 'matur', 'cute', 'northern', 'extend', 'ensur', 'cpt', 'wanna', 'prelim', 'privaci', 'ngo', 'neural', 'bedroom', 'festiv', 'unblock', 'bleed', 'diagram', 'strang', 'occupi', 'capacitor', 'massiv', 'playlist', 'mosquito', 'github', 'sweat', 'soviet', 'rat', 'decor', 'fals', 'tower', '1990', 'melt', 'prior', 'hidden', 'reveal', 'lab', 'communist', 'sweet', 'awkward', '32', 'sole', 'wealthi', 'premium', 'nucleu', 'missil', 'june', '25000', 'bark', 'potti', 'pharmaceut', 'polar', 'survey', 'manner', 'ahmedabad', 'christ', 'approxim', 'thick', 'abort', 'council', 'transplant', 'lucid', 'violin', 'ssb', 'vitamin', 'bread', 'accus', 'editor', 'walmart', 'thermal', 'regularli', 'hill', 'cruis', 'pte', 'onto', 'lean', 'mytholog', 'bulk', 'holder', 'chicago', 'toefl', 'arduino', 'treati', 'introduct', 'lo', 'bruce', '50k', 'fraud', 'hoax', 'screenshot', 'hardwar', 'newli', 'assign', 'aiim', 'pole', 'tatkal', 'immort', '60k', 'wild', 'victim', 'waist', 'authent', 'prophet', 'establish', 'versa', 'coval', 'lick', 'bcom', 'sc', 'psu', 'ted', 'fifa', 'darth', 'bald', 'folder', 'bra', 'sorri', 'tackl', 'ejacul', 'perceiv', 'cement', 'cpec', 'ego', 'nuke', 'cotton', 'privileg', 'interstellar', 'bob', 'surpris', 'circul', 'underwear', 'dr', 'lg', 'jame', 'usag', 'margin', 'slim', 'orient', 'verbal', 'comparison', 'santa', 'thousand', 'enlighten', 'discoveri', 'agreement', 'cousin', 'organis', 'southern', 'penetr', 'maharashtra', 'bridg', 'substanc', 'pair', 'migrat', 'attitud', 'discount', 'mixtur', 's7', 'asu', '5000', 'edward', 'rippl', 'steal', 'environment', 'spent', 'liar', 'netherland', 'fallen', 'passeng', 'ruin', 'quickest', 'violat', 'ide', 'f1', 'laserjet', 'automobil', 'wisdom', 'nurs', 'youth', '2011', 'verif', 'alabama', 'creatur', 'superior', 'circumst', 'plug', 'epic', 'electromagnet', 'kidney', 'mate', 'colorado', 'inject', 'trial', 'fabric', 'playstat', 'iss', 'counter', 'lifestyl', 'laser', 'motorcycl', 'filipino', 'instantli', 'rational', 'protest', 'chandigarh', 'lesserknown', 'seattl', 'textbook', 'ionic', 'sri', 'captur', 'batch', 'label', 'unlik', 'complaint', 'coupon', 'zuckerberg', 'blogger', 'thermodynam', 'bmw', 'clone', 'unhealthi', 'stephen', 'arkansa', 'bacteria', 'physicist', 'nato', 'smaller', 'chosen', 'permiss', 'bio', 'drunk', 'fought', 'calendar', 'passiv', 'span', 'menstrual', 'backstori', 'pilani', 'conductor', 'juli', 'simpson', 'cap', 'decad', 'stamp', 'crystal', 'rocket', 'float', 'tap', 'dentist', 'penni', 'how', 'dumb', 'rig', 'integ', 'ib', 'melbourn', 'disciplin', 'wrote', 'nomin', 'mandarin', 'minim', 'remaind', 'gta', 'deviat', 'matlab', 'greec', 'mad', 'esteem', 'aluminum', 'shoulder', 'mayb', 'correl', 'disast', 'tan', 'co', 'rural', 'knee', 'brush', 'manip', 'ratan', 'hypothet', 'bengaluru', 'smartest', 'leak', 'sneez', 'chose', 'condition', 'poetri', 'judaism', 'bisexu', 'copper', 'resolv', 'refuge', 'entertain', 'hi', 'intj', 'pok', 'util', 'residenti', 'stolen', 'deduct', 'perfectli', 'conquer', 'j', 'invalid', 'minecraft', 'therapi', 'horoscop', 'complic', 'mous', 'reform', 'oliv', 'inner', 'slave', 'brake', 'rogu', 'mood', 'inferior', 'odi', 'enemi', 'holocaust', 'spark', 'beyond', 'fossil', 'wipro', 'corn', 'vomit', 'guest', 'sensit', '29', 'maker', 'lover', 'cristiano', 'salman', 'f', '360', 'htc', 'infatu', 'stereotyp', 'merchant', 'solo', 'difficulti', 'broadband', 'soap', 'sharma', 'uttar', 'urban', 'feedback', 'icici', 'beef', 'encourag', 'cabinet', 'richard', 'respir', 'contest', 'proxi', 'although', '95', 'throughout', 'howev', 'rap', 'deaf', 'pin', 'analog', 'abstract', 'indu', 'il', 'fault', 'theorem', 'greenlit', 'martin', 'cellular', 'milki', 'kitchen', 'ux', 'ntse', 'sensor', 'neighbor', '52', 'ape', 'cogniz', 'insan', 'reward', 'coursera', 'legend', 'neutron', 'exit', 'tempera', 'upset', 'confer', 'column', 'iot', 'mount', 'instanc', '34', 'emoji', 'portfolio', 'presidentelect', 'uae', 'stem', 'zombi', 'stamina', 'palm', '20000', 'extent', 'evolutionari', 'da', 'emul', 'lotteri', 'misconcept', 'adventur', 'b2b', 'aggreg', 'erad', 'august', 'agil', 'lemon', 'syrian', 'cough', '150', 'p', 'divers', 'rome', 'meme', 'cooper', 'everybodi', 'incest', 'wildlif', 'tick', 'gel', 'disput', 'tab', 'intellectu', 'retain', 'era', 'irrit', 'volcano', 'km', 'solubl', 'twin', 'linguist', 'spray', '350', 'vari', 'purifi', 'polish', 'banker', 'defens', 'stupidest', 'joint', 'punjabi', 'dvd', 'boston', 'chapter', 'steam', 'undergrad', 'frontend', 'pit', 'abiot', 'certifi', 'march', 't20', 'libertarian', 'virus', 'fetish', 'iiit', 'belt', 'guarante', 'prioriti', 'telescop', 'trek', 'shampoo', 'ps3', 'fuck', 'podcast', 'mask', 'marathon', 'entropi', 'sustain', 'biotic', 'shippuden', 'vertic', '6th', 'shell', 'reactiv', 'gum', 'resort', 'estim', 'sand', 'soil', 'purpl', 'pardon', 'verizon', 'gainer', 'geograph', 'compress', 'uc', 'disappoint', 'verb', 'hat', 'tube', 'palestin', 'downvot', 'mahatma', 'governor', 'dm', 'potato', 'booth', 'silent', 'spacetim', 'eyesight', 'turkish', 'fever', 'illus', 'sabha', 'secretli', 'seven', 'builder', 'seek', 'simplifi', 'monet', 'peter', 'ipcc', 'noun', 'rainbow', 'outlook', 'kali', 'villain', 'defend', 'ohio', 'tactic', 'scandal', 'accessori', 'nexu', 'trailer', 'merit', 'sack', 'deficit', 'castl', 'jake', 'gene', 'suffici', 'onion', 'intens', 'encrypt', 'buddhism', 'therapist', 'effort', 'patel', 'bihar', 'senat', 'ridicul', 'dental', '9th', 'logist', 'iisc', 'i3', 'torqu', '5th', 'loop', 'cooki', 'audienc', 'acquisit', 'vodka', 'manhattan', 'meter', 'delhincr', 'sync', 'mandatori', 'fridg', 'ant', '20k', 'forest', 'mysql', 'david', 'extraterrestri', 'cisco', 'bs', 'flour', 'bass', 'numer', 'dysfunct', 'elev', 'i’m', 'advisor', 'learner', 'holi', 'april', 'worldwid', 'snowden', 'registr', 'wisconsin', 'snapdeal', 'pepper', 'cashless', 'potu', 'thriller', 'wholesal', 'tom', 'selfi', 'nonprofit', 'nervou', 'goldman', 'feminist', 'overdos', 'sue', 'boe', 'squad', 'drill', 'happiest', 'absorb', 'seller', 'lens', 'kapil', 'atheism', 'honeymoon', 'toxic', 'exgirlfriend', 'varanasi', 'dinosaur', 'intent', 'directori', 'st', 'rom', 'nutrit', 'ocd', 'backend', 'can’t', 'neither', 'eleph', 'reliev', 'nude', 'delici', 'delay', 'jean', 'offend', 'ceremoni', 'guinea', 'tripl', 'flower', 'lifetim', 'hdfc', 'tyre', 'plugin', 'leonardo', 'invis', 'deloitt', 'counsel', 'lb', 'ink', 'iitje', 'hybrid', 'singular', 'nri', 'toler', 'dirti', 'partit', 'knight', 'hottest', 'caffein', 'femin', 'musician', 'silli', 'hunt', 'afghanistan', 'revolv', 'horribl', 'inherit', 'insect', 'bulb', 'vermont', 'ae', 'regain', 'influenti', 'lay', 'kik', 'draft', 'ph', 'volunt', 'vaccin', 'spam', 'schizophrenia', 'sword', 'aggress', 'molar', 'loser', 'publicli', 'adhd', 'paradox', 'bump', 'ceram', 'info', 'colleagu', 'nehru', 'venu', 'incorpor', 'isra', 'shepherd', 'larger', 'suzuki', 'radiu', 'uninstal', 'alphabet', 'whiten', 'crew', 'badli', 'clearli', 'dialogu', 'eclips', 'manchest', 'az', 'convent', 'somehow', 'theater', 'paul', 'ir', '2002', 'omegl', 'exclus', 'spoiler', 'apolog', 'former', 'bot', 'outer', 'quantit', 'brief', 'junk', 'delta', 'alarm', 'fingerprint', 'ordinari', 'sock', 'roommat', 'fm', 'vlsi', 'oversea', 'glue', 'urdu', 'pcm', 'bitsat', 'portug', 'bath', 'hungri', 'stark', 'eras', 'nitrogen', 'chef', 'nvidia', 'mortgag', 'norwegian', 'iranian', 'fart', 'boundari', 'dasht', 'cd', 'gotten', 'slang', 'peanut', 'ncert', 'lunch', 'trainer', 'diagnos', 'lincoln', 'oneplu', 'loud', 'drawback', 'voldemort', 'scotland', 'toe', 'civilian', 'boob', 'joker', 'intersect', 'behaviour', 'wet', 'youd', 'mess', 'du', 'actuari', 'hcl', 'bat', 'theist', 'doubt', 'awak', 'js', 'scari', 'berkeley', 'casual', 'trump’', 'tim', 'airtel', 'prepaid', 'psychologist', 'wolf', '40000', 'raspberri', 'vr', 'calcium', 'mid', 'emperor', 'ion', 'kick', 'lac', 'angularj', '58', 'vega', 'denmark', 'fell', 'vein', 'argu', 'idaho', 'toy', 'admir', 'starbuck', 'outsourc', 'cafe', 'bubbl', 'mint', 'signatur', 'egyptian', 'dakota', 'pubic', 'earlier', 'coal', 'frost', 'dictat', 'genocid', 'proport', 'cach', 'manga', 'solver', 'arbitr', 'session', 'shark', 'amd', 'entrepreneurship', 'calm', 'impeach', 'accommod', 'supernatur', 'bin', 'ar', 'asteroid', 'perk', 'strip', 'prokaryot', 'bean', 'accuraci', 'varieti', 'sunni', 'handwrit', '4s', 'apocalyps', 'swami', '2008', 'peer', 'lucki', 'retina', 'sigma', 'berlin', 'concert', 'aadhaar', 'irish', 'puls', 'sip', 'gsoc', 'bend', 'shah', 'anti', 'urjit', 'halloween', 'violent', 'hawk', 'maryland', 'pickup', 'clat', 'shadow', 'anxiou', 'compulsori', 'prescript', 'distract', 'pocket', 'metric', 'portray', 'supplier', 'ace', 'testosteron', 'lung', 'thoroughli', 'proton', 'hiv', 'bitter', 'adsens', 'you’v', 'lane', '48', 'favor', 'cramp', 'pharmaci', 'longterm', 'unfollow', 'year’', 'asid', 'notifi', 'turbin', 'contin', 'alaska', 'tone', 'endors', 'mermaid', 'soup', 'mathematician', 'creation', 'blade', 'argentina', 'discharg', 'ghz', 'usd', 'magnesium', 'ben', 'controversi', 'elder', 'nomine', 'justin', '65', 'mole', 'qa', 'sir', 'guru', 'selfish', 'fantast', 'closest', 'gross', 'nonmuslim', 'lust', 'malayalam', 'chequ', 'enrol', 'recreat', 'vladimir', 'tune', 'md', 'nicknam', 'ali', 'assault', 'kohli', 'threaten', 'bottom', 'superhero', 'bid', 'beast', 'confess', 'tear', 'bengal', 'revis', 'titan', '3s', 'srm', 'bare', 'reveng', 'dylan', 'recess', 'tester', '64', 'dictionari', '2007', 'jr', 'quiet', 'mp3', 'terribl', 'zodiac', 'eukaryot', 'poster', 'cognit', 'oblig', 'distinguish', 'absenc', 'cellphon', 'juri', 'cofound', 'snap', 'raghuram', 'dealer', 'useless', 'dumbledor', 'brows', 'multi', 'fraction', 'groceri', 'pig', 'abraham', 'cia', 'unattract', 'devil', 'quarter', 'recycl', 'twitch', 'sachin', 'admin', 'rapper', 'faculti', 'commut', 'excus', 'parliament', 'haunt', 'pf', 'drawn', 'ltd', 'micromax', 'nintendo', 'prerequisit', 'ahead', 'node', 'killer', 'trader', 'mock', 'beta', 'michigan', 'princ', 'pray', 'pirat', 'sach', 'creepiest', 'wax', 'starv', 'assang', 'ppf', 'dota', 'ford', 'abandon', 'healthier', 'expos', 'journalist', 'virat', 'helicopt', 'pest', 'tutor', 'jayalalitha', 'kilo', 'combust', 'concepcion', 'winner', 'saddest', 'iitian', 'villag', 'demon', 'snooker', 'overnight', '75', 'poop', 'invers', 'pennsylvania', 'coordin', 'erect', 'taboo', 'indict', 'correctli', 'bypass', 'nonfict', 'dose', 'negoti', 'adject', 'nigeria', 'austria', 'finland', 'dick', 'superfluid', 'benadryl', 'luck', '56', 'alloc', 'precis', 'context', 'liquor', 'tension', 'qatar', 'fiitje', 'glow', 'ct', 'overweight', 'wherea', '99', 'ao', 'flu', '50ae', 'etymolog', 'erectil', 'insight', 'injuri', 'nicest', 'barrier', 'ndtv', 'behav', 'sketch', 'abdomin', 'comprehens', 'lighter', 'offens', 'illustr', 'g4', 'poland', 'explod', 'duplic', 'bing', 'adjust', 'rajan', 'circular', 'dumbest', 'badass', 'ideolog', 'depict', 'impuls', 'satan', 'anchor', 'household', 'attribut', 'googleabl', 'summari', 'trademark', 'bathroom', 'aadhar', 'rs500', 'whale', 'slab', 'relax', 'fed', 'julian', 'shuttl', 'microscop', '100000', 'stat', 'pinterest', 'pencil', 'unsubscrib', 'silenc', '19th', 'elit', 'secondari', 'mankind', 'mainstream', 'tracer', 'specialist', 'thai', 'llb', 'hashtag', 'distinct', 'saa', 'patriot', 'grown', 'vivekananda', 'fiber', 'regress', 'rajasthan', 'smallest', 'airbu', 'mat', 'roller', 'lumia', 'agnost', 'antenna', '₹2000', 'mma', 'peak', 'hypothesi', 'pointer', 'colombia', 'surround', 'deck', 'bca', 'assess', '100k', 'selfstudi', 'arrog', 'flaw', 'seminar', 'scandinavian', 'awaken', 'ee', 'blowjob', 'februari', 'surf', 'mari', 'consider', 'sandi', 'crowd', 'desper', 'micro', 'psychiatrist', 'patienc', 'whiskey', 'gonna', 'leas', 'modem', 'heartbreak', 'heroin', 'swing', 'blond', 'lcd', 'topper', 'illinoi', 'joseph', 'mercuri', 'diy', 'compens', 'untold', 'yawn', 'dispos', 'champion', 'bharat', 'amp', 'pe', 'fare', 'norm', 'viswanathan', 'firearm', 'walker', 'sikh', 'bless', 'referr', 'hydroxid', 'advers', 'puberti', 'demonit', 'warn', 'ug', 'spacex', 'wechat', 'recognit', 'partial', 'pot', 'bell', 'fisher', 'spectrum', 'blank', 'cruz', 'consumpt', 'rib', 'nerv', 'hurrican', 'trap', 'mughal', 'exclud', 'metabol', 'dandruff', 'marker', 'antarctica', 'complain', 'nda', 'cartoon', 'penc', 'empathi', 'distro', 'ceil', 'bhagat', 'michel', 'pyramid', 'nokia', 'alleg', 'warrior', 'overlay', 'modifi', 'slower', 'wound', 'navig', 'gram', 'amcat', 'miner', 'neurosci', 'chord', 'bright', 'asperg', 'ktm', 'warren', 'sf', 'handsom', 'maxim', 'consent', 'acoust', 'magnitud', 'gif', 'starter', 'bombay', 'synchron', 'rukh', 'mahindra', 'exempt', 'atlanta', 'bookmark', 'buddha', 'slide', 'beg', 'urg', 'protocol', 'fulfil', 'dilut', 'rectifi', 'bodybuild', 'lte', 'upward', 'randomli', 'pearl', 'ccna', 'allergi', '400', 'zip', 'turk', '57', 'leadership', 'witch', 'diari', 'mainland', 'plasma', 'biographi', 'coeffici', 'viewer', 'kernel', 'jain', 'trigger', '250', 'synonym', 'bee', 'actoractress', '₹', 'mod', 'redeem', 'scalp', 'garlic', 'ingredi', 'immun', 'diplomat', 'firewal', 'fedex', 'aipmt', 'henri', 'monday', 'menu', 'scorpio', 'distil', 'rough', 'phoenix', 'bsnl', 'articleship', 'mooc', 'gather', 'hai', 'crave', 'toni', 'dutch', 'thoma', 'polo', '31', 'dec', 'timelin', 'disc', 'czech', 'unix', 'katrina', 'favour', 'mainten', 'ovul', 'slot', 'void', 'profici', 'hadnt', 'chetan', 'indonesian', 'ecosystem', 'marathi', 'elizabeth', '180', 'enlarg', 'telephon', 'diamet', 'boxer', 'aveng', 'gf', 'pixel', 'insul', 'coke', 'romanc', 'ethernet', 'miami', 'pillow', 'transistor', 'instruct', 'marshmallow', 'pacif', 'shade', 'a2a', 'ate', 'mississippi', 'asthma', 'imdb', 'ipo', 'segment', 'autist', 'labor', 'indiana', 'gita', 'yesterday', 'fallaci', 'innoc', 'disturb', 'diod', 'hey', 'vinci', 'columbia', 'colli', 'luther', 'basebal', 'gateway', 'se', 'lowest', 'mbp', 'demograph', 'nightmar', 'itch', 'brace', 'pl', 'fx', 'weld', 'shed', 'em', 'pornographi', 'mattress', 'watt', 'horizon', 'lag', 'sphere', 'viral', 'kansa', 'drain', 'membership', 'stroke', 'tornado', 'designjet', 'toughest', 'suspens', 'intermedi', 'notabl', 'hug', 'punch', 'django', 'drift', 'mongolia', 'allen', 'wayn', 'impli', 'portugues', 'porcelain', 'surg', 'reinforc', 'semen', 'sx', 'district', 'committe', 'coconut', 'muller', 'butterfli', 'vocal', 'stabil', 'hdd', 'soppi', 'kaif', 'std', 'alik', 'victoria', 'atacama', 'fairi', 'rs2000', 'oili', '5k', 'apk', 'bikini', 'thar', 'flip', 'jacket', 'coder', 'vampir', 'brisban', 'tens', 'helmet', 'pipe', 'strengthen', 'kmc', 'destini', '8gb', 'findout', 'peel', 'obes', 'imperi', 'odor', 'trustworthi', 'sandwich', 'strateg', 'hello', 'tendulkar', 'whatev', 'healthiest', 'onsit', 'learnt', 'dioxid', 'mediev', 'homeless', 'uncondit', 'zenfon', 'bpo', 'otg', 'attorney', 'momentum', 'crore', 'llc', 'charl', 'gase', 'lpa', 'avatar', 'remind', 'beatl', 'vishwanathan', 'eminem', 'knife', 'itchi', 'antibiot', 'testament', 'hypocrit', 'trash', '110', 'deploy', 'credibl', 'analyz', 'g3', 'tran', 'prohibit', 'nagpur', 'detector', 'lucknow', 'propel', 'soulmat', 'classif', 'littleknown', 'elast', 'jill', 'where', 'chlorid', 'girth', 'napoleon', 'arabian', 'relief', 'costum', 'monetari', 'hdmi', '25k', 'thread', 'crm', 'decim', 'nearest', 'dedic', 'xp', 'abc', 'clip', 'prototyp', 'diwali', 'inappropri', 'appeal', 'kim', 'mixer', 'spare', 'barcelona', 'irrat', '700', 'vedic', 'rhyme', 'warcraft', 'bootstrap', 'smoker', 'ninja', 'climb', 'imessag', 'hunter', 'bonu', 'unrequit', 'panic', 'nikola', 'nsit', 'drown', 'labour', 'headset', 'princeton', 'slightli', 'lyft', 'humor', 'hiroshima', 'garden', 'plural', 'closet', 'metaphor', '8th', 'rubik', 'alloy', 'highland', 'photosynthesi', 'exhaust', 'upto', 'ctc', 'highlight', 'vape', 'lt', 'quant', 'nearli', 'rs1000', 'shrink', 'unbias', 'legisl', 'kannada', 'carpet', 'troll', 'drum', 'registan', 'alo', 'regim', 'automot', 'eee', 'facetim', 'giant', 'significantli', 'chile', 'cocain', 'recipi', 'le', 'backward', 'reson', 'liberti', 'vp', 'nagasaki', 'peru', 'feasibl', 'deepest', 'circumcis', 'emi', '33', 'chariti', 'spici', 'hundr', 'caviti', 'rapidli', 'portland', 'multipli', 'kitten', 'chromosom', 'elementari', 'slogan', 'vagin', 'amplifi', 'fiscal', 'intercours', '1980', 'andrew', 'vera', 'afterlif', 'parttim', 'coverag', 'endang', 'spoke', 'allah', 'clerk', 'cellulit', 'astronomi', 'vancouv', 'scooter', 'morgan', 'indi', 'bieber', 'altitud', 'audi', 'gui', 'steer', 'kumar', 'rama', 'darwin', 'craigslist', 'philadelphia', 'implant', 'mike', 'dropbox', 'vellor', 'reactor', 'rs60000', 'repeatedli', 'rss', 'subscript', 'ironi', 'sunday', 'mammal', 'settlement', 'shia', 'spec', 'poorli', 'wheeler', 'selfesteem', 'yadav', 'folk', 'himher', 'hotspot', 'luke', 'eccentr', 'uan', 'varianc', 'plagiar', 'discret', 'biomed', 'none', 'shortest', 'attain', 'journey', 'lanka', 'persian', 'multivers', 'runner', 'owe', 'galleri', '3day', 'postgradu', 'fate', '18002514919', 'auction', 'stein', 'warranti', 'surgeon', 'ml', 'cannabi', 'bolt', 'sonoran', 'vapor', 'sacrific', 'confront', 'mitochondria', 'width', 'lobster', 'everywher', 'modi’', 'licenc', '1960', 'resistor', '2g', 'realis', 'backlink', 'hairfal', 'farmer', 'wildest', 'legaci', 'hulu', 'lic', 'sink', 'gray', 'evapor', 'bf', 'vers', 'ft', 'repetit', 'co2', 'backlog', '2d', 'blister', 'hype', 'flame', '4k', 'classroom', 'neuron', 'oh', 'wizard', 'min', 'coincid', 'reproduc', 'fool', 'satur', 'amiti', 'inc', 'xat', 'candl', 'explos', '1080p', 'sheldon', 'swollen', 'uniti', 'dolphin', 'badminton', 'grain', 'ridg', 'clarif', 'foil', 'frank', 'tobacco', 'ngc', 'oscar', 'coimbator', 'topolog', 'vike', 'pad', 'aa', 'yale', 'absent', 'liver', 'cider', 'rush', 'albert', 'friendzon', 'lucr', 'preschool', 'subconsci', 'humid', 'cutest', 'ny', 'guess', 'ec', 'mileag', 'broadcast', 'beverag', 'vietnames', 'gamma', 'flood', 'mb', 'dens', 'skateboard', 'ussr', 'delawar', 'unwant', 'sexiest', 'erot', 'grape', 'otherwis', 'shahrukh', 'dan', 'polym', 'simplest', 'contractor', 'princess', 'thor', 'austin', 'cabin', 'practis', 'propheci', 'betray', 'mca', 'goi', 'forbidden', 'newer', 'recharg', 'submarin', 'hairstyl', 'inaugur', 'shield', 'forens', 'deterg', 'depth', 'defenc', 'inclin', 'denver', 'over', 'maruti', 'transcript', 'echo', 'contemporari', 'plateau', 'fl', 'lifespan', 'compel', 'horni', 'screw', 'outlet', 'pitbul', 'labpitbul', 'newborn', 'richer', 'proposit', 'rc', 'southeast', 'erupt', 'exhibit', 'dizzi', '2001', 'laid', 'macro', 'iaf', 'alpha', 'flute', 'merced', 'pmp', 'brilliant', 'worthwhil', 'lao', 'shear', 'chronic', 'bootcamp', 'knock', 'jerk', '510', 'j7', 'doesn’t', 'fade', 'vodafon', 'masood', 'azhar', 'buddhist', 'caltech', 'diarrhea', 'xanax', 'valuat', 'horcrux', 'satisfact', 'bschool', 'brick', 'nuditi', 'objectori', 'bi', 'coup', 'compromis', 'youngest', 'hon', 'meiosi', 'fusion', 'autocad', 'wavelength', 'allianc', 'mormon', 'bd', 'vibrat', 'perfum', 'do', 'balochistan', 'skirt', 'i7', 'undergo', 'exboyfriend', 'durabl', 'warrant', 'watson', 'ton', 'jeenkartcom', 'sub', 'dtu', 'golf', 'taylor', 'correspond', '3000', 'cockroach', 'twenti', 'spoil', 'tb', 'inevit', 'rust', 'telecom', 'existenti', 'ka', 'bhagavad', 'walt', 'hormon', 'envelop', 'roof', 'bose', 'flavour', 'distant', 'liner', 'nest', 'mute', 'iswa', 'intoler', 'neil', 'capitalist', 'neighborhood', 'signifi', 'werent', 'engg', 'hulk', 'overpr', 'andhra', 'worn', 'hbo', 'bulldog', 'qr', 'sarcast', 'toothpast', 'wive', 'gorilla', 'exposur', '4gb', '2030', 'portabl', 'mangalor', 'methodolog', 'geometri', 'semant', 'tangibl', 'judici', 'trivia', 'suspend', 'gtx', 'clever', 'jazz', 'jealousi', 'hatr', 'belkin', 'drastic', 'buri', '201617', 'lump', 'traine', 'approx', 'salad', 'guilt', 'spheric', 'turtl', 'cuba', 'indor', 'wipe', 'homework', 'bhim', 'hangov', 'curiou', 'yamaha', 'wrestl', 'advoc', 'invas', 'xperia', 'cubic', 'jedi', 'louisiana', 'hamilton', 'theatr', 'bled', 'tuition', '40k', 'rna', 'van', 'applianc', 'prosper', '85', 'vendor', 'canva', 'censor', 'worthi', 's6', 'salesforc', '17yearold', 'nicotin', 'jammu', 'stimul', 'bbc', 'aleppo', 'rumor', 'et', 'paralysi', 'ssd', 'cardio', 'kit', 'nse', 'bound', 'sequel', 'condens', 'selenium', 'socialist', 'outdoor', 'anatomi', 'salmon', 'pace', 'idiom', 'duke', '53', 'trillion', 'blackhead', 'methamphetamin', 'muscular', 'wikileak', '67', 'preval', 'pension', 'mg', 'thicker', 'jqueri', 'crab', 'recal', 'coastal', 'troop', 'marshal', 'demolish', 'flea', 'swap', 'iso', 'carolina', 'workplac', 'sniper', 'dissolv', 'gujarati', 'qoura', 'spice', 'grid', 'wrist', 'reproduct', 'kennedi', 'granvil', 'magento', 'stalk', 'gang', '36', 'euro', 'marketplac', 'caller', 'adword', 'workload', 'sp', 'patna', 'templat', '98', 'spite', 'intp', 'crown', 'escal', 'orlando', 'you’r', 'squat', '66', 'malwar', 'mainli', 'hebrew', 'borrow', 'rose', 'aeronaut', 'consciou', 'deport', 'hardship', 'sexist', 'spiderman', 'sharp', 'tight', 'sexi', 'rum', 'steak', 'tamilnadu', 'saint', 'paramet', 'viber', 'strict', 'strain', '54', 'quad', 'downsid', 'dilat', 'antimatt', 'monster', 'indoor', 'lisa', 'armpit', 'feminin', 'poorest', 'scanner', 'subway', 'temporari', 'temporarili', '14th', 'cruel', 'notebook', 'mp', 'destruct', 'conclus', 'suspect', 'pvt', 'daeneri', 'tokyo', 'horizont', 'ski', 'snapdragon', 'repeal', 'fourth', 'incred', '2gb', 'homemad', 'theft', '96', 'floyd', '2005', 'imaginari', 'menstruat', 'appar', 'jan', 'referendum', 'thiel', 'mice', 'ottoman', 'http', 'ontario', 'siri', 'pope', 'dev', 'namib', 'inmat', 'partnership', 'pulsar', 'slaveri', 'karan', 'queri', 'capita', 'alert', 'brutal', 'papua', 'mah', 'disconnect', 'churchil', 'desk', 'welfar', 'midnight', 'turbo', 'reincarn', 'mcdonald', 'rob', 'instinct', 'motorola', 'gwalior', 'com', 'banerje', '43', 'pixar', 'notat', 'freezer', 'hank', 'yield', 'ross', 'ulcer', 'tissu', 'bruis', 'cet', 'antidepress', 'expat', 'stray', 'terrestri', '120', 'aspnet', 'taxat', 'obamacar', 'madrid', '64bit', 'dualiti', 'pcb', 'therapeut', 'razor', 'cum', 'bse', 'mustread', 'kapoor', 'safer', 'fluctuat', 'hoard', 'mild', 'consecut', 'rear', 'eas', 'guatemala', 'assumpt', 'flux', 'obvious', 'bangkok', 'rub', 'bounc', 'cambridg', 'vine', 'nich', 'ernest', 'prescrib', 'amateur', 'plain', 'lok', 'silk', 'rabbit', 'oklahoma', 'gd', 'mckinsey', 'sunset', 'propaganda', 'pose', 'exp', 'stuf', 'acet', 'compass', 'taklamakan', 'shame', 'psychic', 'shutter', 'huh', 'physiolog', 'ancestor', 'dataset', 'gambl', 'alexa', 'collabor', 'flexibl', 'ash', 'induc', 'panda', 'dehradun', 'lionel', 'microcontrol', 'colder', 'mechatron', 'diffus', 'rod', 'capgemini', 'mm', 'swedish', 'cheer', '5v', 'phobia', 'telegram', 'overthink', 'finit', 'wallpap', 'radic', 'resel', 'forecast', 'pend', 'miui', 'gpu', 'nu', 'hen', 'infant', 'clark', 'grave', 'surveil', 'tougher', 'smooth', 'ammonium', 'daddi', 'verg', 'pgdm', 'rope', 'doc', 'kitkat', 'h', 'banglor', 'cnn', 'ass', 'ucla', 'disprov', 'abruptli', 'dalla', 'slept', '160', 'sam', 'q', 'mongol', 'jose', 'wolv', 'literari', 'premarit', 'rti', 'dangal', 'bhutan', '220', 'phenomenon', 'madra', 'lighten', 'buyer', 'reloc', 'geforc', 'sauron', 'tequila', 'toddler', 'smilevo', 'leo', 'hut', 'afterward', 'affirm', 'repel', 'malaysian', 'yogurt', 'schengen', 'viabl', 'sail', 'tropic', 'rajya', 'stadium', 'nippl', 'leap', 'tape', 'embassi', 'lanyard', 'backpack', 'benghazi', 'artwork', 'masculin', 'ultra', 'taj', 'thanksgiv', 'confeder', 'unhappi', 'aluminium', 'previous', 'refract', 'kindli', 'elitmu', 'perpetu', 'armenian', 'quiz', 'mutat', 'plz', 'disagre', 'darker', 'mortal', 'inbox', 'farewel', 'dividend', 'homeland', 'grace', 'boiler', 'eyebrow', 'ramayana', 'cocacola', 'vulner', 'montana', 'frog', 'entiti', 'coil', 'christoph', 'rhetor', 'turbul', 'collis', 'jupit', 'ufc', 'theyv', 'tide', 'bankruptci', 'westworld', 'usml', 'fascin', 'tampon', 'cantones', 'isb', 'chri', 'isol', 'tmobil', 'scorpion', 'cornel', 'gut', 'shortcut', 'oyo', 'fest', 'novic', 'orthodox', 'vizio', '1500', 'valenc', 'gop', 'belgium', 'latex', 'lime', 'zinc', 'alexand', 'nonu', 'roku', 'uruguay', 'gallon', 'lamp', 'heater', 'oregon', 'sulfur', 'istanbul', 'biodivers', 'syrup', 'selfdriv', 'infrastructur', 'reallif', 'tor', '₹15000', 'srcc', 'highend', 'descend', 'itinerari', 'darkvacuum', 'temper', 'riddl', 'garag', 'riot', 'heritag', 'steven', 'boson', 'yearold', 'sushi', 'nine', 'decay', 'businessman', 'bro', 'cosmic', '32bit', 'flop', '1tb', 'monopoli', 'counterpart', 'disgust', 'ecolog', 'almond', 'assur', 'vat', 'hollow', 'são', 'afternoon', '7000', 'aviat', 'brazilian', 'stall', 'sleev', 'bengali', 'karna', '37', 'b1b2', 'tribun', 'oscil', 'unless', 'bb', '1math', 'bolivia', 'gixxer', 'sophomor', 'hobbit', 'geni', 'pluto', 'atroc', 'sunglass', 'mp4', 'bow', 'td', 'nike', 'unifi', 'diego', 'oppon', 'arteri', 'skate', 'isotop', 'monarchi', 'puerto', 'zomato', 'unavail', 'asexu', 'nov', 'pepsi', 'inspiron', 'launder', 'bia', 'balloon', 'ancestri', 'huski', 'solicitor', 'pablo', 'rip', 'microprocessor', 'higg', 'tennesse', 'dil', 'patagonian', 'palestinian', 'promin', 'ralli', 'preserv', '68', 'paragraph', 'mold', 'miser', 'crowdfund', 'bane', 'kentucki', 'motherboard', 'prompt', 'oop', 'hiccup', 'funer', 'hookah', 'baluchistan', 'saturn', 'slip', 'scifi', 'viscos', 'yelp', 'cosmet', 'na', 'locker', 'iceland', 'hop', 'mall', 'provinc', 'likelihood', 'cylind', 'fiancé', 'hub', 'ingest', 'rebel', 'zee', 'landscap', 'eo', 'lotion', 'teas', 'tvf', 'int', 'nut', 'anytim', 'nc', 'storm', 'clay', 'continent', 'ritual', 'goebbel', 'gradient', 'systemat', 'popcorn', 'andi', 'stripe', 'blackberri', 'reviv', 'handset', 'migrain', 'semi', 'tunnel', 'simpler', 'remak', 'creepi', 'sundar', 'radioact', 'demerit', 'typhoon', 'somewhat', 'honour', 'ji', 'lal', 'vu', 'vimi', 'bahadur', 'warfar', 'jamaica', 'incub', 'constip', 'patanjali', 'clau', 'amongst', 'sophist', 'realti', 'conveyanc', 'patch', '1000r', '600', 'buffer', 'aspirin', 'wrap', 'whip', 'angsti', 'mitosi', '38', 'jordan', 'curl', 'warehous', 'sponsorship', 'veda', 'boat', 'idiot', 'halal', 'gt', 'rothschild', 'fulltim', 'cucumb', 'princip', 'oppress', 'cersei', 'hrithik', 'charli', 'roast', 'poet', 'sarcasm', 'adderal', 'ned', 'happili', 'expenditur', 'pichai', 'claus', 'macbeth', 'carb', 'clutch', 'laundri', 'economist', 'kashmiri', 'waveparticl', 'rey', 'biblic', 'isar', 'opera', 'coat', 'insomnia', 'enzym', 'india’', 'crow', 'ceas', 'hz', 'prematur', 'herp', 'can', 'bhubaneswar', 'lannist', 'hockey', 'dissoci', 'sincer', 'hijab', 'owl', 'regrow', 'infj', 'bangladeshi', 'worm', '44', 'upwork', 'charm', 'mt', 'analys', 'lap', 'ibuprofen', 'dictatorship', 'hydrochlor', 'bluray', 'fenc', 'eight', 'hana', 'chelsea', 'rabi', 'cgi', 'stainless', 'tale', 'whilst', 'distort', 'fascism', 'affleck', 'singaporean', 'watermelon', 'underwat', 'rider', 'yearli', 'rico', 'embrac', 'lax', 'gasolin', 'idl', '36in', 'mongodb', 'await', 'kidnap', 'pushup', 'x2', 'toshiba', 'gamer', 'hash', 'duo', 'scalar', 'endur', 'blockchain', 'snowboard', 'crook', 'isaac', 'johar', 'occup', 'valv', 'buffalo', 'crude', 'numb', '–', 'carrot', 'californian', 'proadvisor', 's3', '130', 'sdk', 'radar', 'postal', 'entangl', 'kuwait', 'receipt', 'amsterdam', 'bicep', 'inventor', 'kota', 'shakespear', 'toyota', 'toss', 'mere', 'lend', 'cola', 'charismat', 'ouija', 'panama', 'fellowship', 'annum', 'uncomfort', 'dnc', 'anniversari', 'contagi', 'ansi', 'well？', '1k', 'rectangular', 'swear', 'rsu', 'erp', 'mahal', 'asbesto', 'incorrect', 'daytona', 'cpa', 'jfk', 'viceversa', 'yo', 'mahabharat', 'selfimprov', 'restart', 'dam', 'dongl', '1835', 'programmingcod', 'deadpool', 'telecommun', 'laravel', 'surrend', 'spontan', 'dbm', 'hogwart', 'snape', 'burst', 'git', 'insult', 'wwi', 'joe', '1604', 'bulldogpitbul', 'fortun', 'emit', 'labrador', 'mushkil', 'indirect', 'agenda', 'invoic', '800', 'talaq', 'wharton', 'stink', 'cite', 'chair', 'wand', 'apollo', 'jk', 'alltim', 'landlord', '1s', 'fidel', 'smith', 'extracurricular', 'margo', 'if', 'flora', 'probat', 'meteor', 'interv', 'screenplay', 'clinton’', 'dutert', 'inequ', 'voicemail', 'superstit', 'grill', 'transmit', 'championship', 'cyst', 'studyingwork', 'diverg', 'layov', 'suppress', 'hypnosi', 'prep', 'quark', 'jawaharl', 'alzheim', 'seced', 'mojav', 'panti', 'fetch', '1751', 'powerpoint', 'retali', '42', 'traitor', 'hyundai', 'objectivec', 'inher', 'veg', 'rainforest', 'pasta', 'b2', 'interven', 'geolog', 'fond', 'dilemma', 'hypnot', 'sa1', 'matthew', 'cord', 'wbjee', 'molest', 'arica', 'contradict', 'html5', 'moham', 'persuad', 'downgrad', 'specifi', 'sare', 'youll', 'potassium', 'romania', 'avocado', 'cereal', 'biochemistri', 'turbocharg', 'uranium', 'renaiss', 'guidanc', 'nowher', 'dalit', 'fd', 'nonvegetarian', '1800', 'gulf', 'microphon', 'invert', 'launcher', 'jainism', 'scholar', 'lipid', 'rubber', 'myersbrigg', 'theoriz', 'costli', 'bc', 'chop', 'disrupt', 'rd', 'filmmak', 'prestigi', 'symbiosi', 'patholog', 'prejudic', 'equilibrium', 'joy', 'pharma', 'nitric', 'eczema', 'covert', 'deadli', 'sprint', 'ambani', 'sem', 'chin', 'himalayan', 'utah', 'wheat', 'insist', 'psychiatri', 'forehead', 'layout', 'vibe', '1gb', 'el', 'wat', 'jason', 'categor', 'incomplet', 'craft', 'threesom', 'melania', 'capsul', 'notion', 'portrait', 'gopro', 'traction', 'recurs', 'dropper', 'xi', 'songwrit', 'rectangl', 'personnel', 'heterosexu', 'nid', 'acknowledg', 'therefor', 'fad', 'stampscom', 'converg', 'whine', 'solvent', 'harvey', 'columbu', 'yorkiecorgi', 'arya', 'outfit', 'stunt', 'dare', 'centrifug', 'webpag', 'daydream', 'hsc', 'ajay', 'mafia', 'winston', 'subcontin', 'slope', 'saturday', 'nap', 'civic', 'cleaner', 'cheek', 'bronz', 'intimid', 'houston', 'vijay', 'loyal', 'luggag', 'mu', 'judgement', 'bride', 'interfer', 'aryan', 'prostat', 'prosecut', 'lsd', 'dimpl', 'refresh', 'ranikhet', 'caucasian', 'morocco', 'scammer', 'phuket', 'esland', 'selfconfid', 'shine', 'snack', 'pak', 'inorgan', 'dig', 'roshan', 'plaster', 'ak', 'mri', 'rowl', 'deadlin', 'imo', 'comeback', 'overturn', 'cdac', 'teresa', 'selfawar', 'emiss', '61', 'kalam', 'allo', 'dairi', 'stylish', 'statutori', 'kenya', 'veteran', 'elearn', 'armstrong', 'alia', 'synthet', 'psat', 'ashoka', 'goddess', 'triniti', '1404', 'homeschool', 'projectil', 'whirlpool', 'beggar', 'sunburn', 'demobilis', 'worthless', 'dive', 'brokerag', 'uncl', 'ecuador', 'chlorin', 'cyanid', 'fallout', 'bhatt', 'everytim', 'prais', 'liabil', 'lasik', 'manila', '20th', 'realtim', 'unsolv', 'dopamin', 'anthropolog', 'sting', 'yugioh', 'armor', 'pneumonia', 'coaster', 'physiqu', 'gs', 'unfortun', 'creator', 'loc', 'stalin', 'domino', 'mum', 'aamir', 'weve', 'meetup', 'confort', 'tomé', 'tiss', 'shepherdbord', 'trophi', 'gentleman', 'curbelimin', 'thrown', 'endoplasm', 'uneth', 'cheater', 'kharagpur', 'subsidi', 'laden', 'reunit', 'alot', 'emma', 'penis', 'evernot', 'steroid', 'reticulum', 'drake', 'rep', 'bold', 'ambassador', 'massacr', '16gb', 'pour', 'fibonacci', 'hawala', 'beij', 'sworn', 'pentium', 'heavili', 'doom', 'offcampu', 'rodrigo', 'hemispher', 'painter', 'ferment', 'sensex', 'comcast', 'carnivor', '18yearold', 'castro', 'freeli', '155', 'outstand', 'fauna', 'veto', 'drdo', 'untax', 'je', 'yolk', 'perpendicular', 'cave', 'elbow', '—', 'chai', 'harbor', 'showcas', 'immatur', 'udemi', 'thu', 'príncipe', 'dmt', 'oz', '125', 'drag', 'montréal', 'spank', 'aam', 'ic', 'ellen', 'collar', 'naval', 'checkmat', 'toll', 'teja', 'webcam', 'breaker', 'globe', 'clog', 'obviou', 'isc', 'skyrim', 'nobl', 'narr', 'oxford', 'chairperson', 'trail', 'ghana', 'apnea', 'bitdefend', 'learnin', 'thirsti', 'th', 'abu', 'affin', 'woke', 'si', 'thermostat', 'ran', 'miracl', 'sedan', 'trim', 'cbi', 'iquiqu', 'asap', 'eyelash', 'squirt', 'scala', 'nonindian', 'mic', 'semiconductor', 'dust', 'rs15000', 'bacon', 'revolt', 'recognis', 'mayan', '1868', 'vast', 'inertia', 'strand', 'oneself', 'gland', 'cult', 'hesit', 'portion', 'ptsd', 'acryl', 'raj', 'cone', 'brooklyn', 'curabl', 'sour', 'franklin', 'pancak', 'robbin', 'choke', 'arena', 'familiar', 'romeo', 'variat', 'whini', 'tu', 'repercuss', 'thinker', '4000', 'newbi', 'iowa', 'dealership', 'impot', 'unawar', 'kany', 'everest', 'zeu', '10yearold', 'liabl', 'jerri', '1947', 'jefferson', 'pathet', 'fatal', 'wig', 'med', 'humour', 'roam', 'iv', '91', 'genom', 'bud', '2006', 'pendriv', 'fp', 'paradigm', 'aadmi', 'chandra', 'fellow', 'thc', 'helium', 'nonexist', 'jallikattu', '2003', 'oat', 'furiou', 'staffykelpi', 'surat', 'b1', 'csv', 'defect', 'rs25000', 'jar', 'neighbour', 'cdma', 'demonstr', 'sake', 'inconveni', 'olympiad', 'warner', 'npa', 'blender', 'bench', 'cl', 'tragic', 'brit', 'abbrevi', 'allerg', 'fort', 'alhambra', 'macromolecul', 'offthebeatenpath', 'unpopular', 'peroxid', 'lnmiit', 'multiplay', 'conveni', 'detroit', 'lightsab', 'wardrob', 'nitrat', '93', 'ssn', 'bajaj', 'fargo', 'ua', 'seizur', 'usc', 'nift', 'mastercard', 'yard', 'gem', 'hypothyroid', 'ayurveda', 'soundtrack', 'akhilesh', 'searh', 'dishwash', 'mecca', 'lava', 'understood', 'mill', 'jog', '1950', 'lymph', 'appetit', 'ellipt', 'uberx', 'thong', 'vim', 'paranoid', 'fellatio', 'guwahati', 'penang', 'acmicpc', 'canal', 'tilt', 'noodl', 'anna', 'cph4', 'aris', 'dramat', 'pedophil', 'gbo', 'gymnast', 'cater', 'sublim', 'boxerpitbul', 'israelipalestinian', 'orchestra', 'anticip', 'uiux', 'refut', 'reinstal', 'edx', 'clearanc', 'rolex', 'mukesh', 'upsid', 'ignou', 'nmim', 'buffet', 'restrain', 'csir', 'ozon', 'fame', 'sharehold', 'bandwidth', 'bulgaria', '2025', '123', 'indigen', 'began', 'hook', '20162017', 'entrepreneuri', 'mona', 'hungari', 'energet', 'cashback', 'zoom', 'occas', 'infertil', 'greatli', 'massachusett', '2004', 'inhal', 'biodegrad', 'buffett', 'creep', 'mainfram', 'zika', 'wa', 'quoracom', 'catalyt', 'herbal', 'heel', 'boom', 'easter', 'bran', 'rick', 'breakdown', 'shimla', 'packet', 'boon', 'diagnosi', 'gyroscop', 'sixth', 'elsewher', '2100', 'slap', '1d', '30000r', 'rumour', 'repo', 'kickstart', 'fatigu', 'coma', 'kpop', 'driven', 'wander', 'tensor', 'cage', 'chant', 'chromebook', 'emir', 'mph', 'fantas', 'af', 'landform', 'centripet', '102', 'valentin', 'sansa', 'tableau', 'hierarchi', '319', 'mun', 'goku', 'matrimoni', 'sticker', 'karakum', 'mindset', 'panther', 'jeff', 'jay', 'jewelri', 'guidelin', 'torch', '4kg', 'hotmail', 'breez', 'immens', 'dushka', 'k3', 'baratheon', 'mysor', 'earlob', 'jennif', 'complement', 'emoticon', 'madison', 'median', 'shivaji', 'a380', 'pun', 'accumul', 'hunger', 'coca', 'lipton', 'unfriend', 'represent', 'batsman', 'lokpal', 'tecton', 'mao', 'dynasti', 'g2', 'myopia', 'chandrakar', 'osama', 'pwc', 'moistur', 'laboratori', '1877', 'envi', 'seduc', '6000', 'constitu', 'gover', 'hibern', 'godaddi', 'wednesday', 'leaf', 'persist', 'commod', 'shopifi', 'logarithm', 'digger', 'peg', 'nirma', 'brogli', 'nepales', '97', 'anderson', 'tonight', 'tumor', 'scroll', 'rv', 'emigr', 'resurrect', 'romanian', 'punctuat', 'taco', 'enthalpi', 'ayurved', 'compressor', 'cuban', 'lamb', 'duolingo', '00', 'earliest', 'socket', 'comedk', 'scientolog', 'ruler', 'incept', 'ikea', 'xl', 'asham', 'burnt', 'baraka', 'foster', 'clintontrump', 'sde', 'schooler', 'vishnu', 'etf', 'elabor', 'va', 'han', 'nonvirgin', 'beaten', 'stanc', '63', 'dropship', 'spaceship', 'wasp', 'tender', 'dicaprio', 'dear', 'chanakya', 'acca', 'viagra', 'mash', 'cvv', 'champagn', 'vet', 'detox', '1010', 'xlri', 'clown', 'imax', 'fairli', 'interraci', 'crossplatform', 'detach', 'hammer', 'prolong', 'xavier', 'benjamin', 'nerd', 'header', 'fitbit', 'bale', 'prozac', 'shortli', 'kickass', 'counterfeit', 'lifechang', 'whi', 'regardless', 'hood', 'bullenglish', 'nafta', 'museum', 'exploit', 'garment', 'burger', 'xcode', 'blast', 'uno', 'nile', 'degener', 'crucial', 'disclos', 'servo', 'queue', 'juliet', 'convect', 'narciss', 'burden', 'factual', 'lgbt', 'mucu', 'banner', 'phenomena', 'bowler', 'atleast', 'scott', '1965', 'isn’t', 'realworld', 'ownership', 'render', 'dialect', 'rpm', 'larri', 'gluten', 'revel', 'misus', 'dor', 'ballon', 'conan', 'matern', 'coc', 'aborigin', 'topcod', '500000', 'nd', 'cooker', 'polygon', 'arthur', 'sender', 'matric', 'womb', 'tortur', '2009', 'intak', 'chloroplast', 'harmon', 'baba', 'arous', 'ifb', 'alchemist', 'reli', 'deed', 'myanmar', 'monoxid', 'opensourc', 'petit', 'tauru', 'mythic', 'iift', 'aeroplan', 'xmen', 'barri', 'hagu', 'grew', 'groupon', 'witti', '1971', 'jbl', 'hubbl', 'jelli', 'goat', 'commemor', 'durat', 'cock', '2024', 'forg', 'cremat', 'etsi', 'von', 'sohei', 'ey', '1361', 'prone', 'mamata', 'dob', 'offshor', 'transpar', 'ongo', 'telekinesi', 'wolverin', 'aliexpress', 'iitb', 'these', 'collag', '62', 'cpm', 'humbl', 'comet', 'offenc', 'inexpens', 'bounti', 'provision', 'leonard', 'impos', 'dryer', 'embarass', 'poke', 'lisbon', 'nonn', '15yearold', 'hydrat', 'refil', 'chairmanship', 'manageri', 'you”', 'amazoncom', 'gradual', 'mvc', 'racial', 'relay', 'vessel', 'pars', 'darkvacuumgravit', 'tyrion', 'fractur', 'bigg', 'cahoot', '1755', 'disneyland', 'lan', 'aztec', 'literaci', 'vacuol', 'towel', 'guitarist', 'forb', 'chronolog', 'lite', 'intervent', 'corp', 'depreci', 'reciev', 'comb', 'wasi', 'convex', 'homeopathi', 'companion', 'byju', 'avid', 'storylin', 'duck', 'shiv', 'xml', 'casino', 'etiquett', 'align', 'noisi', 'melodi', 'karl', 'reus', 'gsm', 'polygami', 'etg', 'asylum', 'ambedkar', 'kain', 'haircut', 'suspici', 'rrb', 'borough', 'aerob', 'eyelid', 'milit', 'ryan', 'unsc', 'kavir', 'munnar', 'rapist', 'textil', 'freight', 'videocon', 'foreskin', 'archiv', 'deton', 'grizzli', 'maharaj', 'twist', 'tibet', 'missouri', 'escobar', 'reelect', 'tonsil', 'infp', 'kangana', 'raid', 'masala', 'harvest', 'bridal', 'rudest', 'raipur', 'accredit', 'scream', 'battlefield', 'afcat', 'karaok', 'selfharm', 'infring', 'honeywel', 'packer', 'zapata', 'unrealist', 'pv', 'swell', 'sleepov', 'roughli', 'pointless', 'parachut', 'english？', 'kabaddi', 'trauma', 'wittiest', 'wilson', 'headlight', 'landlin', 'bacterium', 'su', 'catalyst', 'litter', 'hazard', 'forthcom', 'pretend', 'furi', 'ark', 'straighten', 'huawei', 'marc', 'azerbaijan', '12k', 'gourmet', 'pup', 'frighten', '12v', 'ladakh', 'rescu', 'sunlight', 'cholesterol', 'fdr', 'byte', 'ongc', 'hydraul', 'tastiest', 'elderli', 'lawsuit', 'martian', 'jone', 'reagan', 'trilog', 'dice', 'grass', 'marilyn', '16th', 'monro', 'slovenia', 'vlc', '1787', 'underweight', 'greet', 'bw', 'inventori', 'garbag', '1970', 'hindiurdu', 'eros', 'rapid', 'myriad', 'cb', 'dessert', 'crate', 'projector', 'prey', 'shit', 'autobiographi', 'tuna', 'grind', 'hint', 'bulletproof', 'oman', 'comma', 'deodor', 'brave', 'vault', 'yell', 'riyadh', 'selfdefens', 'technician', 'racket', 'unclo', 'viewopinion', 'samajwadi', 'fifti', 'loot', 'overwhelm', 'cauveri', 'phosphat', 'respiratori', 'circulatori', 'electrician', 'gomez', 'whatsoev', 'rand', 'vga', 'convey', 'd5200', 'coldest', 'celsiu', 'abdul', 'supercharg', 'takeoff', 'revert', 'introductori', 'cyclon', 'selena', 'scotch', 'qm', 'tensil', 'om', 'laplac', 'polytechn', 'drupal', 'etl', 'latter', 'proactiv', 'slam', 'slice', 'rcc', 'homogen', 'dunkirk', 'tenur', 'entitl', 'fpga', 'par', '05', 'prom', 'bloomberg', 'overload', 'mischiev', 'serbia', 'elvi', 'kanpur', 'yosemit', 'waterproof', 'antonym', 'telangana', 'warp', 'lactos', 'soy', 'sweetest', 'daytoday', 'booster', 'slack', 'obstacl', 'antichrist', 'middleclass', 'satir', 'rideshar', 'alter', 'speck', 'nova', 'tariff', 'fece', 'purdu', 'thru', 'assert', 'pie', 'bicarbon', 'soundcloud', 'jungl', 'alongsid', 'upe', 'activa', 'bodyguard', 'descent', '15th', 'd3300', 'donor', 'yalu', 'riemann', 'unsaf', 'marx', 'genotyp', 'ottawa', 'brass', 'firefox', 'shelter', 'nadar', 'follicl', 'zoo', 'tricki', 'hermion', 'corner', 'reissu', 'jellyfish', 'isl', 'hardli', 'aaa', 'sharpen', 'ann', 'loui', 'upi', 'unansw', 'nagar', 'somalia', 'ps', 'iri', 'painlessli', 'findemploy', 'ro', 'swipe', 'lizard', 'jnu', 'hiphop', 'bucket', 'millenni', 'adverb', 'supervis', 'pandora', 'hijack', 'intercept', 'taliban', 'calgari', 'scrambl', 'dissert', 'phantom', 'montreal', 'monk', 'jayalalithaa', 'pistol', 'oust', 'sacramento', 'rafal', 'scatter', 'munich', 'waiter', 'kite', 'encod', 'har', 'outdat', 'cal', 'segreg', 'bootabl', 'sulphat', 'hamburg', 'quadcopt', 'kpmg', 'herbalif', 'oakland', 'unintent', 'horn', 'ture', 'arjun', 'targaryen', 'treadmil', 'showroom', 'exe', 'complexion', 'trivandrum', 'fahrenheit', 'inde', 'servant', 'miscarriag', 'mutant', 'decompos', 'ravana', 'buzz', '1962', 'historian', 'westero', 'clockwis', 'dirt', 'neanderth', 'ti', 'l1', 'shepherdhuski', 'ratna', 'bcci', 'freak', 'safari', 'bizarr', 'distributor', 'strap', 'atla', '401k', 'underdevelop', 'autonom', 'sanriku', '1896', 'fdi', 'radeon', 'shri', 'allot', 'nonverb', 'sauna', 'pandit', 'pu', 'cam', 'overhyp', 'sunris', 'streak', 'bloodi', 'tournament', 'chemist', 'stiff', 'comedian', '9gag', 'pipelin', 'nonliv', 'ministri', 'roorke', 'gaug', 'dba', 'zener', '1000000', 'propag', 'latitud', 'coher', 'nostradamu', 'schizophren', 'ledger', 'nonrenew', 'africanamerican', 'dsp', '×', 'bodyweight', 'stove', 'mech', 'josaa', '32gb', 'fifth', 'spreadsheet', '2k', 'jehovah', 'bilzerian', 'master’', 'shaft', 'meerut', 'ron', 'spars', 'j5', 'freecharg', 'fiverr', 'xray', 'curd', 'focal', 'infrar', 'linksi', 'diffrenc', 'volatil', 'waterloo', 'postscript', 'kabali', 'tx', 'null', 'unicorn', 'eticket', 'nh', 'disproportion', 'harsh', 'merchandis', 'editorinchief', 'sung', 'statut', 'iiser', 'interst', 'modulu', 'dimension', 'di', 'jobless', 'buse', 'fluorin', '…', 'marxism', 'saiyan', 'ericsson', 'sensori', 'spacecraft', 'fewer', '12000', 'blur', 'graviton', 'psychiatr', 'reduct', 'inductor', 'karat', 'malay', 'jrf', 'ascend', 'marit', 'rahu', 'aka', 'sitcom', 'amper', 'sabbath', '18th', 'i̇', 'ioniz', 'nio', 'nors', 'substanti', 'imper', 'ira', 'skywalk', 'ping', 'smash', 'devalu', 'deepdark', 'fc', 'somatra', 'wellknown', 'augment', 'allahabad', 'scab', 'polynomi', 'ballist', 'brahma', '500r', 'velvet', 'alumni', 'debug', '5kg', 'sec', 'sensibl', 'theolog', 'aao', 'magnu', 'mustach', 'dancer', 'walter', 'roger', 'optimist', 'nth', 'plc', 'intrus', 'raven', 'arch', 'r3', 'laziest', 'feather', 'maggi', 'camel', 'ethanol', '1822', 'epub', 'valparaiso', 'preciou', 'sulfat', 'infer', 'cp', '3040', 'cohen', 'snort', 'jvm', 'hotstar', 'girli', 'dn', 'unlucki', 'nougat', 'whiter', 'crap', 'buddi', 'boruto', 'seemingli', 'classmat', 'submiss', 'lahor', 'hl', '₹500₹1000', 'multivitamin', 'redempt', 'necessarili', 'joey', 'paperback', 'beaglepoint', 'mbti', 'mh370', 'profound', 'catcher', 'dhabi', 'onward', 'rage', 'aakash', 'dhanbad', 'azur', 'diminish', 'tracker', 'decept', 'calcutta', 'judgment', 'titanium', 'dawn', 'cng', 'yu', 'protector', 'highschool', 'adida', 'bribe', 'tertiari', 'judiciari', 'tensorflow', 'ivanka', 'brainwash', 'brew', 'iocl', 'nsg', 'inact', 'ladder', 'uncertainti', 'glucos', 'denial', 'nostalg', 'ranbir', 'abduct', 'shorten', 'neon', 'virginia', 'netbean', 'cooler', 'phosphoru', 'indiapakistan', 'wormhol', 'unexplain', 'ota', 'oci', 'revok', 'lamin', 'tuesday', 'circumfer', 'whiski', 'leftw', 'docker', 'simil', 'voyag', '112', 'collector', 'howard', 'nissan', 'dangelo', 'johnni', 'nonpolar', 'supermarket', 'riski', 'ra', 'castor', 'pussi', 'soften', 'noah', 'bent', 'kannadiga', 'abund', 'prayer', 'persuas', 'repay', 'seinfeld', 'gandalf', 'kfc', 'turnov', 'barcod', 'archaeolog', 'patil', 'ppc', 'manmohan', 'penguin', 'mathx', '1112', 'arijit', 'neft', '511', 'imped', 'apparel', 'nonbrahmin', 'curriculum', 'sensat', 'pagan', 'kardashian', 'wiki', 'abdomen', 'arc', 'unstabl', 'tasti', 'slaughter', 'shyness', 'thinner', 'j2ee', 'doll', 'salti', 'helix', 'multimillionair', 'conclud', 'hatchback', '200k', 'miller', 'asphalt', 'dwarf', 'astrophys', 'stab', 'extinguish', 'imac', 'scriptur', 'rachel', 'quotat', 'asean', 'lame', 'transsexu', 'anarchi', 'opin', 'curli', 'abnorm', 'rs50000', 'edm', 'glove', 'incent', 'mantra', 'prism', 'alibaba', 'pedal', 'i20', 'hopeless', 'conced', 'okcupid', 'bihari', 'glitch', 'subsequ', 'necklac', 'fullstack', 'simp', 'pd', 'dispatch', 'barch', 'aol', 'amplitud', '500k', 'thug', 'valdosta', 'midi', 'sarkar', 'provok', 'predestin', 'omega', 'snore', 'monologu', 'nihilist', 'scottish', 'reptil', '1m', 'stanley', '370', 'k5', 'selflearn', 'grate', 'inhand', 'uv', 'perri', 'ec2', 'apj', 'mccartney', 'postag', 'injur', 'mediat', 'pewdiepi', 'mamta', 'insurg', 'deepika', 'ese', 'kai', 'puk', 'uni', 'commando', 'brad', 'courier', 'pitt', 'gbp', 'priyanka', 'chiropract', 'qualcomm', 'captiv', 'chopra', 'courag', 'smartli', 'aniston', 'er', 'mustard', 'hepat', 'consensu', 'workflow', 'tenant', 'vivo', 'midlif', 'arjuna', 'payrol', 'professorialprofessor', 'predat', 'wrongli', 'barrel', 'biotech', 'emf', 'neo', 'capricorn', 'legalis', 'sai', 'gemini', 'constel', 'injustic', 'fog', 'bp', 'shini', 'roi', 'darjeel', 'ne', 'dp', 'gr', 'devot', 'pitcher', 'vinyl', 'mustse', 'latino', 'sikkim', 'csgo', '41', 'nitk', 'schizoid', 'pond', 'timet', 'metadata', 'sq', 'replica', 'creami', 'devast', 'es', 'onelin', 'ed', 'surreal', 'fuse', 'upscia', 'wii', 'joaquin', 'nicmar', 'wattpad', 'dougla', 'rightw', 'shoud', 'naiv', 'planetari', 'hygien', '247', 'overpopul', 'plausibl', 'edison', 'perhap', 'fibr', 'pint', 'shortag', 'totalitarian', 'montgomeri', 'nonveg', 'greedi', 'jaw', 'uefa', 'dispers', 'burner', 'cart', '450', 'yureka', 'arthriti', 'ccie', 'alright', 'myntra', 'demo', 'yc', 'jurisdict', 'caribbean', 'euthanasia', 'paraphras', 'mushroom', 'atp', 'obsolet', 'vowel', 'hometown', 'edibl', 'transvers', 'nata', 'monom', 'aceton', 'shanghai', 'departur', 'heath', 'markup', 'coorg', 'enact', 'summit', 'irregular', 'acquaint', 'allel', 'granit', 'vailfivia', 'scarciti', 'nlp', 'rash', 'intrest', 'propuls', 'workday', 'salsa', 'bamboo', 'propan', 'mla', 'jsp', 'expertis', 'chihuahuan', 'shobhit', '84', 'icc', 'nyu', 'emotionslik', 'cultiv', 'chaldean', 'chamber', 'sooth', 'seventh', 'hackathon', 'nontechn', 'monument', 'tylenol', 'physician', 'nurseri', '77', 'astronom', 'celesti', 'infotech', 'acer', 'uplift', 'grip', 'provis', 'punta', 'haryana', 'jewelleri', 'merger', 'reenter', 'pore', 'alto', 'jim', 'conjunct', 'microeconom', 'geometr', 'c5', 'fascist', 'alan', 'aso', 'kilogram', 'bind', '29th', 'mistakenli', 'rye', 'coep', 'sharepoint', 'a1', 'chatbot', 'kuala', '115', 'genit', 'jeep', 'neurolog', 'eater', 'srk', 'te', 'retweet', 'anemia', 'ki', 'cuddl', 'resembl', 'fission', 'asshol', 'aesthet', 'dial', 'depriv', '13yearold', 'suv', 'conceiv', 'azad', 'superstiti', 'bhk', 'primat', 'slight', 'caption', 'misunderstood', 'nosql', 'vest', 'nolan', 'heavier', 'siberian', '1997', 'rington', 'weaker', 'keen', '201516', 'versail', 'soak', 'lil', '300grain', 'h1', 'mason', 'clue', 'classi', 'ima', 'mh', 'ador', 'urea', 'proprietorship', 'trillionair', 'jamshedpur', '150000', 'quotient', 'perci', 'macroeconom', 'emmi', 'kva', 'scrum', 'lamar', 'urgent', 'colonis', 'uranu', 's4', 'mait', 'deskjet', 'spaghetti', 'shrimp', 'nootrop', 'checkin', 'legion', 'slr', 'leopard', 'scstobc', 'depot', 'dentistri', 'ce', 'albani', 'akbar', 'skyscrap', 'tn', 'thunderbird', 'fatti', 'ebiz', 'procur', 'embrass', 'hive', 'messiah', '1520', 'ieee', 'usain', 'xy', 'bachchan', 'humili', 'heap', '4i', 'thumb', 'subatom', 'sect', 'lender', 'phlegm', 'subtl', 'lili', 'socal', 'peta', 'nearbi', 'vivid', 'damn', 'indira', 'rebellion', 'metallurgi', '225', 'landmark', 'multin', 'focusconcentr', 'kilauea', 'blanket', 'coral', 'firebas', 'bunni', 'ami', 'dlink', 'distractionsprocrastin', 'redirect', 'comp', 'supervisor', 'awa', 'neurologist', '220v', 'readstudi', 'homecom', 'lice', 'gmo', 'leisur', 'ism', 'hazel', 'kilomet', 'gigolo', 'luckiest', 'taekwondo', 'thunder', 'nick', 'ssccgl', 'hypertens', '1687', 'shastri', 'shriram', 'dorm', 'gibson', 'cockpit', 'thursday', 'genghi', 'bhu', 'thrice', 'cmu', 'yugoslavia', 'deliber', 'increment', 'crimea', 'electroneg', 'agoura', 'bourn', 'royc', 'ssl', 'baleno', 'enlist', '74', 'inter', 'copywrit', 'kochi', 'chauhan', 'deutsch', 'hm', 'mistress', 'gin', 'webinar', 'blink', 'nutrient', 'gal', 'payday', 'unstopp', 'wicket', 'jinp', 'otp', 'someday', 'pathway', '185', 'gotra', 'receptor', 'freshmen', 'h4', 'rigor', 'sebi', 'applock', 'dealt', 'xyz', 'pillar', 'selftalk', 'sandberg', '72', 'sonic', 'credenti', 'vitiligo', 'muay', 'graphen', 'lethal', 'ceasefir', 'cst', 'rnc', 'domicil', 'dth', 'corridor', '45th', 'mesh', 'pragmat', 'meta', 'wheelchair', 'deplet', 'menopaus', 'saddam', 'peninsula', 'orlean', 'nerdi', 'mover', 'ipu', 'alberta', 'tarantino', 'sheryl', 'litr', 'levi', 'pronoun', 'annex', 'cana', 'eagerli', '30th', 'brawl', 'castebas', 'freckl', 'curri', 'beggin', 'coo', 'vertebr', 'multimedia', 'gupta', '1000₹', 'moocelearn', '500₹', '442', 'frm', 'lebron', 'civilis', '1974', 'overflow', 'mislead', 'cardiac', 'dravid', 'sarah', 'forth', 'mailchimp', 'sentiment', 'cadr', 'hypocrisi', 'fourier', 'op', 'leia', 'herbivor', 'carbohydr', 'acl', 'wp', 'dosag', 'carlsen', 'heathrow', 'emb', 'liverpool', 'negan', '“i', 'quibbl', 'schema', 'parabola', 'dawood', 'defi', 'bcg', 'mo', 'commentari', 'crotch', 'lithium', '25th', 'knot', 'salon', 'codeignit', 'wirelessli', 'vaild', 'bdsm', 'wick', 'yojana', 'louder', 'expel', 'logout', 'subset', 'reheat', 'fmcg', 'reunion', 'cad', 'pluck', 'pivot', 'chomski', 'unbeliev', 'wool', '650', 'inspect', '7k', 'numerolog', 'miniatur', 'subsist', 'tailor', 'inflamm', 'unreal', 'essenc', 'authoritarian', 'so2', 'danish', 'ari', 'basin', 'didn’t', 'fungi', 'parker', 'breeder', 'lumpur', '1998', 'teleport', 'rag', 's5', 'magician', 'mono', 'cbr', 'passcod', 'hinder', 'barium', 'nonenglish', 'indiranagar', 'sanction', 'prefix', 'coldplay', '20152016', 'bali', 'occasion', 'kazakhstan', 'physiotherapi', 'exotherm', 'burp', 'cherri', 'hostess', 'preview', 'recurr', 'airsoft', 'crippl', 'mediterranean', 'genius', 'rhode', 'rutterdam', 'whistl', 'iodin', 'nsa', 'minneapoli', 'swab', 'hover', 'tamilian', 'oc', 'unforgett', 'vital', 'creed', 'fermat', 'peev', '365', 'enthusiast', 'matt', 'honestli', 'wcdma', 'lamborghini', '6month', 'hanuman', 'ramayan', 'immor', 'kb', 'inquiri', 'indefinit', 'ranaut', 'esp', 'kosher', '89', 'terminolog', 'specialis', 'vmc', 'vandal', 'wouldv', '80000', 'quentin', 'perimet', 'homophob', 'crawl', 'priorit', '64gb', 'rar', '24hour', 'sloth', 'labia', 'halo', '50mm', 'ukulel', 'primer', 'smoothli', 'colombian', 'electrostat', 'zakir', 'stripper', 'venmo', 'needi', 'pea', 'byzantin', 'albania', 'cursiv', 'dachshund', 'paulo', 'stipend', 'planner', 'spiral', 'experiment', 'outi', 'inni', 'herb', 'ilp', 'venom', 'continuum', 'ballet', 'reef', 'gearbox', 'longitud', 'spaniel', 'bladder', 'harsha', 'strep', 'dowri', 'degrad', 'romney', 'weekli', 'icai', '46', 'replic', 'bioinformat', 'billboard', 'platon', 'nre', '100m', '16yearold', 'dasa', '105', 'voucher', 'ipc', 'ead', 'cinemat', 'driverless', 'robin', 'legendari', 'mcgill', 'klout', 'eyeglass', 'massachisett', 'passbook', 'groom', 'greenhous', 'demat', 'reconstruct', 'ministeri', 'hoffman’', 'ho', 'horsepow', 'chandler', 'olympian', 'illiter', 'json', 'chili', 'woocommerc', 'nihil', 'chihuahua', 'raisin', 'sqlite', 'xamarin', 'goosebump', 'audiobook', 'curios', 'deja', 'quest', 'alkali', 'reluct', 'rf', '5c', 'tickl', 'kalahari', 'nonmet', 'eco', 'irnss', 'deer', 'pgp', 'rover', 'jpeg', 'poorer', 'indiass', 'bailey', 'siriu', 'pioneer', 'impract', 'troubleshoot', 'proverb', 'ditch', 'gorgeou', 'hymen', 'cmd', 'sapien', 'bartend', 'mockingbird', 'ge', 'maiden', 'amrita', 'gk', 'couch', 'ti84', 'brag', 'psoriasi', 'rooster', 'gov', 'rebuild', 'ripe', '13th', 'postdoc', 'amazonin', 'bravia', 'survivor', 'ginger', 'l2', 'telecast', 'carlo', 'volkswagen', 'jarvi', 'incur', 'anesthesia', 'hannib', 'serb', 'osi', '1952', 'kafka', 'neglect', 'qualit', '94', 'madhya', 'homepag', 'royalti', 'specul', 'skull', 'crowdsourc', 'mpsc', 'tm', 'squirrel', 'labradorpug', 'promo', 'wist', 'ohm', 'oshawa', 'trajectori', 'quarterback', 'needl', 'mandela', 'antisoci', 'discourag', 'niti', 'akkadian', 'antitrump', 'palpatin', 'honesti', 'inhibit', 'duct', 'theta', 'reciproc', 'sought', 'a2', 'coolpad', 'marco', 'kylo', '520', 'eiffel', 'kkk', 'ren', 'tin', 'etern', 'mathxmath', 'supposedli', 'minnesota', 'spit', 'bahama', 'rainfal', 'dengu', 'ser', 'khaki', 'basket', 'disguis', 'terrifi', '1812', 'usabl', 'chromatographi', 'nespresso', 'unprotect', 'sleeper', 'mentalist', 'tina', 'avast', 'godfath', 'artisan', 'sindhu', 'toastmast', 'caesar', 'cranberri', 'monopol', 'kurd', 'irrespect', 'cruelti', 'evangel', 'ironman', 'fold', '921', 'chill', 'legumin', 'imageri', 'plsql', 'arsen', 'archer', 'dravidian', 'theyll', 'missionari', 'denim', 'amitabh', 'flyer', '14yearold', 'beethoven', 'noam', 'rival', 'pale', 'zoho', 'overli', 'ayn', 'm1', 'dosha', 'mlb', 'exert', 'gtbit', 'blogspot', 'blair', 'tlc', 'mohammad', 'bomber', 'philip', 'sibm', 'nasti', 'stitch', 'dielectr', 'foolish', 'parkinson', 'trumpet', 'blazer', 'taxpay', 'hal', 'vizag', 'crawler', 'paperwork', 'chao', 'tangent', 'ingrown', 'np', 'diatom', 'blurri', 'roy', 'instantan', 'hawkey', 'himalaya', 'iitjam', 'udac', '1200', 'zeppelin', 'subsurfac', 'antiqu', 'gambler', 'combo', '01', 'ocw', 'abram', 'mozart', 'sith', 'malt', 'ds', 'gamechang', 'consolid', 'bulki', 'costco', 'eng', 'duel', 'cena', 'wayanad', 'whenhow', 'padukon', 'ambit', 'adjac', 'discard', 'tyson', 'incan', 'people’', 'cocktail', 'metallica', 'organiz', 'reschedul', 'dine', 'aman', 'yorker', 'shawshank', 'idol', 'anabol', 'bhogl', '101', 'grasp', 'footprint', '“how', 'daycar', '78', 'unfit', 'sinha', 'manifest', 'raee', 'sonam', 'maratha', 'kamchatca', 'mayweath', 't1530', 'wd', 'regiment', 'agraw', 'spaniard', 'amish', 'zoosk', 'skunk', 'fir', 'del', 'anu', 'proclaim', 'inbound', 'psychopathi', 'chubbi', 'mdma', 'organel', 'ach', 'tpp', 'incit', 'acclaim', 'scientistengin', 'breach', 'inspector', '137', 'character', 'surpass', 'cynic', 'leed', 'tucson', 'stationari', 'bahrain', 'zoloft', 'advisori', 'mosqu', 'nro', 'silliest', 'compuls', 'monsoon', 'intim', 'piss', 'pigeon', 'afmc', 'parasit', 'multicultur', '320', 'impregn', 'itc', 'pst', 'trunk', 'widespread', 'shunt', 'shehe', 'nervous', 'ibrahim', 'notepad', 'bitch', 'marksheet', 'preced', 'lodg', 'neyo', 'phenol', 'k1', 'nickel', 'nbc', 'spywar', 'm606x', 'aftermath', 'nainit', 'pandava', 'culinari', 'pervert', 'leon', 'precipit', 'stole', 'iupac', 'persona', 'cervic', 'rac', 'amino', 'sovereignti', 'rins', 'ligat', 'unknowingli', 'indiffer', 'clingi', 'amway', '169', 'degrass', 'bjt', 'samesex', 'rt', 'stair', 'kya', 'rahman', 'o2', 'pessimist', 'luca', 'alexandria', 'atascadero', 'deem', 'espresso', 'dull', 'howl', 'unnecessari', 'phenotyp', 'intrigu', 'mehta', 'castrat', 'handbag', 'lexu', 'loyalti', 'seiz', 'boutiqu', 'aren’t', 'displayport', '535', 'odisha', 'avalanch', 'tortilla', '444', 'glock', 'unpaid', 'cryptographi', 'jeremi', 'shaw', 'undercov', 'hornet', 'indestruct', 'futurist', 'postur', 'curvatur', 'zen', 'trojan', 'ounc', 'ftp', 'iphoneandroid', 'ccnp', 'thrust', 'narrow', 'costa', 'rica', 'auditor', 'heisenberg', '1938', 'concious', 'isom', 'ts', 'divin', 'flipboard', 'roach', 'nerf', 'connecticut', 'spine', 'nigerian', 'tzu', 'intercast', 'decomposit', 'syntax', 'keratosi', 'biryani', 'salvat', 'ghee', 'allevi', 'mediocr', 'underwood', 'refin', 'mega', 'vanc', 'fr', 'ashle', 'coolant', '35000', 'casualti', 'bankrupt', 'nifti', 'thapar', 'synergi', 'bracelet', 'falsifi', 'snail', 'v8', 'lilith', 'shivaay', '1x', 'bpm', 'ham', 'founderceo', 'regina', 'sheep', 'metaphys', 'davi', 'disrespect', 'dashboard', 'group1', 'doctrin', 'latent', 'secondhand', 'conceptu', 'wart', 'genesi', 'lath', 'puller', 'diana', 'shortlist', 'bail', 'deflect', 'utilitarian', 'proxim', 'aca', 'farsi', 'libya', 'faithless', 'inaccur', 'uneduc', 'seismic', 'wich', 'cunnilingu', 'fright', '390', 'ged', 'overwatch', 'iiith', 'driveway', 'henc', 'waiver', 'necess', 'farthest', 'tdr', 'cyanogenmod', 'pub', '750', 'peso', 'picasso', 'microbiolog', 'nationalist', 'bahubali', 'rotor', 'hexadecim', 'nmat', 'ue', '3year', 'dipol', 'anakin', 'brunei', 'allig', 'shortterm', 't730', 'blackhol', 'methan', 'abap', 'pulley', 'overlap', 'imit', 'residu', 'gass', '88', 'atsum', 'neko', 'dx', 'hvac', 'ng', 'novelist', '440', 'furnac', 'hussein', 'convolut', 'hitchhik', 'teaser', 'gödel', 'cs50', 'vi', 'bussi', 'deputi', 'arraylist', '59', 'rai', 'tifr', 'trigonometri', 'remark', 'neumann', 'jaundic', 'bsf', 'saliva', 'shaver', 'sidhu', 'sabotag', 'atlant', 'cloak', 'ashton', 'ferrari', 'ovari', 'politi', 'meng', 'ganja', 'cibil', 'k4', 'jeemain', 'srinagar', 'ankl', 'pod', 'dy', 'nylon', 'diaper', 'joshua', 'grab', 'dehydr', 'rem', 'spss', 'motto', 'pharmacolog', 'marketingwhat', 'scent', 'kelli', 'outburst', 'horrifi', 'caccount', 'kettl', 'geeki', 'decrypt', 'stochast', 'cantdont', 'mvp', 'energ', 'fz', 'lengthi', 'lambda', 'sheila', 'incap', 'mulayam', 'surathk', 'spectacl', 'victorian', 'metr', 'reactant', 'placebo', 'haskel', 'spear', 'biden', 'mhtcet', 'poni', 'parliamentari', 'warang', 'dishonest', '5x', 'codeacademi', 'concord', 'parodi', 'pesticid', 'pavilion', 'retent', 'lara', 'bootload', 'lennon', 'virgo', 'reboot', 'mors', '5g', 'ecstasi', 'codecademi', 'reign', 'chsl', 'filament', 'rarest', 'ky', 'poké', 'hay', 'gaylesbianbi', 'capacit', 'seagat', 'discern', 'pursuit', 'flap', 'opencv', 'headphonesearphon', 'ssh', 'screenwrit', 'xii', 'accru', 'hispan', 'unverifi', '1215', 'h2o', 'thinkpad', 'galileo', 'msg', 'epl', 'geneva', 'browni', '55k', 'sangh', 'pondicherri', 'anand', 'hung', 'pnb', '70000', 'natal', 'ppt', 'forgiven', 'compact', 'assad', 'pisc', 'forrest', 'gump', 'sharif', 'aurora', 'nj', 'registri', 'penn', 'infantri', 'blocker', 'intraday', 'nanotechnolog', 'emilia', 'subha', 'rupay', 'happier', 'temer', 'palindrom', 'discipl', 'yoda', 'rashtriya', 'neutrino', 'milan', 'ramen', 'liga', 'panason', 'k12', 'shroud', 'asymptot', 'swayamsevak', 'revolutionari', 'textur', 'pilari', 'possabl', 'sergey', 'trench', 'begun', 'sanctuari', 'dank', 'cherish', '3x', 'baar', 'halt', 'jeb', 'geeta', 'barbado', 'sorrow', 'bde', 'masturbatingwatch', 'melatonin', 'smiley', '23yearold', '3phase', 'pineappl', 'holland', 'unequivoc', 'naoh', 'emitt', '224', 'mathint', 'ambiti', 'automata', 'dungeon', 'pathogen', 'rhaegar', 'overhead', 'christi', 'sinu', 'blend', 'participl', 'tack', 'arbitrari', 'stubborn', 'pla', 'scout', 'pertain', 'benzen', 'ingress', 'sweati', 'mlm', 'nestl', 'unlov', 'clara', 'quadcor', 'carnat', 'sapphir', 'semiautomat', 'blunder', 'verdict', 'dat', 'acronym', 'maid', 'gestur', 'merci', 'unreli', 'gees', 'nurturinginsid', 'washer', 'acdc', 'skullcandi', 'everlast', 'fortress', '15m', 'tallest', 'od', 'brisket', '1999', 'littlefing', '20yearold', 'despis', 'schrödinger', 'lcm', 'sonia', 'mazda', 'collin', 'reactj', 'counsellor', 'bravest', '24in', 'serum', 'libra', 'jp', 'macau', 'eal', 'stern', 'reich', 'reassign', 'fanci', 'andromeda', 'obscur', 'r15', 'unoffici', 'moan', 'poli', 'amg', 'tent', 'msi', 'ygritt', 'kiit', 'yorki', 'alkalin', 'eric', 'equilater', 'watermark', 'interf', 'guin', 'traval', 'lever', 'dock', 'defici', 'monoton', '1024', '1940', 'cpap', 'firmwar', '1963', 'babylon', 'rto', 'memoris', 'outgo', 'foami', 'isca', 'rohit', 'arih', 'enginn', 'lm', 'innat', 'sagar', 'antibodi', 'latvia', 'hostil', 'pokecoin', 'acupunctur', 'fireresist', 'coward', 'wore', 'homicid', 'postpon', 'grandmoth', 'preliminari', 'candidaci', 'sovereign', 'symmetri', 'afghan', '240', 'ddo', 'citru', 'mdesign', 'justif', 'hotter', '82', 'informatica', 'trump–clinton', 'buzzfe', 'tomorrowland', 'encapsul', 'sketchup', 'guardian', 'xx', 'posibl', 'iter', 'reopen', '1920', 'amnesia', 'jess', 'gaybisexu', 'dharma', 'axe', 'ambul', 'whu', 'mildew', 'sultan', 'porsch', 'berth', 'pupil', 'prequel', '640', 'hk', 'vyvans', 'striker', 'defrost', 'deterior', 'idm', 'telepathi', 'pow', 'modafinil', 'demonitis', 'biomass', 'intestin', 'htmlcss', 'maco', 'pledg', 'shutdown', 'iima', 'skelet', 'colin', 'vatican', 'illog', 'surest', 'maya', 'neuter', 'pt', 'hydrocarbon', 'bunch', 'denier', 'cape', 'cocker', 'himach', 'cr', 'reprogram', '2x', 'umass', 'w2', 'benifit', 'hyperlink', 'ut', 'questionsansw', 'salesman', 'someo', 'dellhi', 'iti', '4d', 'marcu', '108', 'privatis', 'beagl', 'imf', 'buttock', 'resent', 'furri', 'kargil', 'federalist', 'infront', 'inning', 'jinnah', 'zedong', 'tendenc', 'homesick', 'moor', 'kurukshetra', 'mont', 'synthesi', 'kriya', 'thrive', 'selfhelp', 'realism', 'hered', 'vapour', 'oath', 'supercomput', 'bandhan', 'thyroid', 'bbm', 'serversid', 'overwhelmingli', '1995', 'koi', '1855', 'supernova', '22nd', 'firework', '720p', 'thaw', 'tuxedo', 'phonegap', '28th', 'godrej', 'octacor', 'problemat', 'bunge', 'hamlet', 'cdn', 'facilit', 'monogam', 'fratern', 'mi5', 'm553x', 'cargo', 'raptur', 'renov', 'militar', 'insolubl', 'misdemeanor', 'mosfet', 'smo', 'bunker', 'runni', 'codein', 'bromid', 'goodlook', 'graphit', 'dayswhich', 'medicar', 'sennheis', 'timetravel', 'firer', 'kmhr', 'warhol', 'cattl', 'gyme', 'subtract', 'migrant', '8k', 'urinari', 'bain', 'archipelago', 'perth', 'writer’', 'sita', 'motherinlaw', 'elixir', 'dough', 'interpol', 'mamc', 'contend', 'chaotic', 'iem', 'catholic', '71', 'highqual', 'sme', 'notch', 'narrat', 'priest', 'a4', 'utter', 'lightweight', '700d', 'lunar', 'ea', 'patern', 'flex', '69', '3yr', 'yuvraj', 'disregard', 'sikhism', 'pumpkin', '175', 'noc', '250000', 'who’', 'infam', 'wagon', 'selfless', '10kg', 'enfp', 'beaver', 'mascot', 'reev', 'mein', 'piraci', 'knead', 'unread', 'axl', 'nonbiodegrad', 'cyriu', 'cushion', 'selfrespect', 'wil', 'locht', 'virtu', 'unplug', 'sy', 'edgar', 'cyclist', 'bezo', 'conservat', 'grandpar', 'poe', 'divert', 'wyom', 'ordin', 'facepalm', 'leverag', 'fianc', 'thief', 'overprotect', 'joffrey', 'settler', 'kendrick', 'magnif', 'cole', 'webscrap', 'leeco', 'overtak', 'dementia', 'dublin', 'fluoresc', 'toad', 'expiri', 'corioli', 'multicellular', 'hurdl', 'itr', 'unconsci', 'broccoli', 'suffix', 'leftov', 'tcp', 'romantic', 'assam', 'ckwl', 'grenad', 'inelast', 'dd', '25yearold', 'renam', 'doe', 'soro', 'redesign', 'z3', 'hermaphrodit', 'ideo', 'burma', 'turin', 'luxembourg', 'whyhow', 'giraff', 'biopic', 'jeeadvanc', '45000', 'cannib', 'pec', 'balk', 'lace', 'dji', 'stanni', 'denot', 'hassl', 'che', 'cartridg', 'ict', 'arctic', '144', 'detain', 'flac', 'hardi', 'webwhatsapp', 'agaist', 'venic', 'moroccan', 'phonet', 'growl', 'adduc', 'igneou', 'indopak', 'ravi', 'malfoy', 'huskybord', 'sulfid', 'jigsaw', 'hyperton', 'kutcher', 'chaplin', 'astral', 'playoff', 'infograph', 'oculu', 'artilleri', 'condo', 'superstar', 'planck', 'insuffici', 'leh', 'one’', 'attir', 'intimaci', 'shout', 'reprint', 'icu', 'moscow', 'lca', 'psc', 'outlin', 'addon', 'vacanc', 'alopecia', 'x1', 'wreck', 'matricul', 'cs6', 'palo', 'stool', 'ferret', 'unrest', 'tesseract', 'osho', 'caliph', 'graham', 'darkest', 'taxabl', 'nondisclosur', 'netanyahu', '−', 'barron', 'zerodha', 'trashi', 'spatial', 'downward', 'dread', 'fragment', 'waze', 'selfpublish', 'toast', 'cosmopolitan', 'testimoni', 'niit', 'pyrene', 'imt', 'jakarta', 'armenia', 'putti', 'zoolog', 'acr', 'highbrow', 'melanin', 'girl’', 'brijmohan', 'gape', 'captcha', 'bariatr', 'overdraft', 'pvc', 'ductil', 'industrialist', 'temp', 'frankenstein', 'windsor', 'inflict', 'bridesmaid', 'lamarck', 'verma', 'chan', 'nonamerican', 'issuanc', 'gc', 'epilepsi', 'p2p', 'crusad', 'couldn’t', 'symphoni', 'latt', 'ur', 'sober', 'weightag', 'directv', 'gi', 'unnatur', 'sneaker', 'defer', 'merri', 'plato', 'cryptocurr', 'galact', 'radial', 'clap', 'ntu', 'xmath', 'pewter', 'which', 'craziestweirdest', 'northeast', 'nitrid', 'dothan', 'passout', 'monocyt', 'phi', 'polyest', 'tubal', 'cerebr', 'they’r', 'cengag', 'suburb', 'legitimaci', 'radiologist', 'j1', 'graffittibookscom', 'jadavpur', 'apprais', 'wooden', 'parad', 'grader', 'mandat', 'deplor', 'homo', 'prisma', 'gig', 'apt', 'fba', 'pinscherchihuahua', 'synthes', 'bureau', 'asynchron', 'benz', 'jamia', 'adwar', 'apac', 'rosetta', 'handicap', 'moodi', 'ewallet', 'misogynist', 'chiang', 'rlwl', 'jd', 'shenzhen', 'reagent', '140', 'nonstop', 'stockholm', 'estonia', 'hawaiian', '1300d', 'imperfect', 'lipstick', 'moth', 'thrill', 'ya', 'franca', 'cyanogen', 'dismiss', 'goodby', 'lingua', 'immov', 'cylindr', 'csit', 'strawberri', 'psd', 'sr', 'whisper', 'aiat', 'conceal', 'haiti', 'footag', 'sausag', 'jaim', '₹10000', 'dxmath', 'ggsipu', 'twomonthold', 'hsbc', 'batter', 'hyper', 'waitlist', 'm452dw', 'ipv6', 'sunflow', 'trapezoid', 'behead', 'traffick', 'ghaziabad', 'syllabl', 'youngster', 'undertak', 'raga', 'vanish', 'israelpalestin', 'quadrat', 'treasuri', 'uphold', 'down', 'dt', 'luci', 'dildo', 'gatsbi', 'blackmail', 'tedx', 'uttarakhand', 'aric', 'inapp', 'debut', 'fetu', 'vanilla', 'resolutions’2017', 'hopkin', 'alley', 'ibiza', 'hallucin', 'pushov', 'empower', 'scotia', 'mmr', 'vba', 'ballot', 'misunderstand', 'sandeep', 'exponenti', 'musthav', 'bluestack', 'sane', 'improvis', 'commonwealth', 'eighth', 'empath', 'dane', 'persu', 'derogatori', 'hone', 'trello', 'bm', 'biom', 'a102', 'andaman', 'sen', 'timer', 'buck', 'alga', 'specialti', 'hippi', 'a6000', '35k', 'preposit', 'cma', 'mycroft', 'underarm', 'wwwallbestlistcom', 'dodo', 'falcon', 'rotten', 'misplac', 'invok', 'apathi', 'carcinogen', 'inconsist', 'sop', 'archeri', 'variant', 'sierra', 'spoof', 'wrestler', 'append', 'unsupervis', '17th', 'subcultur', 'berri', 'periscop', 'nebraska', 'proofread', 'baggag', 'remarri', 'grinder', 'tollywood', 'concis', 'energypotenti', 'desalin', 'inclus', 'cheetah', 'briefli', 'aristotl', 'pearson', 'bumbl', 'hsu', 'loner', 'starcraft', 'golfer', 'morphin', 'dilig', 'regrett', 'lingeri', 'belgian', 'obiwan', 'joel', 'wu', 'mallya', 'ribosom', 'disclosur', 'ps2', 'carl', 'charlott', 'adiabat', 'tow', 'kyc', 'dhan', 'ubc', 'germ', 'daikin', 'undefin', 'limb', 'filler', '35mm', 'cortana', 'sequenti', 'diagnost', 'fraudul', 'soprano', 'amir', 'redo', 'nickelback', 'flick', 'bestfriend', 'poultri', 'rift', 'cytoplasm', '3600', 'basil', '6k', 'shudra', 'summar', 'chhatrapati', 'britney', 'roosevelt', 'barney', 'registrar', 'touchscreen', 'onset', 'proudest', 'oauth', 'peach', '75000', 'rvce', 'shareit', 'phish', 'pornograph', 'token', 'ibirité', 'subreddit', 'gillian', 'dodg', 'taarak', 'rtr', 'purport', 'nonresid', 'png', 'layperson', 'parametr', 'jitsu', 'crane', 'jiu', 'lyricist', 'stalem', 'madonna', 'merkel', 'pigment', '165', 'oswald', 'gnome', '1987', 'cvt', 'linden', 'bioscienc', 'coliti', 'nasdaq', 'mayer', 'brink', 'mai', 'craig', 'zs', 'trouser', 'benedict', 'gm', 'mariana', 'eager', 'crucifi', 'ftm', 'ariana', 'raksha', 'egoist', 'fragranc', 'eread', 'polygam', '1992', 'seenexperienc', 'preme', 'anthoni', 'rommel', 'geo', 'ought', 'cloudi', 'flywheel', 'summon', 'cloudera', 'cochin', 'connot', 'cleveland', 'granul', 'gentlemen', 'servlet', 'coalit', 'ugg', 'goldilock', 'chilli', 'mourinho', 'yeast', 'paralyz', 'shallow', 'infidel', 'auster', 'rj', 'bakeri', 'i’v', 'tradeoff', 'tame', '999', 'ein', 'burrito', 'inarticul', 'taglin', 'interchang', 'gaana', 'mach', 'interperson', 'hardwork', 'habitu', 'pastri', 'condemn', 'administ', '104', 'seafood', 'bansal', 'southwest', 'famouspopular', 'daytim', 'runway', 'ifr', 'lithuania', 'ooti', 'stalker', 'luffi', 'antisemit', 'sledg', 'coe', 'dozen', 'ns', 'm8', 'audibl', 'modif', 'unreason', 'unblur', 'ethiopia', 'sooryavansham', 'popup', 'thoght', 'nanshan', 'naproxen', 'uptu', 'jbim', '12yearold', 'piston', 'decod', 'cadet', 'norman', 'keynesian', 'wiper', 'golddigg', 'neonazi', '6ft', 'cuboid', 'squeez', 'bhishma', 'gettysburg', 'oclock', 'wwwmidnightexpressionswordpresscom', 'globalis', 'constraint', 'ensembl', 'mouthwash', 'kailash', 'stake', 'mathdisplaystyl', 'cantilev', 'coop', 'carter', 'niec', 'glassboro', 'delusion', 'aboard', 'wb', 'tai', 'chi', 'eggplant', 'torrentzeu', 'amphetamin', 'cuomo', 'overthrow', 'diplomaci', 'acut', '4chan', 'othello', 'infecti', 'slum', 'hq', 'sofwar', 'platinum', 'broadway', 'rivalri', 'purest', 'harden', 'catia', 'tenth', 'sadist', 'gravi', 'threw', 'aunti', '111', 'csc', 'bunk', 'handcuff', 'glenn', 'mossad', 'concess', 'quikr', 'rot', 'flim', 'unwritten', 'extermin', 'ihm', 'perl', 'volvo', 'iraqi', 'ultrason', 'tsunami', 'anaerob', 'kw', 'adulter', 'cologn', 'complementari', 'crusher', 'netel', 'ferrou', 'haram', '300000', '₹50000', 'vimeo', 'medicaid', 'charisma', 'ax', 'kindest', 'rowan', 'prithviraj', 'standalon', 'cain', 'campus', 'orm', 'canker', 'endocrin', 'mario', 'donut', 'feloni', 'oceania', 'lifelong', 'icpc', 'restroom', 'bourbon', 'unjust', 'strategist', 'd5500', 'livein', 'cellulos', 'f22', 'seoul', 'ci', 'floppi', 'krav', '777', 'accompani', 'attest', 'instructor', 'feynman', 'ta', 'forearm', 'heir', 'miranda', 'h2', 'toenail', 'actorsactress', 'chandragupta', 'lebanon', 'crr', 'overdu', 'hs', 'chlorophyl', '2000₹', 'stew', 'vaselin', 'inert', 'epitheli', 'beneath', 'jasmin', 'franci', 'thunderbolt', 'permut', 'cinnamon', 'covet', 'savag', 'adhes', 'wherehow', 'stud', 'nomad', 'narco', 'nptel', 'dystrophi', 'tuner', 'dummi', 'undocu', 'capt', 'postapocalypt', 'euler', 'hrd', 'indirectli', 'steril', 'tint', 'paralymp', 'friendliest', 'rummi', 'tao', 'lauren', 'eject', 'skydiv', 'cleavag', 'unaccept', 'hw', 'waterfal', 'octan', 'sevan', 'vtu', 'armatur', 'sanit', 'smog', 'durga', 'flicker', 'osmosi', 'finest', 'avicii', 'warmer', 'night’', 'corolla', 'aspen', 'iam', 'ralph', 'croatia', 'pq', 'congest', 'earbud', 'mightier', 'matapan', 'peacock', 'odyssey', 'dome', '1a', 'horrif', 'codechef', 'bobbi', 'billi', 'mutton', 'adrian', 'π', 'multilingu', '9mm', 'sacrament', 'maestro', '2s', 'nucleic', 'nacl', 'rlgn', 'intro', 'pedigre', 'magistr', 'edgwar', 'pave', 'fifteen', '5d', 'revamp', 'blown', 'substandard', 'rottweil', 'halfway', 'kinda', '45k', 'drogo', 'khal', 'lactic', 'lana', 'costliest', 'downtown', 'russel', 'websocket', 'wallac', '1314', 'mathfxmath', 'bpd', 'harley', 'alfr', 'blacklist', 'bodnick', 'jongun', 'poach', 'whatr', 'x3', 'parallelogram', 'vipassana', 'tragedi', 'preexist', 'myspac', 'cowboy', 'workshop', 'mesopotamia', 'purg', 'crocodil', 'panick', 'newslett', 'hashmap', 'selfcontrol', 'hedgehog', '26th', 'conscienc', 'lucif', 'sondaught', 'gore', 'ammet', 'oasi', 'reconcil', 'nonhuman', 'apertur', '1700', '400000', 'ravan', 'sentient', 'albanian', 'emc2', 'carniv', 'cannon', 'nash', 'cnc', 'expatri', 'jdk', 'contradictori', '2500', 'paraguay', 'enorm', 'metamorph', 'algerian', 'goel', 'strive', 'parakeet', 'entp', 'handmad', 'jira', '1984', 'avogadro', 'zindagi', 'abhimanyu', 'allegori', 'longev', 'sahib', 'xolo', 'unsung', 'yeah', 'devi', 'rosari', 'suragel', 'kasperski', 'separatist', 'bracket', 'cacpt', 'ddr3', 'halogen', 'languagessoftwar', 'asha', 'fi', 'gentil', 'irc', 'hefti', 'entail', 'octav', 'simon', 'ghul', 'nonsens', 'cybersecur', 'lieuten', 'tangenti', 'longdist', 'widget', 'msn', 'rgb', 'courtier', '1988', 'confin', 'mistaken', 'nonbeliev', 'inear', 'lego', 'vanguard', 'jingl', 'goldfish', 'scuba', 'magnifi', 'saver', 'yellowston', '810', 'parrot', 'que', 'bt', 'successor', 'titrat', 'distress', 'ecc', 'rack', 'quizz', 'tranc', 'legola', 'polyamor', 'couchsurf', 'nephew', 'hugh', 'conform', 'viii', 'peripher', 'mocha', 'raccoon', 'nawaz', 'arnold', 'absurd', 'machina', 'plumb', 'floss', 'duckworthlewi', 'uncertain', 'cameron', 'kohinoor', 'nfc', 'richmond', 'pantyhos', 'naam', 'octa', 'medel', 'insulin', '2000025000', 'weebli', 'recur', '1020', 'otc', 'unearth', 'grudg', 'boycott', 'sqrt1', 'navjot', 'deathli', 'dip', 'rajdeep', 'sardesai', 'uss', 'pact', 'fundrais', 'm712dn', 'dum', 'hallow', 'tusk', 'freemason', 'shooter', 'timesav', 'meaningless', 'feudal', 'pesit', 'arun', 'wynk', 'municip', 'dropout', 'kobe', 'saul', 'reggio', 'cathod', 'tether', 'hourli', 'mcom', 'daisi', 'ale', 'purr', 'bullshit', 'tcpip', 'orphan', 'svm', 'orgi', 'flaunt', 'frizzi', 'kevin', 'pharmacist', 'heav', 'openli', 'earth’', 'boo', 'mateo', 'nostril', 'cern', 'qnet', 'relativ', 'defcon', 'anion', 'trimmer', 'testicl', 'kbp', 'hpv', 'overh', 'kisser', 'hateagainst', 'regimen', 'mangal', 'personif', 'boron', 'censu', 'caipcc', 'bryant', 'overheard', 'pca', 'selftaught', 'rim', 'clot', 'raft', 'utopia', 'wineri', 'silica', 'withdrawn', 'tandon', 'maldiv', 'prolif', '47', 'mispronounc', 'ranji', 'casimir', 'severu', 'moldi', 'machiavelli', 'footwear', 'sculptur', 'dl', 'draco', 'microsd', 'hotb', 'codeforc', 'babri', 'rocki', 'ipm', 'bml', 'munjal', 'murakami', 'haruki', 'sulphur', 'jane', 'allan', 'finnish', 'stuffi', 'hb', 'dresden', '3050', 'concurr', 'flixcartcom', 'supplementari', 'brock', 'workbook', 'hyperbol', 'kuan', 'astrophysicist', 'eloqu', 'buggi', 'subsid', 'ranchi', 'sickl', 'chia', 'openstack', '92', 'malia', 'fateh', 'tagalog', 'bmc', '2050', 'hairi', 'selfemploy', 'debri', 'biker', 'alevel', 'yew', 'solder', 'cliché', 'unicellular', 'barc', 'sympathi', 'au', '18004392178', 'crossfit', 'tohoku', '135', 'palawan', 'kundli', 'unpleas', 'rourkela', 'ashram', 'outrag', '1kg', 'c1', 'neurotransmitt', '4year', 'lisp', 'rigid', 'involuntarili', 'dailymot', 'khalifa', 'madurai', 'spa', 'mdi', 'preambl', 'mcat', 'tinnitu', 'epigenet', 'stereo', 'faction', 'burberri', 'primarili', 'dwarv', 'imovi', 'oprah', 'what´', 'dilwal', 'jihad', 'z1', 'followup', 'stingi', 'breadth', 'piti', 'steakhous', '170', 'bosch', 'utorr', 'mastur', 'underestim', 'crunch', 'hane', 'grief', 'dutt', 'bhel', 'hare', 'hurri', 'herniat', 'condescend', 'puppet', 'gratitud', 'garmin', 'outback', 'inbuilt', 'homophobia', 'standup', 'scarlet', 'checker', 'admob', 'enriqu', 'vertex', 'archetyp', 'tirumala', 'linkin', 'd3200', 'juan', 'wimp', 'calib', 'maverick', 'wavi', 'sweater', '4x', 'naik', 'chuck', 'stylu', 'marriott', 'voot', 'fist', 'milf', 'abhiyan', 'predic', 'hydrocodon', 'poisson', 'hydro', 'hamper', 'logitech', 'overse', 'saitama', 'malik', '201314', 'quinn', 'ppp', 'bash', 'bulgarian', 'heurist', 'stapl', 'incres', 'vlog', 'funnel', 'fountain', 'kinect', 'wc', '820m', 'pittsburgh', 'pmo', '305', 'lobbi', 'mportant', 'squarespac', 'walnut', 'farc', '1900', 'lavend', 'namespac', 'safeguard', 'musigma', 'panipat', 'brahmo', 'unheard', 'macaroni', 'asana', 'grindr', 'menthol', 'zhang', 'maheshwari', 'vmware', 'workahol', 'barista', 'nixon', 'gelatin', 'swachh', 'extremist', 'aug', 'wirefram', 's400', 'catnip', 'apa', 'paus', 'oem', 'aquariu', 'renown', 'hoffman', 'ror', 'appsc', 'metallurg', 'headlin', 'kgp', 'electrolysi', 'wwiii', 'unbalanc', 'gynecomastia', 'pk', 'spinal', 'unparallel', 'ahai', 'c11', 'paksh', 'addmiss', 'circu', 'vadodara', '128', 'jalandhar', 'kant', 'monarch', 'draupadi', 'jabong', 'utilis', 'intex', 'vick', 'nelson', 'ketchup', 'expands…', 'div', 'sae', 'altogeth', 'cypru', 'grandmast', 'terrier', 'zeta', 'bpl', 'pka', 'braid', 'sindri', 'dota2', 'tired', 'contributor', 'gangtok', 'cg', 'turnaround', 'angela', 'slate', 'vienna', 'bpharm', 'superson', 'tobago', 'nn', 'keralit', '612', 'trinidad', 'mmo', 'skittl', 'imprison', 'kickbox', 'baselin', 'bead', 'pdpu', 'stewart', 'doppler', 'murray', 'celeb', '8086', 'gautama', 'amit', 'someone’', 'gaylesbian', 'd1', 'majboori', 'bulova', 'puja', 'psychometr', 'bric', 'lex', 'vedanta', 'sal', 'resal', 'indou', 'orthogon', 'graffiti', 'aromatherapi', 'blackout', 'overtim', 'dew', 'jat', 'deliver', 'cyborg', 'netapp', 'overreact', 'livestream', 'luthor', 'sedimentari', 'bodili', 'similarli', 'deeper', 'threehour', 'peoplesoft', 'bancshar', 'debentur', 'petti', 'oddevendobara', 'initiativeidea', 'demographi', 'ninth', 'unwelcom', 'chromecast', 'bachelor’', 'fashionista', 'penal', 'girlfriendboyfriend', 'dac', 'cosmo', 'upfront', 'arithmet', 'kemal', 'taiwanes', 'vuitton', 'cappuccino', 'fleec', 'pyrolysi', 'importexport', 'ukrainian', 'toptier', 'pawn', 'gohan', 'volleybal', 'xsin', 'succes', 'lefthand', 'sorcer', 'subgenr', 'retest', '12pm', 'mudra', '316', 'defec', 'paa', 'iaa', 'flask', 'agartala', 'spill', 'compost', 'quill', 'haul', 'cask', 'r5', 'advaita', 'rampant', 'bureaucrat', 'aspi', 'flipflop', 'para', 'caltrain', 'stan', 'maga', 'arewer', 'deceas', 'drowsi', 'angelina', 'joli', 'bonapart', 'madara', 'identif', 'hustl', 'exot', 'simplic', 'nun', 'sprite', 'doubli', 'prose', 'boyfriendgirlfriend', 'vin', 'amdoc', 'hampshir', 'underli', 'broad', 'reinstat', 'amritsar', 'shatri', 'wearabl', 'burqa', 'quack', 'gossip', 'reflex', 'noon', 'hypothes', 'proprietor', 'carson', 'implicit', 'chow', 'flickr', 'xa', 'hallelujah', 'butler', 'mustvisit', 'quitstop', 'zimbabw', 'calv', 'lit', 'malleabl', 'ragpick', 'florenc', 'hadith', 'zynga', 'jodhpur', 'preprocessor', 'rajyasabha', '10month', 'banda', 'exterior', 'rsi', 'pvalu', 'handler', 'collater', 'likabl', 'eragon', 'hoop', 'selfteach', 'jurass', 'undergon', 'gimp', 'mobi', 'stir', 'tofu', 'tirupati', 'cancun', 'epa', 'lesnar', 'clarinet', 'unsur', 'daro', 'recit', 'bibliographi', 'sniff', 'rtg', 'weeknd', 'allaround', 'mercedesbenz', 'mohenjo', 'violinist', 'twodigit', 'ayodhya', 'bonus', 'retrospect', 'athen', 'prestig', 'sandler', 'grandfath', 'gcc', 'scandinavia', '251', 'postcard', 'antman', 'chipset', 'pinch', 'wink', 'expedia', 'quantiz', 'pete', 'ftre', 'bpcl', 'nitish', 'tgif', 'ttip', 'thorium', 'passiveaggress', 'checklist', 'ghostsscientif', 'odysseu', 'vfx', 'sublimin', 'l3', 'reed', 'epistemolog', 'saarc', '6d', 'twilight', 'stricter', 'cram', 'ucl', 'idf', 'advantagesdisadvantag', 'evad', 'barrist', 'atkinson', 'snapshot', 'cue', 'sl', '109', 'goalkeep', 'landslid', 'shouldn’t', 'fur', 'activist', 'opengl', 'allout', 'retak', 'redi', 'muffin', 'olx', 'cookwar', 'biologist', 'pgpm', 'offset', 'ymca', 'phil', 'causal', 'premis', 'enquir', 'numpi', 'wield', 'monaco', 'outbreak', 'slavic', 'sinatra', 'nutriti', 'dominican', 'pickl', 'fibromyalgia', 'syndic', 'netbook', 'curat', 'lecturesa', '5year', 'cmo', 'bhp', 'melisandr', 'on7', 'peop', 'solarc', 'grandma', 'leningrad', 'hendrix', 'gazet', 'ibibo', 'jimi', 'vaio', 'twister', '1993', 'nucleotid', 'minaj', 'nicki', 'descriptor', 'uncensor', 'coexist', 'vow', 'sicili', 'probationari', 'mcgregor', 'hrm', 'person’', 'dispar', 'bhagvad', 'rm', '1015', 'gospel', 'introspect', 'talli', 'dll', 'psk', 'fullmet', 'waterg', 'fiance', 'turnout', 'shepherdgreat', 'osx', 'blu', 'dzire', 'radiohead', 'underneath', 'childish', 'paramed', 'chalk', 'hertz', 'limp', 'bmi', 'mtv', 'vajiram', 'prof', 'sparkl', 'blatantli', 'ventricl', 'vnit', 'tho', 'docomo', 'deleg', 'traumat', 'welder', 'faint', 'sunscreen', 'calip', 'cliff', 'glonass', 'nofap', 'samaj', 'hackerrank', 'maurya', 'kippur', 'yom', 'chola', 'raja', 'informat', 'renounc', 'hex', 'extramarit', 'agra', '530', 'gaza', 'tuft', 'marrow', 'newest', 'pretrain', 'uncompl', 'compart', 'hater', '1857', 'demolit', 'capf', 'fatten', 'hv', 'scribe', 'tommen', 'varun', 'dsl', 'isbn', 'nonlinear', 'fragil', 'pricey', 'appstor', 'vendetta', 'drought', 'foul', 'mov', 'diatomac', 'googlemicrosoft', 'socialtradebiz', 'sudan', 'webbas', 'ocjp', 'patton', 'dmrc', 'foursquar', '820', 'eid', 'builtin', 'insa', 'eleven', 'bye', 'binomi', 'superposit', 'readili', 'inerti', 'islamist', 'paradis', 'moss', 'vicodin', 'n3', 'cracker', 'cto', 'exodu', 'limeston', 'hardwood', 'rickshaw', '747', 'allegi', 'pranic', 'grandson', 'tolkien', 'dim', 'alev', 'a10', 'psn', 'kelvin', 'concili', 'ian', 'caleb', 'catchi', '1111', 'miniclip', 'retrograd', 'asoiaf', 'chalisa', 'cardboard', 'mustwatch', 'clitori', '£500', '403', 'croft', 'stammer', 'weirdestcreepiest', 'vicepresid', 'lyon', 'prosthet', 'homolog', 'fhd', 'der', 'axiomat', 'vita', 'yoke', 'pasteur', '1year', 'sgpt', 'tar', 'shayari', '160r', 'stubhub', 'chino', 'groin', 'temptat', 'minimalist', 'oak', 'undo', 'cmc', 'agarw', 'déjà', 'alken', 'helic', 'monogami', 'herhim', 'doyl', 'kamagra', 'kubo', '995', 'hgtv', '39', 'wealthiest', 'fleet', 'shepherdr', 'be…', 'surplu', 'confucian', 'adhar', 'jeevan', 'booti', 'blatant', 'café', 'swe', 'caulfield', 'holden', 'mil', 'comey', 'pikachu', 'iitan', 'mx', 'cuss', 'hungarian', 'concierg', 'moos', 'btm', 'sata', 'kerosen', 'acceleromet', 'seam', 'scholarli', 'islamia', 'ganguli', 'acetaminophen', 'underag', '23andm', 'pattaya', 'mathpimath', 'rohingya', 'advil', 'taker', 'drumpf', 'incognito', 'ise', 'breathalyz', 'eleg', 'deduc', 'inhabit', 'contamin', '750d', 'mitt', 'droplet', 'dotcom', '200n', '35usd', 'kangaroo', '2000inr', 'spun', 'blot', 'proisrael', 'diction', 'jpg', 'apu', 'budapest', '15kg', 'vain', 'foundri', 'ɖ∀ཡز∂', 'cutter', 'ɐŧ', 'ƫҿϟɮ☉', 'clove', 'ɽφʉʛƕappear', 'helpless', 'compris', 'mystic', 'pip', 'exce', 'rever', 'permanetli', 'crip', 'agith', 'apc', 'yudkowski', 'chem', 'cfl', 'seeker', 'dermatologist', 'acm', 'vintag', 'hassan', 'axial', 'dave', 'courtesi', 'falsif', 'kamal', 'coursework', 'pansexu', 'cigar', 'en', 'offspr', 'tidal', 'résumé', '10m', 'usindia', 'alkan', 'mace', 'tessel', 'tulip', 'wrangler', 'swamp', 'slav', 'days3', 'apartheid', 'charcoal', 'usmc', 'goos', 'nonchristian', 'kerri', 'udaipur', 'removedsack', 'synchronis', 'vocat', 'keanu', 'thirti', 'maria', 'ghostspirit', 'islamabad', 'glycolysi', 'orchestr', 'vssut', 'polymorph', 'crater', 'tchaikovski', 'llm', '147', 'materialist', 'ecchi', 'threshold', 'kay', 'suitcas', 'whatwho', '18879', 'israelit', 'maroon', 'tss', 'oreo', 'outweigh', 'drip', 'tgc', 'f35', 'eloy', 'discoveriesinvent', 'persever', 'atal', 'kv', '200ah', 'kate', '149', 'midsenior', 'overrid', 'fuss', 'subnet', 'deceiv', '83', 'sushma', 'mukherje', 'sawant', 'undeni', 'cumin', 'unspoken', 'populist', 'ticklish', '325', 'loung', 'crib', 'stratifi', 'pud', 'cring', 'bromin', 'monica', 'testifi', 'trigonometr', 'spielberg', 'shelf', 'swaraj', 'yuan', 'weir', 'anomali', 'l1b', 'moreov', 'nurtur', 'cassandra', 'ksa', 'rejoin', 'diff', 'mayor', 'pentest', 'sicilian', 'picki', '18009315079', 'disown', 'pandey', 'tapmi', 'cosign', 'unga', 'cpc', 'granth', 'b2c', 'lda', 'thrash', 'cardin', 'mn', 'markov', 'zerosum', 'irrelev', 'tighter', '230', 'readabl', 'curtain', '122', 'armour', 'creativeinterdisciplinari', 'lankan', 'impair', 'ssi', 'salut', '1012', 'somethingworri', 'blizzard', 'tortois', 'heartless', 'img', 'renault', 'hansraj', 'goggl', 'mtnl', 'armyaft', 'farmvil', 'duet', 'br', 'rustom', 'vox', 'egalitarian', 'buis', 'visionari', 'librarian', 'ammonia', 'vie', 'fullfledg', 'unixlik', 'jeopard', 'muoet', 'kn', 'shih', 'cello', 'slytherin', 'sixteen', 'intranet', 'd5300', 'stealth', 'oatmeal', 'rakhi', 'jorah', 'knowingli', 'pseudosci', 'kissing', 'lopez', '933', 'schlumberg', 'minora', 'qaeda', 'dom', 'trickiest', 'ionis', 'neuro', 'eliez', 'faridabad', 'endotherm', 'sept', 'erdogan', '“why”', 'thano', 'swastika', 'showsfilm', 'silverback', 'exil', 'sphinx', 'probe', 'preprat', 'arcad', 'gawker', 'nordic', 'copa', 'camouflag', 'warg', 'hereditari', 'smoothi', 'sudoku', 'illetar', 'barren', 'concuss', 'torah', 'bo', 'bumper', '“the', 'daylight', 'unproduct', 'lama', 'specter', 'canola', 'clich', 'gaga', 'gynecologist', 'ix', 'mitsubishi', 'mewhat', 'persia', 'gnwl', 'rousey', 'timor', 'tier2', 'proprietari', 'conjur', 'ronald', 'culprit', 'picker', 'denser', 'gothic', 'millilit', 'bbq', 'parsi', 'aunt', 'finder', 'socrat', 'parcel', 'neighbourhood', 'nandi', 'canyon', '190', 'sac', '9000', '3t', 'impend', 'mortar', 'slander', 'amus', 'upa', 'vista', 'maci', 'toaster', 'leaki', 'multitask', 'cortex', 'smita', 'vibrato', 'minoxidil', 'substant', 'lol', 'ibal', 'citric', 'hexan', 'maqsad', 'mnit', 'dualsim', 'disproven', 'hindustan', 'sweep', 'ifttt', 'salvag', 'manmad', '920m', 'csat', '1945', 'mater', 'kaveri', 'wwwkrazybutterflycom', 'btree', 'jacki', '1948', 'nevada', 'shin', 'carpal', 'aviv', 'advert', 'resin', 'jenkin', 'unback', 'loophol', 'kmean', 'csr', 'heeler', 'ravenclaw', 'greed', 'proze', 'osellcom', 'azor', 'sochi', 'gordon', 'englishspeak', 'netaji', 'carnot', 'misc', 'inhous', 'dynamo', 'aachen', 'exceed', 'chromium', 'voltmet', 'modest', 'autoplay', 'eighteen', 'diffract', 'causat', 'pqwl', 'delus', 'collierottweil', 'downfal', 'supermoon', '∩', 'indo', '1060', 'ovarian', 'underground', 'ethan', 'tel', 'carv', 'gibb', 'whoever', 'debunk', 'tsh', 'ronda', 'thereaft', 'li', 'v5', 'porridg', 'nausea', 'authoris', 'quicker', 'passag', 'pleasant', 'sociopathi', 'meow', 'crust', 'redund', 'airway', 'dori', 'myyour', 'nicaragua', 'nazism', 'aussi', 'turmer', 'xerox', 'trustabl', 'refrenc', 'tango', 'airfar', 'gotham', '76', 'getaway', 'sheen', 'nye', 'futurewhat', 'pundit', 'dettol', 'swag', 'scanf', 'formerli', 'cincinnati', 'radiant', 'ocr', 'reunificaton', 'zit', 'cadburi', 'delink', 'janeiro', 'frappuccino', 'witten', 'brin', 'noneu', 'neuroplast', 'photobooth', 'gibraltar', 'trampolin', 'mongolian', 'tywin', 'salient', 'parkway', 'alex', 'cun', 'ajax', 'calf', 'roswel', 'bayesian', 'inexplic', 'azkaban', 'eagle50', 'polymeras', 'corros', 'sonakshi', 'epoxi', 'nanodegre', 'lamo', 'techno', 'serotonin', 'ponzi', 'likeabl', 'nicobar', 'indiegogo', 'shepherdaustralian', 'tailgat', 'allus', 'watsapp', 'sear', 'gradesbett', 'anarchist', 'mayday', 'pendulum', 'pep', 'kanyakumari', 'undeserv', 'puc', 'dofollow', 'verna', 'dragonfli', 'dawkin', 'psych', 'indetermin', 'promiscu', 'rollsroyc', 'rath', 't120', 'kalyan', 'jharkhand', 'baptism', 'gateforum', 'nietzsch', 'sued', 'midsect', 'nemo', '1855mm', 'db', 'raptor', 'qtp', 'ferri', 'cortisol', 'ctr', 'msdhoni', 'housewif', 'brute', 'adequ', 'itthen', 'kbc', 'incarn', 'taobao', 'calligraphi', 'befriend', 'ultron', 'cmi', 'snoop', '303', 'considr', 'emerald', 'vw', 'strictli', 'purs', 'zipper', 'masti', 'gspot', '⚪', '2400', 'normandi', 'hygienist', 'nmath', 'bilater', 'persecut', 'capitan', 'kebab', 'corona', 'intrins', 'uterin', 'ineffici', 'inprov', 'acc', 'drywal', 'ammunit', 'rp', 'rebar', 'derma', 'selfhypnosi', 'convo', 'ke', 'm2', 'naughti', 'pi4', 'abel', 'npv', 'erlang', 'midwest', 'fork', 'theresa', 'jaguar', 'septum', 'clair', 'hindustani', 'hashav', 'ferriss', 'critiqu', 'omnivor', 'rhino', '‘empty’', 'vagu', 'kyoto', 'mop', 'का', 'skoda', 'opiat', 'ncaa', 'inmort', 'langaug', 'shillong', 'solenoid', 'sol', 'indigest', 'rajinikanth', 'legislatur', 'sext', 'paleo', 'mustang', 'investigatori', 'ooltah', 'butcher', 'commission', 'cruiser', 'bicamer', '201213', 'gastric', 'loco', 'amt', 'guevara', 'ribbon', 'nauseou', 'cocoa', 'dfa', 'afzal', 'audac', 'overlook', 'catan', 'penicillin', 'stutter', 'remad', 'behalf', 'criticis', 'basement', 'elliot', 'treason', 'margaret', 'slut', 'cinderella', 'geek', 'pnr', 'archeolog', 'ramsay', 'shove', '90000', 'chromoli', 'dia', 'ligament', 'payme0com', 'achanakmar', 'lotr', 'biscuit', 'conway', 'clg', 'outdo', 'shingl', 'rejuven', 'sew', 'hitman', 'coyot', 'blogswebsit', 'nilpot', 'pm25', 'adsl', 'sagittariu', 'presum', 'perm', 'andorra', 'reinvent', 'ppl', 'stork', 'narayana', 'siemen', 'revit', 'cent', 'positiv', 'constructor', 'tet', 'repuls', 'diversifi', 'regulatori', 'boolean', 'scst', 'oj', 'cosmolog', 'poewr', 'smelli', 'removalist', '150cc', 'dday', 'faq’', 'ambien', 'flee', 'shakti', 'gratuit', '145', 'zootopia', 'sehwag', 'manli', 'serieusli', 'strait', 'businessmen', 'andrea', 'refurbish', 'cashier', 'greyjoy', 'tweak', 'teammat', 'ble', 'writ', 'hospic', 'lagna', 'zerocensorshipcom', 'paperwhit', 'phelp', 'bashar', 'spectat', 'pluralist', 'adrenalin', 'saling', 'ent', 'd7000', 'pascal', 'precent', 'hebei', 'changer', '601', '1949', '8000', 'glaze', 'manwoman', 'extraordinari', 'neurotyp', 'desi', 'corbyn', 'saini', 'linkiscom', 'monoth', 'homeostasi', 'nibiru', 'dominatrix', 'prc', 'psychedel', 'workforc', 'quantifi', 'prettier', 'wt', 'gestat', 'boycot', 'samurai', 'diagon', 'bloat', 'pugcavali', 'michelin', 'pb', 'pastor', 'remitt', 'donkey', 'inkjet', 'ncl', 'lonli', 'aee', 'tomcat', 'iist', 'preacher', 'vii', '2030s2040', 'breastfeed', '₹20000', 'puffi', 'algeria', 'twelv', 'misspelt', 'viewbelief', 'saga', 'status', 'consul', 'bazaar', 'chesapeak', 'maritim', 'antagonist', 'frown', 'kodaikan', 'y2', 'imbal', 'n2', 'wag', 'gayatri', 'blm', '4050k', 'solomon', 'ascii', 'omen', 'handheld', 'iphoto', 'cleanest', 'a6', 'me”', 'knit', 'scalabl', 'apprentic', 'puma', 'linkag', 'goto', 'ebola', 'glycol', 'disapprov', 'unisex', 'vlogger', 'patrol', 'kaabil', 'starch', 'disco', 'rebrand', 'lobe', 'vigor', 'terraform', 'agit', 'poptropica', 'sprout', 'geopolit', '1994', 'ataturk', '30yearold', '525', 'repul', 'harsher', 'blous', 'partli', 'lanc', 'crisp', 'nightlif', 'virtusa', '1600', 'rb', 'hexagon', 'vhdl', 'witchcraft', 'seper', 'hyperloop', 'jss', 'hentai', 'gaddar', 'madam', 'she’', 'seldom', 'pageview', 'upenn', 'rswl', '51st', 'forprofit', 'obscuri', 'carol', 'ole', '138', 'congression', 'nhl', 'nlu', 'ambhani', 'flourish', 'indulg', 'healthili', 'canara', 'radish', 'payabl', 'shepherdretriev', '19pencilscom', 'ivan', 'transcendent', '617', 'dowload', 'mhl', 'nz', 'malign', 'neymar', 'messang', 'messeg', 'grammi', 'beyonc', 'stockbrok', 'logan', 'siren', 'worsen', '2611', 'cloudbas', 'adher', '1337', 'neolith', 'chloroform', 'tort', 'fixtur', 'burj', 'hra', 'marley', 'permantley', 'kaali', 'bam', 'bohr', 'tunisian', 'dant', 'mountbatten', 'onesid', 'patti', 'hipster', 'manni', 'hydrolysi', 'ester', 'werear', 'chipbas', 'instig', 'reit', 'lyf', 'punnett', 'epoch', 'goodnight', 'playback', 'kart', 'gangnam', 'recept', 'mccain', 'burla', 'cemeteri', 'countabl', 'somerton', 'doberman', 'amethyst', 'carecom', 'enamel', 'mathemc2math', 'gloomi', 'unus', 'mathi', 'customari', 'puff', 'deepwat', 'ore', 'shankar', 'sourav', 'haitian', 'g5', 'vichitra', 'zawar', 'rugbi', 'yar', 'villarica', 'ignit', 'spartacu', 'pappu', 'utensil', 'dumpl', 'reclaim', 'wierdest', 'backbon', 'dorsey', 'unbear', 'splinter', '1941', 'hardcor', 'pco', 't2', 'verilog', 'ln', 'tramadol', 'mama', 'crumbl', 'spg', 'dreadlock', 'uce', 'lehman', '75k', 'layoff', 'empathet', 'pumic', 'reliv', 'pharmacovigil', 'hokag', 'uvers', 'sonoma', 'gaddafi', 'antarct', 'freeman', 'ancestrycom', 'cartilag', 'scalia', 'cpi', 'shipment', 'supra', 'nonprogramm', 'creek', 'crimson', 'hoodi', 'vicin', 'a7000', 'tr', 'tier1', 'makeov', 'hing', 'esn', 'cfo', 'csk', 'trichi', 'enthusiasm', 'palmistri', 'innout', 'skit', 'conveyor', 'mastermind', 'chernobyl', 'manali', 'ciaz', 'nepali', 'hush', 'wright', 'kaaba', 'ariel', 'drool', '“whi', 'benzoyl', 'seren', 'recours', 'momo', '635', 'widest', 'omaha', 'tranquil', 'methanol', 'oblivi', 'casserol', 'moonshin', 'adt', 'paranoia', '142', '86', 'sinusoid', 'jabalpur', 'torsion', 'bitumen', '‘badass’', 'midget', 'amber', 'unhid', 'hid', 'f28', 'ronaldinho', 'fondest', 'austen', 'achil', 'amidst', 'spasm', '117', 'bookkeep', 'girlfriendwif', 'watercolor', 'queensland', 'cub', 'nonprolifer', 'iimb', 'affidavit', 'martyr', 'supervolcano', 'gangster', '2600', 'debacl', 'consumer', 'catfish', 'boreali', 'storytel', 'beneficiari', 'iglesia', 'gerund', 'flammabl', 'transfus', '1z0425', 'solitari', 'supremaci', 'airforc', 'nyquil', '“”', 'dumbbel', '550', 'emphasi', 'ferromagnet', 'meryl', 'streep', 'lousi', 'kia', 'mika', 'brainstorm', 'iraniraq', 'withstand', 'selfconsci', 'lauderdal', 'sean', 't0', 'ugcnet', 'skeptic', 'troy', 'vascular', 'lastfm', 'soya', 'careless', 'eyebal', 'ramdev', 'pega', 'drew', 'plum', 'tonal', 'hernia', 'savori', 'skincar', 'moustach', 'babe', 'editorin', 'fyi', 'ipil', 'karu', 'dude', 'juliu', 'obstruct', 'website’', 'viewpoint', 'invertebr', 'gcse', 'pickpocket', 'eisenhow', 'hav', 'sass', 'narayan', 'lyanna', 'mica', 'tspsc', 'centauri', 'vijayawada', 'inspit', 'kgb', 'stator', 'bittorr', 'warhead', 'murdoch', '200000', 'eliot', 'euphem', 'redditor', 'pothol', 'mapl', 'sailboat', 'vanem', 'monterey', 'chick', 'slightest', 'visualis', 'undervalu', 'dobuild', 'femalemal', 'metropolitan', 'dhl', 'decidu', 'unfold', 'sprinter', 'clam', 'kneethigh', 'absorpt', 'nexium', 'albaghdadi', 'refere', 'monopolist', 'unarm', 'sephora', 'burgundi', 'monje', 'narse', 'gether', 'fracsin', 'mediatek', 'mathdisplaystyleint', 'elanc', 'alqaeda', 'lsat', 'claudiu', 'checkup', 'm330', 'candor', 'pianist', 'macaulay', 'yarn', 'minerva', 'misspel', 'jaype', 'dumber', '1112k', 'yoghurt', 'haven’t', 'wordphras', 'struck', 'closur', 'practo', '1746', 'limacallao', 'spartan', 'meteorj', 'handbook', 'galvan', 'grope', 'gentrif', 'cation', 'thompson', 'visakhapatnam', 'mig', 'landhous', 'cleanli', 'mathnmath', 'baelish', 'sterl', 'bsm', '1991', 'suarez', 'amma', 'notori', 'railroad', 'forbid', 'augusta', 'drank', 'incestu', 'kepler', 'baltic', 'uxui', 'giuliani', 'rudi', 'carpent', 'descart', 'powerwal', 'thirteen', 'kiosk', 'misogyni', 'mathymath', '90k', 'realtor', 'monorail', 'kyli', 'tenet', 'voip', 'therano', 'masturbatori', 'mobikwik', 'fo', 'contracept', 'couldv', 'stumbl', 'wade', 'nuanc', 'climax', 'ideapad', 'mirag', 'punk', 'alienwar', 'maiz', 'unnecessarili', 'xiomi', 'kasol', '21yearold', 'chunk', 'probiot', 'gown', 'cumul', 'bg', 'barkha', 'steadi', 'poo', 'referenc', 'spinner', 'shockwav', 'biswa', 'dhcp', 'lotu', '60k900', 'doj', 'saffron', 'mose', 'somat', 'airpod', 'paycheck', 'guantanamo', 'fii', 'sdr', 'nbfc', 'soa', 'masjid', '2017how', '1099', 'aib', 'saggi', 'collegesunivers', 'happend', 'neuroscientist', 'windshield', 'olympu', 'proxima', 'twinkl', 'tplink', 'underwrit', 'uncollaps', 'palihapitiya', 'sinx', 'postpaid', 'areata', 'venetian', 'nation’', 'mahesh', 'hopper', 'whitebeard', 'chamath', 'shae', 'jare', 'insof', 'reappli', 'volcan', 'overus', 'meanvarianceskew', 'punctur', 'spookiest', 'downhil', 'matchup', 'outright', '950', 'tunisia', 'instabl', 'unsuccess', 'pat', 'reflux', 'unfairli', 'intellect', 'sbt', 'freestyl', 'www', 'comorbid', 'nh3', 'unitari', 'tsa', 'agatha', 'sgd', '405060', 'gunshot', 'asperger’', 'devolut', 'sticki', 'men’', 'antiaap', 'codingparkscom', 'aai', 'baroqu', 'barclay', 'oslo', 'palin', 'amherst', 'carburetor', 'seychel', 'massless', 'bestsel', 'dash', 'ntt', 'beti', 'brita', 'badg', 'potent', 'parenthood', 'r7', 'else’', 'pott', 'newsfe', 'coulomb', 'ultrasound', 'tl', 'budgi', 'bulg', 'schoolcolleg', 'dinar', 'unbox', 'substrat', 'jailbroken', 'charit', 'catabol', 'pokéstop', 'boric', 'edinburgh', 'muscat', 'aegon', 'meritocraci', 'brothersist', 'edcuat', 'tf2', 'imp', 'genealog', 'optimis', 'abstain', 'rottweilerpitbul', 'reced', 'ballast', 'libel', 'fujitsu', 'rebirth', 'pitfal', 'pseudo', 'supercar', 'ak47', 'coaxial', 'sa2', '“you', 'vitee', 'tempt', 'airbag', 'squeak', 'sandbox', 'deiti', 'evergreen', 'edupristin', 'slovakia', 'suni', 'wiser', 'middleearth', 'costlier', 'v6', 'clarifi', 'tvmovi', 'sodexo', 'sidney', 'surah', 'goodbad', 'reaccess', 'incis', 'harappan', 'dissatisfi', 'nsf', 'proscon', 'saskatchewan', 'sasuk', 'benin', 'dui', 'pele', 'sastra', '9262016', 'frugal', 'shred', 'gavaskar', 'sunil', 'toothbrush', 'rao', 'labradorgreat', 'sprinkler', 'chit', 'kijiji', 'nagaland', 'wannab', 'barber', 'fremont', 'conor', 'flew', 'fundsindia', 'a3', 'sdn', 'widow', 'iiest', 'offsid', 'ei', 'animemanga', 'sanitari', 'caucu', 'mana', 'gana', 'ss', 'ishrat', 'elf', 'uiuc', 'willingli', 'buyback', 'gullibl', 'comprehend', 'keto', 'hondura', 'irrig', 'salli', 'remeb', 'surya', 'nautic', 'clr', 'goodwil', 'preorder', 'multius', 'remix', 'yt', 'uchiha', 'kitti', 'omit', 'gentli', 'lyche', 'beryllium', 'warwick', 'ratifi', 'amul', 'uti', 'beatbox', 'ucb', 'hijra', 'grassland', 'f18', 'truman', 'hft', 'exwif', 'iimabc', 'bacteri', 'jewel', 'socioeconom', '11day', 'odour', 'nonhom', 'fewest', 'excercis', 'bottleneck', 'histon', 'prochoic', 'lui', 'glossi', 'insensit', 'optimum', 'obey', 'fling', 'garland', 'amadeu', 'recount', 'ethiopian', 'whowhat', 'medina', 'yellowish', 'nofli', 'honorari', 'toggl', 'taskrabbit', 'xr', 'npcil', 'freddi', 'dissemin', 'eastman', 'rant', 'unroot', 'story”', 'npr', 'kimchi', 'cottontail', 'superconductor', 'jinn', 'gini', '110v', 'smuggl', 'pollock', 'corps', 'maltesehuski', 'byju’', 'protestor', 'robberi', 'woken', 'mfn', 'palsi', 'mayo', 'sunnyval', 'transpir', 'casio', 'bait', 'desig', 'cirrhosi', 'itt', 'pygmi', 'payon', 'stude', 'ow', 'mourn', 'oncom', 'hamstr', 'chimpanze', 'agianst', 'akshay', 'baghdad', 'starfish', 'expedit', 'kathmandu', 'yuga', 'ward', 'lear', 'selfdisciplin', 'gfbf', '826', 'iitsnit', 'sinus', 'mauritiu', 'runescap', 'carpentri', 'weav', 'gymworkout', 'dse', 'salem', 'mishra', 'ranch', 'saniti', '1100', 'kati', 'plummet', '13000', 'grumpi', 'thunderstorm', 'sublet', '150k', 'aura', 'langan', 'atrial', 'drainag', 'gerrymand', 'univ', 'infus', 'longitudin', 'eden', 'oddeven', 'tendon', 'ridgecrest', 'endless', 'geoloc', '“karma', 'vce', '5500', 'wolframalpha', 'electra', 'platformmediasourc', 'howwher', 'humanoid', '1966', 'antiag', '410', 'pinki', 'hpcl', 'autowinicom', 'd5100', 'airbend', 'char', 'yen', 'orat', 'tanzania', 'cctv', 'empow', 'malala', 'runtim', 'satya', 'anod', 'baltimor', 'yanke', 'oddish', 'aromat', 'arbitrag', 'limbo', 'memo', 'makemytrip', 'copilotsearchcom', 'autumn', 'teller', 'deathstrok', 'tunak', 'backfir', 'girlswomen', 'boysmen', 'binaur', 'mapreduc', 'beret', 'bhakt', 'cest', 'ingeni', 'pneumat', 'churn', 'dogg', 'hawkish', 'notar', 'treasur', 'equatori', 'sudaf', 'swimmer', 'rehears', 'meanwhil', 'palac', 'azusa', 'ssri', 'sqft', 'sooner', 'serpent', 'quartz', 'sst', 'splitscreen', 'iol', 'comparis', 'mavi', 'tuck', 'giveaway', 'wbut', 'unban', 'millia', 'uninterest', 'mia', 'gratuiti', 'surrog', 'vip', 'khmer', 'fanfict', 'fred', 'ext', 'knox', 'cayenn', 'bogota', 'pakistan’', 'teddi', 'anil', 'nair', 'evan', 'fullscreen', 'morphem', 'kale', 'potion', '1510', 'apex', 'webdesign', 'aesa', 'lhc', 'webdevelop', 'artifact', 'leash', 'chen', 'exet', '315', 'ost', 'entj', 'hoc', 'tldr', 'joomla', 'torrentz', 'printf', 'toplevel', 'apologis', 'pancreat', 'substat', 'preach', 'wateri', 'nom', 'cryptol', 'vm', '70k', 'regener', 'devis', 'acrobat', 'aquarium', 'fifo', 'glaucoma', 'iasip', 'webapp', 'hourglass', 'overstay', 'raini', 'apto', 'foremost', 'susan', 'i140', 'betta', 'quebec', 'shrug', 'akamai', 'unchart', '1080', 'wow', 'bandh', '1986', 'a320', 'stump', 'quizzer', 'hummingbird', '711', '27th', 'mypromovideo', 'rs10000', 'sigmund', 'fingernail', 'freud', 'histrion', 'reel', 'spleen', 'lawn', 'bowi', 'aerodynam', 'cauter', 'subordin', 'bach', 'apocalips', 'relinquish', 'abscess', 'presley', 'fea', 'extrus', 'thrift', 'chisel', 'chutiya', 'aloud', 'clariti', 'thorough', 'vasectomi', 'ramanujan', 'baptiz', 'mahendra', 'eskimo', 'academia', 'connector', 'eateri', 'omnisci', 'estrogen', 'celeron', 'tonic', 'isoscel', 'incorrectli', 'sine', 'animagu', 'pogba', 'cima', 'lightli', 'lgbtq', 'dalai', 'droid', 'wl', 'predictor', 'ambivert', 'flesh', 'dept', 'dceu', 'counselor', 'scrub', 'cleanser', 'angellist', 'guaranti', 'palantir', 'joan', 'oval', 'polari', 'daiict', 'criterion', 'winterfel', 'typefac', 'cheney', '11000', 'cano', 'randi', 'impedi', 'extractor', 'straw', 'tuberculosi', 'hcn', 'thirdparti', 'magna', 'mde', 'fe', 'arundhati', 'sharpi', 'nutanix', 'kedavra', '44in', 'pal', 'averagegood', 'handwritten', 'b130', 'asl', 'newman', 'avada', 'solidwork', 'iroquoi', 'premed', 'unsav', 'baja', 'ugliest', 'detoxifi', 'barca', 'asymmetr', '357', 'marissa', 'cf', 'wimbledon', 'ccat', 'hatch', 'kleenex', 'appendix', 'forese', 'coulter', 'jana', 'salin', 'creationist', 'selfdestruct', 'precur', 'photosvideo', 'mailbox', 'voiceov', 'biswapati', 'econ', 'wider', 'flaccid', 'theodor', 'cyclohexan', 'summat', 'thicken', 'imu', 'mali', 'miscal', 'surprisingli', 'interrupt', '1400', 'nag', 'thermomet', 'dyslexia', 'anth', 'baht', 'dubsmash', 'minu', 'pretenti', '18000', '79', 'pharmd', 'wwll', 'badgood', 'epidemiolog', 'gigant', 'onboard', 'tibco', 'fumig', 'physiotherapist', 'dayn', 'unrel', 'out', 'incomemonth', 'asic', 'zayn', 'noncreami', 'jiofi', 'constantinopl', 'hoosier', 'ubermeruola', 'boba', 'strut', 'stinson', 'soundproof', 'caramel', 'susunia', '£1', 'noncompet', 'qt', 'adv', 'jayz', 'dart', 'zillow', 'erwin', 'gamemak', 'universemultivers', '327', 'toolbar', 'retract', 'ritalin', 'beyoncé', 'shashi', 'slug', 'saavn', 'ecr', 'vagrant', 'strategywho', 'nite', '25000inr', 'mmorpg', 'hun', 'disqualifi', 'paddi', 'consiglio', 'repent', 'enema', 'equidist', 'birla', 'nascar', 'deadliest', 'mitstanfordoth', 'dissolut', 'osmania', 'tharoor', 'bohemian', '67k', 'avl', 'versatil', 'colonist', 'reminisc', 'shivsmarak', 'sheer', '168', 'nanj', 'percocet', 'stigma', 'brent', 'ruthless', 'kmh', 'emblem', 'plenti', 'jesuss', 'eth', 'habbit', 'technica', 'symmetr', 'testbook', 'ryanair', 'balm', 'indigo', 'queu', 'hitler’', 'psycho', 'tibetan', 'kampf', 'ethereum', 'longrun', 'wi', 'pilsner', 'pcmb', 'poodl', 'abscond', 'bioengin', 'jerusalem', 'equit', 'battleship', 'pageant', 'd2', 'booksmateri', 'imperson', 'iata', '24yearold', 'opu', 'murphi', 'recaptcha', 'ptc', 'pn', 'beforehand', 'harshli', 'junction', 'cpo', 'surfer', 'df', 'ximb', 'bharatiya', 'alchemi', 'famin', 'retreat', 'waal', 'poona', 'jem', 'panchayat', 'radha', 'squash', 'truecal', 'frodo', 'ascens', 'cu', 'indesign', 'gaull', 'itil', 'afreechatcom', 'antispywar', 'monsanto', '206', 'gameplay', 'prowar', 'lpu', 'dhirubhai', 'apprenticeship', 'mhcet', 'agnostic', 'aishwarya', 'bord', 'netgear', 'chipotl', 'eca', 'baroda', 'bareilli', 'hed', 'joni', 'unsatur', 'cheapli', 'malta', 'jobscar', 'cce', 'thane', 'cilantro', 'transpos', 'asvab', '87', 'transexu', 'knive', 'irvin', 'wpm', 'desirew', 'aieee', 'lubric', 'laughter', 'scenic', 'microcomput', 'mud', 'ripjaw', 'ecnr', 'sciatica', 'adc', 'pomeranianshih', 'invisalign', 'abrupt', 'sebac', 'unmov', 'neardeath', 'pid', 'kpit', 'jiit', 'soundmag', 'fedora', 'lyndacom', 'fuzzi', 'fintech', 'electrod', 'kakashi', 'minion', 'thebest', 'elus', 'damp', 'anorexia', 'windu', 'xfiniti', 'exhal', 'yacht', 'beep', '600d', 'reflector', 'overclock', 'electro', 'safeway', 'cameroon', 'dreamt', 'rmo', 'gotcha', 'lesion', 'okr', 'designfront', 'highpitch', 'lien', 'pilgrimag', 'samoan', '231', 'lakshadweep', 'qwerti', 'lata', 'mangeshkar', 'winfrey', 'postfix', 'midway', 'garfield', '80k', 'cougar', 'botox', 'goulash', 'sugarcan', 'gasket', 'umayyad', 'polymerplast', 'delft', '770', 'cosmonaut', 'objectiv', 'cheesecak', 'mexicanamerican', 'helen', 'synaps', 'keller', 'amontillado', 'prestidigit', '720', 'flake', 'ylp', 'chegg', 'adolesc', 'sullivan', 'shirdi', 'placat', 'mussolini', 'oxymoron', 'gourd', 'bronn', 'dosa', 'untear', '“mi', 'mim', 'vultur', 'snatch', 'ubiquit', 'gilbert', 'overvalu', 'decommiss', 'moni', '501', 'fanatic', 'icwa', 'gud', 'ornament', 'obama’', 'turban', 'quo', 'hinata', 'syncop', 'bork', 'eugen', 'paramagnet', 'wellwritten', 'conjectur', 'margarin', 'almighti', 'crohn', 'vulgar', 'cranial', 'disastr', 'microb', 'terresti', 'klopp', 'dissid', 'aloof', 'timberlak', 'ortho', 'dermatolog', 'mistruth', '330', 'smudg', 'anushka', 'broader', 'mouthswab', 'medial', 'prefront', 'epidem', 'wwwallgenericmedicinecom', 'borodino', 'curvi', 'faq', 'flunk', 'kegel', 'surveyor', 'rhythmic', 'eel', 'musicsong', 'readd', 'unexamin', '1011', 'gogh', '14day', 'listenonrepeatcom', 'mellon', 'kaun', 'calumni', 'banega', 'crorepati', '787', 'malazan', 'shannon', 'googlefacebook', 'warsaw', 'zippo', 'spoon', 'bosnia', 'qing', 'pear', 'debilit', 'simplilearn', 'pedro', 'rancid', 'boko', 'carnegi', 'pullup', 'bloom', 'clayton', 'snob', '12gb', 'inaround', 'savior', 'subquant', 'modesti', 'sbh', 'lifeufo', 'dataevid', 'chive', 'extradit', 'cao', 'espn', 'pilger', 'usaf', 'πe', 'ze', 'stood', 'defiant', 'spay', 'isometr', 'broom', 'twilio', 'udp', 'jonathan', 'gambon', 'erotica', 'sapient', 'interreligion', 'igcs', '4dimension', 'googler', 'dissect', 'themat', 'child’', 'folklor', '3g4g', 'steeli', 'tasmania', 'aux', 'jaylalitha', 'spoj', 'asimov', 'bishop', 'acorn', 'howwhi', 'reappear', 'd9', 'lysosom', 'unfulfil', 'ctocofound', 'pixi', 'sparknot', 'chastis', 'navamsa', 'maser', 'chromatid', 'posh', 'aikido', 'humanmad', 'hera', 'orca', 'salvador', 'dorsal', 'nowseptemb', 'indeen', '60fp', 'devoid', 'marti', 'riff', 'fin', 'planidea', 'blitz', 'haier', 'visionmissionpurpos', 'rapport', 'avi', 'diaspora', 'pooja', 'patcher', 'viscou', 'rs2500030000', '150r', 'cactu', 'compaq', 'torvald', 'gastriti', 'vasistha', 'nationalis', 'atop', 'skeleton', 'acura', 'kanji', 'hotelresort', 'kamikaz', 'hardwel', 'succe', 'geotechn', 'permeabl', 'gtu', 'bionic', 'stale', 'exgf', 'coffin', 'reconcili', 'euglena', 'upscuppc', 'sage', 'uninhabit', 'dentur', 'zygot', 'linu', '10mg', 'c2', 'sharingan', 'sadhguru', 'edu', 'mockup', 'dicot', 'maladapt', 'openssl', 'schizotyp', 'mercer', 'cabbag', 'amtrak', 'diamagnet', '133', 'arryn', 'polymer', 'asst', 'dreamwork', 'inanim', 'venn', 'ayahuasca', 'envis', '2514919', 'pulmonari', 'angiosperm', 'sharapova', 'capo', 'ripen', 'herschel', 'dreamweav', 'indec', 'lowbudget', 'shortcom', 'withdrew', 'gurante', 'anaheim', 'microevolut', 'tillerson', 'dv', 'pornmasturb', 'yammer', 'criminolog', '490', 'sharia', 'adulteri', 'يعني', 'onechild', 'umbil', 'scissor', 'anhedonia', 'prarthana', 'nonvascular', 'humanlik', 'averagelook', 'beowulf', 'outsmart', 'kuril', 'ipython', 'incompet', 'iphone4', 'fy', 'lync', 'sao', 'sucid', 'altisourc', 'backpropag', 'gasolinepow', 'hypochondriac', '‘class', 'pug', 'ebuddi', 'beak', 'etraterrestri', 'pianokeyboard', 'hitachi', 'asi', 'macroevolut', 'bday', 'biodiesel', 'carousel', 'trendi', 'lodha', '10x', 'staph', 'limitless', 'diffrenec', 'econometr', 'flare', 'guardiola', 'malayali', 'jrr', 'ef', 'evangelion', 'telemarket', 'smoother', 'lik', 'caff', 'lepton', 'vehement', 'msm', 'middleman', 'thatcher', 'mordor', '4045000', 'rfid', '23rd', 'me', 'smaug', 'halfbroth', '930m', 'usbc', 'mist', 'harmonica', 'medici', 'rhizobium', 'imbib', 'bedtim', 'albuterol', 'ada', 'selfhost', 'freelet', 'prelaunch', 'depaul', 'osaka', 'unseen', 'nosi', 'pax', 'triangul', 'alic', 'uefi', '250k', 'pnp', 'guernica', 'northeastern', '626', 'cottonmouth', 'coriand', 'reactanc', 'shaman', 'nusrat', 'hackspi', 'iip', 'kingston', 'adverbi', 'devout', 'hallmark', 'dope', 'açaí', 'mi4', '412', 'somon', 'reusabl', '1200d', 'nonvolt', 'opportunist', '19yearold', 'ketamin', 'x2math', 'nsr', 'clipper', 'btw', '“ad', 'k2', 'gypsi', 'courtroom', 'dmv', 'indent', 'bachata', 'delux', 'personalprofessionalbusi', 'anticorrupt', 'dem', 'dishonor', 'loneliest', 'usuk', 'swan', 'acquiesc', 'kinemat', 'cartesian', 'watchdownload', 'batsmen', 'jockey', 'v1', 'ubisoft', 'pinocchio', 'pov', 'comm', 'nonc', 'confuciu', 'creditdebit', 'uwc', '182', 'blackwhit', 'overact', 'sidiou', '812', 'unrar', 'asterisk', 'apocalypt', 'phoeb', 'congressmen', 'swat', 'usci', 'derbi', 'lstm', 'uscanada', 'colloqui', 'biligiri', 'dhawan', 'unzip', 'malici', '801', 's2', 'renli', 'trope', 'knuth', 'calorimet', 'patron', '1937', 'plagar', 'nonecr', 'intermolecular', 'calibr', '450000', 'vajpaye', 'intellij', 'skew', 'otter', 'thedcdesignscom', 'sandston', 'righteou', 'clamp', 'gumasta', 'coelho', 'champ', 'fetal', 'unsecur', 'rajput', 'fujifilm', '730', 'roadsid', 'lithospher', 'coax', 'wantne', 'arkham', 'number1', 'appwebsit', 'nword', 'panera', 'hoover', 'gulen', 'appsgam', 'asaram', 'sputum', 'gall', 'pwd', 'are', 'cryogen', 'hashcod', 'rhapsodi', 'prespect', 'nmo', 'vizsla', 'omelett', 'zappa', 'parineeti', 'baldwin', 'kalinga', 'jambore', '6am', 'remodel', 'spectromet', 'katachi', 'matchcom', 'oldfemale66kg52ft', 'mahadasha', 'ingam', '1935', 'ogilvi', '21yr', '1972', 'taho', 'aug–sep', 'sculpey', 'polyamori', 'themself', 'reuter', 'lowlevel', 'cess', 'quadrant', 'bcc', 'prop', 'kumon', 'inflight', 'lifehack', 'nonleap', 'catalogu', 'obsolesc', 'certainti', 'fondl', 'colorblind', 'powai', 'brandi', 'limerick', 'vuej', 'goodread', 'loudli', '“rogu', 'plywood', 'asiat', 'assort', 'versant', 'fanat', 'ch4', 'adulthood', 'fermi', 'otaku', 'sexism', 'sdm', 'penultim', 'fraser', 'soleil', 'orwel', 'cyclic', 'belov', 'itpl', '6cm', 'teflon', 'trey', 'motherland', 'regi', 'sidetrack', 'elv', 'thereof', '215', 'jdbc', 'javaj2e', 'badoo', 'lindsay', 'laura', 'dagger', 'prometr', 'adelaid', 'dupe', 'exitingstay', '1070', 'jeopardi', 'thesauru', 'babu', 'horton', 'truste', 'futurama', 'cdm', 'plumber', 'turret', 'birmingham', 'landown', 'capstan', 'zimmer', 'wobbl', 'furtur', 'dua', 'microchip', 'indra', 'curacao', 'specimen', 'reread', 'voluntarili', 'workweek', 'yatra', 'incas', 'napa', 'dydx', 'statesamerican', 'vigilant', 'keynot', 'malamutehuski', '3542', 'hivaid', 'klonopin', 'spoilerswhat', 'liberia', 'problemsolv', 'orkut', 'slabcolumnbeam', 'otto', 'toung', 'darfur', 'monetis', 'diver', 'nozzl', 'lidar', '18777788969', '1961', 'malfunct', 'radhakrishnan', 'ma', 'hama', 'msnbc', 'endoscopi', 'exemplari', 'gcf', 'protagonist', 'attrit', 'saeed', 'darkdeep', 'influx', 'middleag', 'tqwl', 'errat', 'robb', 'gigabyt', 'disingenu', 'itll', 'p1102w', 'basalt', 'wrinkl', 'itm', 'hacksaw', 'checkpoint', 'kakigardencom', 'purgatori', 'fraudster', 'stoner', 'payer', 'jipmer', 'fda', 'orthodontist', 'travers', 'evacu', 'albu', '420', 'twoterm', '2hp', 'toothach', 'cvresum', 'cisa', 'furthermor', 'articul', 'fixer', 'drugaddict', 'clueless', 'goo', 'leftist', 'mindtre', 'eddi', 'karthikeyan', 'uid', 'grout', 'shreya', 'madagascar', 'ghoshal', 'pp', 'naxal', 'backlit', 'ptr', 'tamper', 'factoris', 'flourin', 'benevol', 'sprain', 'deperson', 'wbc', 'macchiato', 'oncologist', 'brothel', 'unintellig', 'whitehat', 'antisept', 'lipo', 'thoughtprovok', 'scihub', 'bailout', 'dimethylamin', 'javafx', 'shikamaru', 'emac', 'uncut', 'peahen', 'azerbaijani', 'dietitian', 'tampa', 'interestingmost', 'smartestmost', 'enviou', 'playstor', '485', 'quinoa', 'hanoi', 'rs30000', 'uncontrol', 'boseeinstein', 'mendeley', '1ac', 'fs', 'eurozon', 'shale', 'sne', 'wrapper', 'awkwardembarrass', 'moneygram', 'firsthand', 'scrapi', 'ewast', 'interconnect', 'paladin', 'rsm', 'mi3', 'divisor', 'tempor', 'inmobi', 'hollaween', 'yifi', '124', 'relearn', '1956', 'imam', 'escrow', 'buttermilk', 'nameless', 'suscept', 'ember', 'c2090422', 'dodid', 'specificationswis', 'tray', 'seraphim', 'colloid', 'cherubim', 'grapefruit', 'josh', 'ragist', 'yii', 'parlor', 'mummi', 'exalt', 'chevron', 'lowcost', '092616', 'opium', 'warfram', 'fieri', 'electrocut', 'zdi', 'bluff', 'takeaway', 'yeari', 'simulink', 'comenda', 'posterior', 'laureat', 'bonanza', 'methyl', '666', 'rahat', 'rca', 'downtrodden', 'cfp', 'tribbiani', 'ramakrishna', 'rsa', 'isolation', 'heinz', 'dayananda', 'wolfgang', 'hygen', 'oct', 'coz', 'onedr', 'tout', 'jiyr', 'dormant', 'imperialist', 'lyme', 'spanishspeak', 'movietv', 'adress', '1c', 'msbi', 'firefli', 'huskycock', 'dermal', 'centimet', 'underrepres', 'amen', 'clannad', 'loft', 'rishikesh', 'antigay', '“we', 'sherri', 'aladdin', 'tjhsst', 'muggl', 'gollum', 'emc', 'jung', 'winni', 'pooh', '942', 'zambia', 'foodmeal', 'alphabetagammathetadelta', 'typec', 'hooker', 'sailor', 'causescom', 'conjug', 'furnish', 'parentag', 'stead', 'proavisor', 'tightli', 'rewrit', '3m', 'chouhan', 'nullifi', 'kt', 'janet', 'aldehyd', 'garrett', 'bernoulli', 'paye', 'hypnotis', 'sonar', 'fledg', '0math', 'keton', 'jagannath', 'friendsfamili', 'quintessenti', 'inadequ', 'unclear', 'prashant', 'excis', 'posses', 'disbar', 'whichev', 'millbra', 'evo', 'hostag', 'transduc', '245', 'zlatan', 'glori', '3digit', 'sufism', 'ipv4', 'jenner', '31st', 'studentsalumni', 'grammarlycom', 'ascent', 'sucess', 'tdi', 'cento', 'helsinki', 'concav', 'biz', 'emphas', 'boygirl', 'todd', 'vjti', 'rote', '60612', 'dhanush', 'enrich', 'frontlin', 'warbi', 'baromet', 'linga', '500gb', 'olauberfast', 'bronx', 'risen', 'yang', 'handsomeattract', 'hdl', 'corpu', 'filmtv', 'tourett', '1989', 'purana', 'insincer', 'dre', 'mean”', 'rutherford', 'willi', 'fordham', 'julia', 'maglev', 'apathet', 'odesk', 'tf', 'dribbbl', 'intact', '20202024', 'arguabl', 'sweeten', 'carefre', 'kpi', '8462852', 'npat', 'kic', 'mlk', 'kisan', 'nightfal', 'cpg', 'villi', 'picasa', 'vika', 'kodak', 'patra', 'sasikala', 'preemptiv', 'chevi', 'loon', 'wysiwyg', 'chessboard', 'boldconsbold', 'aqua', 'stockmarket', 'kaufmichcom', 'rlc', 'intercom', 'rtp', 'wwwseekforfundscom', 'ecol', 'ischem', 'gummi', 'vihar', 'exploratori', 'dogma', 'capm', 'manifold', 'disengag', 'incontin', 'mango', 'cranki', 'fuller', 'reven', 'oort', 'polypeptid', 'excav', 'glacier', 'seth', 'gods', 'keepsaf', 'roti', 'normalis', 'akin', 'geocentr', 'sucros', '151', 'nocturn', 'milag', 'haramb', 'unmotiv', 'retriv', 'loksabha', 'rampag', 'e3', 'nand', 'petyr', 'mastrub', 'calcif', 'bisect', 'glu', 'pineal', 'tradebiz', '310', 'jammer', 'heterotroph', 'pharaoh', 'wani', 'holdem', 'hyperinfl', 'ether', 'dirichlet', 'seltzer', 'illumin', 'prediabet', 'nonpubl', 'ztransform', 'spinach', 'packtwocom', 'ibeacon', 'backgammon', 'cowardic', 'hess', 'callback', 'moist', 'amphibian', 'awd', '24hr', 'poacher', 'succumb', 'hairlin', 'ig', 'blackboard', 'webdriv', 'ghazal', 'threre', 'unmatch', '12c', 'leto', 'thorn', 'n4', 'ramana', 'maharshi', 'tussl', 'squid', 'daft', 'prolifer', 'jawbon', 'kurdish', 'kurta', 'anchorag', 'bloodraven', 'subtop', 'tejo', 'perish', 'ddr', 'unexpectedli', '8002514919', 'manic', 'hydroelectr', 'uhaul', 'eurofight', 'motorbik', 'josé', 'burglar', 'cme', 'linen', 'ativan', 'refineri', 'onpag', 'cuda', 'graft', 'hord', 'offpag', 'asm', 'kitchkarmacom', 'noniitian', 'hadron', 'funda', 'secularist', 'veterinari', 'macaron', 'cleric', 'badrinath', 'notesmateri', 'bhubaneshwar', 'spacesuit', 'softwaredefin', 'hegel', 'antipsychot', 'authorit', 'throb', 'bugatti', 'ankara', 'capillari', 'have', '2y', 'puriti', 'improp', 'dorito', 'axon', 'footer', 'willpow', 'nigga', 'wtf', 'sedat', 'pavement', 'no', 'carrer', 'forti', 'ava', 'mahalaya', 'cobra', 'wiz', '13k', 'dream11', 'sugarsugari', 'tha', 'blackbox', 'ghosh', 'sujoy', '⊂', 'hku', 'urgenc', 'languagehow', 'icj', 'spirulina', 'dementiaalzheim', 'scarier', 'dsm', 'peacemak', 'taster', 'menwomen', 'toner', 'with', 'dateabl', 'hematoma', '276', 'collegium', 'njac', 'math1math', 'henna', 'irr', 'occurr', 'flaxse', 'harmoni', 'extempor', 'haw', 'cruelest', 'cuckoo', 'zeljko', 'sudarshan', 'jaqen', 'fractal', 'editori', 'heartbeat', 'wareh', 'beaker', 'adder', 'selfsuffici', 'vidyapeeth', 'spouse’', 'shibpur', 'orthoped', 'brisk', 'lun', 'jinx', 'faucet', 'zotac', 'gallium', 'india”', 'skyscann', 'calmer', 'ahsoka', 'tano', 'antonio', 'autotun', 'bookstor', 'mnemon', 'nontrivi', 'lysol', 'scroog', 'nadella', 'mcduck', 'digg', 'lexapro', 'prune', 'manipur', 'brunswick', 'rakesh', 'visavi', 'postmodern', '1516', 'ralat', 'ernst', 'passowrd', 'feelgood', 'anxietypleas', 'errand', 'bipartisan', 'reckless', 'buysel', 'nonjewish', 'ivf', 'nichola', 'mohit', 'boulder', 'e2', 'sunken', 'pathologist', 'isa', 'doha', 'finn', 'adel', 'tulli', 'ranogajec', 'mathxxmath', 'unsaid', 'gimmick', 'icf', 'claremont', 'vernier', 'didi', 'inver', 'tubem', 'sood', 'homophon', 'treaty1960', 'cdot', 'rdbm', 'arti', 'stemcentrx', 'irrefut', 'depp', 'i797', 'sar', 'fern', '“a”', 'huron', 'electromot', 'cgp', 'vibrant', 'hortonwork', 'fasciiti', 'aye', 'possum', 'plantar', 'trackpad', 'greas', 'expon', 'snowflak', 'underworld', 'smartpost', 'complext', 'weaken', 'truncat', 'minanc', 'semaphor', 'ignacio', 'vinc', 'nostalgia', 'endlessli', 'eventbrit', '1hour', 'picnic', 'electrodynam', 'esther', 'riordan', '1750', 'd7100', 'nepean', '“grey”', '“gray”', 'acton', 'longboard', 'megyn', 'borat', 'topoisomeras', 'yahweh', 'emin', 'midterm', 'kde', 'xfce', 'vand', 'mataram', 'spousepartn', 'uberlyft', 'koran', 'talmud', 'wozniak', 'pancrea', 'roe', 'liechtenstein', '2day', 'methodist', 'serbian', 'baton', 'inward', 'carriag', '500600', 'pci', 'frey', 'gpr', '37v', 'superfici', 'rooki', 'petal', 'aflam', 'nb', 'dailyweeklymonthli', '19year', 'costeffect', 'wile', 'shiamajor', 'witcher', 'twowheel', 'iren', 'rebound', 'santo', 'dlp', 'boner', 'mw', 'yemen', 'gosl', 'cavemen', 'musicdrum', '120k', 'rethink', 'mug', 'rosberg', 'prix', 'newark', 'prodigi', 'zhihu', 'cbd', '449', 'customiz', 'ioi', 'irrever', 'kuwaiti', 'homeopath', 'ud', 'repar', 'damon', 'taper', 'deform', 'hyena', 'cox', 'pict', 'theism', 'applesauc', 'shaken', 'thoughtwork', 'cinematographi', 'cogno', 'rwth', 'hcm', '55200mm', 'silverlight', 'kerbi', 'franchise', 'aiib', 'endeavor', 'differec', 'splash', 'bigfoot', 'utd', 'oppenheim', 'thingperson', 'demi', '106', 'manit', 'multimet', 'jhak', 'downey', 'mturk', 'cairo', 'contempt', '480', 'whiteboard', 'kth', 'hiit', '40yearold', 'shippûden', 'horu', 'inquir', 'unfavour', 'nate', '404', 'esperanto', 'victim’', 'pragu', 'tachyon', 'inlaw', 'anecdot', 'meteorologist', 'discrep', 'dime', 'unman', 'at', 'kajal', '300k', 'xmpp', 'antin', 'sci', 'breastfe', 'sairat', 'lowwag', 'mighti', 'roadway', 'triumph', 'unc', 'fortoward', 'jetblu', '140k', 'heterogen', 'checkbox', 'tenderloin', 'scorer', 'emotionless', 'crank', 'wwwnavrabeadscom', '03', 'bigdata', 'pol', 'burk', 'subtext', 'reccomend', 'oncampu', 'zara', 'profoundli', 'enslav', 'fro', 'staf', 'delphi', 'netbank', 'policeman', 'helplin', 'sleepwalk', 'wifegirlfriend', 'wellb', 'rupert', 'aqueou', 'kiva', 'padmanabhaswami', 'kaguya', 'kent', 'hoe', '6100u', 'unevenli', 'holograph', 'mengel', 'mensa', '6p', '318', 'ike', 'evict', 'apparatu', '230v', 'amor', 'calisthen', 'scotu', 'cmat', 'manti', 'stun', 'lor', 'headquart', 'eris', 'quadrupl', 'wasseypur', 'subash', 'bet365', 'exclam', 'habitat', 'kombat', 'urinalysi', 'wasabi', 'paedophil', 'pajama', 'euthan', 'limelight', 'histolog', 'uplink', 'disintegr', 'zac', 'efron', 'braill', 'blooper', 'conversationalist', 'cdse', 'unfinish', 'srilanka', 'subprim', 'ballpoint', 'preworkout', 'apron', 'hemorrhoid', 'klinefelt', 'requisit', 'modernday', 'plex', '1z0430', '941', 'rankin', 'byrn', 'ait', 'mamri', '940m', 'standpoint', 'patel’', 'augustsep', 'janata', 'psp', 'tantrum', 'sloka', 'truffl', 'exo', 'unknownless', 'student？', 'swimsuit', 'whywhi', 'jong', 'vani', '786', 'yuv', 'ncsu', 'recombin', 'friend’', 'saddl', 'nank', 'jhansi', 'catastroph', 'only2', 'outbound', 'masturbate3', 'cystic', 'poibp', 'menon', '2year', 'nfa', 'csa', 'spawn', 'modular', 'daith', 'torn', '4digit', 'ectop', 'avira', 'bucharest', 'f18g', 'naxalit', 'prasad', 'inaccuratewrong', 'earl', 'bpsc', 'chashmah', 'notari', 'antiabort', 'hummu', 'cos2', 'villa', 'nebraskalincoln', 'cae', 'practicum', 'ame', 'wilder', 'microorgan', 'chopper', 'rentacent', 'bahasa', 'tso', 'infarct', 'robinhood', '816g', 'skylin', 'oyster', 'muzzl', 'bolton', 'lecter', 'sara', 'clad', 'shatter', 'colonel', '4stroke', 'pacifi', 'crispr', 'isopropyl', 'scarf', 'throttl', 'amartya', 'rhombu', 'nook', 'richter', 'contractu', 'hooter', 'papaya', 'tution', '246', '086', 'boilermak', '1922', 'm553n', 'igor', 'mgb', 'cocki', 'obnoxi', 'surrogaci', 'pedestrian', 'unif', 'photoelectr', '5060', 'm16', 'voc', 'travi', '也是醉了', 'cityst', 'kaku', 'michio', 'uneven', 'chiropractor', 'ministerpresid', 'benchmark', 'ravish', 'lint', 'nicer', 'on2', 'dal', 'bayer', 'heaviest', 'peasant', 'oreilli', 'adenoviru', 'scamscon', 'universitycolleg', 'loom', 'zipcar', 'wisest', 'bigo', 'inn', 'booger', 'nanci', 'isentrop', 'timelaps', 'ars', 'vulva', 'thumbnail', '321', 'sixti', 'ponder', 'uteru', 'indiadonald', 'illegitim', 'copypast', 'conting', 'dsm5', 'hum', 'yg', 'afro', 'taunt', 'icbm', 'twoway', 'pointerbox', 'tambora', 'ahemdabad', 'todo', 'kawasaki', 'alliter', 'isil', 'schizoaffect', 'rulinska', 'lithuanian', 'roulett', 'v3', 'sertralin', '1978', 'odia', 'drona', 'wartim', '16k', 'protien', 'foucault', 'raghav', 'mhz', 'shanti', '2048', 'tapioca', 'astigmat', 'reno', 'mesra', 'biopsi', 'supersed', 'exorcist', 'kickthelistcom', 'polyp', 'doraemon', 'spur', 'greatwhit', 'carboxyl', 'kayak', 'freemasonri', 'wiliam', '932', 'greyhound', 'autotroph', 'beck', '73', 'sofa', 'lotto', 'gastli', 'emp', 'bestgood', 'wholeheartedli', 'inhuman', 'universitiescolleg', 'caricatur', 'es20', 'terra', 'codingprogram', 'rearrang', 'jock', 'quip', 'nontamil', '50hz', 'b12', 'lwp', 'handtohand', 'belaru', 'nsfw', 'kerela', 'hast', 'tehran', 'vimana', 'toptal', 'lettuc', 'censorship', 'mkgandhi', 'contempl', 'breakthrough', 'daredevil', 'assimil', 'progressiv', 'chemotherapi', 'kramer', 'bk', 'pedophilia', 'dassault', 'jecrc', 'tricep', '‘edgware’', 'colbert', 'messian', 'expend', 'exclamatori', 'gnp', 'rayban', 'plaza', 'world’', 'ketu', 'z2', 'fxi', 'sportsman', 'datingonlin', 'sitemap', 'andriod', 'f16', 'bile', 'hbase', 'satisfactori', 'untouch', '000', 'booksresourc', 'chatswood', 'durpin', 'paramilitari', 'excalibur', 'rs600', 'perpetr', 'pulp', 'macbok', 'mesa', 'haridwar', 'testo', 'biraci', 'oceanographi', 'cataract', 'pgdie', 'manhunt', 'sonu', 'chapati', 'productbas', 'miley', 'thymin', 'roopkund', 'tac', 'navel', 'tribal', 'mi4i', 'gautam', 'onetwo', 'chromat', 'glassdoor', 'amritapuri', 'caterpillar', 'timestamp', 'shook', '299', 'hci', 'oddest', 'oppurtun', 'tetanu', 'soror', 'chakravyuha', 'forgav', 'retarget', 'leecher', 'gambhir', 'radiographi', 'doomsday', 'sttatu', '40w', 'handshak', 'pclaptop', 'fullest', 'spurn', 'beliv', 'ucc', 'v20', 'altright', 'rakshabandhan', 'finalist', 'incentiv', 'springfield', 'intercontinent', 'veterinarian', 'fireplac', 'sunmoon', 'ndt', 'pedant', 'airtoair', 'pier', 'ferranti', 'reborn', 'tic', 'idbi', 'sewag', 'autodesk', 'greenland', 'tum', 'hisotri', 'bora', 'insead', '8085', 'bakr', 'ineffect', 'cordova', 'highprofil', 'cassava', 'dunkin', 'slimmer', 'peon', '5060k', 'carrey', 'shuffl', 'kmph', '9k', 'spanielbeagl', 'applecar', 'flappi', 'idolis', 'org', 'ganesha', '1234', 'astro', 'drove', 'tomboy', 'coreldraw', 'lawrenc', 'madli', 'termit', 'h1b1', 'blunt', 'disillus', 'creme', 'urologist', 'nitro', 'interrog', 'patronu', 'quanta', 'crypt', 'goeth', 'egotist', 'perjuri', 'puri', 'getch', 'cane', 'aeronauticalaerospac', 'edtech', 'dosh', '50yearold', 'ida', 'hungama', 'jah', 'impostor', 'ketosi', 'selfserv', 'polyvor', 'howto', 'hathaway', 'mather', 'whod', 'protrud', 'larynx', 'uncc', 'pathfind', 'chad', 'calorif', 'loosen', 'wanelo', 'braless', 'iiitbangalor', 'blackcor', 'humancomput', 'fibernet', 'wtc', 'xena', 'hapen', 'ddr4', 'comiccon', 'filibust', 'skim', 'heroku', 'zionist', 'simi', 'others’', 'cj', 'annexur', 'kosovo', 'ceg', 'dekho', 'strangestweirdestwildest', 'rheumatoid', 'infinitesim', 'heartbroken', '128bit', 's7582', 'confidenti', 'rug', 'amin', 'opc', 'hectic', 'dalvik', 'zidan', 'djokov', 'nadal', 'broil', 'weep', 'scampi', 'abv', 'syracus', 'ithow', 'liam', 'asansol', 'aurangzeb', 'sulli', 'z5200', 'gulp', 'slouch', 'jello', 'rex', 'neeson', 'questionansw', 'trp', 'coars', 'nyse', 'psychotherapi', 'crpc', 'pil', 'terrierbord', 'insta', 'upris', 'thee', 'bonsai', '10000000', 'songmus', 'monolith', 'shoplift', 'scada', 'tractor', 'movabl', 'lentil', 'rjio', 'landmass', 'humpti', 'dumpti', 'reword', 'onoff', 'createspac', 'billiard', 'dubiou', 'altuch', 'roth', 'babajobcom', 'fanboy', 'doodl', 'dosham', 'mundan', 'gell', 'disallow', 'spectra', 'botani', '£100000', 'shariah', 'fullsiz', 'fiji', 'lndia', 'lampoon', 'girlboy', 'iyengar', 'lowcarb', 'useful', 'eigen', 'atif', 'laggi', 'aslam', 'bhojpuri', 'lc', 'hippo', 'robotstxt', 'llp', 'strum', 'mahayana', 'vidhan', 'ghostbust', 'ail', 'mkv', 'magnum', 'rockstar', 'weber', 'problemissu', 'statur', 'iwant', 'polyglot', 'bajirao', 'hoverboard', 'tropospher', 'theravada', 'victor', 'arora', 'confederaci', 'bagel', 'daw', '2cm', 'unsign', 'rashtra', 'incidentev', 'iyer', 'aisl', 'semin', 'behanc', 'idli', 'springsteen', 'tidi', 'ingrati', 'scholl', 'holidaypiratescom', 'psalm', 'bookcas', 'fiveyearold', 'fairer', 'rsorder', 'alphabetagammadeltatheta', 'semicolon', 'westi', 'offspoil', 'katherin', 'fn', 'stormtroop', 'naga', 'mathematica', 'huntsvil', 'ritchi', 'jackpot', 'telltal', 'entrac', 'p1', 'scientologist', 'boggl', 'cobalt', 'symantec', 'motogp', 'ergonom', 'assyrian', 'impolit', 'spotlight', 'untru', 'platformmedium', 'onlineofflin', '50010002000', 'altman', 'layman’', 'rutger', 'shld', 'recondit', 'kj', 'somaiya', 'nairobi', 'faulkner', 'datastructur', 'blindli', 'dodon’t', 'ep', 'kowloon', 'saruman', 'origami', 'immers', 'endow', 'marten', 'frivol', 'foodi', 'jahan', 'hubspot', 'vasant', 'palmdal', 'selector', 'pottermor', 'x5', 'memorabilia', 'shitti', 'garcinia', 'cambogia', 'radioisotop', 'wot', 'adsorpt', 'verbatim', 'mathdisplaystylelimxto', 'serif', 'ev', 'alameda', 'downsampl', 'gatl', '7075', 'sqrt', 'nontech', '2step', 'f15', 'nginx', 'infti', 'nutritionist', 'shovel', 'andheri', 'nimcet', 'conquest', 'frustat', 'schindler', 'tablecloth', 'discriminatori', 'skid', 'mope', '7s', 'postit', 'mehndi', 'chopstick', 'kalpana', 'wifehusband', 'algo', 'limeric', 'aphasia', 'freefal', 'whiplash', 'fitch', 'advent', 'crucibl', 'bariton', 'psychotherapist', 'publicis', 'felon', 'won’t', 'abcd', 'outbrain', 'trumpclinton', '312', 'dirtiest', '1068', 'meerkat', 'excret', 'perfom', 'afresh', 'purina', 'dubstep', 'abercrombi', 'cannabismarijuana', '2stroke', 'leakag', 'milkshak', 'eli', 'workstat', '5yearold', 'compton', 'orphanag', 'angular2', 'predetermin', '₹25k30k', 'woven', 'mrf', 'maximis', '620', 'tnpsc', 'bloodiest', 'patrick', 'bastard', 'arrear', 'oneway', 'cyberoam', 'wavelet', 'stargat', 'aorta', 'iphone7', '20202025', 'iimjobscom', 'chawla', 'kimi', 'hearthston', 'hudson', 'nightwear', 'perfectionist', 'workabl', 'deforest', 'nyuad', 'zondlecom', 'wehrmacht', 'modestli', 'earthworm', 'horsemen', 'alma', 'unconstitut', 'bryan', '214b', 'nde', 'pinhol', 'hound', 'zebra', '1973', 'denatur', 'aguanga', 'stethoscop', 'd3j', 'alkyn', 'htmlcssjavascript', '153', 'pcmc', 'nonphys', 'undertal', 'omalley', 'anni', 'nightclub', 'bollywoodsh', '6100', 'lse', 'multivari', '380', '0s', 'rehabilit', 'cookbook', 'transcrib', 'gts7562', 'untrustworthi', 'obtus', 'orinda', 'predecessor', 'discours', 'stakehold', 'ordnanc', 'ibt', 'highspe', '863', 'sankranti', 'w9', 'motocross', 'ketogen', 'xenophob', 'manifesto', 'gandhinagar', '22yearold', 'shazam', 'trackimeicom', 'selfcent', 'snowstorm', 'farfetch', 'montessori', 'modal', 'upson', 'latina', 'invari', 'paintbal', 'handicraft', 'soetoro', 'canshould', 'scopu', 'sslc', 'bhilai', 'carbon12', 'midic', '457', 'ww', 'neglig', 'smriti', 'methadon', 'irani', 'bachao', 'nonsteroid', 'facto', 'robber', 'pocahonta', 'creatin', 'docx', 'gallbladd', 'darkseid', 'opencoursewar', 'zeitgeist', 'touristtrap', 'cydia', 'lobotomi', 'ungrat', '3case', 'nevertheless', 'congo', 'stepup', 'ccorp', 'filet', 'mignon', 'supplementri', 'oxal', 'nonchines', 'oligarch', 'j2', 'bred', 'bic', '1820k', 'hose', 'brightest', 'saraswati', 'kristina', '55200', '1985', 'cosplay', 'ave', 'ιχς', 'confectioneri', 'feud', '18140mm', 'litmu', 'nadi', '“sick”', 'firefight', 'niro', 'manohar', 'yeezi', 'actuat', 'inconvenienc', 'griffith', '6year', 'xaxi', 'exagger', 'lloyd', 'overanalyz', 'intership', 'tzuterri', 'nonresidentindian', 'archaeologist', 'baron', 'optimu', 'kilowatt', 'molten', 'navic', 'liion', 'tupac', 'hercul', 'lagrang', 'factsincid', 'pio', 'niser', 'orgin', 'biometr', 'annuiti', 'frisbe', 'z10', '8bit', 'defacto', 'phrasal', 'oedipu', 'v10', 'islamophobia', 'ender', 'dystopian', 'haven', 'pentagon', 'suffic', 'davisco', '33mailcom', 'newcom', 'hobb', 'calvin', 'debbi', 'rsquar', 'typewrit', 'caviar', 'peyton', 'msd', 'jami', 'kerbal', 'enigma', 'faulti', 'entrylevel', 'ato', 'webster', 'intra', 'renderman', '0°c', 'preinstal', 'beliz', '1300', 'coolidg', 'swede', 'oet', 'egyptolog', '167', 'bhagwad', 'cartel', 'shek', 'nonhindu', 'rayon', 'intermitt', 'eq', 'amc', 'oo', 'scipi', 'itinindiacom', 'shaox', 'nonwhit', 'aict', 'yuri', 'scoliosi', 'postbrexit', 'loath', 'serp', 'anarch', 'vsco', 'note3', '322', 'glide', 'iranianpersian', 'prine', 'catharsi', 'hampton', 'aureliu', 'recollect', 'hindranc', 'hc', 'jmeter', 'nonengin', 'stanza', 'rx350', 'paw', 'eoi', 'stagflat', 'stuart', 'syring', 'ministerwhat', 'airship', 'megapixel', 'that’', 'lakshmi', 'pbuh', 'davv', 'question”', 'dixit', 'rediscov', 'fayettevil', '2a', 'hybri', 'pacquiao', 'selfmad', 'mangalorean', 'chippewa', 'cusat', '24th', 'unborn', 'axb', 'h2c2o4', 'anyone’', 'lookup', 'aquamarin', 'sofia', 'shree', 'geocach', 'wolfram', 'ftii', 'ranveer', 'gerrard', 'avion', 'washi', '946', 'vento', 'lafayett', 'tighten', 'eldest', 'whay', '60d', 'nakamoto', 'satoshi', 'málaga', 'stag', 'airplay', 'spanishamerican', 'radiolog', 'tijuana', 'epson', 'helm', 'maven', 'staten', 'counterintuit', 'ambienc', 'woodi', 'redshift', 'polyurethan', 'durgapur', 'toledo', 'dietari', 'bust', 'bigot', 'cohort', 'winehous', 'zo', 'macedonia', 'galway', 'undead', 'dicken', 'ios9', 'h2co3', 'shiba', 'gti', 'prognosi', 'namelast', 'joyc', 'saral', 'odbc', 'goenka', 'rabbi', 'disband', 'kalyug', 'optin', 'proov', 'orthofil', 'nimitz', 'explicitli', 'pongal', 'neurolinguist', '075', 'clitor', 'miscommun', 'biodiversity\\u200f', 'pimp', '190000', 'alaskan', 'clit', 'inu', 'antibjp', 'swcc', 'pgimer', '19000', 'balboa', 'tatooin', 'svc', 'superrich', 'hutu', 'baker', 'scofield', 'followyour', 'baywatch', 'allahu', 'settop', 'unrespons', 'celibaci', 'turkic', 'businessstartup', 'ni', 'atkin', 'melissa', 'tutsi', 'plea', 'servicenow', 'windsurf', 'gogeta', 'pastrami', 'singleton', 'kundali', 'yog', 'provoc', 'pitru', 'eureka', '24gb', 'andrei', 'indemand', 'pyrex', 'bod', 'catalog', 'armynavyairforc', 'glg', 'wunderlist', 'mckenna', 'reduction', '4x2', 'plt', 'holliday', 'c6h12o6', 'rajdhani', 'todoist', 'savannah', 'joshi', 'crepe', 'prasoon', 'blain', 'sjw', 'edgi', 'babyboom', 'atria', 'ginkgo', '196', 'perchlor', 'youraverageguy', 'bret', 'dehshat', 'swipebust', 'nubra', 'auora', 'lutyen’', 'piezoelectr', 'unidentifi', 'virusbacteria', 'engrav', 'moviesshow', '475', '¨the', 'jdownload', 'chic', 'best¨', 'discomfort', 'foeticid', 'societ', 'zurich', 'gmp', 'agd', 'absolv', 'beverli', 'wether', 'sangli', 'sitar', 'doctorsmed', 'bajrangi', 'pepperoni', 'allyoucaneat', '2in1', 'bhaijaan', 'receptionist', 'boa', 'housejoy', 'tarantula', 'mistleto', '5005u', 'ackman', 'backlash', 'vidyalaya', 'wuhan', 'bovril', 'woodros', 'cosmetolog', 'galactu', 'exocrin', '80m', 'signboard', 'kendriya', 'eligibl', 'npn', 'tesco', 'lansdown', 'chap', 'barefoot', 'marlboro', 'phono', 'melanchol', 'javaje', 'taxiway', 'cem', 'svr', 'rereleas', 'malaviya', 'cradl', 'anwar', 'tacfon', 'maneuver', 'neat', 'gist', 'redwood', 'junip', 'decrimin', 'yaya', 'pessim', 'ferguson', 'overpow', 'torontogta', 'vishakhapatnam', 'no2', 'babycent', 'textinginternet', 'ikr', 'gucci', 'cortison', 'postpr', 'mk', '1650', 'sati', '2pac', 'explorerex', 'burial', 'juda', '955', 'polyth', 'tij', 'decrementincr', 'pgcet', 'slowdown', 'financeinvest', 'anwer', 'vaccum', 'isotherm', 'redgreen', 'primit', 'midst', '2kg', 'npt', 'misguid', 'cines', 'safesecur', 'minicab', 'punic', 'timeshar', 'g20', 'cardiologist', '1967', 'sts107', 'antiballist', 'bruno', 'olacab', 'taash', '3gb', 'eastward', 'pac', 'delist', 'ø', 'upcast', 'sinai', 'denounc', 'n1', 'bigelow', 'overcrowd', 'aeg', 'vlookup', 'ashley', 'shoehorn', 'mnnit', 'felina', 'sccm', 'neet2017', 'hapa', 'downcast', 'callidu', 'company”', 'oppen', 'mimicri', 'pauli', 'coalmin', 'lang', 'barrack', 'balagurusami', '“thing”', 'racquet', 'kosam', 'alllow', 'de0', 'altera', '1220', 'plasmodesmata', 'manu', 'cauliflow', 'sonnet', 'poru', '2530', '13÷2', 'allstock', 'outlier', 'scorm', 'gba', 'glare', 'belittl', 'combinator', 'lasi', 'newst', 'rexit', '11yearold', 'fran', '385', 'if3', 'savvi', 'genisi', 'undereduc', 'sheridan', '25pound', 'plaqu', 'postul', 'chara', 'gunpowd', 'mann', 'vhp', 'travancor', 'back”', 'd23', 'erasmu', 'c40', 'a02', 'antitheft', 'grammer', 'a501cg', 'counterstrik', 'socail', 'mel', '940', 'creak', 'antibacteri', 'anthropologist', 'mcommerc', 'superscriptsubscript', 'aristocrat', '1921', 'parrellel', 'directx', 'apn', 'drinker', 'poststructur', 'mathanmath', 'mathamath', 'iesgat', 'walkin', 'digniti', 'westward', 'manoeuvr', 'in', 'hussain', 'tiananmen', 'xiaop', 'deng', 'gcd', 'wap', 'bandag', 'bim', 'chamc', 'psb', 'stargaz', 'forbi', 'm40', 'm30', 'earphoneheadphon', 'imap', 'beetl', 'armani', 'coron', 'unopen', 'mathemath', 'jugnoo', 'extj', '“matter', 'infra', 'sieg', '½', 'vir', 'nicholson', 'graci', 'tvseri', 'repositori', 'math3147', 'gingiv', 'unluckiest', 'primerica', 'bassist', 'yearn', 'machineri', 'jai', 'xedit', 'q800', 'activitymemoryconcentr', 'malawi', 'bentley', 'knw', 'neerja', 'hitech', 'phonon', 'plebiscit', '1976', 'xenophobia', 'deputycom', 'salespeopl', '290', 'shisha', '16000', 'adhaar', 'monti', 'wallonia', 'nordstrom', '1905', 'lalu', 'rabid', 'redon', 'flirti', 'dani', 'odac', 'trumph', 'tympan', 'awe', '2yearold', 'murthi', 'gsocgoogl', 'flander', '1996', 'lazer', 'doorstep', 'eliquid', 'tipu', 'keylog', 'sequr', '2750u', '555', 'turpitud', 'netsuit', 'mashabl', 'answerquest', 'coli', 'kimmel', 'fallon', 'planu', 'lichen', 'm605n', 'invicta', 'hawker', 'crimedramamysterythril', 'liveloop', 'msba', 'aimgoal', 'womengirl', 'biplan', 'jamaican', 'compli', 'lazar', 'osx86', 'hackintosh', 'inazuma', 'lbw', 'potentiomet', 'secondsminut', 'chu', 'bidi', '80211', 'khanna', 'reservoir', 'valmiki', 'syllog', 'siames', 'realm', 'slowcook', 'frontier', 'heartwarm', 'dominion', '714', 'buzzumicom', 'calangut', 'tiffani', 'rr', 'philanthropist', 'corgigolden', 'naturalist', 'lexmark', 'shopclu', 'typo', 'glutamin', 'magritt', 'unauthor', 'himselfherself', 'fastrak', 'azeri', 'miscarri', '1959', 'sentinel', 'nexa', '8060', 'tirupur', 'hmo', 'amygdala', 'winrar', 'gazpacho', 'fanni', 'topdown', 'snowfal', 'cag', 'xor', 'qaida', 'runaway', '15hr', 'gadot', 'ciliat', 'monolid', 'majest', 'spore', 'rgipt', 'tennyson', 'kyrgyz', 'foolishli', 'hog', 'conson', 'technopark', 'kumari', 'exif', 'nalsar', 'murga', 'waffl', 'tempo', 'receptacl', 'prblm', 'bitseduc', 'me…', 'directi', 'priebu', 'reinc', 'bnbr', 'zest', 'yahoocom', 'mindnumbingli', 'undermin', 'dismal', 'barehand', 'hela', 'paxil', '“ulysses”', 'spinoff', '107', 'multilevel', '1939', '‘the', 'crest', 'superintend', 'cwc', 'ehr', 'kendal', 'masterb', 'fertilis', 'esata', '1213', 'retard', 'morrison', 'pakistani’', 'kwh', 'styrofoam', 'motil', 'vh', 'mang', 'labview', 'gpio', 'onevolum', 'mauric', 'millet', 'msmd', 'encash', 'companiesplan', 'tetra', 'webcom', 'gendri', 'semit', 'draper', 'flatten', 'alison', 'à', 'silva', 'clorox', 'pinto', 'naturopathi', 'hookedonphonicscom', 'roux', '700000', 'turnkey', 'wan', 'obi', 'swarthmor', 'techi', 'baccarat', 'hue', 'fantasis', 'peremptorili', 'adversari', 'here', 'barbarik', 'loi', '1617', 'rohan', 'mk4', '226', 'processor’', 'dvdrip', 'suryavansham', 'kejrowal’', '400m', 'proxyvpn', '3week', 'tyndal', 'vanderbilt', '2×4', 'germanium', 'africanblack', 'ajith', 'pranab', 'tarli', 'mollusk', 'heavyweight', 'octopu', 'multithread', 'nutmeg', 'latinohispan', 'noniim', 'characterand', 'cafeteria', 't3', 'polyphas', 'dadar', 'duplex', 'sunshin', 'deviou', 'stung', 'redownload', '211', 'magpi', 'malmö', 'lingayat', 'casteism', 'virar', 'groundwork', 'nishit', 'codi', 'blackrock', 'honk', 'evok', 'hobbyist', 'juror', 'retribut', 'mci', '1minut', 'uttaranch', 'msmtech', 'brian', 'whiteout', 'apic', 'jockstrap', 'spacey', 'usit', 'backsid', 'gfp', 'hackerearth', 'ddose', 'booklet', 'popey', '18k', 'fugit', 'checkout', 'cling', 'phillip', 'plait', 'wittgenstein', 'heptan', 'radix', 'gpen', 'relevantli', 'bush´', 'warmest', 'lcateja', 'pupillari', 'ar15', 'harddisk', 'nuclei', 'hilli', 'heroic', 'teriyaki', 'belliger', 'kpo', 'prosecutor', 'matterenergi', 'fryer', 'deepmind', 'laxmikanth', 'puf', 'bullion', 'm2035724', 'downstream', '5km', 'milliondollar', 'vmax', 'pakistanoccupi', 'jigglypuff', 'cubesmithcom', 'namami', 'generatedreleas', 'dabi', '\\x7fwhat', 'diadem', 'ox', '∃x', 'fortran', 'jpop', 'ncc', 'vertica', 'gtb', 'f2', 'stardom', 'chipmunk', 'antitank', 'friendlier', 'mobilecel', 'bequeath', 'tremor', 'chromatin', 'bayern', 'scot', 'mediclaim', '8051', '35cm', 'fanduel', 'ferric', 'loanword', 'accutan', 'raina', 'gujrati', 'abbott', 'nepal’', 'despic', 'reali', 'hoprap', 'lactaid', 'swept', 'ana', 'simplist', 'fisheri', 'erebor', 'benefitedlearn', 'genretyp', 'maxx', '92f', 'beretta', 'helper', 'tastemak', 'dekho2016', 'mahamantra', 'secreci', 'dprk', 'justdial', '2022', 'zylbercom', 'apple’', 'plung', 'spencer', 'ucsf', 'quietest', 'shaq', 'pgdbm', 'texliv', 'khouri', 'xuv500', 'eleanor', 'akashi', 'hardcod', 'thorin', 'lpg', '530am', 'thranduil', 'kp', 'xfile', 'flashlight', 'anagram', 'dsl2750u', '000€', 'ramon', 'paneer', 'ankita', 'kershaw', 'movhashcom', 'allergen', 'fora', 'kellogg', 'geekiest', 'deva', 'renin', 'renal', 'dismember', 'vivek', 'incandesc', 'govtogethercom', 'kaepernick', 'diphu', 'ldl', '10÷22', '2ndyear', 'practition', 'undef', 'constitutionalist', 'cornstarch', '1xmath', 'mathfx', 'pai', 'obscen', 'khajuraho', 'downloadgener', 'meso', '512', 'drm', 'washroom', 'infest', 'companyorganis', 'circa', 'oe', '2yr', 'ecom', '415', 'forto', 'geostationari', 'jug', 'balkan', 'tancredi', '20yr', 'nomenclatur', 'indiachina', 'yodle', 'bartman', 'miata', 'gtr', 'hippopotamu', 'weightless', 'splint', 'undecid', 'paydivvycom', 'koh', '4th5th', 'crud', 'embroil', 'badmouth', 'biotechnologyundergrad', 'nste', 'hummer', 'suckl', 'secess', 'wpi', 'bosnian', 'cayman', 'cadaver', 'liba', 'upolu', 'atletico', 'painkil', 'conagra', 'superdeleg', 'businesswhat', '203', 'koffe', 'kanchi', 'ming', 'imperm', 'hull', 'banquo', 'utmost', 'plead', 'weaver', 'lewin', 'dwell', 'suction', 'cavali', 'irv', 'shuld', 'mentallyphys', 'shastra', 'maze', 'what’r', 'virali', '3a', 'needless', 'toluen', 'barnard', 'exorc', 'disgrac', 'perquisit', 'remnant', 'navajo', 'ate”', 'eaten”', 'pandem', 'seagul', 'foggi', 'pringl', 'fishermen', 'matheran', 'readwatch', 'wellsfargo', 'twitterati', 'electrolux', 'mirik', '970', 'sheeran', '₹5001000', 'monocot', 'darci', '1b', 'holeinthewal', 'anixt', 'sang', 'bloomer', 'assistantship', 'ndimens', 'duryodhan', 'macoupin', 'bhm', '1953', 'copyrightfre', 'aurobindo', 'edwina', 'indianmuslim', 'chans', 'rlwl1', '439–2178', 'expresid', 'pelvic', 'burrough', 'm20x', 'rx', 'feedli', 'czestochowa', 'religioncast', 'societygovern', 'reattach', 'corel', 'electrif', 'macworld', 'foliag', 'wagah', 'qzss', 'beidou', 'muammar', 'mcclellan', 'maha', 'namibia', 'serialseri', 'welingkar', '100year', 'gnu', 'cod', 'rosa', 'yellowwhit', 'canin', 'simciti', 'brio', 'funk', 'uptown', 'bacalaur', 'iasir', 'ust', 'macintosh', 'protist', 'oce', 'brownian', 'cartier', 'achiv', '5mg', 'rajnik', 'augustin', 'exit1', 'exit0', 'salicyl', 'flatli', 'pseudocod', '10cgpa', 'leq', 'ymath', 'frac', 'dogfight', '1v1', 'tanz2', 'tany2', 'donna', 'partyplan', 'searchlight', 'glasswar', 'gilmor', 'motel', 'bitspilani', 'kalasin', 'hyperextend', 'kili', 'polk', 'groupcommercecom', 'bahai', 'i’ll', 'eveteas', 'camzap', 'oneonon', 'foxpro', 'maori', 'tanx2', 'russojapanes', 'slayer', '189190', 'brightli', 'headscarf', '200r', 'investopedia', 'bharata', 'twain', 'liy', 'foreshadow', 'caprio', '610', 'distributorship', 'carat', 'unsort', 'tig', 'ascorb', 'beaglebrittani', 'classlectur', 'piram', 'anis', 'congratul', 'oxbridg', 'shrapnel', 'gw', 'sfv', 'rubin', 'puducherri', 'voodoo', '2math', 'geq', 'mathn', 'tinker', 'darken', 'ruskin', 'hypertalk', 'dhaka', 'rori', 'southpaw', 'martingal', 'bunn', 'shavedhead', 'diner', '371', 'counterclockwis', 'japura', 'gwern', 'upstream', 'fidget', 'trex', 'autobackup', 'marketscom', 'didntdon’t', 'fem', 'rudimentari', 'wayplaceinstitut', 'palladium', '30year', 'coutri', 'layaway', '4yearold', 'embark', 'ginni', 'gent', '188', 'brittani', 'jessica', 'vidarbha', 'diazepam', 'centroid', 'akc', 'theistic', 'musa', 'mansa', 'ultrabook', 'scmhrd', '1z0554', 'platelet', 'cannabidiol', 'irrevers', 'doppelgang', '“where', 'blandest', 'stationpicn', 'shoelac', 'turkspersiansarabsmuslimsjew', 'eeve', 'antivirus', 'epiderm', '935', 'matcha', 'hashad', '52nd', 'r2d2', 'addanyproject', 'liu', 'indecis', 'seeman', 'suspicion', 'otterbox', 'dayquil', 'bazoocam', 'istj', 'badarpur', 'nlsiu', 'mancan', 'pythondjango', 'unedit', 'unclaim', 'nearsight', 'startl', 'propylen', 'fico', 'irrespons', '7star', 'postgresql', 'actressess', 'paracetamol', 'sht', 'ppe', 'damien', 'realianc', '650157', 'moldova', 'government’', '443', '√31', 'submers', 'dalhousi', 'xander', 'armband', 'treutlen', 'middlewar', 'subsidiari', 'iptv', 'truckcar', 'kerman', 'demotiv', 'everon', 'mht', 'snowbal', '4xdxmath', 'sexless', 'hola', '630', 'newsmal', 'monistat', 'cro', 'centralis', 'kalkandu', 'chitkara', 'swahili', 'btechb', 'frnd', 'phosphoryl', 'headshot', 'borg', 'antioch', '“mainstream”', 'maaco', 'cormen', 'devri', 'pron', 'cleans', 'recaptur', 'mamba', 'burmes', 'adolph', 'dyn', 'broomstick', 'guarneri', 'buttockswhat', 'thier', 'peepal', 'ul', 'xtra', 'increasingli', 'hiss', 'manchurian', 'greenwich', 'eb', 'sidebar', 'intermediari', 'extrapol', 'afhq', 'indopakistani', 'ilayaraja', 'g19', '2n1', 'deepen', 'foe', 'misinterpret', 'ebank', 'neobux', 'taki', 'kinder', 'ntpc', 'raktabija', 'asura', 'judo', 'slick', '502', 'maxwel', 'countryregion', 'boondock', 'sparrow', 'fivesecond', 'liposuct', 'leicest', 'inaccuraci', 'siskiy', 'vvip', '7letter', 'defrag', '8–15', 'krygnzcuisin', '189', 'looser', '15mg', '75kg', 'sif4', 'werther', 'bn', 'stimuli', 'yamagata', 'midsumm', 'moviebook', 'manish', 'handlebar', 'ocajp', 'gl', 'gurd', 'gojeecom', 'pomegran', 'mitsuha', 'whitelabel', 'gabriel', 'psoriat', 'bgv', 'geologist', 'stimulu', 'thana', 'rhoad', 'xxx', 'neistat', 'akward', 'gg', 'imeetzu', 'technologysci', 'phoenician', 'jaish', 'enneagram', 'bandartist', 'shonen', 'sathyabama', 'policemen', 'casey', 'log3', 'burhan', 'glycogen', 'barbi', 'multisim', 'kwid', 'nonkorean', 'despina', 'olivera', 'vijaya', 'greasi', 'afterburn', 'housew', 'videogam', 'electroscop', 'kaleidoscop', 'keyvalu', 'clearer', '1549', 'polytrop', 'regal', 'rcmp', 'lunat', 'scorn', 'weightloss', '900000', 'screwdriv', 'dung', 'commercialis', 'pumba', 'hbti', 'upse', 'idc', 'miscellan', 'bhai', 'hologram', 'sheriff', 'indiawhat', 'aditya', 'puneindor', 'handstand', '24x7', '1800v251’‘4919', 'fpi', 'patriarchi', 'fey', 'mustknow', 'bilingu', 'prudish', 'peggi', 'vapouris', 'iwe', 'gaiden', 'repopul', 'pinata', 'i10', 'librat', 'emv', 'g4plu', 'colt', 'c2070448', '20kg', 'nagisa', 'anglosaxon', 'tolani', 'floater', 'plotlin', 'codec', 'crème', 'celeri', 'counteract', 'asparagu', 'proschool', 'poision', 'tunein', 'cytosol', 'parlanc', 'adp', 'shirk', 'spacial', '360degre', 'sidewalk', 'emo', 'sabr', 'tanakh', 'phogat', 'bataan', '1415', 'werewolf', 'galvanomet', 'nasal', 'jawlin', 'pacifica', 'geophys', '5seri', '“christians”', 'guvera', 'doo', 'scoobi', 'rajiv', 'jeyn', 'nlc', 'gilt', 'paula', 'bronchiti', 'politecnico', 'glute', 'kimono', 'kmno4', 'mcu', 'getchar', 'nonarab', 'rangevof', 'ofcours', 'visafre', '350cc', 'alba', '030', 'blanch', 'congressman', 'cristo', 'grendel', 'viper', 'unreleas', 'vernacular', 'sclerosi', 'microbi', 'sn', 'warship', 'deuterium', 'ist', 'aghori', '1030', 'disaccharid', 'wayback', 'shinchan', 'tonn', 'insignia', 'flatiron', 'qiymatcom', 'mastani', 'makarand', 'freshli', 'yudhisthira', 'yearround', '70d', 'quintillion', 'untrac', 'nil', 'refrain', 'gokart', '65006600k', '13579111315', 'kabbadi', 'psa', 'yama', 'provinci', 'm506x', 'rhonda', 'geotherm', 'teradata', 'jade', 'shaki', 'tezpur', 'scoopwhoop', 'malakkappara', 'htaccess', 'scikitlearn', 'magnific', 'vallenar', 'iamtexancom', 'lifi', '精神赵家人', 'caulk', 'righthand', 'multiplex', 'oportun', 'loveh', 'provolon', 'dialer', 'breathless', '1014', 'dreamlin', 'em1', 'inept', 'tsar', 'eyelin', 'bpharmaci', 'jaishemohammad', 'septic', 'tariq', '50€', 'niacin', 'jj', 'diya', 'exfriend', 'pillcapsul', 'srpk', 'xdrive', 'kalyanam', 'fibril', 'socketio', 'toolbox', 'midsiz', 'muni', '12578', 'bluf', 'parliamentarian', 'saluki', 'cloudfront', 'mussel', '1152', 'kefir', 'cat16', 'changeupd', 'meredith', 'handi', 'q3', '9s', 'couchdb', 'superscript', 'rtu', 'babasaheb', 'meiji', 'gme', '900k', 'stride', 'mould', 'qianan', 'backstab', 'commenc', 'matha1math', 'uppercast', 'spectral', 'krakow', 'heardread', 'fugu', '5gb', 'manor', '650155', 'lagoon', 'flashpoint', 'ama', 'nonperform', 'herhi', 'napkin', '1969', 'improperli', '扣帽子', 'gettin', 'phabric', 'snuff', 'reactn', 'filthi', 'uniformli', 'lachung', 'wsdl', 'down’', 'nectar', 'angola', 'pillion', 'filepilecom', '1981', 'europa', 'hsa', 'laminar', 'flyover', 'lookb', '625', 'vdi', 'tfidf', 'recoverreset', 'bonjour', 'bitnami', 'ifram', 'gian', 'skillet', 'veerappan', 'pepsico', 'cohost', 'lowel', 'overcharg', 'lgbti', '•', 'ogden', 'solips', 'uchicago', 'komodo', 'aventador', 'deceler', 'submerg', 'crypto', 'pasword', 'somaliland', 'pretenc', 'canteen', 'oppo', 'premam', 'frack', 'dadi', 'rennet', 'cove', 'jobdreamingcom', 'noncitizen', 'betel', '173', 'mogu', 'lightyear', '₹5000', 'chariot', '10k₹', 'bsu', 'diffrent', 'viewsrespons', 'rubio', 'cablevis', 'jatropha', 'niagara', 'robottxt', 'contrari', 'rave', 'overrun', 'angrier', 'livework', 'leftliber', 'ancestr', 'asp', 'disorgan', 'lyness', 'quaker', 'shelbi', '179', '1000000000', 'endocrinolog', 'appdynam', 'pizzeria', 'altruism', 'bocconi', 'abysm', 'misb', 'hegd', 'isolationist', 'reasonhow', 'girlfrien', 'doubancom', 'cornflak', 'intrag', 'fob', 'harish', 'overkil', 'ddf', '4400', 'shabbat', 'kellyann', 'sgot', 'mob', 'upworthi', 'syriac', 'cheroke', '4hr', 'briberi', 'huffington', 'nonreact', '223', 'cuttingedg', 'outward', 'tagor', 'atviewingwatch', 'hoarder', 'powerbank', '1214', 'tta', '“historic”', 'shaolin', 'juneau', 'unlist', 'evercar', 'rabindranath', 'subfold', 'croat', 'xxyearold', 'steno', 'biodata', '3am', 'amla', 'reimburs', 'frigidair', 'stomata', 'disassoci', 'clipboard', 'labdoorcom', 'harrison', 'dataentri', 'froze', 'complianc', 'development', 'suriya', 'alfredo', 'slingshot', '38000', 'makati', 'antimicrobi', 'rajnikanth', 'heck', '5digit', 'fondli', 'scantili', 'lago', 'drummer', 'taleb', 'nassim', 'primal', 'salmonella', 'unlaw', 'monism', 'ifv', 'cit', 'afv', 'usbas', 'joul', 'omnipot', 'katana', 'mathbfrn', 'dressrosa', 'gunfre', 'tumbl', '931', 'estatemarkercom', 'epidemi', 'emuls', 'newlyw', 'mpharm', 'cirqu', 'startupcompani', 'wahhabi', 'hebbian', 'blossom', 'broiler', 'lessen', 'afp', 'eso', 'n00b', 'icet', 'luckier', 'lortab', 'plaintiff', 'passkey', 'dracula', 'zoro', 'gft', 'stepdad', 'engineeringwhat', 'haploid', 'oligarchi', 'forgetten', 'nonjew', 'brat', '1week', '123456', 'parathyroid', '“reklam”', 'softli', 'framerj', 'shadi', 'seperatist', 'quattro', 'rani', 'clegan', 'nawalgarh', 'egift', 'yaoi', 'dispens', 'telephoto', '70300mm', 'supermass', 'm4v', '964', 'afar', 'elicit', 'sexposit', 'amass', 'mingl', 'waterc', 'hightow', 'rog', '1k5k', 'bhowmik', 'vitruvian', 'unseat', 'marnier', 'shiit', '7hour', 'hollywoodtv', 'powergrid', 'riddler', 'condominium', 'hota', 'pursuant', 'akhtar', 'opta', 'huntsman', 'kle', 'we', 'wattag', 'igdtuw', 'grapholog', 'eau', 'homingcom', 'equilibria', 'babylonj', 'snarki', 'thetan', 'anf', 'pierr', 'scrabbl', 'billionar', 'flipbook', 'claw', '√22√22i', 'brotherinlaw', 'joinhoney', '天下為公', 'wooplr', 'meantim', 'keam', 'kaiser', 'implod', 'irfan', 'kapu', 'underpaid', 'imran', 'yif', 'resuscit', 'intensifi', 'outofplac', 'aircondit', 'surefir', '958', 'minc', 'memento', 'soch', '50mph', 'violet', 'loong', 'planetarium', 'tract', 'incarcer', 'busin', 'conservativespiritcom', 'chakra', 'huntington', 'and', 'aerial', 'opencart', 'mcguffin', 'obliqu', 'adventist', 'obergruppenfuhr', 'nvh', 'scree', 'hazrat', 'worl', 'unqualifi', 'tesol', '2pin', 'tablespoon', 'leftright', 'overridden', 'gangbang', 'densest', 'carrol', 'stainer', 'tat', 'xplane', 'vocab', 'lubrex', 'upwhat', '156”', 'vivobook', 'salween', 'servicesit', '30100', 'megadeth', 'bactrim', 'dpi', 'rocco', 'tomboyish', 'tochopherol', '“vuforia', 'chaman', 'icard', 'voltron', 'optometri', 'precari', 'taxonomi', 'scallop', 'hdi', 'ramsey', '70534', 'kometa', 'rata', 'brook', 'lamest', 'veyron', 'yummi', 'dijkstra', 'eic', 'earth´', 'adhi', 'autocrat', 'raboi', 'apologet', 'keith', 'thetrump', 'tmt', 'xm', 'myelin', 'blueberri', 'nietzch', 'intial', 'earnsav', 'tsarist', 'mcmuffin', 'smithfield', 'sunlik', 'shkreli', 'efx', 'microvascular', 'ucm', 'chauvinist', 'dxm', 'nmda', 'rin', 'teri', 'maida', 'mathpi', 'niantic', 'carlin', 'twit', 'shorttemp', 'gshock', 'pastur', '127', 'tit', 'tardi', 'participatori', '1yr', 'lutheran', 'swoggicom', 'valar', 'dand', 'wwwremotestylistcom', 'midc', 'sandisk', 'qustion', 'malibu', 'fstop', 'chargi', 'sfdc', 'episcopalian', 'raut', 'nacha', 'malmo', 'initio', 'solari', 'merino', 'radian', 'devop', 'dilaudid', 'overdr', 'livestock', 'centiped', 'sasha', '816', 'flounder', 'rdio', 'noisecancel', 'terrex', 'm4', 'shortsight', 'gcead', 'cheyenn', 'preffer', '1925', 'yx2', 'completli', 'ahmad', 'faiz', 'optead', 'sbipo', 'buffay', 'prehistor', 'reebok', 'krishnamurti', 'enfj', 'freon', 'ernakulam', 'lehladakh', 'edema', 'pokégym', 'chhe', 'som', 'kissanim', 'pashto', 'uva', 'desktoplaptop', 'flax', 'lifebydesigncom', 'zap', 'knob', 'woodward', 'uniers', 'ghar', 'borden', 'kazakh', 'zuckerburg', 'youngstown', 'multipay', '1099misc', 'fandango', 'enchant', 'roomcarpet', 'hadid', '30000000', 'malinoi', 'mgt', 'shepherdhuskylabrador', 'sutra', 'uffizi', 'unwil', 'ashx', 'sarabhai', 'toxin', 'madinah', 'emmc', 'dearest', 'ideat', 'tendinopathi', 'sedul', 'alt', 'capexempt', 'meer', 'utterli', 'madden', 'epidermi', 'nsw', 'rcb', 'codegroundin', 'trainspot', 'graeber', 'underaround', 'synopsi', 'citycountri', 'affection', 'ifsc', 'transluc', 'vardhan', 'kalanick', 'sonc', 'iodid', 'tungsten', 'trespass', 'spong', 'cx', 'rh', 'babysitt', 'masterchef', 'gauch', 'turmoil', 'noidadelhi', '1930', 'godzilla', 'cubon', 'brandon', 'interestingcreativememor', 'vol', 'beaglebon', 'nasr', 'uw', 'tournez', 'crossword', 'bipc', 'norvig', 'crypt7', '“chikitsa”', 'crpf', 'coloc', 'diabol', 'sonata', 'kune', 'jeet', 'callosum', 'berber', 'kurdistan', 'undetect', 'mig21', 'ttsporcom', '504', 'nsqrt', 'interviewe', 'enum', 'aplast', 'formul', 'kaggl', 'challan', 'milleni', 'foo', 'decaf', 'sneaki', 'khandala', '800000', 'anterior', 'deist', 'sig', 'nh2oh', '08', 'mussoori', 'menboy', 'maynard', 'pmt', 'erod', 'cuttingsl', 'nutritionnutri', 'sion', 'expeci', 'fec', 'rubidium', 'traceabl', 'tundra', 'quartic', 'muffler', 'nonmath', 'biostatist', 'dusti', 'wakrat', 'opi', 'p90x', '480p', 'havard', 'ldce', 'soshould', '1016i', 'acpc', 'ripper', 'mathfracdydx', 'ls', 'johann', 'hasid', 'writeprotect', 'warmong', 'adfli', 'kino', 'nuj', 'aritar', '120000', 'relegion', 'xcel', 'ha', 'polaris', 'lgbtqi', 'be1st', 'fig', 'iiitb', 'ipsec', 'patek', 'impreza', 'cpanel', 'mathln', 'hubri', 'mchc', 'ijeir', 'fandom', 'keyn', 'bleuflammecom', '7v', 'bharati', 'eyecolor', 'pygam', 'yuphoria', 'ρ', 'atherosclerosi', 'ibdp', 'barrymor', 'class10', 'transgress', 'comsol', 'tomarrow', 'creto', '2000000', 'nat', '20n', 'camu', 'babysit', 'tamilan', 'relic', 'boer', 'randwick', '90012000', 'cpv', 'soar', 'spitfir', 'firstli', 'so…', 'iwork', 'unacademyin', 'gemston', 'objectifi', 'qep', 'dietfood', 'hotlin', '15year', 'blindfold', '50006000', 'frisk', 'townsend', 'hyphen', 'gaurav', 'prejud', 'vasil', 'lactat', 'topsycom', 'daal', 'finalyear', 'sulawesi', '981', 'gce', 'outofst', 'dieudonné', 'maher', 'alanganallur', 'umbrella', 'veaux', 'sathvik', 'reddi', 'erla', 'kiran', 'capitol', 'qiqqa', 'of1250', 'blake', '7plu', '100kw', 'mindhow', 'amu', 'bulgur', 'chainsaw', 'iosandroid', 'allopathi', 'cardiovascular', 'jetlin', 'preown', 'loveinterest', 'jiepangcom', 'hafiz', 'ken', 'ordinarili', 'quinci', '128gb', 'poppin', 'radiotelescop', 'lacross', 'lakeport', 'sesam', 'biriyani', 'oneminut', 'customis', 'eagerpanda', 'tamu', 'cantaloup', 'udit', 'aneurysm', 'lakeland', 'semifin', 'sarvep', 'como', 'gusto', 'deux', 'misbehav', 'number’', 'terraria', 'neoclass', '4m', 'ephedrin', '4v', 'mutex', 'diddo', 'pont', 'rockefel', 'swf', 'gamet', 'betweem', 'anaconda', 'c2150202', 'nigger', 'gamesalad', 'deakin', 'najeeb', 'ipodiphon', 'imrov', 'timetrack', 'nonstatutori', '306', 'delv', 'abhishek', 'dabba', 'hominem', 'kyro', 'cobi', 'delhiit', 'bharath', 'queef', 'consequenti', 'testng', 'pseudointellectu', '311', 'ebt', 'sfu', '28000', 'dominica', 'discworld', 'pratchett', 'terri', 'pvr', 'sixpack', 'calico', 'tortoiseshel', 'buckl', 'gapp', 'consular', 'dudley', 'lxml', 'inund', 'yercaud', 'scarc', 'elton', 'paleontolog', 'ejuic', '240000', 'liquidatederadicatedabolish', 'dichrom', 'roomat', '6500', 'jordyn', 'glo', 'mathura', 'lighthead', 'rankwis', 'farmerpro', 'reconsid', 'auxiliari', 'sardar', 'vallabhbhai', 'hysi', 'echelon', 'bcell', 'religionfaith', 'kkr', '2g3gvoic', '4q', 'lifecycl', 'pallonji', 'shapoorji', '114', 'gilli', 'skrill', 'quich', 'techmahindra', 'hh', 'z3200', 'rackonscom', 'gallston', 'kabbalah', 'superslim', '5400', '307', 'lyk', '12hour', 'sanderss', 'cjava', 'mukamm', 'mathsin2xmath', '5002000', 'abid', '“what', 'sherperdgreat', 'bingo', 'knowb', 'franz', '7d', 'unrefriger', 'freed', 'slump', 'symbian', 'x201', 'x202', 'aima', 'diggl', 'benign', 'lei', 'trooper', 'behold', 'asson', 'rené', 'psychatist', 'italoroman', 'tyrann', 'siberia', 'cmb', 'jugaadugarcom', 'laurel', 'r12', 'math1', 'busan', 'agonist', 'audiovideo', 'fentanyl', 'pamper', 'shepherdlab', 'feta', 'catenari', 'hangzhou', 'caraf', 'worksheet', 'moviestv', 'texttospeech', 'camshaft', 'autoencod', 'tamron', 'booksarticlesblogsetc', 'transmitt', 'diablo', 'defit', 'offload', 'meep', '426', 'triac', 'humma', 'waitstaff', 'decentr', 'hamadan', 'meir', 'grub', 'dht', '∈', '6pm', 'youin', 'endometrium', 'groundnut', '11g', 'gambit', 'ambigu', 'indianapoli', 'gitam', '¥', 'raman', 'fatehgarh', 'rstudio', 'marburi', 'basilisk', 'maytag', 'ashwagandha', 'shareabl', 'freericecom', 'fax', 'helmholtz', 'promissori', '080kmph', 'lufthansa', 'mascarpon', 'cipher', 'germanynorway', 'flourless', 'megaupload', '6gb', 'bacardi', 'splunk', 'institu', 'doubleslit', 'happpen', 'hcf', 'tantric', 'madera', 'placenta', 'surfboard', 'rwanda', 'kajol', 'weasley', 'hair”', 'menlo', '2what', 'vidyamandir', 'wesleyan', 'commis', 'svu', 'rephras', 'autoforward', 'delloit', 'transduct', 'subtli', 'handloom', 'mck', 'epfo', 'cerber', 'pessat', 'civ', '65k', 'maxi', 'cordon', '6÷212', '18650', 'weibo', 'groundbreak', 'hatedislik', 'hieroglyph', 'crt', 'remembr', 'pycharm', 'simplylearncom', 'sleepless', 'brighten', 'etruscan', 'lga', 'bleu', 'nav', 'sartr', '8090', 'colgat', 'genderneutr', 'cashmoney', 'standford', '9o0glecom', 'seagal', 'hiristcom', 'win7', 'dandan', 'wix', 'holist', 'flock', 'corset', 'outrun', 'shahid', 'dissip', 'scyther', 'irl', 'inox', 'us’', 'gurukul', 'shud', '950m', 'keenmobicom', 'klum', 'heidi', 'aax', 'titin', 'denni', 'ambros', 'hilbert', 'savdhan', 'bharathindustan', 'pompeii', 'nocaptcha', 'helio', 'vengeanc', 'unveil', 'wav', 'webhost', 'isha', 'icahn', 'xbmc', 'dualclutch', 'ay', 'nonpolit', 'fanlik', 'postsecondari', 'obedi', 'zelda', 'ree', 'renegad', 'englishlanguag', '70432', 'srib', 'craze', 'groov', 'paella', 'benzema', 'amperag', 'keylogg', 'ahmadabad', 'bandsmus', 'melena', 'indica', 'condon', 'rooftop', 'petrochem', 'howd', 'htm', 'raider', 'carr', 'includestdioh', 'boggart', 'salesperson', 'alkal', 'mendelian', 'funnier', 'csi', '417', '762', 'misrepres', 'uzbekistan', 'pranayama', 'murph', 'plainli', 'ay201516', 'environmentalist', 'vma', 'mavic', 'slat', 'microbiologist', 'vcr', 'mathxx10math', 'roboto', 'corgibeagl', 'dealwhi', '2035', 'bayutcom', 's2…sr', 's1', 'triathlon', 'so3', 'solicit', 'unreserv', '几', '多少', 'xn', 'bison', 'coven', 'yiannopoulo', 'milo', 'yogic', 'dmart', 'triglycerid', 'doabl', 'tam', 'phumelo', 'zürich', '3°c', 'diastema', 'deepseat', 'goali', 'demor', 'repost', 'sequestr', 'scm', 'rbc', 'drivein', 'pornhub', 'nonremov', 'trebek', 'inunderofov', 'startcreat', 'twofac', 'ampersand', 'husband’', 'sdmcet', 'gutkha', 'pakistanrussia', 'memoir', 'refinanc', 'catelyn', 'ecologist', 'cutthroat', 'positiveneg', 'baffl', 'boast', 'guerilla', 'rightangl', 'semolina', 'mwh', 'entré', 'sixpenc', 'strix', 'hyperthyroid', 'broadli', 'nickelodeon', 'soccerfootbal', 'ast', 'sindhi', 'cando', 'peroxisom', 'calicut', 'brussel', 'xt', '986', 'ghetto', 'rung', 'djzcom', 'proudli', 'scandium', 'na2co3', 'thermoplast', 'const', 'preipo', 'kinabalu', 'citiestown', 'tild', 'mayank', 'riya', 'tux', 'workgroup', 'imesh', 'schwann', 'cdc', 'stub', 'cbt', 'shortlong', 'mac’', '458', 'noninfj', 'nirbhaya', 'rado', 'slideshar', 'midair', 'debitcredit', 'upholst', 'thermoelectr', 'arlington', '025', 't5', 'camper', 'whr', 'siem', 'lasso', 'eea', 'pfsens', 'barbecu', 'handcuf', 'sdxc', 'restless', 'soc', 'tun', 'selfident', 'productsservic', 'ahok', 'httpswwwyoutubecomwatchv', 'livermor', 'banter', 'sin1x', 'tripura', 'redtail', 'maidsama', 'germin', 'kaichou', 'mau', 'wwwtevitalianstylecom', 'rind', '30120k', '1893', 'khan’', '11pm1am', 'pesa', 'am', 'botswana', '\\ufeff', 'cil', 'airwatch', 'capistrano', 'zr', 'unifundscom', 'bbsr', 'falsetto', 'yuyutsu', 'incompress', 'boyfriend’', 'fortifi', 'fluorid', 'thinli', 'c2180377', '21a', 'legsbodi', 'overpay', 'dunningkrug', 'sanjay', 'cornea', 'throneswhat', 'weeksmonth', 'weaveweft', 'mea', 'ppo', 'tomtom', 'apm', 'hotelshomestay', 'stoppag', 'abolit', 'perceptu', 'nowday', 'expansionist', 'slash', 'not', 'filtrat', 'sdl', 'internmatchcom', 'lengthen', 'rl', 'yeti', 'definetli', 'curious', 'outag', 'garena', 'amoxicillin', 'tia', 'turnoff', 'kalki', 'calibri', 'gopichand', 'sandal', 'corgi', 'relainc', 'snorkel', 'marvin', 'microexpress', 'more', 'hominid', 'neji', '1800–251–4919', 'shepherdterri', 'chashma', 'poepl', 'lobbyist', 'tpm', '65000', 'ittefaq', 'dec2016', 'gangrap', 'bapu', 'differnec', 'nrg', 'galgotia', '1957', 'hollist', 'ligo', 'bedbug', 'crevic', 'juvenil', 'trimethoprim', 'cotrimoxazol', 'kickasstorr', 'chassi', 'harddriv', 'brouhaha', '2mbp', 'porblem', 'manitoba', 'squeamish', '5hour', 'shutterfli', 'adalin', 'muham', 'binocular', 'bramha', 'voraci', 'svnit', 'situp', 'minded', 'tardigrad', 'dysphoria', 'nonbinari', '→', 'reinvest', 'eva', 'ander', 'calor', 'twotier', 'aichi', 'lard', 'cashinhand', 'popper', 'eeduc', 'baggi', 'taxreturn', 'doubleclick', 'iguana', 'flerikacom', 'kotak', 'nirvana', 'pacemak', '22000month', 'orb', 'trivago', 'abt', 'nineti', 'slager', 'pomad', 'trigo', 'calmli', 'signup', 'explicit', 'outperform', 'miso', 'saridon', 'parser', 'instapap', 'khalistani', 'kejariw', 'wwwabundancestockadvisorscom', 'lifo', 'eritrea', 'smallvil', 'zubat', 'whitefield', 'chinapakistan', '2016what', 'grade12', 'doorman', 'enceph', 'homescreen', 'pentan', 'midcap', 'rda', 'refuel', 'bhagawan', 'ks', 'rationalist', 'ethyl', 'wristwatch', '4mg', 'cliqu', 'pierogi', 'hibernia', 'uberola', 'incompat', 'wwwwtsofcom', 'storegoogl', 'cmdex', 'mid2014', 'putnam', 'ello', 'padhao', 'expressingexperienc', 'memtech', 'mangalyaan', 'unity3d', 'stint', 'clapton', 'qqemail', '“pleas', '143', 'payris', 'jamali', 'aftershav', '13000mah', 'gild', 'uca', 'seodigit', 'eec', 'huskygerman', 'mathex2math', 'greener', 'bigrock', 'uganda', 'gulenist', 'screamo', '“metaanalysis”', 'qs', 'paver', '12inch', 'brd', '°c', 'hereaft', 'freaki', 'granola', 'evidencebas', 'ellison', 'bookseri', 'selffund', 'dent', 'houzz', 'xpath', 'buchanan', 'wwwwheystarcom', '“thank', 'manos', 'c3c4', 'ihav', 'aristocraci', '50l', '250r', 'levit', '4day', 'epo', 'eftpo', 'todayrt', 'norri', 'youyour', 'frederick', 'electrochem', 'phasor', 'aggressor', 'selfstart', 'polypropylen', '199', 'imput', '675', 'kendo', 'lye', 'roadtrip', 'kitchenaid', 'chattooga', '“this”', 'cordless', 'trolley', 'reputationcom', 'republish', 'auburn', 'shatner', 'corrector', 'redbul', 'nai', 'talcum', 'aayog', 'labcoonhound', 'selfsatisfact', 'lest', 'cardigan', 'monotheist', 'suiss', 'stepbystep', 'ase', 'parlier', 'twentieth', 'kaziranga', 'deafblind', 'ointment', 'dynast', 'transpacif', 'tarmac', 'premad', 'shrimad', 'vocalist', 'supermodel', 'rubix', 'kasich', 'chapo', 'vitamix', 'uric', 'malaga', 'inmo', 'ambival', 'nonmagnet', 'humancent', 'ferrel', 'ppi', 'somethingsomeon', 'topperheadoncom', '187lb', 'askin', 'keeper', 'archicad', 'designrel', 'tolstoy', 'karenina', 'itwil', 'meghalaya', 'joanna', 'coincident', 'jpl', 'townhal', 'heartwrench', 'temari', 'mouthpiec', 'igat', 'unsalt', 'mcb', '255', 'ah', 'meritn', 'crackverb', 'pythaguru', 'manya', 'entendr', 'koe', 'shepherdgolden', 'giver', 'feast', 'mening', 'avers', 'pop3', 'imap4', 'longlast', 'premonit', 'tdd', 'edushastra', 'unmerg', 'pathogenesi', 'teal', 'unnot', 'syphili', 'payback', 'niammycom', 'nonskip', 'nonpric', 'auli', 'taoism', '201112', 'cetirizin', 'scvngr', 'simmon', 'gunk', 'magi', 'bloodstream', 'sewer', '8yearold', 'nip', 'gripen', 'sde1', 'wellpaid', 'smirnoff', 'lissncom', '280', 'pgcfr', 'yep', 'saab', 'vincent', 'est', 'peppermint', 'sportsperson', 'cede', 'wong', 'vitrifi', 'ahalya', 'maltipoo', 'mbapgdm', 'astoria', 'ketchum', 'peptobismol', 'memphi', 'amex', 'productservic', 'herzegovina', 'bella', 'muse', 'frictionless', 'atr', 'feb', 'facewash', 'mueller', 'ethnographi', 'eyr', 'scabi', 'familyfriendli', 'maoist', 'aristotelian', 'santorum', 'roadrunn', 'viabil', 'rita', 'prehistori', 'swacch', '100mg', 'periodont', 'solr', 'morcha', 'lohan', 'comminut', 'dimmer', 'fittest', 'filmfilm', 'dweller', 'omg', 'don´t', 'tipstrick', 'plzz', 'mast', 'kranti', 'selfdef', 'tonkin', 'delight', '“allah”', 'numberonli', 'smtp', 'haiku', 'imvu', 'mahabalipuram', 'myrtl', 'linger', '350k', 'mandi', 'gunda', 'sorta', 'x22', 'tuscaloosa', 'precum', 'aardman', 'jurgen', 'bernard', 'novelstori', 'preteen', 'tith', 'mbox', 'furthest', 'ailment', 'glazer', 'mcd', 'faustu', 'rizal', '’what', 'scsi', 'indoctrin', 'omar', 'abdullah', 'turkmenistan', 'reunif', 'glimps', 'daa', 'endometriosi', 'stye', 'cardiolog', 'paywal', 'softbank', 'spike', 'sideway', 'libgdx', 'unhygien', 'insomniac', 'aphrodisiac', 'bestmytestcom', 'exemplar', 'dali', 'pitbulllabrador', 'pharmacognosi', 'aint', 'todat', 'athelet', 'kilt', 'subsaharan', 'bungalow', 'smg360h', 'clixsens', 'cat2017', 'nimitzclass', 'weimar', 'sama', 'unreport', 'incident', 'regrowth', 'schoolmat', 'clergi', 'slipper', 's0tx', 'garud', 'inexperienc', '11°', 'carta', 'clench', '“complicated”', 'arraysstack', 'x6', 'lumos', 'kasturba', 'maremaid', 'whitman', 'albino', 'dickinson', 'acidosi', 'gustav', 'schwerer', 'aur', 'bigotri', 'atmdebit', 'bpcliocl', '70410', 'estonian', 'anova', 'manstein', 'tasker', 'gymnasium', 'lenevo', 'agm', 'mew', 'feroci', 'likewis', 'glacial', 'maki', 'carpool', 'broth', 'kneel', 'bldc', 'sep', 'realt', 'm3', 'gassi', 'hakusho', 'dissapear', 'filezilla', 'healdsburg', '‘ennikkum’', 'teletext', 'appml', 'farther', 'antihindu', 'outing', 'wwdc', 'noninerti', 'shank', 'hoursday', 'bittersweet', 'lucario', 'borneo', '201718', 'kibbutz', 'bookmyshow', 'cartoonist', 'hitchcock', 'blackhat', 'eidet', 'jinah', 'storyscript', 'discreet', 'offduti', 'maneuv', 'linda', 'gokarna', 'zendesk', 'anoint', '144000', 'tatoo', 'headhunt', '436', 'mitac', 'glorifi', 'hazar', 'mathlatexmath', 'scooti', '125cc', 'blackfyr', 'postmat', 'mjolnir', 'emberj', 'backbonej', 'h20', 'handgun', 'comed', 'adminstr', 'classact', '1e', 'lnx', '“cute”', 'neoliber', 'schneider', 'irasc', '2xmath', 'mathco', 'gecko', 'vada', 'preper', 'checkmark', 'disaronno', 'fiit', 'alkyl', 'valium', 'y5070', 'mormont', 'nonfilipino', 'gaussian', 'vishal', 'megabyt', 'drawberrycom', 'wwwbuttermyresumecom', 'ect', 'tricks4mecom', 'sonmarg', 'edwin', 'wwwdirtyandthirtycom', 'lowend', 'cumberbatch', 'they’v', 'sumo', '250w', 'mozilla', '416', 'samung', 'cic', 'ita', 'strongwil', 'rjailbait', 'pregnent', 'birther', 'lube', 'cherenkov', 'nuru', 'isv', 'procedurecondit', '100000000', 'wherebi', 'gregari', 'x12', 'resnick', 'halliday', 'extravert', 'buckboost', 'pomodoro', 'topest', '305—how', '500rupe', '2000rupe', 'walli', 'trapezium', 'raaz', 'khali', 'opec', 'woo', 'namewhat', 'परिचर्यात्मकम्', 'ghori', 'scripp', 'stifl', 'botnet', 'swarm', 'energyeffici', 'gaylesbianbisexu', '1416', 'trai', 'dateam', 'duryodhana', 'devon', 'dalali', '“yen”', 'm604dn', 'websiteapp', 'bombard', 'neem', 'techinfographicscom', 'catalan', 'khoon', 'doughnut', 'vacant', 'shaktiman', 'jargon', 'q7', 'ballroom', 'songs？', 'bharadwaj', 'uml', 'isoton', 'flytrap', 'recoup', 'alias', 'fetti', '1billion', '60th', 'fasten', 'kruskal', 'tau', 'belfort', 'gogo', 'ourself', 'electrologist', 'basu', 'bipasha', 'reattempt', 'istqb', 'shirley', 'senil', 'contort', 'amoeba', 'croni', '\\u200b\\u200b', 'zantac', '81pro', 'objectivist', 'lenov', 'powerhous', 'viscer', 'larva', 'goten', '308', 'bikan', 'odessa', 'grindelwald', 'ove', 'wealthier', 'duski', '26yearold', 'reengag', 'aquif', 'tucker', 'bum', 'inborn', 'crutch', 'mlc', 'avenu', 'haley', 'nikki', 'cdrom', 'lovemak', 'roar', 'scra', 'staircas', '60yearold', 'sideeffect', 'ck', 'averi', 'misinform', 'gsb', 'rosemari', 'thirdyear', 'tranform', 'inflow', 'remast', 'durkheim', 'gmt', 'relativist', 'vxi', 'orzo', 'strarv', 'clasico', 'autobahn', 'radiowav', 'chronograph', 'wattmet', 'mgm', 'boyfriendhusband', '‘circle’', 'sturdi', 'jodi', 'laptoptablet', '496254365815', '49', 'sakshi', 'natasha', 'kirk', 'zte', 'undiscov', 'changeadd', '840m', 'pitbullchihuahua', 'kishor', 'handcraft', 'bjpmodi', 'theorit', 'transatlant', 'spygat', 'misti', 'nematod', 'x7', '4hour', 'selfservic', 'kakatiya', 'd3100', 'monalisa', 'idiomat', 'creta', 'hkust', 'f1opt', 'congenit', 'homi', 'inland', 'rooney', 'yorkshir', '472', 'tlm', 'fatwa', 'vattin', 'beleiv', 'bagh', 'phenq', 'ecotour', 'refactor', 'supris', 'initramf', 'corrobor', 'penumbra', 'umbra', 'midwif', 'shankaracharya', 'airstrik', 'willcan', 'mag', '4600', 'maharashtrian', 'glycerol', 'arushi', 'pretzel', 'herm', 'ecofriendli', 'strengthsweak', 'unpredict', 'himym', 'shorthand', '181', 'hypereutectoid', 'ravioli', 'threephas', 'superdri', 'kakao', 'foreclosur', 'bhagavadgita', 'freepaid', 'anandiben', 'pran', 'ashana', 'why’', 'moocselearn', 'dun', '‘meese’', 'kobo', 'jhunjhunu', 'raspberrypi', 'bexley', 'polio', 'websitedatabas', 'champaign', 'c3o3h6', 'ostrich', 'nonhindi', 'hevc', 'porter', 'saraswat', 'anneal', 'mendel', 'onwith', 'hectr', 'plough', 'bilirubin', 'silicifi', 'mathfrac1x2', 'bedsheet', 'subspac', 'herbert', 'auricl', 'kolibri', '\\u2060\\u2060\\u2060what', 'rockwel', 'laker', 'guangdong', 'tcf', 'gopinath', 'fiat', 'schweser', 'suffoc', 'gaffar', '40mm', 'gryffindor', 'hunch', 'irrfan', 'manometr', 'nero', 'angelo', 'baum', 'hardboil', 'augmentin', 'stumbleupon', 'nalanda', 'chromic', 'brighter', 'gymnosperm', 'noncor', 'repaid', 'sexmen', 'overtaken', 'wring', 'sbsx', 'zapier', 'bossa', 'playground', 'gundam', 'gn', 'rottweilerbox', 'betweeen', 'mep', 'cuttack', 'viva', 'sheik', 'maul', 'stockhold', 'a0', 'bladeless', 'cytokin', 'hybridis', 'juggernaut', 'fafsa', 'xdxmath', 'chinchilla', '626g', 'seaforth', 'orovil', 'hootsuit', 'eachoth', 'yourself”', '“be', 'perch', 'fermion', 'pariba', 'bnp', 'diat', 'bestkept', 'betawork', 'sr71', 'bb8', 'dream11com', 'tact', 'elucid', 'dta', 'indiahow', 'h2so4', 'horrid', 'atat', 'tvprogram', 'garcia', 'wikianswerscom', 'bellatrix', 'meanest', 'country…', 'wherewhat', 'yesno', 'bharti', 'thanedar', 'ramaiah', 'i56th', 'faraway', 'prefin', 'x86', 'guterr', 'archimed', 'gantt', 'warzon', 'norton', 'bori', 'outgrown', 'localis', 'dissimilar', 'charan', 'laissezfair', 'clevel', 'noncsit', 'meridian', 'teleolog', 'applet', 'kauna', '935am', 'forbad', 'shore', 'villier', 'mushrif', 'doze', 'withhold', 'activia', 'dolor', 'earthlik', 'computer', '1525', 'tft', 'manomet', 'ddwrt', 'paddington', 'qvc', 'baur', 'carscom', 'mathλmath', 'lewinski', 'meager', '32k', 'manganes', 'huracan', '166', 'caster', 'borax', 'slime', 'gooey', 'scorp', 'redhead', 'nonleth', 'm604n', 'maricopa', 'fearless', 'namo', 'bestworst', 'nonvoic', 'annot', 'nonworkout', 'wifepartn', 'nourish', 'goodaverageplay', 'backtest', 'akira', 'infosec', 'tee', 'uiet', 'kearn', 'jeffrey', 'divorce', 'remi', 'mutini', 'off', 'gatees', 'pinner', 'lovato', 'smother', 'volumetr', 'cardiff', 'freudian', 'tracfon', 'rochest', 'multiprocess', 'kunti', 'broli', '293', 'knockout', 'gill', 'epf', 'skillselect', 'scamadvisorcom', 'invadedeclar', 'intang', 'uracil', 'i130', 'eog', 'pheromon', 'reachabl', 'arunach', 'extenz', 'taimur', 'trembl', 'ammo', 'mysteryhorror', 'salami', 'kaplan', 'electri', 'chancellor', 'microservic', 'flagella', 'cilia', 'riley', '505', 'livingston', 'todolist', 'hosseini', 'khale', '201415', 'afsb', 'poc', 'chronomet', 'endorphin', 'reacher', 'chaitanya', 'rightswip', 'tallow', 'tissnet', 'manuscript', 'hsd', 'netconnect', 'extrins', 'aftereffect', 'veil', 'mnp', '70kph', 'eckhart', 'agi', '24000', 'subvers', '55000', 'lid', 'ashwin', 'kila', '1rule', 'prologu', 'clearest', 'hydroxyl', 'thyme', 'm1m2', 'codeblock', '952', 'spf', 'huskar', 'amulyamin', 'nrega', 'bois', 'redfin', 'homer', 'virend', 'mistreat', 'euron', 'aarm', 'timei', 'viejo', 'aliso', 'childbirth', '422', 'lasagna', 'clump', 'autopilot', 'compression', 'webmast', '640xl', 'बेहराल', 'durex', 'ob', '1031', 'stirrup', '15x', 'micat', 'molass', 'chafe', 'sergeant', 'trudeau', 'peacekeep', 'branson', 'zakat', 'prestashop', 'learnedgain', 'you’d', 'emv22', 'ke2r', 'mutil', 'mip', 'splatter', 'hegemoni', '501c3', '6500u', 'difer', '910', 'scp', 'tvalu', 'replenish', 'hasn’t', 'powerhungri', 'fundscredit', 'ioffercom', 'countless', 'wendi', 'quasi2d', 'blindspot', 'ophelia', 'mimic', 'progun', 'r32', 'lenienc', 'quora’', 'dvr', 'scoop', 'twitter”', 'timbaland', '“weird', 'mv', 'shire', 'sutherland', 'codebas', 'paprika', 'nonmatt', '411', 'nikkor', 'analytici', 'hemp', 'ondemand', 'artefact', 'preform', 'mees', 'mitchel', 'berti', 'lightin', 'septoplasti', 'promethazin', 'polygen', 'minni', 'gpsc', 'hydron', 'gv', 'shifuji', 'boleyn', '176', 'rottweilergerman', 'unimport', 'patreon', 'mandir', 'sweatshop', 'huckleberri', 'n300', 'flawless', 'cla', 'wiccan', '590', 'showsmovi', 'hypoallergen', 'badger', 'unacademi', 'shoolini', 'shun', 'harem', 'vivaci', 'amerco', 'overstock', 'consign', 'leftfrac62right', 'eggless', 'frat', 'squint', 'disassembl', 'nicasio', 'wholli', 'rectal', '脑洞大开', 'giddi', 'jitendra', 'trombon', 'nutella', 'kalman', 'addepar', 'forklift', 'baccalaur', '6math', 'kongka', 'waltz', 'rdx', 'roug', '56wh', 'zbrush', 'pronorthern', 'constrain', 'seventi', 'softer', 'boomer', 'gonorrhea', 'katniss', 'finvizcom', 'bpt', 'sciatic', 'neurobion', 'sitecor', 'hantai', 'submin', 'dispel', 'ashkenazi', 'rhce', 'winscp', 'coplanar', '60m', 'kodiak', 'kirpan', 'conur', 'hail', 'lavish', 'wen', 'fictiti', 'yeono', 'hookup', 'egovern', '3math', 'clawback', 'hf', 'crumpl', 'doduo', 'defragment', '240265', 'statehood', 'mathsin', 'timespac', 'frosti', 'rukmini', 'base64', 'emerson', 'ganesh', 'farright', 'athavada', 'cobb', 'tizen', 'hypnotherapi', 'uncov', 'cbsse', 'katcr', 'superbik', 'touchpad', 'stratergi', 'psychosi', 'prudent', 'engineeri', 'ekg', '“really”', 'relienc', 'soylent', 'flabbi', 'imi', 'yank', 'endanger', 'cr2032', 'shaurya', 'teleprompt', 'undercut', 'intergalact', 'nucleolu', 'newport', 'createdsupport', 'midseason', 'pathankot', 'resili', 'z97', 'iban', 'nani', 'voluntari', 'gumtre', 'chestnut', 'convoc', 'jre', 'mnist', 'happn', 'mdlivecom', 'unground', 'ther', 'octal', 'thisiswhyimbrokecom', 'valyrian', 'glasnost', 'plier', '134', 'hashirama', 'screech', 'barn', 'serf', 'tarragon', 'chatter', 'tirifjorden', 'tripod', 'nearbuy', 'mulch', 'statistician', '12std', 'tiwari', '20°c', 'constrict', 'sectarian', 'buff', 'microfin', 'marinara', 'excerpt', 'pushnotif', 'hierarch', 'pachelbel', 'cosx', 'justbuylivecom', 'ciali', 'waldo', 'metalloid', 'breezer', 'fractan', 'bettor', 'hoist', 'upanishad', 'bcd', 'bolder', 'equipotenti', 'malcolm', 'aj', 'kirkland', 'alcatel', 'jamestown', 'punchnama', 'pyaar', 'aquila', '1z0435', 'w3school', 'provabl', 'statesethn', 'likealittl', 'indochina', 'knowninterest', 'crankshaft', 'desu', 'albuquerqu', 'copilot', 'milpita', 'testdriven', 'heliocentr', 'vuestro', 'husbandwif', 'nm', 'irresist', 'linod', 'indefinet', 'exess', 'bewafa', '19216801', 'platyhelminth', 'seiko', 'currentcarri', 'sectionwis', 'hmm', 'sf4', 'pitbulllab', 'theyd', 'copernicu', 's6s5s4note', 'frasier', 'anon', 'datemarri', 'proengin', 'parenthes', 'pssed', 'tio', 'dilip', 'adler', 'symptomscould', 'gta5', 'shivam', 'iin', 'decolon', 'powerlift', 'dug', 'tarek', 'butan', 'tte', 'dynamodb', 'koolaid', 'redford', 'thaam', 'aperson', 'beltan', 'semiot', 'berk', 'wpbeginnercom', 'δ', 'bangaluru', 'dea', 'accomod', 'fatah', 'rainwat', 'miniproject', 'aung', 'glt', 'chirp', 'dean', 'md5', 'overear', 'jindal', 'c100si', '1290', '3gwifi', 'communitarian', 'trickl', '1816', 'dsg', 'kyi', 'suu', 'bhutto', '27k', 'schooldo', 'texan', '712', 'guava', 'relook', 'arri', 'penitentiari', 'midseptemb', 'kama', 'roaster', 'kohl', 'cursor', 'm5', 'welldesign', 'earplug', 'reliablebest', '1day', 'egot', 'spree', 'unvers', 'inattent', 'nonretina', 'climacter', 'angloindian', 'ratha', 'guywhat', 'hersh', 'heterozyg', 'homozyg', 'pacer', 'pebbl', 'proteu', 'abash', 'ascrib', 'optionsjob', 'cochlear', 'generos', 'dumbo', 'inhibitor', 'عايز', 'sheena', 'hubba', '3000mah', 'selfprep', 'preposter', 'payu', 'py', 'klm', 'stanton', 'nigam', 'tyrant', 'phosphid', '3–6', 'audiolog', '5050', 'inton', 'gandhiji', 'bicuri', 'userfriendli', 'deshpand', 'euclid', 'stinki', 'clickbait', 'nonsal', 'symposium', 'introvers', 'scotti', 'calend', 'esso', 'rostov', 'amnesti', 'turntabl', 'vend', 'etooscom', 'northwest', 'principia', 'abomin', 'as400', 'flintston', 'kollywood', 'securitiesicici', 'orissa', 'itwhat', 'demis', 'pex', 'lowtech', 'nonunion', 'tupl', 'webmethod', 'electrolyt', 'glanc', 'crackpot', 'sigmaaldrich', 'freegem', 'militia', 'slant', 'pitradetig', 'meetm', '31th', 'radium', 'bal', 'inan', 'sodiumpotassium', 'nasm', 'perot', 'goldberg', 'nf', 'eindhoven', '668', 'koan', 'instacart', 'nonviol', 'condeleeza', 'powel', 'gigg', 'chadha', 'bulimia', 'iitk', 'khizr', 'cesar', 'camden', 'extort', 'noetic', 'undress', 'redbox', '175k', 'onega', 'destabil', 'bliss', 'glamor', 'exsist', 'jest', '10year', 'nonimmigr', 'shepherdsiberian', 'chlamydia', 'azamgarh', 'fecal', 'payload', 'rogan', '1080i', 'tributari', 'guntur', 'chung', 'koramangala', 'vilniu', 'uncontact', 'algoquest', 'rime', 'tambrahm', 'sfo', 'milia', 'topqual', 'maraud', 'amyduscom', 'perceptron', '7121', '1475fp', 'replay', 'cosbi', 'keypad', '2x2', '1z0521', 'rtb', 'douchebag', 'xtp', 'artform', 'hornadi', 'hollowpoint', 'feat', 'malefemal', 'electur', 'vram', 'hyperact', 'filmi', 'jameson', 'intersess', 'arpu', 'claustrophobia', 'project”', 'timber', 'brazzer', 'hade', 'interdisciplinari', 'uav', '5–6', 'cat2016', 'cohes', 'saif', 'friendsi', 'snif', 'eileen', 'kshatriya', 'bundi', 'johannesburg', '07', 'peugeot', 'bucknel', 'inscrib', 'certainli', 'megger', '4x4', 'man’', 'atlassian', 'declaw', 'likesdislik', 'photogen', 'fatter', 'truism', 'concaten', 'maggot', 'inbetween', 'zigzag', 'evador', 'creampi', 'panhala', 'usfda', 'webspher', 'waitress', 'kyle', 'hypoglycemia', 'inscript', 'src', 'iimab', 'backach', 's4a', 'umpir', 'samberg', 'cascod', 'cascad', 'sh', 'interestingli', 'hamid', 'dwarka', 'benjen', 'wwwexpertchoicein', 'cocl', 'cfse', 'aoe2', 'ballad', 'kr', 'antholog', '103', 'arp', 'prouv', 'a5', 'stipul', 'generalus', 'graveyard', 'eigenvalu', 'breviti', 'deliciousevil', 'easydifficult', 'onomatopoeia', 'magdalen', 'msme', 'harbour', 'risotto', 'sommeli', 'samantha', 'osteen', 'blower', 'prussia', 'crick', '132', 'petersburg', 'midflight', '013', 'freebi', 'sophi', 'holographi', 'monterrey', '2x4', 'bridgewat', 'hardgain', 'remit', 'bradman', 'pacino', 'slinki', 'mule', 'tarzan', 'cauchi', '25kg', 'middleton', 'anthrop', 'sharbat', 'qbasic', 'fled', '538', 'toptalentin', 'tsunad', 'girlfriend’', 'manchu', 'amazoncouk', 'focuss', 'krk', 'paso', 'mustafa', 'swati', 'meenu', 'hirohito', 'upeseat', 'coprim', 'chikungunya', '1958', 'fibrosi', 'worldwhat', 'teacherprofessor', '1848', 'bloc', 'ghatotkach', 'infi', 'musharraf', 'sethupathi', 'wilkinson', 'cuni', 'mf', 'aspx', 'parmesan', 'pseudonym', 'noload', 'stagnat', 'urbana', 'shepard', 'typhoid', 'tacki', '10500', '11x', 'xf', 'odorless', 'hyperventil', 'mcmullin', 'debian', 'newzealand', 'foreman', 'desicc', 'kashyap', 'anurag', 'creamylay', 'helena', 'bestmost', 'poquito', 'remuner', 'lister', 'vasovag', 'karamchand', 'mohanda', 'm20', 'senseless', 'charleston', 'مين', 'nagato', 'rook', 'fallopian', '啪啪啪啪', 'proselyt', 'blasphemi', 'berger', 'privatenonpriv', 'popl', 'plainview', 'vadra', 'humanitarian', '5200u', 'preclud', 'letv', 'bff', 'contactor', 'conjoin', 's04e02', '70s80', 'undemocrat', 'vinay', 'laptophow', 'nonfriend', 'enclos', 'noosa', 'jester', 'clumsi', 'speedo', 'swimwear', 'pmc', 'seconds…', 'improvementclarif', 'eeg', 'hightech', 'breakpoint', 'kumaran', 'vastli', 'amput', 'liquefact', 'queenk', 'rekindl', 'stroller', 'anomal', 'barb', 'outflow', 'girlsh', 'palampur', 'inlin', 'cuff', 'influenci', 'varnish', 'thingstori', 'cringeworthiest', 'collus', 'poznan', 'szczecin', 'helpaffect', 'skagway', 'lgbtiq', 'neptun', 'guangzhou', 'mva', 'secretariat', 'nad', 'biomolecul', 'oligopoli', 'remors', 'yesh', 'dtype', 'espionag', 'shallot', 'owaisi', 'asaduddin', 'togo', 'can´t', 'calexit', 'nonparametr', 'lolipop', 'twitchtv', 'phonolog', 'unpop', 'glendal', 'kmhour', 'bioremedi', 'roblox', 'iitd', 'timewhat', 'seminarminiproject', 'algier', 'suryavanshan', 'resumé', 'palakkad', 'deli', 'wakeup', 'reng', 'splitter', 'pica', 'preelect', 'noncombat', '÷', 'payumoney', 'csu', 'metknown', 'stewi', '“symmetricity”', 'follicul', 'nasik', 'naukri', 'ghat', 'nutrilit', 'glutin', 'pouch', 'uncircumcis', 'ibrahimov', 'miniseri', 'sympath', 'prez', 'bon', 'parkour', 'rhythm', 'slade', 'detriment', 'symbolis', '25yr', 'ms2', 'castaic', 'englishdub', 'awdhesh', 'nonzero', 'akash', 'airborn', 'xiami', 'apartmentsaccommod', 'mclaren', 'udemydownloadercom', 'roma', '£100', 'nodul', 'expung', 'quarrel', '400351', 'backpag', 'terabyt', 'cathet', 'hyd', 'hardwir', 'freshwat', 'trumpish', 'manglik', 'clairvoy', 'portalwebsit', 'maltes', 'nonneg', 'dexter', 'msmba', 'natrulli', 'earlystag', 'instagramprivateprofileviewscsm', '9v', 'refug', 'deu', 'edmodo', 'tarain', 'crunchbas', 'resubmit', 'culturecountri', 'golang', 'basel', '129', 'waistcoat', 'rhinocero', 'nv', 'spiciest', 'anycast', 'lando', 'toolkit', 'amo', 'mckesson', 'sacrif', 'striat', 'adhdadd', 'uncool', 'sowhich', 'loader', 'autoload', 'novato', 'quanzhou', 'geico', 'vt', 'wonton', 'yin', 'inabl', 'piracetam', 'superb', 'repress', 'erik', '≠', 'grossest', 'bogu', 'sunnah', '什么', 'austrian', 'admitt', 'knewwhat', 'autofocu', 'disobey', 'exhibitionist', 'brno', 'gama', 'vasco', 'biograph', 'itachi', 'anemon', 'childless', '296', 'multivendor', 'wouldb', 'mustdo', 'molestation’', '‘bengaluru', 'seagram', 'nowwould', '13dont', 'lockhe', 'icar', 'legum', 'vimax', 'jio4gvoic', 'cpl', 'radley', 'sti', 'prometheu', 'adblock', 'ilayathalapathi', '8020', 'crossdress', 'manafort', 'mitig', 'answerreask', 'bftech', 'yearwhich', 'cft', 'untreat', 'snoke', 'rivet', 'fu', '‘lemons’', 'gione', 'rubbish', 'onida', 'mysqlqueri', 'country－japan', 'conspir', 'ocesdgf', '1942', '247101518', 'shiver', 'feeder', 'remerg', 'catapult', 'leaner', 'expression', 'repaint', 'entc', 'prewed', 'theirselv', 'bioga', 'msrit', 'sixday', 'conic', 'tetrahedr', 'rit', 'starboy', 'nudist', 'gridlin', 'pilat', 'wheatston', 'shemal', 'metamorphosi', 'instaig', 'cinder', 'milaanjcom', '∪', 'antimodi', 'uncook', 'jaya', 'spurt', 'antagon', 'kinkiest', 'buti', 'acne…', 'reintroduc', '332', 'embargo', '2356', 'silvio', 'nutti', 'tomatina', 'namaskar', 'bernardino', 'ebooksnovel', 'gestapo', 'luna', 'tien', 'scaveng', 'poseidon', 'lim', 'scienceanalyt', 'dispensari', 'etc…', 'rushcutt', 'vtec', 'imc', 'razer', 'lexicon', 'keha', 'rihanna', 'china？', 'technologist', 'northwestern', 'kejriwalaap', 'noncommerci', 'ruse', 'selfmotiv', 'certo', 'demonest', 'rvvlsi', 'sandeepani', 'colombo', 'undi', '3b', 'zuk', 'consumm', 'tactil', 'nucleon', 'like”', 'mixtap', '18ghz', '14inch', 'sansa’', '1964', 'pendant', 'chineseamerican', 'aragorn', 'rocker', 'mower', 'fielder', 'spidercam', 'poss', 'keypoint', 'markandey', 'miracast', 't14', 'humankind', 'cpwd', 'seneg', 'gallipoli', 'adxl345', 'mem', 'usaco', 'fimo', 'sivalik', 'bono', 'jerada', 'rabat', 'sanatana', '4yr', 'involuntari', '形から入る', 'keyston', '210', 'jagga', 'installdownload', 'reupload', 'geass', 'wordpressorg', 'differencesdistinct', 'perciev', 'airbrush', 'schultz', 'wasserman', 'reiki', 'sixsid', '360p', 'anguilla', 'assasin', 'toi', 'reply…', 'katju', 'nov16', 'sinp', 'haralson', 'maoism', '302', 'wwwairjordanhotcom', 'lowerqu', 'shakur', 'mellitu', 'jefferi', '’m', 'websitescompani', 'bulldogenglish', 'rekap', 'allegedli', 'brahmaputra', 'narmada', '2000r', 'gramat', 'berkshir', 'cinco', 'wishi', 'sohc', 'crosssect', 'starwar', 'tchalla', 'eurpoean', '10002000', 'lozeng', 'adjud', 'ltt', 'tummybelli', 'interdepend', 'stirfri', 'cadillac', 'artists…', 'mitti', 'jntuh', 'offon', 'wildfir', 'foxnew', 'celiac', 'fulham', 'suce', 'futurejob', '240v', 'keurig', '857', 'makar', 'northindian', 'iimc', 'questionask', 'meloxicam', 'indistinguish', 'drinkabl', 'choo', 'stressor', 'jdmba', 'crescent', 'summli', 'mathx2frac1x2math', 'martensit', '874', 'garnish', 'ventil', 'setter', 'keychain', 'e55', 'um', 'viseri', 'plumm', 'pct', 'mc', 'clickbank', 'ticketswapcom', 'mathxfrac1x', 'karrakatta', '5m', 'nust', 'concerta', 'iridium', 'ftth', 'opinionview', 'rebecca', 'expan', 'gottafeelingcom', '265', 'evenli', 'moslem', 'canot', 'sneak', 'seomoz', 'kher', 'five5rcom', 'answerquestionblog', 'shutterstock', 'nomencl', 'oilga', 'singerband', 'lucent', '154', 'pelvi', 'lanterna', '6digit', 'sewn', 'pavillion', '￦¥§¤㊙㊗', 'britian', 'kotlin', 'monotrem', 'stash', 'nongreek', 'teaspoon', 'supper', 'chore', 'hashimoto', 'trueli', 'fallwint', 'nontox', '110115', 'formattempl', 'dyscalculia', 'parlour', 'nc17', 'pediatr', 'zzzquil', 'idp', '620g', 'klein', 'upanayanam', 'wissen', 'culpabl', 'uncur', 'energyinfinit', 'limiti', 'nutshel', 'xchrison', 'datum', '“', 'manchuria', 'cda', 'ata', 'nanyang', 'nn1', 'bhosl', 'lvm', 'resiz', 'falkland', 'theon', '1mm', 'bront', 'gendersex', 'd6', 'kunj', 'bereav', 'backcountrycom', 'dhonith', 'sweatshirt', 'feldspar', 'mammootti', 'fume', 'jo', 'stellar', 'gag', 'deb', 'satact', 'esport', 'esa', 'plankton', 'aftr', 'overthecount', 'beet', 'tampax', 'easyhard', 'scjp', 'testabl', 'npd', 'scarv', 'euphoria', 'disulfid', 'angioplasti', 'tingl', 'marbl', 'hajj', 'reg', 'dg', '≜', 'unibrow', 'midfield', 'mononucleosi', 'crock', 'unexplor', 'examtravelcom', 'mcse', 'oversleep', 'iphone6', 'theorist', 'tenor', 'johnny’', '27°c', 'tread', 'unrollm', 'swot', 'ectoplan', 'basecamp', '£1000', 'wc15', 'altruist', 'worshipp', 'sweeper', 'iskcon', '1258', 'resurg', 'ukelel', 'subhash', 'programat', '2x24', 'causedcr', 'anatom', 'today’', '3500', '405', 'laptoppc', 'camgirl', 'tannenberg', 'aladha', 'chun', 'reevalu', 'veena', '3327', '3x39', '336', '737']\n"
     ]
    }
   ],
   "source": [
    "# Get the unique words that appear at least 2 times\n",
    "question1_words = word2vec_q1.wv.index_to_key\n",
    "question2_words = word2vec_q2.wv.index_to_key\n",
    "print(question1_words)\n",
    "print(question2_words)"
   ]
  },
  {
   "cell_type": "code",
   "execution_count": 76,
   "metadata": {},
   "outputs": [
    {
     "data": {
      "text/plain": [
       "[('cheapest', 0.6944335699081421),\n",
       " ('good', 0.6650809645652771),\n",
       " ('fastest', 0.6444652080535889),\n",
       " ('safest', 0.6309980154037476),\n",
       " ('easiest', 0.630169689655304),\n",
       " ('easi', 0.5967341661453247),\n",
       " ('cheap', 0.5497035980224609),\n",
       " ('bookfinet', 0.5484988689422607),\n",
       " ('vaidya', 0.5424892902374268),\n",
       " ('compaq', 0.5422369837760925)]"
      ]
     },
     "execution_count": 76,
     "metadata": {},
     "output_type": "execute_result"
    }
   ],
   "source": [
    "# Get similar word vector scores after choosing a word from the dictionary of \"question1_words\" above\n",
    "question1_words_similar = word2vec_q1.wv.most_similar('best')\n",
    "question1_words_similar"
   ]
  },
  {
   "cell_type": "code",
   "execution_count": 77,
   "metadata": {},
   "outputs": [
    {
     "data": {
      "text/plain": [
       "[('good', 0.6858064532279968),\n",
       " ('easiest', 0.6207179427146912),\n",
       " ('cheapest', 0.6168699264526367),\n",
       " ('fastest', 0.6063467860221863),\n",
       " ('gallston', 0.5825764536857605),\n",
       " ('safest', 0.578444242477417),\n",
       " ('foremost', 0.5649168491363525),\n",
       " ('favorit', 0.5629751682281494),\n",
       " ('woocommerc', 0.5555997490882874),\n",
       " ('easi', 0.5476274490356445)]"
      ]
     },
     "execution_count": 77,
     "metadata": {},
     "output_type": "execute_result"
    }
   ],
   "source": [
    "# Get similar word vector scores after chosing a word from the dictionary of \"question2_words\" above\n",
    "question2_words_similar = word2vec_q2.wv.most_similar('best')\n",
    "question2_words_similar"
   ]
  },
  {
   "attachments": {},
   "cell_type": "markdown",
   "metadata": {},
   "source": [
    "From these results, we can notice that both question 1 and question 2 features retrieved bascially the same results. Also, the word *good* appears in the 1st and the 2nd place respectively, and mostly the idea of *best* is semantically represented by the concepts brough up of *velocity* and *price*. \n",
    "\n",
    "On the top of that, as there is a semantic association shown up by the weights of the vectors, it is noted that the antonyms are also brought up, such as: *crappi* and *unlink*."
   ]
  },
  {
   "cell_type": "code",
   "execution_count": 78,
   "metadata": {},
   "outputs": [
    {
     "data": {
      "text/plain": [
       "[('genitalia', 0.510802686214447),\n",
       " ('appropri', 0.5003818869590759),\n",
       " ('parentchild', 0.4971235990524292),\n",
       " ('vulva', 0.49163463711738586),\n",
       " ('want', 0.4784104824066162),\n",
       " ('santorum', 0.47714075446128845),\n",
       " ('parsiszoroastrian', 0.47578728199005127),\n",
       " ('turmoil', 0.4740443229675293),\n",
       " ('goodlook', 0.46480050683021545),\n",
       " ('rather', 0.4642358422279358)]"
      ]
     },
     "execution_count": 78,
     "metadata": {},
     "output_type": "execute_result"
    }
   ],
   "source": [
    "# Get similar word vector scores after choosing a word from the dictionary of \"question1_words\" above\n",
    "question1_words_similar = word2vec_q1.wv.most_similar('like')\n",
    "question1_words_similar"
   ]
  },
  {
   "cell_type": "code",
   "execution_count": 79,
   "metadata": {},
   "outputs": [
    {
     "data": {
      "text/plain": [
       "[('asham', 0.5306775569915771),\n",
       " ('enviou', 0.5150339007377625),\n",
       " ('dissatisfi', 0.491330087184906),\n",
       " ('lone', 0.49006831645965576),\n",
       " ('hopper', 0.4893558919429779),\n",
       " ('handsomeattract', 0.48587456345558167),\n",
       " ('apathi', 0.4802264869213104),\n",
       " ('yeah', 0.47976818680763245),\n",
       " ('will', 0.4776107668876648),\n",
       " ('want', 0.4739980399608612)]"
      ]
     },
     "execution_count": 79,
     "metadata": {},
     "output_type": "execute_result"
    }
   ],
   "source": [
    "# Get similar word vector scores after chosing a word from the dictionary of \"question2_words\" above\n",
    "question2_words_similar = word2vec_q2.wv.most_similar('like')\n",
    "question2_words_similar"
   ]
  },
  {
   "attachments": {},
   "cell_type": "markdown",
   "metadata": {},
   "source": [
    "In regards of the second set of vector scores, it looks like that most of que words from the \"question 1\" dictionary evoke the idea of comparison (e.g. *appropri*, *forward*, *prefer*, *rather*) whereas the words from the dictionary of \"question 2\" bring out the idea or state of a quality (e.g. *dissatisfi*, *lone*, *apathi*, *uncomfort*, *coz*)."
   ]
  },
  {
   "attachments": {},
   "cell_type": "markdown",
   "metadata": {},
   "source": [
    "In addition, as we can see by this analysis, this algorithm is the only one which can retrieve the semantic association of a given *word* with other *words* and their surroundings, aspect that can contribute to understanding the context of the use of the words (semantic and pragmatic meaning together). Therefore, this is the algorithm chosen to be used in our modelling below."
   ]
  },
  {
   "attachments": {},
   "cell_type": "markdown",
   "metadata": {},
   "source": [
    "### Step 5: Modeling\n",
    "\n",
    "Different modeling techniques can be used:\n",
    "\n",
    "- logistic regression\n",
    "- XGBoost\n",
    "- LSTMs\n",
    "- etc"
   ]
  },
  {
   "attachments": {},
   "cell_type": "markdown",
   "metadata": {},
   "source": [
    "Choose a machine learning algorithm that is appropriate for this task, such as logistic regression, decision tree, random forest, or support vector machine. Split the data into training and testing sets, and train the model on the training data."
   ]
  },
  {
   "cell_type": "code",
   "execution_count": 80,
   "metadata": {},
   "outputs": [
    {
     "name": "stdout",
     "output_type": "stream",
     "text": [
      "X_train shape: (238820, 2)\n",
      "y_train shape: (238820,)\n"
     ]
    }
   ],
   "source": [
    "print('X_train shape:', X_train.shape)\n",
    "print('y_train shape:', y_train.shape)"
   ]
  },
  {
   "cell_type": "code",
   "execution_count": 81,
   "metadata": {},
   "outputs": [
    {
     "data": {
      "text/html": [
       "<div>\n",
       "<style scoped>\n",
       "    .dataframe tbody tr th:only-of-type {\n",
       "        vertical-align: middle;\n",
       "    }\n",
       "\n",
       "    .dataframe tbody tr th {\n",
       "        vertical-align: top;\n",
       "    }\n",
       "\n",
       "    .dataframe thead th {\n",
       "        text-align: right;\n",
       "    }\n",
       "</style>\n",
       "<table border=\"1\" class=\"dataframe\">\n",
       "  <thead>\n",
       "    <tr style=\"text-align: right;\">\n",
       "      <th></th>\n",
       "      <th>question1_lemm</th>\n",
       "      <th>question2_lemm</th>\n",
       "    </tr>\n",
       "  </thead>\n",
       "  <tbody>\n",
       "    <tr>\n",
       "      <th>27971</th>\n",
       "      <td>[possibl, love, 2, person]</td>\n",
       "      <td>[possibl, peopl, love, 2, person, time]</td>\n",
       "    </tr>\n",
       "    <tr>\n",
       "      <th>39167</th>\n",
       "      <td>[regist, dog, without, paper, akc]</td>\n",
       "      <td>[regist, purebr, dog, without, paper]</td>\n",
       "    </tr>\n",
       "    <tr>\n",
       "      <th>134599</th>\n",
       "      <td>[best, phone, 10k, india]</td>\n",
       "      <td>[best, phone, 10000]</td>\n",
       "    </tr>\n",
       "    <tr>\n",
       "      <th>154421</th>\n",
       "      <td>[could, eat, one, food, rest, life, would, choos]</td>\n",
       "      <td>[would, happen, eat, food, rest, life]</td>\n",
       "    </tr>\n",
       "    <tr>\n",
       "      <th>51181</th>\n",
       "      <td>[what, best, photo, taken, iphoneandroid, smar...</td>\n",
       "      <td>[best, photo, taken, mobil]</td>\n",
       "    </tr>\n",
       "  </tbody>\n",
       "</table>\n",
       "</div>"
      ],
      "text/plain": [
       "                                           question1_lemm  \\\n",
       "27971                          [possibl, love, 2, person]   \n",
       "39167                  [regist, dog, without, paper, akc]   \n",
       "134599                          [best, phone, 10k, india]   \n",
       "154421  [could, eat, one, food, rest, life, would, choos]   \n",
       "51181   [what, best, photo, taken, iphoneandroid, smar...   \n",
       "\n",
       "                                 question2_lemm  \n",
       "27971   [possibl, peopl, love, 2, person, time]  \n",
       "39167     [regist, purebr, dog, without, paper]  \n",
       "134599                     [best, phone, 10000]  \n",
       "154421   [would, happen, eat, food, rest, life]  \n",
       "51181               [best, photo, taken, mobil]  "
      ]
     },
     "execution_count": 81,
     "metadata": {},
     "output_type": "execute_result"
    }
   ],
   "source": [
    "X_train.head()"
   ]
  },
  {
   "cell_type": "code",
   "execution_count": 82,
   "metadata": {},
   "outputs": [
    {
     "data": {
      "text/plain": [
       "27971     1\n",
       "39167     1\n",
       "134599    1\n",
       "154421    1\n",
       "51181     1\n",
       "Name: is_duplicate, dtype: int64"
      ]
     },
     "execution_count": 82,
     "metadata": {},
     "output_type": "execute_result"
    }
   ],
   "source": [
    "y_train.head()"
   ]
  },
  {
   "cell_type": "code",
   "execution_count": 83,
   "metadata": {},
   "outputs": [],
   "source": [
    "# # Convert the dataframes to numpy arrays\n",
    "# X_train = X_train.values\n",
    "# y_train = y_train.values"
   ]
  },
  {
   "cell_type": "code",
   "execution_count": 95,
   "metadata": {},
   "outputs": [],
   "source": [
    "# Import libraries\n",
    "from sklearn.compose import ColumnTransformer\n",
    "from sklearn.feature_extraction.text import TfidfVectorizer\n",
    "from sklearn.linear_model import LogisticRegression\n",
    "from sklearn.pipeline import Pipeline\n",
    "from sklearn.preprocessing import StandardScaler\n",
    "from sklearn.model_selection import GridSearchCV\n",
    "from sklearn.metrics import accuracy_score, recall_score, precision_score, f1_score, confusion_matrix"
   ]
  },
  {
   "cell_type": "code",
   "execution_count": 85,
   "metadata": {},
   "outputs": [],
   "source": [
    "# Import the gensim library and its modules\n",
    "from gensim.test.utils import common_texts\n",
    "from gensim.models import Word2Vec\n",
    "model = Word2Vec(sentences=common_texts, vector_size=100, window=5, min_count=2, workers=4)\n",
    "model.save(\"word2vec.model\")"
   ]
  },
  {
   "cell_type": "code",
   "execution_count": 86,
   "metadata": {},
   "outputs": [],
   "source": [
    "# Convert text to a word vector by creating a class object called \"Word2VecVectorizer\"\n",
    "from sklearn.base import TransformerMixin # Import the module TransformerMixin\n",
    "\n",
    "# Define the Word2VecVectorizer transformer class\n",
    "class Word2VecVectorizer(TransformerMixin):\n",
    "    w2v_model = Word2Vec.load('/Users/rafaelaqueiroz/Mini-Project-V/word2vec.model')\n",
    "\n",
    "    def fit(self, X, y=None):\n",
    "        return self\n",
    "\n",
    "    def transform(self, X):\n",
    "        vectors = []\n",
    "        for sentence in X:\n",
    "            sentence_vec = []\n",
    "            for word in sentence.split():\n",
    "                if word in self.w2v_model:\n",
    "                    sentence_vec.append(self.w2v_model[word])\n",
    "            if sentence_vec:\n",
    "                vectors.append(np.mean(sentence_vec, axis=0))\n",
    "            else:\n",
    "                vectors.append(np.zeros(self.w2v_model.vector_size))\n",
    "        return np.array(vectors)"
   ]
  },
  {
   "cell_type": "code",
   "execution_count": 102,
   "metadata": {},
   "outputs": [
    {
     "name": "stderr",
     "output_type": "stream",
     "text": [
      "/opt/anaconda3/lib/python3.9/site-packages/sklearn/model_selection/_validation.py:372: FitFailedWarning: \n",
      "40 fits failed out of a total of 40.\n",
      "The score on these train-test partitions for these parameters will be set to nan.\n",
      "If these failures are not expected, you can try to debug them by setting error_score='raise'.\n",
      "\n",
      "Below are more details about the failures:\n",
      "--------------------------------------------------------------------------------\n",
      "40 fits failed with the following error:\n",
      "Traceback (most recent call last):\n",
      "  File \"/opt/anaconda3/lib/python3.9/site-packages/sklearn/model_selection/_validation.py\", line 680, in _fit_and_score\n",
      "    estimator.fit(X_train, y_train, **fit_params)\n",
      "  File \"/opt/anaconda3/lib/python3.9/site-packages/sklearn/pipeline.py\", line 390, in fit\n",
      "    Xt = self._fit(X, y, **fit_params_steps)\n",
      "  File \"/opt/anaconda3/lib/python3.9/site-packages/sklearn/pipeline.py\", line 348, in _fit\n",
      "    X, fitted_transformer = fit_transform_one_cached(\n",
      "  File \"/opt/anaconda3/lib/python3.9/site-packages/joblib/memory.py\", line 349, in __call__\n",
      "    return self.func(*args, **kwargs)\n",
      "  File \"/opt/anaconda3/lib/python3.9/site-packages/sklearn/pipeline.py\", line 893, in _fit_transform_one\n",
      "    res = transformer.fit_transform(X, y, **fit_params)\n",
      "  File \"/opt/anaconda3/lib/python3.9/site-packages/sklearn/compose/_column_transformer.py\", line 675, in fit_transform\n",
      "    result = self._fit_transform(X, y, _fit_transform_one)\n",
      "  File \"/opt/anaconda3/lib/python3.9/site-packages/sklearn/compose/_column_transformer.py\", line 606, in _fit_transform\n",
      "    return Parallel(n_jobs=self.n_jobs)(\n",
      "  File \"/opt/anaconda3/lib/python3.9/site-packages/joblib/parallel.py\", line 1043, in __call__\n",
      "    if self.dispatch_one_batch(iterator):\n",
      "  File \"/opt/anaconda3/lib/python3.9/site-packages/joblib/parallel.py\", line 861, in dispatch_one_batch\n",
      "    self._dispatch(tasks)\n",
      "  File \"/opt/anaconda3/lib/python3.9/site-packages/joblib/parallel.py\", line 779, in _dispatch\n",
      "    job = self._backend.apply_async(batch, callback=cb)\n",
      "  File \"/opt/anaconda3/lib/python3.9/site-packages/joblib/_parallel_backends.py\", line 208, in apply_async\n",
      "    result = ImmediateResult(func)\n",
      "  File \"/opt/anaconda3/lib/python3.9/site-packages/joblib/_parallel_backends.py\", line 572, in __init__\n",
      "    self.results = batch()\n",
      "  File \"/opt/anaconda3/lib/python3.9/site-packages/joblib/parallel.py\", line 262, in __call__\n",
      "    return [func(*args, **kwargs)\n",
      "  File \"/opt/anaconda3/lib/python3.9/site-packages/joblib/parallel.py\", line 262, in <listcomp>\n",
      "    return [func(*args, **kwargs)\n",
      "  File \"/opt/anaconda3/lib/python3.9/site-packages/sklearn/utils/fixes.py\", line 216, in __call__\n",
      "    return self.function(*args, **kwargs)\n",
      "  File \"/opt/anaconda3/lib/python3.9/site-packages/sklearn/pipeline.py\", line 893, in _fit_transform_one\n",
      "    res = transformer.fit_transform(X, y, **fit_params)\n",
      "  File \"/opt/anaconda3/lib/python3.9/site-packages/sklearn/feature_extraction/text.py\", line 2077, in fit_transform\n",
      "    X = super().fit_transform(raw_documents)\n",
      "  File \"/opt/anaconda3/lib/python3.9/site-packages/sklearn/feature_extraction/text.py\", line 1330, in fit_transform\n",
      "    vocabulary, X = self._count_vocab(raw_documents, self.fixed_vocabulary_)\n",
      "  File \"/opt/anaconda3/lib/python3.9/site-packages/sklearn/feature_extraction/text.py\", line 1201, in _count_vocab\n",
      "    for feature in analyze(doc):\n",
      "  File \"/opt/anaconda3/lib/python3.9/site-packages/sklearn/feature_extraction/text.py\", line 113, in _analyze\n",
      "    doc = preprocessor(doc)\n",
      "  File \"/opt/anaconda3/lib/python3.9/site-packages/sklearn/feature_extraction/text.py\", line 71, in _preprocess\n",
      "    doc = doc.lower()\n",
      "AttributeError: 'list' object has no attribute 'lower'\n",
      "\n",
      "  warnings.warn(some_fits_failed_message, FitFailedWarning)\n",
      "/opt/anaconda3/lib/python3.9/site-packages/sklearn/model_selection/_search.py:969: UserWarning: One or more of the test scores are non-finite: [nan nan nan nan nan nan nan nan]\n",
      "  warnings.warn(\n"
     ]
    },
    {
     "ename": "AttributeError",
     "evalue": "'list' object has no attribute 'lower'",
     "output_type": "error",
     "traceback": [
      "\u001b[0;31m---------------------------------------------------------------------------\u001b[0m",
      "\u001b[0;31mAttributeError\u001b[0m                            Traceback (most recent call last)",
      "\u001b[0;32m/var/folders/zt/gl7xtkgj7238nsqq03s_q7840000gn/T/ipykernel_63686/1135547953.py\u001b[0m in \u001b[0;36m<module>\u001b[0;34m\u001b[0m\n\u001b[1;32m     24\u001b[0m \u001b[0;34m\u001b[0m\u001b[0m\n\u001b[1;32m     25\u001b[0m \u001b[0;31m# Fit the GridSearchCV object to the training data\u001b[0m\u001b[0;34m\u001b[0m\u001b[0;34m\u001b[0m\u001b[0m\n\u001b[0;32m---> 26\u001b[0;31m \u001b[0mgrid_search\u001b[0m\u001b[0;34m.\u001b[0m\u001b[0mfit\u001b[0m\u001b[0;34m(\u001b[0m\u001b[0mX_train\u001b[0m\u001b[0;34m,\u001b[0m \u001b[0my_train\u001b[0m\u001b[0;34m)\u001b[0m\u001b[0;34m\u001b[0m\u001b[0;34m\u001b[0m\u001b[0m\n\u001b[0m\u001b[1;32m     27\u001b[0m \u001b[0;34m\u001b[0m\u001b[0m\n\u001b[1;32m     28\u001b[0m \u001b[0;31m# Print the best hyperparameters and test score\u001b[0m\u001b[0;34m\u001b[0m\u001b[0;34m\u001b[0m\u001b[0m\n",
      "\u001b[0;32m/opt/anaconda3/lib/python3.9/site-packages/sklearn/model_selection/_search.py\u001b[0m in \u001b[0;36mfit\u001b[0;34m(self, X, y, groups, **fit_params)\u001b[0m\n\u001b[1;32m    924\u001b[0m             \u001b[0mrefit_start_time\u001b[0m \u001b[0;34m=\u001b[0m \u001b[0mtime\u001b[0m\u001b[0;34m.\u001b[0m\u001b[0mtime\u001b[0m\u001b[0;34m(\u001b[0m\u001b[0;34m)\u001b[0m\u001b[0;34m\u001b[0m\u001b[0;34m\u001b[0m\u001b[0m\n\u001b[1;32m    925\u001b[0m             \u001b[0;32mif\u001b[0m \u001b[0my\u001b[0m \u001b[0;32mis\u001b[0m \u001b[0;32mnot\u001b[0m \u001b[0;32mNone\u001b[0m\u001b[0;34m:\u001b[0m\u001b[0;34m\u001b[0m\u001b[0;34m\u001b[0m\u001b[0m\n\u001b[0;32m--> 926\u001b[0;31m                 \u001b[0mself\u001b[0m\u001b[0;34m.\u001b[0m\u001b[0mbest_estimator_\u001b[0m\u001b[0;34m.\u001b[0m\u001b[0mfit\u001b[0m\u001b[0;34m(\u001b[0m\u001b[0mX\u001b[0m\u001b[0;34m,\u001b[0m \u001b[0my\u001b[0m\u001b[0;34m,\u001b[0m \u001b[0;34m**\u001b[0m\u001b[0mfit_params\u001b[0m\u001b[0;34m)\u001b[0m\u001b[0;34m\u001b[0m\u001b[0;34m\u001b[0m\u001b[0m\n\u001b[0m\u001b[1;32m    927\u001b[0m             \u001b[0;32melse\u001b[0m\u001b[0;34m:\u001b[0m\u001b[0;34m\u001b[0m\u001b[0;34m\u001b[0m\u001b[0m\n\u001b[1;32m    928\u001b[0m                 \u001b[0mself\u001b[0m\u001b[0;34m.\u001b[0m\u001b[0mbest_estimator_\u001b[0m\u001b[0;34m.\u001b[0m\u001b[0mfit\u001b[0m\u001b[0;34m(\u001b[0m\u001b[0mX\u001b[0m\u001b[0;34m,\u001b[0m \u001b[0;34m**\u001b[0m\u001b[0mfit_params\u001b[0m\u001b[0;34m)\u001b[0m\u001b[0;34m\u001b[0m\u001b[0;34m\u001b[0m\u001b[0m\n",
      "\u001b[0;32m/opt/anaconda3/lib/python3.9/site-packages/sklearn/pipeline.py\u001b[0m in \u001b[0;36mfit\u001b[0;34m(self, X, y, **fit_params)\u001b[0m\n\u001b[1;32m    388\u001b[0m         \"\"\"\n\u001b[1;32m    389\u001b[0m         \u001b[0mfit_params_steps\u001b[0m \u001b[0;34m=\u001b[0m \u001b[0mself\u001b[0m\u001b[0;34m.\u001b[0m\u001b[0m_check_fit_params\u001b[0m\u001b[0;34m(\u001b[0m\u001b[0;34m**\u001b[0m\u001b[0mfit_params\u001b[0m\u001b[0;34m)\u001b[0m\u001b[0;34m\u001b[0m\u001b[0;34m\u001b[0m\u001b[0m\n\u001b[0;32m--> 390\u001b[0;31m         \u001b[0mXt\u001b[0m \u001b[0;34m=\u001b[0m \u001b[0mself\u001b[0m\u001b[0;34m.\u001b[0m\u001b[0m_fit\u001b[0m\u001b[0;34m(\u001b[0m\u001b[0mX\u001b[0m\u001b[0;34m,\u001b[0m \u001b[0my\u001b[0m\u001b[0;34m,\u001b[0m \u001b[0;34m**\u001b[0m\u001b[0mfit_params_steps\u001b[0m\u001b[0;34m)\u001b[0m\u001b[0;34m\u001b[0m\u001b[0;34m\u001b[0m\u001b[0m\n\u001b[0m\u001b[1;32m    391\u001b[0m         \u001b[0;32mwith\u001b[0m \u001b[0m_print_elapsed_time\u001b[0m\u001b[0;34m(\u001b[0m\u001b[0;34m\"Pipeline\"\u001b[0m\u001b[0;34m,\u001b[0m \u001b[0mself\u001b[0m\u001b[0;34m.\u001b[0m\u001b[0m_log_message\u001b[0m\u001b[0;34m(\u001b[0m\u001b[0mlen\u001b[0m\u001b[0;34m(\u001b[0m\u001b[0mself\u001b[0m\u001b[0;34m.\u001b[0m\u001b[0msteps\u001b[0m\u001b[0;34m)\u001b[0m \u001b[0;34m-\u001b[0m \u001b[0;36m1\u001b[0m\u001b[0;34m)\u001b[0m\u001b[0;34m)\u001b[0m\u001b[0;34m:\u001b[0m\u001b[0;34m\u001b[0m\u001b[0;34m\u001b[0m\u001b[0m\n\u001b[1;32m    392\u001b[0m             \u001b[0;32mif\u001b[0m \u001b[0mself\u001b[0m\u001b[0;34m.\u001b[0m\u001b[0m_final_estimator\u001b[0m \u001b[0;34m!=\u001b[0m \u001b[0;34m\"passthrough\"\u001b[0m\u001b[0;34m:\u001b[0m\u001b[0;34m\u001b[0m\u001b[0;34m\u001b[0m\u001b[0m\n",
      "\u001b[0;32m/opt/anaconda3/lib/python3.9/site-packages/sklearn/pipeline.py\u001b[0m in \u001b[0;36m_fit\u001b[0;34m(self, X, y, **fit_params_steps)\u001b[0m\n\u001b[1;32m    346\u001b[0m                 \u001b[0mcloned_transformer\u001b[0m \u001b[0;34m=\u001b[0m \u001b[0mclone\u001b[0m\u001b[0;34m(\u001b[0m\u001b[0mtransformer\u001b[0m\u001b[0;34m)\u001b[0m\u001b[0;34m\u001b[0m\u001b[0;34m\u001b[0m\u001b[0m\n\u001b[1;32m    347\u001b[0m             \u001b[0;31m# Fit or load from cache the current transformer\u001b[0m\u001b[0;34m\u001b[0m\u001b[0;34m\u001b[0m\u001b[0m\n\u001b[0;32m--> 348\u001b[0;31m             X, fitted_transformer = fit_transform_one_cached(\n\u001b[0m\u001b[1;32m    349\u001b[0m                 \u001b[0mcloned_transformer\u001b[0m\u001b[0;34m,\u001b[0m\u001b[0;34m\u001b[0m\u001b[0;34m\u001b[0m\u001b[0m\n\u001b[1;32m    350\u001b[0m                 \u001b[0mX\u001b[0m\u001b[0;34m,\u001b[0m\u001b[0;34m\u001b[0m\u001b[0;34m\u001b[0m\u001b[0m\n",
      "\u001b[0;32m/opt/anaconda3/lib/python3.9/site-packages/joblib/memory.py\u001b[0m in \u001b[0;36m__call__\u001b[0;34m(self, *args, **kwargs)\u001b[0m\n\u001b[1;32m    347\u001b[0m \u001b[0;34m\u001b[0m\u001b[0m\n\u001b[1;32m    348\u001b[0m     \u001b[0;32mdef\u001b[0m \u001b[0m__call__\u001b[0m\u001b[0;34m(\u001b[0m\u001b[0mself\u001b[0m\u001b[0;34m,\u001b[0m \u001b[0;34m*\u001b[0m\u001b[0margs\u001b[0m\u001b[0;34m,\u001b[0m \u001b[0;34m**\u001b[0m\u001b[0mkwargs\u001b[0m\u001b[0;34m)\u001b[0m\u001b[0;34m:\u001b[0m\u001b[0;34m\u001b[0m\u001b[0;34m\u001b[0m\u001b[0m\n\u001b[0;32m--> 349\u001b[0;31m         \u001b[0;32mreturn\u001b[0m \u001b[0mself\u001b[0m\u001b[0;34m.\u001b[0m\u001b[0mfunc\u001b[0m\u001b[0;34m(\u001b[0m\u001b[0;34m*\u001b[0m\u001b[0margs\u001b[0m\u001b[0;34m,\u001b[0m \u001b[0;34m**\u001b[0m\u001b[0mkwargs\u001b[0m\u001b[0;34m)\u001b[0m\u001b[0;34m\u001b[0m\u001b[0;34m\u001b[0m\u001b[0m\n\u001b[0m\u001b[1;32m    350\u001b[0m \u001b[0;34m\u001b[0m\u001b[0m\n\u001b[1;32m    351\u001b[0m     \u001b[0;32mdef\u001b[0m \u001b[0mcall_and_shelve\u001b[0m\u001b[0;34m(\u001b[0m\u001b[0mself\u001b[0m\u001b[0;34m,\u001b[0m \u001b[0;34m*\u001b[0m\u001b[0margs\u001b[0m\u001b[0;34m,\u001b[0m \u001b[0;34m**\u001b[0m\u001b[0mkwargs\u001b[0m\u001b[0;34m)\u001b[0m\u001b[0;34m:\u001b[0m\u001b[0;34m\u001b[0m\u001b[0;34m\u001b[0m\u001b[0m\n",
      "\u001b[0;32m/opt/anaconda3/lib/python3.9/site-packages/sklearn/pipeline.py\u001b[0m in \u001b[0;36m_fit_transform_one\u001b[0;34m(transformer, X, y, weight, message_clsname, message, **fit_params)\u001b[0m\n\u001b[1;32m    891\u001b[0m     \u001b[0;32mwith\u001b[0m \u001b[0m_print_elapsed_time\u001b[0m\u001b[0;34m(\u001b[0m\u001b[0mmessage_clsname\u001b[0m\u001b[0;34m,\u001b[0m \u001b[0mmessage\u001b[0m\u001b[0;34m)\u001b[0m\u001b[0;34m:\u001b[0m\u001b[0;34m\u001b[0m\u001b[0;34m\u001b[0m\u001b[0m\n\u001b[1;32m    892\u001b[0m         \u001b[0;32mif\u001b[0m \u001b[0mhasattr\u001b[0m\u001b[0;34m(\u001b[0m\u001b[0mtransformer\u001b[0m\u001b[0;34m,\u001b[0m \u001b[0;34m\"fit_transform\"\u001b[0m\u001b[0;34m)\u001b[0m\u001b[0;34m:\u001b[0m\u001b[0;34m\u001b[0m\u001b[0;34m\u001b[0m\u001b[0m\n\u001b[0;32m--> 893\u001b[0;31m             \u001b[0mres\u001b[0m \u001b[0;34m=\u001b[0m \u001b[0mtransformer\u001b[0m\u001b[0;34m.\u001b[0m\u001b[0mfit_transform\u001b[0m\u001b[0;34m(\u001b[0m\u001b[0mX\u001b[0m\u001b[0;34m,\u001b[0m \u001b[0my\u001b[0m\u001b[0;34m,\u001b[0m \u001b[0;34m**\u001b[0m\u001b[0mfit_params\u001b[0m\u001b[0;34m)\u001b[0m\u001b[0;34m\u001b[0m\u001b[0;34m\u001b[0m\u001b[0m\n\u001b[0m\u001b[1;32m    894\u001b[0m         \u001b[0;32melse\u001b[0m\u001b[0;34m:\u001b[0m\u001b[0;34m\u001b[0m\u001b[0;34m\u001b[0m\u001b[0m\n\u001b[1;32m    895\u001b[0m             \u001b[0mres\u001b[0m \u001b[0;34m=\u001b[0m \u001b[0mtransformer\u001b[0m\u001b[0;34m.\u001b[0m\u001b[0mfit\u001b[0m\u001b[0;34m(\u001b[0m\u001b[0mX\u001b[0m\u001b[0;34m,\u001b[0m \u001b[0my\u001b[0m\u001b[0;34m,\u001b[0m \u001b[0;34m**\u001b[0m\u001b[0mfit_params\u001b[0m\u001b[0;34m)\u001b[0m\u001b[0;34m.\u001b[0m\u001b[0mtransform\u001b[0m\u001b[0;34m(\u001b[0m\u001b[0mX\u001b[0m\u001b[0;34m)\u001b[0m\u001b[0;34m\u001b[0m\u001b[0;34m\u001b[0m\u001b[0m\n",
      "\u001b[0;32m/opt/anaconda3/lib/python3.9/site-packages/sklearn/compose/_column_transformer.py\u001b[0m in \u001b[0;36mfit_transform\u001b[0;34m(self, X, y)\u001b[0m\n\u001b[1;32m    673\u001b[0m         \u001b[0mself\u001b[0m\u001b[0;34m.\u001b[0m\u001b[0m_validate_remainder\u001b[0m\u001b[0;34m(\u001b[0m\u001b[0mX\u001b[0m\u001b[0;34m)\u001b[0m\u001b[0;34m\u001b[0m\u001b[0;34m\u001b[0m\u001b[0m\n\u001b[1;32m    674\u001b[0m \u001b[0;34m\u001b[0m\u001b[0m\n\u001b[0;32m--> 675\u001b[0;31m         \u001b[0mresult\u001b[0m \u001b[0;34m=\u001b[0m \u001b[0mself\u001b[0m\u001b[0;34m.\u001b[0m\u001b[0m_fit_transform\u001b[0m\u001b[0;34m(\u001b[0m\u001b[0mX\u001b[0m\u001b[0;34m,\u001b[0m \u001b[0my\u001b[0m\u001b[0;34m,\u001b[0m \u001b[0m_fit_transform_one\u001b[0m\u001b[0;34m)\u001b[0m\u001b[0;34m\u001b[0m\u001b[0;34m\u001b[0m\u001b[0m\n\u001b[0m\u001b[1;32m    676\u001b[0m \u001b[0;34m\u001b[0m\u001b[0m\n\u001b[1;32m    677\u001b[0m         \u001b[0;32mif\u001b[0m \u001b[0;32mnot\u001b[0m \u001b[0mresult\u001b[0m\u001b[0;34m:\u001b[0m\u001b[0;34m\u001b[0m\u001b[0;34m\u001b[0m\u001b[0m\n",
      "\u001b[0;32m/opt/anaconda3/lib/python3.9/site-packages/sklearn/compose/_column_transformer.py\u001b[0m in \u001b[0;36m_fit_transform\u001b[0;34m(self, X, y, func, fitted, column_as_strings)\u001b[0m\n\u001b[1;32m    604\u001b[0m         )\n\u001b[1;32m    605\u001b[0m         \u001b[0;32mtry\u001b[0m\u001b[0;34m:\u001b[0m\u001b[0;34m\u001b[0m\u001b[0;34m\u001b[0m\u001b[0m\n\u001b[0;32m--> 606\u001b[0;31m             return Parallel(n_jobs=self.n_jobs)(\n\u001b[0m\u001b[1;32m    607\u001b[0m                 delayed(func)(\n\u001b[1;32m    608\u001b[0m                     \u001b[0mtransformer\u001b[0m\u001b[0;34m=\u001b[0m\u001b[0mclone\u001b[0m\u001b[0;34m(\u001b[0m\u001b[0mtrans\u001b[0m\u001b[0;34m)\u001b[0m \u001b[0;32mif\u001b[0m \u001b[0;32mnot\u001b[0m \u001b[0mfitted\u001b[0m \u001b[0;32melse\u001b[0m \u001b[0mtrans\u001b[0m\u001b[0;34m,\u001b[0m\u001b[0;34m\u001b[0m\u001b[0;34m\u001b[0m\u001b[0m\n",
      "\u001b[0;32m/opt/anaconda3/lib/python3.9/site-packages/joblib/parallel.py\u001b[0m in \u001b[0;36m__call__\u001b[0;34m(self, iterable)\u001b[0m\n\u001b[1;32m   1041\u001b[0m             \u001b[0;31m# remaining jobs.\u001b[0m\u001b[0;34m\u001b[0m\u001b[0;34m\u001b[0m\u001b[0m\n\u001b[1;32m   1042\u001b[0m             \u001b[0mself\u001b[0m\u001b[0;34m.\u001b[0m\u001b[0m_iterating\u001b[0m \u001b[0;34m=\u001b[0m \u001b[0;32mFalse\u001b[0m\u001b[0;34m\u001b[0m\u001b[0;34m\u001b[0m\u001b[0m\n\u001b[0;32m-> 1043\u001b[0;31m             \u001b[0;32mif\u001b[0m \u001b[0mself\u001b[0m\u001b[0;34m.\u001b[0m\u001b[0mdispatch_one_batch\u001b[0m\u001b[0;34m(\u001b[0m\u001b[0miterator\u001b[0m\u001b[0;34m)\u001b[0m\u001b[0;34m:\u001b[0m\u001b[0;34m\u001b[0m\u001b[0;34m\u001b[0m\u001b[0m\n\u001b[0m\u001b[1;32m   1044\u001b[0m                 \u001b[0mself\u001b[0m\u001b[0;34m.\u001b[0m\u001b[0m_iterating\u001b[0m \u001b[0;34m=\u001b[0m \u001b[0mself\u001b[0m\u001b[0;34m.\u001b[0m\u001b[0m_original_iterator\u001b[0m \u001b[0;32mis\u001b[0m \u001b[0;32mnot\u001b[0m \u001b[0;32mNone\u001b[0m\u001b[0;34m\u001b[0m\u001b[0;34m\u001b[0m\u001b[0m\n\u001b[1;32m   1045\u001b[0m \u001b[0;34m\u001b[0m\u001b[0m\n",
      "\u001b[0;32m/opt/anaconda3/lib/python3.9/site-packages/joblib/parallel.py\u001b[0m in \u001b[0;36mdispatch_one_batch\u001b[0;34m(self, iterator)\u001b[0m\n\u001b[1;32m    859\u001b[0m                 \u001b[0;32mreturn\u001b[0m \u001b[0;32mFalse\u001b[0m\u001b[0;34m\u001b[0m\u001b[0;34m\u001b[0m\u001b[0m\n\u001b[1;32m    860\u001b[0m             \u001b[0;32melse\u001b[0m\u001b[0;34m:\u001b[0m\u001b[0;34m\u001b[0m\u001b[0;34m\u001b[0m\u001b[0m\n\u001b[0;32m--> 861\u001b[0;31m                 \u001b[0mself\u001b[0m\u001b[0;34m.\u001b[0m\u001b[0m_dispatch\u001b[0m\u001b[0;34m(\u001b[0m\u001b[0mtasks\u001b[0m\u001b[0;34m)\u001b[0m\u001b[0;34m\u001b[0m\u001b[0;34m\u001b[0m\u001b[0m\n\u001b[0m\u001b[1;32m    862\u001b[0m                 \u001b[0;32mreturn\u001b[0m \u001b[0;32mTrue\u001b[0m\u001b[0;34m\u001b[0m\u001b[0;34m\u001b[0m\u001b[0m\n\u001b[1;32m    863\u001b[0m \u001b[0;34m\u001b[0m\u001b[0m\n",
      "\u001b[0;32m/opt/anaconda3/lib/python3.9/site-packages/joblib/parallel.py\u001b[0m in \u001b[0;36m_dispatch\u001b[0;34m(self, batch)\u001b[0m\n\u001b[1;32m    777\u001b[0m         \u001b[0;32mwith\u001b[0m \u001b[0mself\u001b[0m\u001b[0;34m.\u001b[0m\u001b[0m_lock\u001b[0m\u001b[0;34m:\u001b[0m\u001b[0;34m\u001b[0m\u001b[0;34m\u001b[0m\u001b[0m\n\u001b[1;32m    778\u001b[0m             \u001b[0mjob_idx\u001b[0m \u001b[0;34m=\u001b[0m \u001b[0mlen\u001b[0m\u001b[0;34m(\u001b[0m\u001b[0mself\u001b[0m\u001b[0;34m.\u001b[0m\u001b[0m_jobs\u001b[0m\u001b[0;34m)\u001b[0m\u001b[0;34m\u001b[0m\u001b[0;34m\u001b[0m\u001b[0m\n\u001b[0;32m--> 779\u001b[0;31m             \u001b[0mjob\u001b[0m \u001b[0;34m=\u001b[0m \u001b[0mself\u001b[0m\u001b[0;34m.\u001b[0m\u001b[0m_backend\u001b[0m\u001b[0;34m.\u001b[0m\u001b[0mapply_async\u001b[0m\u001b[0;34m(\u001b[0m\u001b[0mbatch\u001b[0m\u001b[0;34m,\u001b[0m \u001b[0mcallback\u001b[0m\u001b[0;34m=\u001b[0m\u001b[0mcb\u001b[0m\u001b[0;34m)\u001b[0m\u001b[0;34m\u001b[0m\u001b[0;34m\u001b[0m\u001b[0m\n\u001b[0m\u001b[1;32m    780\u001b[0m             \u001b[0;31m# A job can complete so quickly than its callback is\u001b[0m\u001b[0;34m\u001b[0m\u001b[0;34m\u001b[0m\u001b[0m\n\u001b[1;32m    781\u001b[0m             \u001b[0;31m# called before we get here, causing self._jobs to\u001b[0m\u001b[0;34m\u001b[0m\u001b[0;34m\u001b[0m\u001b[0m\n",
      "\u001b[0;32m/opt/anaconda3/lib/python3.9/site-packages/joblib/_parallel_backends.py\u001b[0m in \u001b[0;36mapply_async\u001b[0;34m(self, func, callback)\u001b[0m\n\u001b[1;32m    206\u001b[0m     \u001b[0;32mdef\u001b[0m \u001b[0mapply_async\u001b[0m\u001b[0;34m(\u001b[0m\u001b[0mself\u001b[0m\u001b[0;34m,\u001b[0m \u001b[0mfunc\u001b[0m\u001b[0;34m,\u001b[0m \u001b[0mcallback\u001b[0m\u001b[0;34m=\u001b[0m\u001b[0;32mNone\u001b[0m\u001b[0;34m)\u001b[0m\u001b[0;34m:\u001b[0m\u001b[0;34m\u001b[0m\u001b[0;34m\u001b[0m\u001b[0m\n\u001b[1;32m    207\u001b[0m         \u001b[0;34m\"\"\"Schedule a func to be run\"\"\"\u001b[0m\u001b[0;34m\u001b[0m\u001b[0;34m\u001b[0m\u001b[0m\n\u001b[0;32m--> 208\u001b[0;31m         \u001b[0mresult\u001b[0m \u001b[0;34m=\u001b[0m \u001b[0mImmediateResult\u001b[0m\u001b[0;34m(\u001b[0m\u001b[0mfunc\u001b[0m\u001b[0;34m)\u001b[0m\u001b[0;34m\u001b[0m\u001b[0;34m\u001b[0m\u001b[0m\n\u001b[0m\u001b[1;32m    209\u001b[0m         \u001b[0;32mif\u001b[0m \u001b[0mcallback\u001b[0m\u001b[0;34m:\u001b[0m\u001b[0;34m\u001b[0m\u001b[0;34m\u001b[0m\u001b[0m\n\u001b[1;32m    210\u001b[0m             \u001b[0mcallback\u001b[0m\u001b[0;34m(\u001b[0m\u001b[0mresult\u001b[0m\u001b[0;34m)\u001b[0m\u001b[0;34m\u001b[0m\u001b[0;34m\u001b[0m\u001b[0m\n",
      "\u001b[0;32m/opt/anaconda3/lib/python3.9/site-packages/joblib/_parallel_backends.py\u001b[0m in \u001b[0;36m__init__\u001b[0;34m(self, batch)\u001b[0m\n\u001b[1;32m    570\u001b[0m         \u001b[0;31m# Don't delay the application, to avoid keeping the input\u001b[0m\u001b[0;34m\u001b[0m\u001b[0;34m\u001b[0m\u001b[0m\n\u001b[1;32m    571\u001b[0m         \u001b[0;31m# arguments in memory\u001b[0m\u001b[0;34m\u001b[0m\u001b[0;34m\u001b[0m\u001b[0m\n\u001b[0;32m--> 572\u001b[0;31m         \u001b[0mself\u001b[0m\u001b[0;34m.\u001b[0m\u001b[0mresults\u001b[0m \u001b[0;34m=\u001b[0m \u001b[0mbatch\u001b[0m\u001b[0;34m(\u001b[0m\u001b[0;34m)\u001b[0m\u001b[0;34m\u001b[0m\u001b[0;34m\u001b[0m\u001b[0m\n\u001b[0m\u001b[1;32m    573\u001b[0m \u001b[0;34m\u001b[0m\u001b[0m\n\u001b[1;32m    574\u001b[0m     \u001b[0;32mdef\u001b[0m \u001b[0mget\u001b[0m\u001b[0;34m(\u001b[0m\u001b[0mself\u001b[0m\u001b[0;34m)\u001b[0m\u001b[0;34m:\u001b[0m\u001b[0;34m\u001b[0m\u001b[0;34m\u001b[0m\u001b[0m\n",
      "\u001b[0;32m/opt/anaconda3/lib/python3.9/site-packages/joblib/parallel.py\u001b[0m in \u001b[0;36m__call__\u001b[0;34m(self)\u001b[0m\n\u001b[1;32m    260\u001b[0m         \u001b[0;31m# change the default number of processes to -1\u001b[0m\u001b[0;34m\u001b[0m\u001b[0;34m\u001b[0m\u001b[0m\n\u001b[1;32m    261\u001b[0m         \u001b[0;32mwith\u001b[0m \u001b[0mparallel_backend\u001b[0m\u001b[0;34m(\u001b[0m\u001b[0mself\u001b[0m\u001b[0;34m.\u001b[0m\u001b[0m_backend\u001b[0m\u001b[0;34m,\u001b[0m \u001b[0mn_jobs\u001b[0m\u001b[0;34m=\u001b[0m\u001b[0mself\u001b[0m\u001b[0;34m.\u001b[0m\u001b[0m_n_jobs\u001b[0m\u001b[0;34m)\u001b[0m\u001b[0;34m:\u001b[0m\u001b[0;34m\u001b[0m\u001b[0;34m\u001b[0m\u001b[0m\n\u001b[0;32m--> 262\u001b[0;31m             return [func(*args, **kwargs)\n\u001b[0m\u001b[1;32m    263\u001b[0m                     for func, args, kwargs in self.items]\n\u001b[1;32m    264\u001b[0m \u001b[0;34m\u001b[0m\u001b[0m\n",
      "\u001b[0;32m/opt/anaconda3/lib/python3.9/site-packages/joblib/parallel.py\u001b[0m in \u001b[0;36m<listcomp>\u001b[0;34m(.0)\u001b[0m\n\u001b[1;32m    260\u001b[0m         \u001b[0;31m# change the default number of processes to -1\u001b[0m\u001b[0;34m\u001b[0m\u001b[0;34m\u001b[0m\u001b[0m\n\u001b[1;32m    261\u001b[0m         \u001b[0;32mwith\u001b[0m \u001b[0mparallel_backend\u001b[0m\u001b[0;34m(\u001b[0m\u001b[0mself\u001b[0m\u001b[0;34m.\u001b[0m\u001b[0m_backend\u001b[0m\u001b[0;34m,\u001b[0m \u001b[0mn_jobs\u001b[0m\u001b[0;34m=\u001b[0m\u001b[0mself\u001b[0m\u001b[0;34m.\u001b[0m\u001b[0m_n_jobs\u001b[0m\u001b[0;34m)\u001b[0m\u001b[0;34m:\u001b[0m\u001b[0;34m\u001b[0m\u001b[0;34m\u001b[0m\u001b[0m\n\u001b[0;32m--> 262\u001b[0;31m             return [func(*args, **kwargs)\n\u001b[0m\u001b[1;32m    263\u001b[0m                     for func, args, kwargs in self.items]\n\u001b[1;32m    264\u001b[0m \u001b[0;34m\u001b[0m\u001b[0m\n",
      "\u001b[0;32m/opt/anaconda3/lib/python3.9/site-packages/sklearn/utils/fixes.py\u001b[0m in \u001b[0;36m__call__\u001b[0;34m(self, *args, **kwargs)\u001b[0m\n\u001b[1;32m    214\u001b[0m     \u001b[0;32mdef\u001b[0m \u001b[0m__call__\u001b[0m\u001b[0;34m(\u001b[0m\u001b[0mself\u001b[0m\u001b[0;34m,\u001b[0m \u001b[0;34m*\u001b[0m\u001b[0margs\u001b[0m\u001b[0;34m,\u001b[0m \u001b[0;34m**\u001b[0m\u001b[0mkwargs\u001b[0m\u001b[0;34m)\u001b[0m\u001b[0;34m:\u001b[0m\u001b[0;34m\u001b[0m\u001b[0;34m\u001b[0m\u001b[0m\n\u001b[1;32m    215\u001b[0m         \u001b[0;32mwith\u001b[0m \u001b[0mconfig_context\u001b[0m\u001b[0;34m(\u001b[0m\u001b[0;34m**\u001b[0m\u001b[0mself\u001b[0m\u001b[0;34m.\u001b[0m\u001b[0mconfig\u001b[0m\u001b[0;34m)\u001b[0m\u001b[0;34m:\u001b[0m\u001b[0;34m\u001b[0m\u001b[0;34m\u001b[0m\u001b[0m\n\u001b[0;32m--> 216\u001b[0;31m             \u001b[0;32mreturn\u001b[0m \u001b[0mself\u001b[0m\u001b[0;34m.\u001b[0m\u001b[0mfunction\u001b[0m\u001b[0;34m(\u001b[0m\u001b[0;34m*\u001b[0m\u001b[0margs\u001b[0m\u001b[0;34m,\u001b[0m \u001b[0;34m**\u001b[0m\u001b[0mkwargs\u001b[0m\u001b[0;34m)\u001b[0m\u001b[0;34m\u001b[0m\u001b[0;34m\u001b[0m\u001b[0m\n\u001b[0m\u001b[1;32m    217\u001b[0m \u001b[0;34m\u001b[0m\u001b[0m\n\u001b[1;32m    218\u001b[0m \u001b[0;34m\u001b[0m\u001b[0m\n",
      "\u001b[0;32m/opt/anaconda3/lib/python3.9/site-packages/sklearn/pipeline.py\u001b[0m in \u001b[0;36m_fit_transform_one\u001b[0;34m(transformer, X, y, weight, message_clsname, message, **fit_params)\u001b[0m\n\u001b[1;32m    891\u001b[0m     \u001b[0;32mwith\u001b[0m \u001b[0m_print_elapsed_time\u001b[0m\u001b[0;34m(\u001b[0m\u001b[0mmessage_clsname\u001b[0m\u001b[0;34m,\u001b[0m \u001b[0mmessage\u001b[0m\u001b[0;34m)\u001b[0m\u001b[0;34m:\u001b[0m\u001b[0;34m\u001b[0m\u001b[0;34m\u001b[0m\u001b[0m\n\u001b[1;32m    892\u001b[0m         \u001b[0;32mif\u001b[0m \u001b[0mhasattr\u001b[0m\u001b[0;34m(\u001b[0m\u001b[0mtransformer\u001b[0m\u001b[0;34m,\u001b[0m \u001b[0;34m\"fit_transform\"\u001b[0m\u001b[0;34m)\u001b[0m\u001b[0;34m:\u001b[0m\u001b[0;34m\u001b[0m\u001b[0;34m\u001b[0m\u001b[0m\n\u001b[0;32m--> 893\u001b[0;31m             \u001b[0mres\u001b[0m \u001b[0;34m=\u001b[0m \u001b[0mtransformer\u001b[0m\u001b[0;34m.\u001b[0m\u001b[0mfit_transform\u001b[0m\u001b[0;34m(\u001b[0m\u001b[0mX\u001b[0m\u001b[0;34m,\u001b[0m \u001b[0my\u001b[0m\u001b[0;34m,\u001b[0m \u001b[0;34m**\u001b[0m\u001b[0mfit_params\u001b[0m\u001b[0;34m)\u001b[0m\u001b[0;34m\u001b[0m\u001b[0;34m\u001b[0m\u001b[0m\n\u001b[0m\u001b[1;32m    894\u001b[0m         \u001b[0;32melse\u001b[0m\u001b[0;34m:\u001b[0m\u001b[0;34m\u001b[0m\u001b[0;34m\u001b[0m\u001b[0m\n\u001b[1;32m    895\u001b[0m             \u001b[0mres\u001b[0m \u001b[0;34m=\u001b[0m \u001b[0mtransformer\u001b[0m\u001b[0;34m.\u001b[0m\u001b[0mfit\u001b[0m\u001b[0;34m(\u001b[0m\u001b[0mX\u001b[0m\u001b[0;34m,\u001b[0m \u001b[0my\u001b[0m\u001b[0;34m,\u001b[0m \u001b[0;34m**\u001b[0m\u001b[0mfit_params\u001b[0m\u001b[0;34m)\u001b[0m\u001b[0;34m.\u001b[0m\u001b[0mtransform\u001b[0m\u001b[0;34m(\u001b[0m\u001b[0mX\u001b[0m\u001b[0;34m)\u001b[0m\u001b[0;34m\u001b[0m\u001b[0;34m\u001b[0m\u001b[0m\n",
      "\u001b[0;32m/opt/anaconda3/lib/python3.9/site-packages/sklearn/feature_extraction/text.py\u001b[0m in \u001b[0;36mfit_transform\u001b[0;34m(self, raw_documents, y)\u001b[0m\n\u001b[1;32m   2075\u001b[0m         \"\"\"\n\u001b[1;32m   2076\u001b[0m         \u001b[0mself\u001b[0m\u001b[0;34m.\u001b[0m\u001b[0m_check_params\u001b[0m\u001b[0;34m(\u001b[0m\u001b[0;34m)\u001b[0m\u001b[0;34m\u001b[0m\u001b[0;34m\u001b[0m\u001b[0m\n\u001b[0;32m-> 2077\u001b[0;31m         \u001b[0mX\u001b[0m \u001b[0;34m=\u001b[0m \u001b[0msuper\u001b[0m\u001b[0;34m(\u001b[0m\u001b[0;34m)\u001b[0m\u001b[0;34m.\u001b[0m\u001b[0mfit_transform\u001b[0m\u001b[0;34m(\u001b[0m\u001b[0mraw_documents\u001b[0m\u001b[0;34m)\u001b[0m\u001b[0;34m\u001b[0m\u001b[0;34m\u001b[0m\u001b[0m\n\u001b[0m\u001b[1;32m   2078\u001b[0m         \u001b[0mself\u001b[0m\u001b[0;34m.\u001b[0m\u001b[0m_tfidf\u001b[0m\u001b[0;34m.\u001b[0m\u001b[0mfit\u001b[0m\u001b[0;34m(\u001b[0m\u001b[0mX\u001b[0m\u001b[0;34m)\u001b[0m\u001b[0;34m\u001b[0m\u001b[0;34m\u001b[0m\u001b[0m\n\u001b[1;32m   2079\u001b[0m         \u001b[0;31m# X is already a transformed view of raw_documents so\u001b[0m\u001b[0;34m\u001b[0m\u001b[0;34m\u001b[0m\u001b[0m\n",
      "\u001b[0;32m/opt/anaconda3/lib/python3.9/site-packages/sklearn/feature_extraction/text.py\u001b[0m in \u001b[0;36mfit_transform\u001b[0;34m(self, raw_documents, y)\u001b[0m\n\u001b[1;32m   1328\u001b[0m                     \u001b[0;32mbreak\u001b[0m\u001b[0;34m\u001b[0m\u001b[0;34m\u001b[0m\u001b[0m\n\u001b[1;32m   1329\u001b[0m \u001b[0;34m\u001b[0m\u001b[0m\n\u001b[0;32m-> 1330\u001b[0;31m         \u001b[0mvocabulary\u001b[0m\u001b[0;34m,\u001b[0m \u001b[0mX\u001b[0m \u001b[0;34m=\u001b[0m \u001b[0mself\u001b[0m\u001b[0;34m.\u001b[0m\u001b[0m_count_vocab\u001b[0m\u001b[0;34m(\u001b[0m\u001b[0mraw_documents\u001b[0m\u001b[0;34m,\u001b[0m \u001b[0mself\u001b[0m\u001b[0;34m.\u001b[0m\u001b[0mfixed_vocabulary_\u001b[0m\u001b[0;34m)\u001b[0m\u001b[0;34m\u001b[0m\u001b[0;34m\u001b[0m\u001b[0m\n\u001b[0m\u001b[1;32m   1331\u001b[0m \u001b[0;34m\u001b[0m\u001b[0m\n\u001b[1;32m   1332\u001b[0m         \u001b[0;32mif\u001b[0m \u001b[0mself\u001b[0m\u001b[0;34m.\u001b[0m\u001b[0mbinary\u001b[0m\u001b[0;34m:\u001b[0m\u001b[0;34m\u001b[0m\u001b[0;34m\u001b[0m\u001b[0m\n",
      "\u001b[0;32m/opt/anaconda3/lib/python3.9/site-packages/sklearn/feature_extraction/text.py\u001b[0m in \u001b[0;36m_count_vocab\u001b[0;34m(self, raw_documents, fixed_vocab)\u001b[0m\n\u001b[1;32m   1199\u001b[0m         \u001b[0;32mfor\u001b[0m \u001b[0mdoc\u001b[0m \u001b[0;32min\u001b[0m \u001b[0mraw_documents\u001b[0m\u001b[0;34m:\u001b[0m\u001b[0;34m\u001b[0m\u001b[0;34m\u001b[0m\u001b[0m\n\u001b[1;32m   1200\u001b[0m             \u001b[0mfeature_counter\u001b[0m \u001b[0;34m=\u001b[0m \u001b[0;34m{\u001b[0m\u001b[0;34m}\u001b[0m\u001b[0;34m\u001b[0m\u001b[0;34m\u001b[0m\u001b[0m\n\u001b[0;32m-> 1201\u001b[0;31m             \u001b[0;32mfor\u001b[0m \u001b[0mfeature\u001b[0m \u001b[0;32min\u001b[0m \u001b[0manalyze\u001b[0m\u001b[0;34m(\u001b[0m\u001b[0mdoc\u001b[0m\u001b[0;34m)\u001b[0m\u001b[0;34m:\u001b[0m\u001b[0;34m\u001b[0m\u001b[0;34m\u001b[0m\u001b[0m\n\u001b[0m\u001b[1;32m   1202\u001b[0m                 \u001b[0;32mtry\u001b[0m\u001b[0;34m:\u001b[0m\u001b[0;34m\u001b[0m\u001b[0;34m\u001b[0m\u001b[0m\n\u001b[1;32m   1203\u001b[0m                     \u001b[0mfeature_idx\u001b[0m \u001b[0;34m=\u001b[0m \u001b[0mvocabulary\u001b[0m\u001b[0;34m[\u001b[0m\u001b[0mfeature\u001b[0m\u001b[0;34m]\u001b[0m\u001b[0;34m\u001b[0m\u001b[0;34m\u001b[0m\u001b[0m\n",
      "\u001b[0;32m/opt/anaconda3/lib/python3.9/site-packages/sklearn/feature_extraction/text.py\u001b[0m in \u001b[0;36m_analyze\u001b[0;34m(doc, analyzer, tokenizer, ngrams, preprocessor, decoder, stop_words)\u001b[0m\n\u001b[1;32m    111\u001b[0m     \u001b[0;32melse\u001b[0m\u001b[0;34m:\u001b[0m\u001b[0;34m\u001b[0m\u001b[0;34m\u001b[0m\u001b[0m\n\u001b[1;32m    112\u001b[0m         \u001b[0;32mif\u001b[0m \u001b[0mpreprocessor\u001b[0m \u001b[0;32mis\u001b[0m \u001b[0;32mnot\u001b[0m \u001b[0;32mNone\u001b[0m\u001b[0;34m:\u001b[0m\u001b[0;34m\u001b[0m\u001b[0;34m\u001b[0m\u001b[0m\n\u001b[0;32m--> 113\u001b[0;31m             \u001b[0mdoc\u001b[0m \u001b[0;34m=\u001b[0m \u001b[0mpreprocessor\u001b[0m\u001b[0;34m(\u001b[0m\u001b[0mdoc\u001b[0m\u001b[0;34m)\u001b[0m\u001b[0;34m\u001b[0m\u001b[0;34m\u001b[0m\u001b[0m\n\u001b[0m\u001b[1;32m    114\u001b[0m         \u001b[0;32mif\u001b[0m \u001b[0mtokenizer\u001b[0m \u001b[0;32mis\u001b[0m \u001b[0;32mnot\u001b[0m \u001b[0;32mNone\u001b[0m\u001b[0;34m:\u001b[0m\u001b[0;34m\u001b[0m\u001b[0;34m\u001b[0m\u001b[0m\n\u001b[1;32m    115\u001b[0m             \u001b[0mdoc\u001b[0m \u001b[0;34m=\u001b[0m \u001b[0mtokenizer\u001b[0m\u001b[0;34m(\u001b[0m\u001b[0mdoc\u001b[0m\u001b[0;34m)\u001b[0m\u001b[0;34m\u001b[0m\u001b[0;34m\u001b[0m\u001b[0m\n",
      "\u001b[0;32m/opt/anaconda3/lib/python3.9/site-packages/sklearn/feature_extraction/text.py\u001b[0m in \u001b[0;36m_preprocess\u001b[0;34m(doc, accent_function, lower)\u001b[0m\n\u001b[1;32m     69\u001b[0m     \"\"\"\n\u001b[1;32m     70\u001b[0m     \u001b[0;32mif\u001b[0m \u001b[0mlower\u001b[0m\u001b[0;34m:\u001b[0m\u001b[0;34m\u001b[0m\u001b[0;34m\u001b[0m\u001b[0m\n\u001b[0;32m---> 71\u001b[0;31m         \u001b[0mdoc\u001b[0m \u001b[0;34m=\u001b[0m \u001b[0mdoc\u001b[0m\u001b[0;34m.\u001b[0m\u001b[0mlower\u001b[0m\u001b[0;34m(\u001b[0m\u001b[0;34m)\u001b[0m\u001b[0;34m\u001b[0m\u001b[0;34m\u001b[0m\u001b[0m\n\u001b[0m\u001b[1;32m     72\u001b[0m     \u001b[0;32mif\u001b[0m \u001b[0maccent_function\u001b[0m \u001b[0;32mis\u001b[0m \u001b[0;32mnot\u001b[0m \u001b[0;32mNone\u001b[0m\u001b[0;34m:\u001b[0m\u001b[0;34m\u001b[0m\u001b[0;34m\u001b[0m\u001b[0m\n\u001b[1;32m     73\u001b[0m         \u001b[0mdoc\u001b[0m \u001b[0;34m=\u001b[0m \u001b[0maccent_function\u001b[0m\u001b[0;34m(\u001b[0m\u001b[0mdoc\u001b[0m\u001b[0;34m)\u001b[0m\u001b[0;34m\u001b[0m\u001b[0;34m\u001b[0m\u001b[0m\n",
      "\u001b[0;31mAttributeError\u001b[0m: 'list' object has no attribute 'lower'"
     ]
    }
   ],
   "source": [
    "# Define a column transformer to apply the vectorizer to the text columns\n",
    "preprocessor = ColumnTransformer(\n",
    "    transformers=[\n",
    "        ('text1', TfidfVectorizer(), 'question1_lemm'),\n",
    "        ('text2', TfidfVectorizer(), 'question2_lemm')\n",
    "    ],\n",
    "    remainder='drop'\n",
    ")\n",
    "\n",
    "# Define a pipeline with a logistic regression classifier\n",
    "pipeline = Pipeline([\n",
    "    ('preprocessor', preprocessor),\n",
    "    ('clf', LogisticRegression())\n",
    "])\n",
    "\n",
    "# Define the parameter grid to search over\n",
    "param_grid = {\n",
    "    'clf__C': [0.1, 1, 10, 100],\n",
    "    'clf__penalty': ['l1', 'l2']\n",
    "}\n",
    "\n",
    "# Create a GridSearchCV object with the pipeline and parameter grid\n",
    "grid_search = GridSearchCV(pipeline, param_grid, cv=5)\n",
    "\n",
    "# Fit the GridSearchCV object to the training data\n",
    "grid_search.fit(X_train, y_train)\n",
    "\n",
    "# Print the best hyperparameters and test score\n",
    "print('Best hyperparameters:', grid_search.best_params_)\n",
    "print('Test score:', grid_search.score(X_test, y_test))"
   ]
  },
  {
   "cell_type": "code",
   "execution_count": null,
   "metadata": {},
   "outputs": [],
   "source": []
  },
  {
   "cell_type": "code",
   "execution_count": null,
   "metadata": {},
   "outputs": [],
   "source": []
  },
  {
   "attachments": {},
   "cell_type": "markdown",
   "metadata": {},
   "source": [
    "#### 5.1 Model Evaluation"
   ]
  },
  {
   "attachments": {},
   "cell_type": "markdown",
   "metadata": {},
   "source": [
    "Evaluate the model: Evaluate the performance of the model on the testing data using metrics such as accuracy, precision, recall, and F1-score. You can also use techniques such as cross-validation to get a more accurate estimate of the model's performance."
   ]
  },
  {
   "cell_type": "markdown",
   "metadata": {},
   "source": []
  },
  {
   "attachments": {},
   "cell_type": "markdown",
   "metadata": {},
   "source": [
    "Fine-tune the model: If the model's performance is not satisfactory, fine-tune it by adjusting the hyperparameters or trying different algorithms. You can also try using deep learning techniques such as neural networks or convolutional neural networks to improve the model's performance."
   ]
  },
  {
   "cell_type": "markdown",
   "metadata": {},
   "source": []
  },
  {
   "attachments": {},
   "cell_type": "markdown",
   "metadata": {},
   "source": [
    "### Model Deployment"
   ]
  },
  {
   "attachments": {},
   "cell_type": "markdown",
   "metadata": {},
   "source": [
    "Deploy the model: Once you are satisfied with the model's performance, deploy it to automatically identify and label duplicate questions on Quora."
   ]
  }
 ],
 "metadata": {
  "kernelspec": {
   "display_name": "base",
   "language": "python",
   "name": "python3"
  },
  "language_info": {
   "codemirror_mode": {
    "name": "ipython",
    "version": 3
   },
   "file_extension": ".py",
   "mimetype": "text/x-python",
   "name": "python",
   "nbconvert_exporter": "python",
   "pygments_lexer": "ipython3",
   "version": "3.9.13"
  }
 },
 "nbformat": 4,
 "nbformat_minor": 4
}
